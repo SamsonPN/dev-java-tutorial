{
 "cells": [
  {
   "cell_type": "markdown",
   "id": "ed59b764",
   "metadata": {},
   "source": [
    "## Catching and Handling Exceptions"
   ]
  },
  {
   "cell_type": "markdown",
   "id": "b9312b7f",
   "metadata": {},
   "source": [
    "* in the example below:\n",
    "    - ListOfNumbers contains a method called writeList() which writes the list of numbers to a text file called OutFile.txt\n",
    "    - the first line in the writeList() method throws an IOException which must be caught\n",
    "        * this is a checked exception and the compiler will print an error message about it if there is nothing to catch this exception\n",
    "    - the list get() method inside the for-loop will throw an IndexOutOfBoundsException\n",
    "        * this exception, however, is unchecked and will therefore not trigger an error from the compiler if there is nothing to catch it"
   ]
  },
  {
   "cell_type": "code",
   "execution_count": null,
   "id": "aec112eb",
   "metadata": {},
   "outputs": [],
   "source": [
    "// Note: This class will not compile yet.\n",
    "import java.io.*;\n",
    "import java.util.List;\n",
    "import java.util.ArrayList;\n",
    "\n",
    "public class ListOfNumbers {\n",
    "\n",
    "    private List<Integer> list;\n",
    "    private static final int SIZE = 10;\n",
    "\n",
    "    public ListOfNumbers () {\n",
    "        list = new ArrayList<>(SIZE);\n",
    "        for (int i = 0; i < SIZE; i++) {\n",
    "            list.add(i);\n",
    "        }\n",
    "    }\n",
    "\n",
    "    public void writeList() {\n",
    "    // The FileWriter constructor throws IOException, which must be caught.\n",
    "        PrintWriter out = new PrintWriter(new FileWriter(\"OutFile.txt\"));\n",
    "\n",
    "        for (int i = 0; i < SIZE; i++) {\n",
    "            // The get(int) method throws IndexOutOfBoundsException, which must be caught.\n",
    "            out.println(\"Value at: \" + i + \" = \" + list.get(i));\n",
    "        }\n",
    "        out.close();\n",
    "    }\n",
    "}\n"
   ]
  },
  {
   "cell_type": "markdown",
   "id": "0387ab93",
   "metadata": {},
   "source": [
    "## The Try Block"
   ]
  },
  {
   "cell_type": "markdown",
   "id": "d881a892",
   "metadata": {},
   "source": [
    "* must enclose code that might throw an exception within a _try_ block\n",
    "* for the ListOfNumbers class:\n",
    "    - you have multiple ways of doing this\n",
    "        * you can put each line of code that might throw an exception into its own try block with its own exception handlers\n",
    "        * you can put all of those statements into 1 try block with separate exception handlers for each exception\n",
    "    - for now, we will put all the statements into 1 try block"
   ]
  },
  {
   "cell_type": "code",
   "execution_count": null,
   "id": "162acaf2",
   "metadata": {},
   "outputs": [],
   "source": [
    "private List<Integer> list;\n",
    "private static final int SIZE = 10;\n",
    "\n",
    "// just 1 try block for all the statements that might throw an exception\n",
    "// and we will add exception handlers for each\n",
    "public void writeList() {\n",
    "    PrintWriter out = null;\n",
    "    try {\n",
    "        System.out.println(\"Entered try statement\");\n",
    "        out = new PrintWriter(new FileWriter(\"OutFile.txt\"));\n",
    "        for (int i = 0; i < SIZE; i++) {\n",
    "            out.println(\"Value at: \" + i + \" = \" + list.get(i));\n",
    "        }\n",
    "    }\n",
    "    catch and finally blocks  . . .\n",
    "}"
   ]
  },
  {
   "cell_type": "markdown",
   "id": "3a4c03e3",
   "metadata": {},
   "source": [
    "## The Catch Blocks"
   ]
  },
  {
   "cell_type": "markdown",
   "id": "9a519fc2",
   "metadata": {},
   "source": [
    "* catch blocks are the exception handlers for try blocks\n",
    "    - each one takes in a type of exception indicated by its argument\n",
    "    - the argument type, ExceptionType, declares the type of exception that it can handle and the exception must be a class that inherits from the Throwable class\n",
    "    - each catch block has cod that is executed when the exception handler is invoked\n",
    "    - the runtime system invokes the exception handler if it is the first one in the call stack that has a matching ExceptionType\n",
    "* exception handlers can:\n",
    "    - print error messages\n",
    "    - halt the program\n",
    "    - do error recovery like prompting the user to make a decision or propagate the error to a higher-level handler using chained exceptions\n",
    "* for the ListOfNumbers class:\n",
    "    - we provided 2 catch blocks to handle each exception separately"
   ]
  },
  {
   "cell_type": "code",
   "execution_count": null,
   "id": "6adc70ce",
   "metadata": {},
   "outputs": [],
   "source": [
    "try {\n",
    "\n",
    "} catch (IndexOutOfBoundsException e) {\n",
    "    System.err.println(\"IndexOutOfBoundsException: \" + e.getMessage());\n",
    "} catch (IOException e) {\n",
    "    System.err.println(\"Caught IOException: \" + e.getMessage());\n",
    "}"
   ]
  },
  {
   "cell_type": "markdown",
   "id": "d53c876a",
   "metadata": {},
   "source": [
    "## Multi-Catching Exceptions"
   ]
  },
  {
   "cell_type": "markdown",
   "id": "90cad657",
   "metadata": {},
   "source": [
    "* you can catch more than one type of exception with one exception handler using the multi-catch pattern\n",
    "    - this can reduce code duplication and the need to catch an overly broad exception\n",
    "* to do so:\n",
    "    - you can declare the types of exceptions but separate them using a vertical bar (|)\n",
    "* note: if a catch block handles more than one exception, then the catch parameter is implicitly _final_\n",
    "    - so for the example below, the variable, ex, is final and cannot be reassigned within the catch block"
   ]
  },
  {
   "cell_type": "code",
   "execution_count": null,
   "id": "22688055",
   "metadata": {},
   "outputs": [],
   "source": [
    "try {\n",
    "    //\n",
    "}\n",
    "catch(IOException|SQLException ex) {\n",
    "    logger.log(ex);\n",
    "    throw ex;\n",
    "}"
   ]
  },
  {
   "cell_type": "markdown",
   "id": "71a09127",
   "metadata": {},
   "source": [
    "## The Finally Block"
   ]
  },
  {
   "cell_type": "markdown",
   "id": "8ba0f5ba",
   "metadata": {},
   "source": [
    "* the finally block always executes when the try block exits\n",
    "    - ensures that the finally block is executed even if an unexpected exception occurs\n",
    "    - why use it?\n",
    "        * you can put cleanup code in the finally block to ensure that it gets executed even if the code might be bypassed by a return, continue, or break\n",
    "        * putting cleanup code in a finally block is always good practice even if there are no exceptions anticipated\n",
    "* note: if the JVM exits while the try or catch code is being executed, then the finally block may not execute\n",
    "* for the wristList() method:\n",
    "    - it opens a PrintWriter program that you should close before exiting the writeList() method\n",
    "    - but the writeList's try block can be exited the following ways:\n",
    "        1. the new FileWriter statement fails and throws an IOException\n",
    "        2. the list.get(i) statement fails and throws an IndexOutOfBoundsException\n",
    "        3. everything succeeds and the try block exits normally\n",
    "    - since the code in the finally block is always executed regardless of what happens in the try block, we can put the cleanup code to close the PrintWriter program in there\n",
    "* __important__: the _finally_ block is a key tool for preventing resource leaks\n",
    "    * when closing a file or otherwise recovering resources, place the code in a finally block to ensure that resources are always recovered\n",
    "    * one can also consider using the try-with-resources statement as well to automatically release system resources when no longer needed"
   ]
  },
  {
   "cell_type": "code",
   "execution_count": null,
   "id": "40c044c0",
   "metadata": {},
   "outputs": [],
   "source": [
    "finally {\n",
    "    if (out != null) {\n",
    "        System.out.println(\"Closing PrintWriter\");\n",
    "        out.close();\n",
    "    } else {\n",
    "        System.out.println(\"PrintWriter not open\");\n",
    "    }\n",
    "}"
   ]
  },
  {
   "cell_type": "markdown",
   "id": "367c0717",
   "metadata": {},
   "source": [
    "## The Try-with-resources Statement"
   ]
  },
  {
   "cell_type": "markdown",
   "id": "c6f68805",
   "metadata": {},
   "source": [
    "* the try-with-resources statement is a try statement that declares resources that must be closed after they've been used by the program\n",
    "    - a resource is an object that must be closed after a program is done with them\n",
    "    - any object that implements java.lang.AutoCloseable, which includes all objects that implement java.io.Closeable, can be used as a resource\n",
    "* in the example below:\n",
    "    - BufferedReader is a resource that must be closed\n",
    "    - you declare the resources inside parentheses after the try keyword\n",
    "    - regardless of what happens in the try block, the BufferedReader will close\n",
    "        * so if it succeeds or throws an IOException\n",
    "* in the second example:\n",
    "    - you could've also used a _finally_ block to ensure that BufferedReader was closed\n",
    "    - however, if readLine() and close() both throw exceptions:\n",
    "        * the method itself with throw the exception from that was thrown from the finally block, i.e. from br.close(), and not the first exception thrown by br.readLine()\n",
    "        * the first exception was suppressed\n",
    "    - this is different from the first example in that if there was an exception thrown in both the try-with-resources statement and within the try block:\n",
    "        * the method itself would throw the exception from the try block and the exception from the try-with-resources statement would be suppressed\n",
    "* you can declare multiple resources inside the try-with-resources statement by separating their declarations with a semi-colon (;)\n",
    "    - for multiple resources, the order in which they close are called in the opposite order of their creation\n",
    "    - i.e. the last item declared will be the first to close\n",
    "* note: a try-with-resources statement can have catch and finally blocks just like an ordinary try statement\n",
    "    - __in a try-with-resources statement, any catch or finally block is run after the resources declared have been closed__"
   ]
  },
  {
   "cell_type": "code",
   "execution_count": null,
   "id": "d43a5edb",
   "metadata": {},
   "outputs": [],
   "source": [
    "// ex 1\n",
    "static String readFirstLineFromFile(String path) throws IOException {\n",
    "    try (BufferedReader br = new BufferedReader(new FileReader(path))) {\n",
    "        return br.readLine();\n",
    "    }\n",
    "}"
   ]
  },
  {
   "cell_type": "code",
   "execution_count": null,
   "id": "c776dd95",
   "metadata": {},
   "outputs": [],
   "source": [
    "// ex 2\n",
    "static String readFirstLineFromFileWithFinallyBlock(String path)\n",
    "                                                     throws IOException {\n",
    "    BufferedReader br = new BufferedReader(new FileReader(path));\n",
    "    try {\n",
    "        return br.readLine();\n",
    "    } finally {\n",
    "        br.close();\n",
    "    }\n",
    "}"
   ]
  },
  {
   "cell_type": "code",
   "execution_count": null,
   "id": "701df409",
   "metadata": {},
   "outputs": [],
   "source": [
    "// can declare multiple resources in a try-with-resources statement\n",
    "\n",
    "public static void writeToFileZipFileContents(String zipFileName,\n",
    "                                           String outputFileName)\n",
    "                                           throws java.io.IOException {\n",
    "\n",
    "    java.nio.charset.Charset charset =\n",
    "         java.nio.charset.StandardCharsets.US_ASCII;\n",
    "    java.nio.file.Path outputFilePath =\n",
    "         java.nio.file.Paths.get(outputFileName);\n",
    "\n",
    "    // Open zip file and create output file with\n",
    "    // try-with-resources statement\n",
    "\n",
    "    try (\n",
    "        java.util.zip.ZipFile zf =\n",
    "             new java.util.zip.ZipFile(zipFileName);\n",
    "        java.io.BufferedWriter writer =\n",
    "            java.nio.file.Files.newBufferedWriter(outputFilePath, charset)\n",
    "    ) {\n",
    "        // Enumerate each entry\n",
    "        for (java.util.Enumeration entries =\n",
    "                                zf.entries(); entries.hasMoreElements();) {\n",
    "            // Get the entry name and write it to the output file\n",
    "            String newLine = System.getProperty(\"line.separator\");\n",
    "            String zipEntryName =\n",
    "                 ((java.util.zip.ZipEntry)entries.nextElement()).getName() +\n",
    "                 newLine;\n",
    "            writer.write(zipEntryName, 0, zipEntryName.length());\n",
    "        }\n",
    "    }\n",
    "}\n"
   ]
  },
  {
   "cell_type": "code",
   "execution_count": null,
   "id": "ef59d18a",
   "metadata": {},
   "outputs": [],
   "source": [
    "// try-with-resources statement followed by catch block\n",
    "// CATCH AND FINALLY BLOCKS WILL BE RUN AFTER THE RESOURCES HAVE BEEN CLOSED\n",
    "public static void viewTable(Connection con) throws SQLException {\n",
    "\n",
    "    String query = \"select COF_NAME, SUP_ID, PRICE, SALES, TOTAL from COFFEES\";\n",
    "\n",
    "    try (Statement stmt = con.createStatement()) {\n",
    "        ResultSet rs = stmt.executeQuery(query);\n",
    "\n",
    "        while (rs.next()) {\n",
    "            String coffeeName = rs.getString(\"COF_NAME\");\n",
    "            int supplierID = rs.getInt(\"SUP_ID\");\n",
    "            float price = rs.getFloat(\"PRICE\");\n",
    "            int sales = rs.getInt(\"SALES\");\n",
    "            int total = rs.getInt(\"TOTAL\");\n",
    "\n",
    "            System.out.println(coffeeName + \", \" + supplierID + \", \" +\n",
    "                               price + \", \" + sales + \", \" + total);\n",
    "        }\n",
    "    } catch (SQLException e) {\n",
    "        JDBCTutorialUtilities.printSQLException(e);\n",
    "    }\n",
    "}\n"
   ]
  },
  {
   "cell_type": "markdown",
   "id": "f248f2c5",
   "metadata": {},
   "source": [
    "## Suppressed Exceptions"
   ]
  },
  {
   "cell_type": "markdown",
   "id": "2528d6d2",
   "metadata": {},
   "source": [
    "* an exception can be thrown from the block of code associated with the try-with-resources statement\n",
    "* in the example writeToFileZipFileContents():\n",
    "    - an exception can be thrown from the try block\n",
    "    - up to 2 exceptions can be thrown from the try-with-resources statement when it tries to close the ZipFile and BufferedWriter objects\n",
    "    - if an exception is thrown from the try block and one or more from the try-with-resources statement, then the exceptions thrown from the try-with-resources statement are suppressed\n",
    "        * the only exception thrown from the method itself is the one from the try block\n",
    "* to retrieve suppressed exceptions you can call the Throwable.getSuppressed() method from the exception thrown by the try block"
   ]
  },
  {
   "cell_type": "markdown",
   "id": "5c8c5132",
   "metadata": {},
   "source": [
    "## Classes That Implement the AutoCloseable or Closeable Interface"
   ]
  },
  {
   "cell_type": "markdown",
   "id": "ef22ef60",
   "metadata": {},
   "source": [
    "* the Closeable interface extends the AutoCloseable interface\n",
    "* the close() method of the Closeable interface throws exceptions of type IOException while the close() method of the AutoCloseable interface throws exceptions of type Exception\n",
    "    - subclasses of the AutoCloseable interface can override this behavior of the close() method to throw specialized exceptions such as IOException or no exception at all"
   ]
  },
  {
   "cell_type": "markdown",
   "id": "12b7b0dd",
   "metadata": {},
   "source": [
    "## Putting It All Together"
   ]
  },
  {
   "cell_type": "markdown",
   "id": "9b99d06d",
   "metadata": {},
   "source": [
    "* this method's try block has a couple of different exit possibilites:\n",
    "    1. code in the try statement fails and throws an exception\n",
    "        * could be an IOException caused by the new FileWriter statement\n",
    "        * or an IndexOutOfBoundsException caused by a wrong index value in the for loop\n",
    "    2. everything succeeds and the try statement exits normally\n",
    "* Scenario 1: An Exception Occurs\n",
    "    - the FileWriter can fail and throw an IOException if the program cannot create or write to the file indicated\n",
    "    - when that happens, the runtime system stops executing the try block and starts looking for an appropriate exception handler starting from the top of the method call stack\n",
    "        * the FileWriter constructor is at the top of the call stack and doesn't have an appropriate exception handler so the runtime system checks the next method in the stack, which is the writeList() method\n",
    "        * writeList() does have 2 exception handlers: one for IOException and one for IndexOutOfBoundsException\n",
    "    - the system checks writeList()'s handlers in the order in which they appear after the try statement\n",
    "        * the first catch block takes in arguments of type IndexOutOfBoundsException which does not match\n",
    "        * it then checks the second catch block which does match the IOException type\n",
    "        * the runtime will end its search and the catch block with that exception type will be executed\n",
    "    - after the exception handler executes, the runtime system will go over to the finally block\n",
    "        * code in the finally block gets executed regardless of the exception caught above it\n",
    "        * since the FileWriter was never opened, it didn't need to be closed\n",
    "    - after the finally block finishes executing, the program continues with the first statement after the finally block\n",
    "* Scenario 2: The _try_ Block Exits Normally\n",
    "    - in this case, all the statements in the try block execute without throwing exceptions\n",
    "    - the runtime system will then pass control to the finally block which would close the PrintWriter object since the try block was successful\n",
    "    - once the finally block finishes executing, the program continues with the first statement after the finally block"
   ]
  },
  {
   "cell_type": "code",
   "execution_count": null,
   "id": "f6271827",
   "metadata": {},
   "outputs": [],
   "source": [
    "public void writeList() {\n",
    "    PrintWriter out = null;\n",
    "\n",
    "    try {\n",
    "        System.out.println(\"Entering\" + \" try statement\");\n",
    "\n",
    "        out = new PrintWriter(new FileWriter(\"OutFile.txt\"));\n",
    "        for (int i = 0; i < SIZE; i++) {\n",
    "            out.println(\"Value at: \" + i + \" = \" + list.get(i));\n",
    "        }\n",
    "    } catch (IndexOutOfBoundsException e) {\n",
    "        System.err.println(\"Caught IndexOutOfBoundsException: \"\n",
    "                           +  e.getMessage());\n",
    "\n",
    "    } catch (IOException e) {\n",
    "        System.err.println(\"Caught IOException: \" +  e.getMessage());\n",
    "\n",
    "    } finally {\n",
    "        if (out != null) {\n",
    "            System.out.println(\"Closing PrintWriter\");\n",
    "            out.close();\n",
    "        }\n",
    "        else {\n",
    "            System.out.println(\"PrintWriter not open\");\n",
    "        }\n",
    "    }\n",
    "}"
   ]
  },
  {
   "cell_type": "code",
   "execution_count": null,
   "id": "fdcc70b2",
   "metadata": {},
   "outputs": [],
   "source": [
    "// output when an IOException is thrown:\n",
    "Entering try statement\n",
    "Caught IOException: OutFile.txt\n",
    "PrintWriter not open"
   ]
  },
  {
   "cell_type": "code",
   "execution_count": null,
   "id": "3f4c37cb",
   "metadata": {},
   "outputs": [],
   "source": [
    "// output when no exceptions are thrown:\n",
    "Entering try statement\n",
    "Closing PrintWriter"
   ]
  }
 ],
 "metadata": {
  "kernelspec": {
   "display_name": "Java",
   "language": "java",
   "name": "java"
  },
  "language_info": {
   "codemirror_mode": "java",
   "file_extension": ".jshell",
   "mimetype": "text/x-java-source",
   "name": "Java",
   "pygments_lexer": "java",
   "version": "21+35-2513"
  }
 },
 "nbformat": 4,
 "nbformat_minor": 5
}
