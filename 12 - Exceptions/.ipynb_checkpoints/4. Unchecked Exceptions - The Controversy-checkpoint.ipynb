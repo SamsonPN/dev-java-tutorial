{
 "cells": [
  {
   "cell_type": "markdown",
   "id": "1c798e82",
   "metadata": {},
   "source": [
    "## Unchecked Exceptions - The Controversy"
   ]
  },
  {
   "cell_type": "markdown",
   "id": "c4e4141e",
   "metadata": {},
   "source": [
    "* b/c Java does not require methods to catch or to specify unchecked exceptions (RuntimeException, Error, and their subclasses), programmers may be tempted to write code that throws only unchecked exceptions or to make all their exception subclasses inherit from RuntimeException\n",
    "    - they do this as a shortcut to not have to specify or catch any exceptions\n",
    "* why did the Java designers force a method to specify all uncaught _checked_ exceptions that can be thrown within its scope?\n",
    "    - exceptions are part of the method's public programming interface\n",
    "    - they're just as important as the method's parameters and return value\n",
    "    - it allows those who use the method to know about these exceptions and find ways to deal withthem\n",
    "* So when, why not specify runtime exceptions too?\n",
    "    - runtime exceptions represent problems that are a result of a programming problem and so the API client code cannot reasonably be expected to recover from them or handle them in any way\n",
    "        * e.g. dividing by zero or trying to access an object through a null reference\n",
    "    - __these runtime exceptions can occur anywhere in a program and are pretty numerous and having to add these exceptions in every method declaration would reduce the program's clarity, which is why the compiler does not require you to catch or specify them__\n",
    "    - however, there is a common practice to throw a RunTimeException when the user calls a method incorrectly\n",
    "        * e.g. a method can check if one of its arguments is incorrectly null\n",
    "        * if it is, the method will throw a NullPointerException which is an unchecked exception\n",
    "* generally, do not throw a RuntimeException or create a subclass of RuntimeException just b/c you don't want to specify the exceptions that methods can throw\n",
    "* __if a client can reasonably be expected to recover from an exception, make it a checked exception. if a client cannot do anything to recover from the exception, make it an unchecked exception__"
   ]
  },
  {
   "cell_type": "markdown",
   "id": "c08f5627",
   "metadata": {},
   "source": [
    "## Advantages of Exceptions"
   ]
  },
  {
   "cell_type": "markdown",
   "id": "e23d462d",
   "metadata": {},
   "source": [
    "### Advantage 1: Separating Error-Handling Code from \"Regular\" Code\n",
    "\n",
    "* they provide a way to separate the details of what to do when something weird happens from the main logic of the program\n",
    "    - in traditional programming, error detection, reporting, and handling often lead to spaghetti code\n",
    "* exceptions enable you to write the main flow of your code and deal with exceptional cases elsewhere\n",
    "* note: exceptions don't spare you the effort of doing the work detecting, reporting, and handling errors but they do help you organize the work more effectively\n",
    "* in the example below:\n",
    "    - we have pseudocode of a method that reads a file into memory\n",
    "    - but there are potential errors here:\n",
    "        * What happens if the file can't be opened?\n",
    "        * What happens if the length of the file can't be determined?\n",
    "        * What happens if enough memory can't be allocated?\n",
    "        * What happens if the read fails?\n",
    "        * What happens if the file can't be closed?\n",
    "    - thus the second example tries to have more code to do error detection, reporting, and handling\n",
    "        * but this causes the clarity of the program to be reduced and it's hard to tell how the method is supposed to flow\n",
    "    - to remedy this, the third example uses exceptions to improve clarity\n",
    "        * it separates the main logic of the method from the logic for error detection, reporting, and handling"
   ]
  },
  {
   "cell_type": "code",
   "execution_count": null,
   "id": "80c8c1d9",
   "metadata": {},
   "outputs": [],
   "source": [
    "// pseoducode of a method that reads a file into memory\n",
    "readFile {\n",
    "    open the file;\n",
    "    determine its size;\n",
    "    allocate that much memory;\n",
    "    read the file into memory;\n",
    "    close the file;\n",
    "}"
   ]
  },
  {
   "cell_type": "code",
   "execution_count": null,
   "id": "9e8ddc42",
   "metadata": {},
   "outputs": [],
   "source": [
    "// pseudocode of the same method but now with error detection, reporting, and handling\n",
    "// this leads to spaghetti code that is hard to understand\n",
    "\n",
    "errorCodeType readFile {\n",
    "    initialize errorCode = 0;\n",
    "    \n",
    "    open the file;\n",
    "    if (theFileIsOpen) {\n",
    "        determine the length of the file;\n",
    "        if (gotTheFileLength) {\n",
    "            allocate that much memory;\n",
    "            if (gotEnoughMemory) {\n",
    "                read the file into memory;\n",
    "                if (readFailed) {\n",
    "                    errorCode = -1;\n",
    "                }\n",
    "            } else {\n",
    "                errorCode = -2;\n",
    "            }\n",
    "        } else {\n",
    "            errorCode = -3;\n",
    "        }\n",
    "        close the file;\n",
    "        if (theFileDidntClose && errorCode == 0) {\n",
    "            errorCode = -4;\n",
    "        } else {\n",
    "            errorCode = errorCode and -4;\n",
    "        }\n",
    "    } else {\n",
    "        errorCode = -5;\n",
    "    }\n",
    "    return errorCode;\n",
    "}\n"
   ]
  },
  {
   "cell_type": "code",
   "execution_count": null,
   "id": "5dec8238",
   "metadata": {},
   "outputs": [],
   "source": [
    "// with the use of exceptions, the code is a lot cleaner\n",
    "// we separate the logic of the main program\n",
    "// from the logic of error detection, reporting, and handling\n",
    "readFile {\n",
    "    try {\n",
    "        open the file;\n",
    "        determine its size;\n",
    "        allocate that much memory;\n",
    "        read the file into memory;\n",
    "        close the file;\n",
    "    } catch (fileOpenFailed) {\n",
    "       doSomething;\n",
    "    } catch (sizeDeterminationFailed) {\n",
    "        doSomething;\n",
    "    } catch (memoryAllocationFailed) {\n",
    "        doSomething;\n",
    "    } catch (readFailed) {\n",
    "        doSomething;\n",
    "    } catch (fileCloseFailed) {\n",
    "        doSomething;\n",
    "    }\n",
    "}\n"
   ]
  },
  {
   "cell_type": "markdown",
   "id": "c359b200",
   "metadata": {},
   "source": [
    "### Advantage 2: Propagating Errors Up the Call Stack\n",
    "\n",
    "* suppose your have a readFile that is the 4th method in a series of nested method calls by the main program:\n",
    "    - suppose that method 1 is the only method that is interested in the errors that might occur within readFile\n",
    "    - traditonal error-notification techniques would have method2 and method3 propagate the error codes returned by readFile up the callstack until it reaches method1\n",
    "* recall the the Java runtime environment searches backward through the callstack to find any methods that are interested in handling this exception\n",
    "    - so a method can duck any exceptions thrown within it, allow methods farther up the call stack to catch it\n",
    "    - this makes it so that the methods that care about the exceptions are the ones that worry about detecting them\n",
    "    - but the methods that duck the exceptions must also specify them\n",
    "        * i.e. any checked exceptions that can be thrown within a method must be specified in its throws clause\n",
    "        * so methods 2 and 3 must also throw the same exception from readFile"
   ]
  },
  {
   "cell_type": "code",
   "execution_count": null,
   "id": "1c41f050",
   "metadata": {},
   "outputs": [],
   "source": [
    "method1 {\n",
    "    call method2;\n",
    "}\n",
    "\n",
    "method2 {\n",
    "    call method3;\n",
    "}\n",
    "\n",
    "method3 {\n",
    "    call readFile;\n",
    "}"
   ]
  },
  {
   "cell_type": "code",
   "execution_count": null,
   "id": "88de5a20",
   "metadata": {},
   "outputs": [],
   "source": [
    "// traditional error-notification\n",
    "// forces method2 and method3 to propagate errors from readFile to method1\n",
    "\n",
    "method1 {\n",
    "    errorCodeType error;\n",
    "    error = call method2;\n",
    "    if (error)\n",
    "        doErrorProcessing;\n",
    "    else\n",
    "        proceed;\n",
    "}\n",
    "\n",
    "errorCodeType method2 {\n",
    "    errorCodeType error;\n",
    "    error = call method3;\n",
    "    if (error)\n",
    "        return error;\n",
    "    else\n",
    "        proceed;\n",
    "}\n",
    "\n",
    "errorCodeType method3 {\n",
    "    errorCodeType error;\n",
    "    error = call readFile;\n",
    "    if (error)\n",
    "        return error;\n",
    "    else\n",
    "        proceed;\n",
    "}\n"
   ]
  },
  {
   "cell_type": "code",
   "execution_count": null,
   "id": "229f355e",
   "metadata": {},
   "outputs": [],
   "source": [
    "// using exceptions\n",
    "// the runtime environment will look backwards through the callstack for a method interested\n",
    "// in handling the exception\n",
    "// but methods 2 and 3 must also throw the exception as well\n",
    "\n",
    "method1 {\n",
    "    try {\n",
    "        call method2;\n",
    "    } catch (exception e) {\n",
    "        doErrorProcessing;\n",
    "    }\n",
    "}\n",
    "\n",
    "method2 throws exception {\n",
    "    call method3;\n",
    "}\n",
    "\n",
    "method3 throws exception {\n",
    "    call readFile;\n",
    "}\n"
   ]
  },
  {
   "cell_type": "markdown",
   "id": "92b071ae",
   "metadata": {},
   "source": [
    "### Advantage 3: Grouping and Differentiating Error Types\n",
    "\n",
    "* b/c exceptions thrown within a program are objects, the grouping or categorizing of exceptions is a natural outcome of the class hierarchy\n",
    "    - e.g.  IOException from java.io\n",
    "        * it represents any type of error that can occur when performing I/O\n",
    "        * its descendants represent more specific errors\n",
    "        * e.g. FileNotFoundException means that a file could not be located on disk\n",
    "* methods can write:\n",
    "    - specific handlers that can handle a very specific exception\n",
    "        * e.g. FileNotFoundException class has no descendants so the first example can only handle one type of exception\n",
    "    - handlers that can catch an exception based on its group or general type by specifiying any of the exception's superclasses in the catch statement\n",
    "        * e.g. to catch all I/O exceptions, regardless of their specific type, an exception handler can specify the IOException argument\n",
    "    - handlers that can handle any Exception with the third example\n",
    "        * this is close to the top of the Throwable class hierarchy\n",
    "        * so this handler will catch many other exceptions besides those that the handler is intended to catch\n",
    "        * if you just want your program to print any exceptions it finds, this is the way to do it\n",
    "* in general:\n",
    "    - __you want exception handlers to be as specific as possible__\n",
    "        * reason being: the first thing a handler must do is determine what type of exception occurred before it can decide on the best recovery strategy\n",
    "        * so by not catching specific errors, the handler must accommodate any possibility\n",
    "    - exception handlers that are too general can make code more error-prone by catching and handling exceptions that weren't anticipated by the programmer and for which the handler was not intended\n",
    "* in summary: you can create groups of exceptions and handle exceptions in a general fashion or you can use the specific type to differentiate exceptions and handle exceptions in an exact fashion"
   ]
  },
  {
   "cell_type": "code",
   "execution_count": null,
   "id": "b19cb99d",
   "metadata": {},
   "outputs": [],
   "source": [
    "// specific handler for specific exception\n",
    "// this exception has no descendants\n",
    "catch (FileNotFoundException e) {\n",
    "    ...\n",
    "}"
   ]
  },
  {
   "cell_type": "code",
   "execution_count": null,
   "id": "a6ed496d",
   "metadata": {},
   "outputs": [],
   "source": [
    "// handler that can handle all I/O based exceptions\n",
    "// IOException is the superclass of all I/O based exceptions so this handler can\n",
    "// catch a FileNotFoundException from above as well\n",
    "catch (IOException e) {\n",
    "    ...\n",
    "}\n",
    "\n",
    "// can look at the stack trace\n",
    "catch (IOException e) {\n",
    "    // Output goes to System.err.\n",
    "    e.printStackTrace();\n",
    "    // Send trace to stdout.\n",
    "    e.printStackTrace(System.out);\n",
    "}"
   ]
  },
  {
   "cell_type": "code",
   "execution_count": null,
   "id": "dde48586",
   "metadata": {},
   "outputs": [],
   "source": [
    "// A (too) general exception handler\n",
    "catch (Exception e) {\n",
    "    ...\n",
    "}"
   ]
  },
  {
   "cell_type": "markdown",
   "id": "e70f324f",
   "metadata": {},
   "source": [
    "## Summary"
   ]
  },
  {
   "cell_type": "markdown",
   "id": "861f119b",
   "metadata": {},
   "source": [
    "* a program can use exceptions to indicate that an error occurred\n",
    "* to throw an exception, use the _throw_ statement and provide it with an exception object\n",
    "    - an exception object is a descendant of Throwable\n",
    "    - and the exception object provides information about the specific error that occurred\n",
    "* a method that throws an uncaught, checked exception must include a _throws_ clause in its declaration\n",
    "* a program can catch exceptions by using a combination of the try, catch, and finally blocks:\n",
    "    - the try block identifies a block of code in which an exception can occur\n",
    "    - the catch block identifies a block of code, known as an exception handler, that can handle a particular type of exception\n",
    "    - the finally block identifies a block of code that is guaranteed to execute, and is the right place to close files, recover resources, and otherwise clean up after the code enclosed in the try block\n",
    "* the try statement should contain at least one catch block or a finally block and may have multiple catch block\n",
    "* the class of the exception object indicates the type of exception thrown\n",
    "    - the exception object can contain further information about the error, including an error message\n",
    "    - with exception chaining, an exception can point to the exception that caused it, which can in turn point to the exception that caused it, and so on"
   ]
  }
 ],
 "metadata": {
  "kernelspec": {
   "display_name": "Java",
   "language": "java",
   "name": "java"
  },
  "language_info": {
   "codemirror_mode": "java",
   "file_extension": ".jshell",
   "mimetype": "text/x-java-source",
   "name": "Java",
   "pygments_lexer": "java",
   "version": "21+35-2513"
  }
 },
 "nbformat": 4,
 "nbformat_minor": 5
}
