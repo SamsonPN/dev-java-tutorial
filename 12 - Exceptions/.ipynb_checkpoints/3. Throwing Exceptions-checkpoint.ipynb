{
 "cells": [
  {
   "cell_type": "markdown",
   "id": "07253dc2",
   "metadata": {},
   "source": [
    "## Specifying the Exceptions Thrown by a Method"
   ]
  },
  {
   "cell_type": "markdown",
   "id": "5b96c37a",
   "metadata": {},
   "source": [
    "* sometimes, it's better to let a method further up the call stack handle an exception\n",
    "    - e.g. the ListOfNumbers class is part of a package of classes and you cannot anticipate the needs of all the users of the package\n",
    "    - in this case, it's better to not catch the exception and allow a method further up the call stack to handle it\n",
    "* so for the writeList() method for ListOfNumbers class:\n",
    "    - since it doesn't catch the exceptions anymore, it must specify what exceptions it throws\n",
    "    - IndexOutOfBoundsException is an unchecked exception and including it in the throws clause is actually not mandatory"
   ]
  },
  {
   "cell_type": "code",
   "execution_count": null,
   "id": "d43482e3",
   "metadata": {},
   "outputs": [],
   "source": [
    "// original\n",
    "public void writeList() {\n",
    "    PrintWriter out = new PrintWriter(new FileWriter(\"OutFile.txt\"));\n",
    "    for (int i = 0; i < SIZE; i++) {\n",
    "        out.println(\"Value at: \" + i + \" = \" + list.get(i));\n",
    "    }\n",
    "    out.close();\n",
    "}\n",
    "\n",
    "// with throws clause to list exceptions that writeList() could throw\n",
    "// IndexOutOfBoundsException is an unchecked exception and is not required to be here\n",
    "public void writeList() throws IOException, IndexOutOfBoundsException {\n",
    "    PrintWriter out = new PrintWriter(new FileWriter(\"OutFile.txt\"));\n",
    "    for (int i = 0; i < SIZE; i++) {\n",
    "        out.println(\"Value at: \" + i + \" = \" + list.get(i));\n",
    "    }\n",
    "    out.close();\n",
    "}"
   ]
  },
  {
   "cell_type": "markdown",
   "id": "a705ee56",
   "metadata": {},
   "source": [
    "## How to Throw Exceptions"
   ]
  },
  {
   "cell_type": "markdown",
   "id": "ab36ccea",
   "metadata": {},
   "source": [
    "* an exception is always thrown with the _throw_ statement\n",
    "* Java has numerous exception classes and all of these classes are descendants of the Throwable class\n",
    "    - you can also create your own exception classes to represent problems that can occur within the classes you write\n",
    "        * e.g. if you are a package developer, you might create your own exceptions to differentiate an error occurring in your package from others in the Java platform or other packages"
   ]
  },
  {
   "cell_type": "markdown",
   "id": "27721f97",
   "metadata": {},
   "source": [
    "## The Throw Statement"
   ]
  },
  {
   "cell_type": "markdown",
   "id": "ecb76eb8",
   "metadata": {},
   "source": [
    "* the throw statement requires a single argument: a throwable object\n",
    "    - throwable objects are instances of any subclass of the Throwable class\n",
    "* in the pop() method example:\n",
    "    - it checks to see if there are any elements on the stack\n",
    "    - if it is empty, it instantiates a new EmptyStackException object and throws it\n",
    "* note: the declaration of pop() method does not contain a throws clause\n",
    "    - reason being, EmptyStackException is not a checked exception, so pop is not required to state that it might occur"
   ]
  },
  {
   "cell_type": "code",
   "execution_count": null,
   "id": "e60c59ff",
   "metadata": {},
   "outputs": [],
   "source": [
    "throw someThrowableObject;"
   ]
  },
  {
   "cell_type": "code",
   "execution_count": null,
   "id": "89daab6d",
   "metadata": {},
   "outputs": [],
   "source": [
    "public Object pop() {\n",
    "    Object obj;\n",
    "\n",
    "    if (size == 0) {\n",
    "        throw new EmptyStackException();\n",
    "    }\n",
    "\n",
    "    obj = objectAt(size - 1);\n",
    "    setObjectAt(size - 1, null);\n",
    "    size--;\n",
    "    return obj;\n",
    "}"
   ]
  },
  {
   "cell_type": "markdown",
   "id": "b25c272d",
   "metadata": {},
   "source": [
    "## Throwable Class and its Subclasses"
   ]
  },
  {
   "cell_type": "markdown",
   "id": "3183e608",
   "metadata": {},
   "source": [
    "* this figure illustrates the class hierarchy of the Throwable class\n",
    "![The Throwable Hierarchy](https://dev.java/assets/images/exceptions/throwable-hierarchy.png)"
   ]
  },
  {
   "cell_type": "markdown",
   "id": "9ed58f86",
   "metadata": {},
   "source": [
    "## Error Class"
   ]
  },
  {
   "cell_type": "markdown",
   "id": "1dbb8deb",
   "metadata": {},
   "source": [
    "* when a dynamic linking failure or other hard failure in the Java Virtual Machine occurs, the JVM throws an Error\n",
    "* simple programs don't catch or thrown instances of Error"
   ]
  },
  {
   "cell_type": "markdown",
   "id": "c6ef1c38",
   "metadata": {},
   "source": [
    "## Exception Class"
   ]
  },
  {
   "cell_type": "markdown",
   "id": "8c2d629d",
   "metadata": {},
   "source": [
    "* an Exception indicates that a problem occurred but it is not a serious system problem\n",
    "    - most programs will throw and catch instances of Exception as opposed to ERror\n",
    "* there is one Exception subclass, RuntimeException, that is reserved for exceptions that are a result of incorrect usage of an API\n",
    "    - e.g. NullPointerException which occurs when a method tries to access a member of an object through a null reference"
   ]
  },
  {
   "cell_type": "markdown",
   "id": "eebbd2dd",
   "metadata": {},
   "source": [
    "## Chained Exceptions"
   ]
  },
  {
   "cell_type": "markdown",
   "id": "fc474ce2",
   "metadata": {},
   "source": [
    "* an application often responds to an exception by throwing another exception\n",
    "    - i.e. the first exception causes the second exception\n",
    "    - it can be helpful to know when one exception causes another and chained exceptions allow you to do so\n",
    "* for the methods and constructors in Throwable:\n",
    "    - the _Throwable_ argument to initCause() and the Throwable constructors is the exception that caused the current exception\n",
    "    - getCause() returns the exception that caused the current exception\n",
    "        * the original exception\n",
    "    - initCause() sets the current exception's cause\n",
    "* in the try-catch example:\n",
    "    - when IOException is caught, a new SampleException iscreated with the original cause attached\n",
    "    - and the chain of exceptions is thrown up to the next higher level exception handler"
   ]
  },
  {
   "cell_type": "code",
   "execution_count": null,
   "id": "284ca813",
   "metadata": {},
   "outputs": [],
   "source": [
    "// methods and constructors in Throwable that support chained exceptions\n",
    "Throwable getCause()\n",
    "Throwable initCause(Throwable)\n",
    "Throwable(String, Throwable)\n",
    "Throwable(Throwable)"
   ]
  },
  {
   "cell_type": "code",
   "execution_count": null,
   "id": "9281826d",
   "metadata": {},
   "outputs": [],
   "source": [
    "try {\n",
    "\n",
    "} catch (IOException e) {\n",
    "    throw new SampleException(\"Other IOException\", e);\n",
    "}"
   ]
  },
  {
   "cell_type": "markdown",
   "id": "ac280118",
   "metadata": {},
   "source": [
    "## Accessing Stack Trace Information"
   ]
  },
  {
   "cell_type": "markdown",
   "id": "636aee9f",
   "metadata": {},
   "source": [
    "* Definition: a stack trace provides information on the execution history of the current thread and lists the names of the classes and methods that were called at the point when the exception occurred\n",
    "    - a stack trace is a useful debugging tool that you'll normally take advantage of when an exception has been thrown"
   ]
  },
  {
   "cell_type": "code",
   "execution_count": null,
   "id": "c26abc15",
   "metadata": {},
   "outputs": [],
   "source": [
    "catch (Exception cause) {\n",
    "    // calling the getStackTrace() method from the Exception object\n",
    "    StackTraceElement elements[] = cause.getStackTrace();\n",
    "    for (int i = 0, n = elements.length; i < n; i++) {       \n",
    "        System.err.println(elements[i].getFileName()\n",
    "            + \":\" + elements[i].getLineNumber() \n",
    "            + \">> \"\n",
    "            + elements[i].getMethodName() + \"()\");\n",
    "    }\n",
    "}"
   ]
  },
  {
   "cell_type": "markdown",
   "id": "acd9ebc4",
   "metadata": {},
   "source": [
    "### Logging API\n",
    "\n",
    "* in this example:\n",
    "    - this logs where an exception occurred from within the catch block\n",
    "    - but instead of manually parsing the stack trace and sending the output to java.util.logging, it sends the output to a file using the logging facility in the java.util.logging package"
   ]
  },
  {
   "cell_type": "code",
   "execution_count": null,
   "id": "934e07f0",
   "metadata": {},
   "outputs": [],
   "source": [
    "try {\n",
    "    Handler handler = new FileHandler(\"OutFile.log\");\n",
    "    Logger.getLogger(\"\").addHandler(handler);\n",
    "    \n",
    "} catch (IOException e) {\n",
    "    Logger logger = Logger.getLogger(\"package.name\"); \n",
    "    StackTraceElement elements[] = e.getStackTrace();\n",
    "    for (int i = 0, n = elements.length; i < n; i++) {\n",
    "        logger.log(Level.WARNING, elements[i].getMethodName());\n",
    "    }\n",
    "}"
   ]
  },
  {
   "cell_type": "markdown",
   "id": "580fbb01",
   "metadata": {},
   "source": [
    "## Creating Exception Classes"
   ]
  },
  {
   "cell_type": "markdown",
   "id": "84c0eae1",
   "metadata": {},
   "source": [
    "* you should write your own exception classes if you answer yes to any of the following questions; otherwise, just use an exception from the Java platform or one that's written by someone else\n",
    "    - Do you need an exception type that isn't represented by those in the Java platform?\n",
    "    - Would it help users if they could differentiate your exceptions from those thrown by classes written by other vendors?\n",
    "    - Does your code throw more than one related exception?\n",
    "    - If you use someone else's exceptions, will users have access to those exceptions?\n",
    "        * a similar question is, should your package be independent and self-contained?"
   ]
  },
  {
   "cell_type": "markdown",
   "id": "1c28c68d",
   "metadata": {},
   "source": [
    "### An Example\n",
    "\n",
    "* suppose you are writing a linked list class and it supports the following methods:\n",
    "    - objectAt(int n) - returns the object in the nth position in the list\n",
    "        * throws an exception if the argument is less than 0 or more than the number of objects currently in the list\n",
    "    - firstObject() - returns the first object in the list\n",
    "        * throws an exception if the list contains no objects\n",
    "    - indexOf(Object o) - searches the list for the specified object and returns its position in the list\n",
    "        * throws an exception if the object passed into the method is not in the list\n",
    "* this linked list class can throw multiple exceptions and it would be convenient to be able to catch all these exceptions by just using one exception handler\n",
    "    - also, if you plan to distribute this linked list in a package, all related code should be packaged together\n",
    "    - thus, the linked list should provide its own set of exception classes\n",
    "* this figure shows a possible class hierarchy for the exceptions thrown by the linked list\n",
    "![Example exception class hierarchy](https://dev.java/assets/images/exceptions/linkedlist-exceptions.png)"
   ]
  },
  {
   "cell_type": "markdown",
   "id": "b73c6908",
   "metadata": {},
   "source": [
    "### Choosing a Superclass\n",
    "\n",
    "* any Exception subclass can be used as the parent class of LinkedListException\n",
    "    - but those subclasses are either too specialized or completely unrelated to LinkedListException\n",
    "    - therefore, the parent class of LinkedListException should be Exception\n",
    "* most applications will thrown objects that are instances of Exception\n",
    "    - instances of Error are normally used for serious, hard errors in the system such as those that prevent the JVM from running\n",
    "* note: for readable code, it's good practice to append the string Exception to the names of all classes that inherit (directly or indirectly) from the Exception class"
   ]
  }
 ],
 "metadata": {
  "kernelspec": {
   "display_name": "Java",
   "language": "java",
   "name": "java"
  },
  "language_info": {
   "codemirror_mode": "java",
   "file_extension": ".jshell",
   "mimetype": "text/x-java-source",
   "name": "Java",
   "pygments_lexer": "java",
   "version": "21+35-2513"
  }
 },
 "nbformat": 4,
 "nbformat_minor": 5
}
