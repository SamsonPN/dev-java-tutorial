{
 "cells": [
  {
   "cell_type": "markdown",
   "id": "23fd036f",
   "metadata": {},
   "source": [
    "## What is an Exception?"
   ]
  },
  {
   "cell_type": "markdown",
   "id": "b3c0ed68",
   "metadata": {},
   "source": [
    "* __exception__: an event which occurs during the execution of a program that disrupts the normal flow of the program's instructions\n",
    "* when an error occurs within a method:\n",
    "    - the method _throws an exception_ which means it creates an exception object and hands it off to the runtime system\n",
    "    - the _exception object_ has information about the error, specifically its type and state of the program when the error occurred\n",
    "* after the method throws an exception:\n",
    "    - the runtime system will look through the _call stack_ for a method that can handle the exception\n",
    "    - the _call stack_ is an ordered list of methods that had been called to get to the current method where the error occurred\n",
    "![Call stack](https://dev.java/assets/images/exceptions/call-stack.png)"
   ]
  },
  {
   "cell_type": "markdown",
   "id": "9a5ff649",
   "metadata": {},
   "source": [
    "* the call stack:\n",
    "    - the runtime system searches it for a method that contains a block of code that can handle the exception\n",
    "    - that block of code is called an exception handler\n",
    "    - the runtime system will search through the call stack in reverse order in which the methods were called\n",
    "    - when the right handler is found, the runtime system will pass the exception to the handler\n",
    "        * an exception handler is considered appropriate if the type of the exception object thrown matches the type that can be handled by the handler\n",
    "* the exception handler catches the exception\n",
    "    - but if one is not found that can handle the exception, the runtime system and the program will just terminate\n",
    "![Trying to find exception handler](https://dev.java/assets/images/exceptions/exception-handler.png)"
   ]
  },
  {
   "cell_type": "markdown",
   "id": "8e8bf24c",
   "metadata": {},
   "source": [
    "## The Catch or Specify Requirement"
   ]
  },
  {
   "cell_type": "markdown",
   "id": "e1e794e5",
   "metadata": {},
   "source": [
    "* Java must honor the _Catch or Specify Requirement_\n",
    "    - code that doesn't honor this requirement will not compile\n",
    "* this means that code that might thrown certain exceptions must be enclosed by either of the following:\n",
    "    - a _try_ statement that catches the exception\n",
    "        * the _try_ must provide a handler for the exception\n",
    "    - a method that specificies that it can throw the exception\n",
    "        * the method must provide a _throws_ clause that lists the exception\n",
    "* not all exceptions are subject to the Requirement"
   ]
  },
  {
   "cell_type": "markdown",
   "id": "c316528b",
   "metadata": {},
   "source": [
    "## The Three Kinds of Exceptions"
   ]
  },
  {
   "cell_type": "markdown",
   "id": "4d1f3327",
   "metadata": {},
   "source": [
    "1. _Checked Exception_:\n",
    "    - these are exceptional conditions that an application should anticipate and recover from\n",
    "    - subject to the Catch or Specify Requirement\n",
    "        * all exceptions are checked exceptions except for those indicated by Error, RuntimeException, and their subclasses\n",
    "    - an example of a checked exception:\n",
    "        * your app prompts the user for an input file name which opens the file with that name\n",
    "        * normally, the user will provide a name of a file that actually exists so the app can open it\n",
    "        * but if the user provides the name of a nonexistent file, the app will throw a java.io.FileNotFoundException that can be handled by the program which would notify the user of the mistake\n",
    "2. _Error_:\n",
    "    - these are exceptional conditions that are external to the application and the application cannot anticipate or recover from\n",
    "    - not subject to the Catch or Specify Requirement\n",
    "        * Errors are those exceptions indicated by Error and its subclasses\n",
    "    - an example of an Error:\n",
    "        * an application that can successfully open a file but cannot read it due to a hardware or system malfunction\n",
    "        * the unsuccessful read will throw a java.io.IOError\n",
    "        * the application might choose to catch this exception to notify the user of the problem but it also might make sense for the program to print a stack trace and exit\n",
    "3. _Runtime Exception_:\n",
    "    - these are exceptional conditions that are internal to the application and the application cannot anticipate or recover from\n",
    "        * they usually indicate programming bugs like logic errors or improper use of an API\n",
    "    - not subject to the Catch or Specify Requirement\n",
    "        * these are indicated by RuntimeException and its subclasses\n",
    "    - an example of a RuntimeException:\n",
    "        * consider the application that passes a file name to the constructor for FileREader\n",
    "        * if a logic error causes a null to be passed to the constructor, the constructor will throw a NullPointerException\n",
    "        * the application can catch this exception but it would make more sense to eliminate the bug that caused this exception to occur\n",
    "* Errors and RuntimeExceptions are collectively known as _unchecked exceptions_"
   ]
  },
  {
   "cell_type": "markdown",
   "id": "fd10045c",
   "metadata": {},
   "source": [
    "## Bypassing Catch or Specify"
   ]
  },
  {
   "cell_type": "markdown",
   "id": "44504da4",
   "metadata": {},
   "source": [
    "* some programmers consider the Catch or Specify Requirement to be a serious flaw in the exception mechanism and bypass it by using unchecked exceptions in place of checked exceptions\n",
    "* in general, __this is not recommended__"
   ]
  }
 ],
 "metadata": {
  "kernelspec": {
   "display_name": "Java",
   "language": "java",
   "name": "java"
  },
  "language_info": {
   "codemirror_mode": "java",
   "file_extension": ".jshell",
   "mimetype": "text/x-java-source",
   "name": "Java",
   "pygments_lexer": "java",
   "version": "21+35-2513"
  }
 },
 "nbformat": 4,
 "nbformat_minor": 5
}
