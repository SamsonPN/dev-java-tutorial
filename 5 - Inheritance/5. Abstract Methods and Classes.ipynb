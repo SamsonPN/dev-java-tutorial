{
 "cells": [
  {
   "cell_type": "markdown",
   "id": "8a29040e",
   "metadata": {},
   "source": [
    "## Abstract Methods and Classes"
   ]
  },
  {
   "cell_type": "markdown",
   "id": "69257543",
   "metadata": {},
   "source": [
    "* __abstract class__: class declared with the _abstract_ keyword\n",
    "    - it may or may not include abstract methods\n",
    "    - they cannot be instantiated but can be subclassed\n",
    "    - if a class includes abstract methods or inherits abstract methods without implementing them, then the class itself must be declared abstract\n",
    "* __abstract method__: method that is declared without an implementation and with the _abstract_ keyword\n",
    "* when an abstract class is subclassed, the subclass usually provides implementations for all of the abstract methods in its parent class\n",
    "    - however, if it does not, then the subclass must also be declared abstract\n",
    "* note: methods in an interface are not that are not declared as default or static are implicitly abstract\n",
    "    - the abstract modifier is not used with interface methods"
   ]
  },
  {
   "cell_type": "code",
   "execution_count": null,
   "id": "6613e5fd",
   "metadata": {},
   "outputs": [],
   "source": [
    "// abstract method\n",
    "abstract void moveTo(double deltaX, double deltaY);\n",
    "\n",
    "// abstract class\n",
    "public abstract class GraphicObject {\n",
    "    // declare fields\n",
    "    // declare nonabstract methods\n",
    "    abstract void draw();\n",
    "}"
   ]
  },
  {
   "cell_type": "markdown",
   "id": "94273a34",
   "metadata": {},
   "source": [
    "## Abstract Classes Compared to Interfaces"
   ]
  },
  {
   "cell_type": "markdown",
   "id": "d49a5ca4",
   "metadata": {},
   "source": [
    "* abstract classes are similar to interfaces:\n",
    "    - cannot instantiate them\n",
    "    - can contain a mix of methods declared with/without an implementation\n",
    "* however, with abstract classes:\n",
    "    - you can declare fields that are not static and final\n",
    "    - can define public, protected, and private concrete methods\n",
    "* in interfaces:\n",
    "    - all fields are automatically:\n",
    "        * public\n",
    "        * static\n",
    "        * final\n",
    "    - all methods are public\n",
    "* you can only extend 1 class but can implement any number of interfaces\n",
    "* __which should you use, abstract classes or interfaces?:__\n",
    "    - consider using abstract classes if:\n",
    "        * you want to share code among several closely related classes\n",
    "        * you expect classes that extend your abstract class to have many common methods or fields, or require access modifiers other than public (such as protected and private)\n",
    "        * want to declare non-static or non-final fields\n",
    "            - this enables you to define methods that can access and modify state of the object to which they belong\n",
    "    - consider using interfaces if:\n",
    "        * you expect unrelated classes would implement your interface\n",
    "            - e.g. interfaces Comparable and Cloneable are implemented by many unrelated classes\n",
    "        * want to specify the behavior of a particular data type but not concerned about who implements its behavior\n",
    "        * want to take advantage of multiple inheritance of type\n",
    "* an example of an abstract class in the JDK is AbstractMap, which is part of the Collections Framework\n",
    "    - its subclasses (HashMap, TreeMap, ConcurrentHashMap, etc) share many methods like get(), put(), isEmpty(), containsKey(), and containsValue() that AbstractMap defines\n",
    "* an example of a class in the JDK that implements several interfaces is HashMap\n",
    "    - which implements the interfaces Serializable, Cloneable, and Map<K, V>\n",
    "    - by reading this list of interfaces, you can infer that an instance of HashMap can be cloned, is serializable, and has the functionality of a map regardless of who implemented the class\n",
    "    - in addition, the Map<K, V> interface has many default methods such as merge() and forEach() that older classes do not need to define if they implemented this interface\n",
    "* note: many software libraries use both abstract classes and interfaces\n",
    "    - HashMap class implements several interfaces and also extends the abstract class AbstractMap"
   ]
  },
  {
   "cell_type": "markdown",
   "id": "f42334b2",
   "metadata": {},
   "source": [
    "## An Abstract Class Example"
   ]
  },
  {
   "cell_type": "markdown",
   "id": "fd47f99e",
   "metadata": {},
   "source": [
    "* for a drawing app, you can draw circles, rectangles, other graphic objects\n",
    "    - they all have certain states (line color, fill color, etc) and behaviors (moveTo, rotate, etc) in common\n",
    "    - some are the same for all graphic objects and others require different implementations\n",
    "* all GraphicObjects must be able to draw or resize themselves and they just differ in how they do it\n",
    "    - this is perfect for an abstract superclass\n",
    "    - can take advantage of the similarities and declare all graphic objects to inherit from the same abstract parent object\n",
    "* first, you declare an abstract class, GraphicObject, to provide member variables and methods wholly shared by all subclasses\n",
    "    - it also declares abstract methods for methods that need to be implemented by all subclasses but in different ways"
   ]
  },
  {
   "cell_type": "code",
   "execution_count": 2,
   "id": "13a9dc90",
   "metadata": {},
   "outputs": [],
   "source": [
    "abstract class GraphicObject {\n",
    "    int x, y;\n",
    "    \n",
    "    // all subclasses share this behavior\n",
    "    // and the behavior does not change from class to class\n",
    "    // therefore it does not need to be abstract\n",
    "    void moveTo(int newX, int newY) {\n",
    "        // ...\n",
    "    }\n",
    "    \n",
    "    // these behaviors are the same for every subclass\n",
    "    // but how each subclass implements them is different\n",
    "    // e.g. you draw circles different from rectangles\n",
    "    abstract void draw();\n",
    "    \n",
    "    abstract void resize();\n",
    "}\n",
    "\n",
    "// each nonabstract subclass of GraphicObject must provide implementations for the draw() and resize() methods\n",
    "class Circle extends GraphicObject {\n",
    "    void draw() {\n",
    "        // ...\n",
    "    }\n",
    "    void resize() {\n",
    "        // ...\n",
    "    }\n",
    "}\n",
    "\n",
    "class Rectangle extends GraphicObject {\n",
    "    void draw() {\n",
    "        // ...\n",
    "    }\n",
    "    void resize() {\n",
    "        // ...\n",
    "    }\n",
    "}"
   ]
  },
  {
   "cell_type": "markdown",
   "id": "d0adc1e8",
   "metadata": {},
   "source": [
    "## When an Abstract Class Implements an Interface"
   ]
  },
  {
   "cell_type": "markdown",
   "id": "34150ad0",
   "metadata": {},
   "source": [
    "* a class that implements an interface must implement all of the interface's methods\n",
    "* but it is possible to define a class that does not implement all of the interface's methods\n",
    "    - this can be done if the class is declared to be abstract\n",
    "    - remember that any method in an interface that isn't declared default is implicitly abstract\n",
    "* in the example below:\n",
    "    - class X must be abstract b/c it does not fully implement Y\n",
    "    - class XX does implement Y so doesn't need to be abstract"
   ]
  },
  {
   "cell_type": "code",
   "execution_count": null,
   "id": "f0f83363",
   "metadata": {},
   "outputs": [],
   "source": [
    "abstract class X implements Y {\n",
    "    // implements all but one method of Y\n",
    "}\n",
    "\n",
    "class XX extends X {\n",
    "    // implements the remaining method in Y\n",
    "}"
   ]
  },
  {
   "cell_type": "markdown",
   "id": "619ec3d8",
   "metadata": {},
   "source": [
    "## Class Members"
   ]
  },
  {
   "cell_type": "markdown",
   "id": "86dca713",
   "metadata": {},
   "source": [
    "* an abstract class may have static fields and static methods\n",
    "* can use these static members with a class reference similiar to any other class\n",
    "    - e.g. AbstractClass.staticMethod()"
   ]
  }
 ],
 "metadata": {
  "kernelspec": {
   "display_name": "Java",
   "language": "java",
   "name": "java"
  },
  "language_info": {
   "codemirror_mode": "java",
   "file_extension": ".jshell",
   "mimetype": "text/x-java-source",
   "name": "Java",
   "pygments_lexer": "java",
   "version": "21+35-2513"
  }
 },
 "nbformat": 4,
 "nbformat_minor": 5
}
