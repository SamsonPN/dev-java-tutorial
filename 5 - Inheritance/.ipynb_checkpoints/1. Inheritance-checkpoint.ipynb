{
 "cells": [
  {
   "cell_type": "markdown",
   "id": "01de8e33",
   "metadata": {},
   "source": [
    "## Inheritance"
   ]
  },
  {
   "cell_type": "markdown",
   "id": "17657340",
   "metadata": {},
   "source": [
    "* classes can be derived from other classes, thereby inheriting fields and methods from those classes\n",
    "* subclass: \n",
    "    - a class that is derived from another class\n",
    "    - also called derived class, extended class, or child class\n",
    "* superclass: \n",
    "    - class from which the subclass is derived from\n",
    "    - also called base class or parent class\n",
    "* the Object class has no superclass\n",
    "    - it is the topmost class\n",
    "* every class has ONLY ONE direct super class (single inheritance)\n",
    "    - if they don't have an explicit superclass, every class is implicitly a subclass of Object\n",
    "* classes can derive from other classes any amount of times but the hierarchy of classes places the Object class at the top\n",
    "* why inheritance?\n",
    "    - when you want to create a new class but another class already has some of the functionality, you can just have your new class inherit that behavior\n",
    "    - you get to reuse fields/methods\n",
    "    - and you don't have to write it again or debug it yourself\n",
    "* subclass inherits all members from its superclass\n",
    "    - fields, methods, and nested class\n",
    "    - constructors are not members and are not inherited\n",
    "        * instead, the constructor of the superclass can be invoked from the subclass\n",
    "* the Object class defines and implements behavior common to all classes\n",
    "    - many classes derive directly from Object\n",
    "    - it is at the top of the hierarchy of classes\n",
    "    - Object is the most general of all classes"
   ]
  },
  {
   "cell_type": "markdown",
   "id": "55137e04",
   "metadata": {},
   "source": [
    "## An Example of Inheritance"
   ]
  },
  {
   "cell_type": "markdown",
   "id": "e4010c7c",
   "metadata": {},
   "source": [
    "* Bicycle is the superclass that MountainBike derives from\n",
    "    - MountainBike inherits all fields and methods of Bicycle"
   ]
  },
  {
   "cell_type": "code",
   "execution_count": null,
   "id": "9b0d0fa8",
   "metadata": {},
   "outputs": [],
   "source": [
    "public class Bicycle {\n",
    "        \n",
    "    // the Bicycle class has three fields\n",
    "    public int cadence;\n",
    "    public int gear;\n",
    "    public int speed;\n",
    "        \n",
    "    // the Bicycle class has one constructor\n",
    "    public Bicycle(int startCadence, int startSpeed, int startGear) {\n",
    "        gear = startGear;\n",
    "        cadence = startCadence;\n",
    "        speed = startSpeed;\n",
    "    }\n",
    "        \n",
    "    // the Bicycle class has four methods\n",
    "    public void setCadence(int newValue) {\n",
    "        cadence = newValue;\n",
    "    }\n",
    "        \n",
    "    public void setGear(int newValue) {\n",
    "        gear = newValue;\n",
    "    }\n",
    "        \n",
    "    public void applyBrake(int decrement) {\n",
    "        speed -= decrement;\n",
    "    }\n",
    "        \n",
    "    public void speedUp(int increment) {\n",
    "        speed += increment;\n",
    "    }\n",
    "}\n",
    "\n",
    "public class MountainBike extends Bicycle {\n",
    "        \n",
    "    // the MountainBike subclass adds one field\n",
    "    public int seatHeight;\n",
    "\n",
    "    // the MountainBike subclass has one constructor\n",
    "    public MountainBike(int startHeight,\n",
    "                        int startCadence,\n",
    "                        int startSpeed,\n",
    "                        int startGear) {\n",
    "        // super() invokes the constructor of the superclass, Bicycle\n",
    "        super(startCadence, startSpeed, startGear);\n",
    "        seatHeight = startHeight;\n",
    "    }   \n",
    "        \n",
    "    // the MountainBike subclass adds one method\n",
    "    public void setHeight(int newValue) {\n",
    "        seatHeight = newValue;\n",
    "    }   \n",
    "}"
   ]
  },
  {
   "cell_type": "markdown",
   "id": "37b80b71",
   "metadata": {},
   "source": [
    "## What You Can Do in a Subclass"
   ]
  },
  {
   "cell_type": "markdown",
   "id": "98ccd9e6",
   "metadata": {},
   "source": [
    "* subclass inherits all of the public and protected members of its parents, no matter what package the subclass is in\n",
    "* if the subclass is in the same package as its parent, it also inherits the package-private members of the parent\n",
    "* you can use the inherited members as is, replace them, hide them, or supplement them with new members:\n",
    "    - inherited fields can be used directly\n",
    "    - can declare a field in the subclass with the same name as the one in the superclass, thus hiding it (no recommended)\n",
    "    - can declare new fields in the subclass that are not in the superclass\n",
    "    - inherited methods can be used directly as they are\n",
    "    - can write a new instance method in the subclass that has the same signature as the one in the superclass, thus overriding it\n",
    "    - can write a new static method in the subclass that has the same siganture as the one in the superclass, thus hiding it\n",
    "    - can declare new methods in the subclass that are not in the superclass\n",
    "    - can write a subclass constructor that invokes the constructor of the superclass, either implicitly or by using the keyword super"
   ]
  },
  {
   "cell_type": "markdown",
   "id": "7e166982",
   "metadata": {},
   "source": [
    "## Private Members in a Superclass"
   ]
  },
  {
   "cell_type": "markdown",
   "id": "4d8e4662",
   "metadata": {},
   "source": [
    "* subclasses DO NOT inherit private members of its parent class\n",
    "    - however, if the superclass has public or protected methods for accessing its private fields, these can be used by the subclass\n",
    "* a nested class has access to all the private members of its enclosing class - both fields and methods\n",
    "    - therefore, a public or protected nested class inherited by a subclass has indirect access to all of the private members of the superclass"
   ]
  },
  {
   "cell_type": "markdown",
   "id": "d6068fc8",
   "metadata": {},
   "source": [
    "## Casting Objects"
   ]
  },
  {
   "cell_type": "markdown",
   "id": "4e38bb68",
   "metadata": {},
   "source": [
    "* an object is of the data type of the class from which it was instantiated\n",
    "* in the example below:\n",
    "    - MountainBike is descended from Bicycle and Object\n",
    "    - therfore, MountainBike is a Bicycle and is also an Object and can be used wherever Bicycle or Object objects are called for\n",
    "    - but the reverse is not true. a Bicycle can be a MountainBike but it also also be a different type of Bicycle"
   ]
  },
  {
   "cell_type": "code",
   "execution_count": null,
   "id": "df0b46c3",
   "metadata": {},
   "outputs": [],
   "source": [
    "public MountainBike myBike = new MountainBike();"
   ]
  },
  {
   "cell_type": "markdown",
   "id": "1989606d",
   "metadata": {},
   "source": [
    "* in this example:\n",
    "    - we know that Object is a superclass of MountainBike\n",
    "    - you can _cast_ the type of the objectReference from type MountainBike to type Object b/c\n",
    "    - reason being, MountainBike inherited from Bicycle which inherited from Object\n",
    "    - this is called _implicit casting_"
   ]
  },
  {
   "cell_type": "code",
   "execution_count": null,
   "id": "5d0dd10b",
   "metadata": {},
   "outputs": [],
   "source": [
    "// MountainBike object is also of class Object and can be typecasted as such\n",
    "Object obj = new MountainBike()"
   ]
  },
  {
   "cell_type": "markdown",
   "id": "769fba9b",
   "metadata": {},
   "source": [
    "* if we were to write it the other way around, we would get a compile-time error\n",
    "    - since obj is casted as Object, then the compiler does not know that it is a MountainBike\n",
    "    - an Object could be a MountainBike but it could also be many other things as well"
   ]
  },
  {
   "cell_type": "code",
   "execution_count": null,
   "id": "32acf68c",
   "metadata": {},
   "outputs": [],
   "source": [
    "// obj is of type Object\n",
    "// this raises an error even though it points to an instance of MountainBike\n",
    "MountainBike myBike = obj;"
   ]
  },
  {
   "cell_type": "markdown",
   "id": "4a5ebb52",
   "metadata": {},
   "source": [
    "* to fix the compile-time error, we can cast obj back to being a MountainBike\n",
    "    - this is called explicit casting\n",
    "* this inserts a runtime check that obj is assigned a MountainBike so that the compiler can safely assume that obj is a MountainBike\n",
    "    - if obj is not a MountainBike at runtime, an exception will be thrown"
   ]
  },
  {
   "cell_type": "code",
   "execution_count": null,
   "id": "ea32dafd",
   "metadata": {},
   "outputs": [],
   "source": [
    "MountainBike myBike = (MountainBike)obj;"
   ]
  },
  {
   "cell_type": "markdown",
   "id": "fa4cba15",
   "metadata": {},
   "source": [
    "* you can use the __instanceof operator__ to test the type of a particular object\n",
    "* in this example:\n",
    "    - the instanceof operator verifies that obj refers to a MountainBike so that we can make an explicit cast with knowledge that there will be no runtime exception thrown"
   ]
  },
  {
   "cell_type": "code",
   "execution_count": null,
   "id": "c66dd313",
   "metadata": {},
   "outputs": [],
   "source": [
    "if (obj instanceof MountainBike) {\n",
    "    MountainBike myBike = (MountainBike)obj;\n",
    "}"
   ]
  },
  {
   "cell_type": "markdown",
   "id": "fb03f567",
   "metadata": {},
   "source": [
    "## Multiple Inheritance of State, Implementation, and Type"
   ]
  },
  {
   "cell_type": "markdown",
   "id": "4fe87133",
   "metadata": {},
   "source": [
    "* multiple inheritance of state:\n",
    "    - one significant difference between classes and interfaces is that __classes can have fields whereas interfaces cannot__\n",
    "        * also, you can instantiate a class to create an object, which you can't do with interfaces\n",
    "    - an object stores its state in fields which are defined in classes\n",
    "        * this is the reason why Java does not allow you to extend (derive from) more than one class\n",
    "        * this is to avoid issues of multiple inheritance of state, which is the ability to inherit fields from multiple classes\n",
    "        * for example:\n",
    "            - you create an object by instantiating a class that inherits fields from multiple classes\n",
    "            - that subclass will inherit fields from all of the class's superclasses\n",
    "            - what happens if those different superclasses instantiate the same field?\n",
    "                * which one would take precedence?\n",
    "                * that is an issue with multiple inheritance for classes\n",
    "    - interfaces do not contain fields so you do not have to worry about issues with multiple inheritance of state\n",
    "* multiple inheritance of implementation:\n",
    "    - ability to inherit method definitions from multiple classes\n",
    "    - with this inheritance, there are problems with name conflicts and ambiguity\n",
    "    - in languages that support this, the compilers will encounter superclasses that have methods with the same name\n",
    "        * the compilers cannot determine which member or method to access or invoke\n",
    "        * also, a programmer can accidentally introduce a name conflict by adding a new method to a superclass\n",
    "    - multiple inheritance of implementation can work by using default methods\n",
    "        * a class can implement more than one interface which can contain default methods that have the same name\n",
    "* multiple inheritance of type:\n",
    "    - the ability of a class to implement more than one interface\n",
    "    - an object can have multiple types:\n",
    "        * the type of its own class\n",
    "        * the type of all the interfaces that the class implements\n",
    "    - if a variable is declared to be the type of an interface, then its value can reference any object that is instantiated from any class that implements the interface\n",
    "    - as with multiple inheritance of implementation, a class can inherit different implementations of a method defined (as default or static) in the interfaces that it extends\n",
    "        * in this case, the compiler or the user must decide which one to use"
   ]
  },
  {
   "cell_type": "code",
   "execution_count": 6,
   "id": "4322a8df",
   "metadata": {},
   "outputs": [],
   "source": [
    "interface Bottle {\n",
    "    void shake();\n",
    "}\n",
    "\n",
    "class WaterBottle implements Bottle {\n",
    "    public void shake() {\n",
    "    \n",
    "    }\n",
    "}\n",
    "\n",
    "class BlenderBottle implements Bottle {\n",
    "    public void shake() {\n",
    "    \n",
    "    }\n",
    "}\n",
    "\n",
    "// multiple inheritance of type\n",
    "// the variables myBottle1 and myBottle2 are both type Bottle (the interface)\n",
    "// since WaterBottle and BlenderBottle both implement the Bottle interface\n",
    "// any objects instantiated from those classes are also of type Bottle\n",
    "Bottle myBottle1 = new WaterBottle();\n",
    "Bottle myBottle2 = new BlenderBottle();"
   ]
  }
 ],
 "metadata": {
  "kernelspec": {
   "display_name": "Java",
   "language": "java",
   "name": "java"
  },
  "language_info": {
   "codemirror_mode": "java",
   "file_extension": ".jshell",
   "mimetype": "text/x-java-source",
   "name": "Java",
   "pygments_lexer": "java",
   "version": "21+35-2513"
  }
 },
 "nbformat": 4,
 "nbformat_minor": 5
}
