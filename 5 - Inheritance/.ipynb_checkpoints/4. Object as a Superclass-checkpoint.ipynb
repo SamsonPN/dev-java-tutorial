{
 "cells": [
  {
   "cell_type": "markdown",
   "id": "6ba3642d",
   "metadata": {},
   "source": [
    "## Methods From the Object Class"
   ]
  },
  {
   "cell_type": "markdown",
   "id": "e020f6cd",
   "metadata": {},
   "source": [
    "* the Object class, in the java.lang package, sits at the top of the class hierarchy tree\n",
    "    - every class is a descendant, direct or indirect, of the Object class\n",
    "    - every class you use or write inherits the instance methods of Object\n",
    "* some of the methods are:\n",
    "    - protected Object clone() throws CloneNotSupportedException:\n",
    "        * creates and returns a copy of this object\n",
    "    - public boolean equals(Object obj):\n",
    "        * indicates whether some other object is \"equal to\" this one\n",
    "    - protected void finalize() throws Throwable:\n",
    "        * called by the garbage collector on an object when garbage collection determines that there are no more references to the object\n",
    "        * as of Java SE 9, this is deprecated and overriding this is strongly discouraged\n",
    "    - public final Class getClass():\n",
    "        * returns the runtime class of an object\n",
    "    - public int hashCode():\n",
    "        * returns a hash code value for the object\n",
    "    - public String toString():\n",
    "        * returns a string representation of the object\n",
    "* the notify(), notifyAll(), and wait() methods of Object all play a part in synchronizing the activities of independently running threads in a program\n",
    "    - public final void notify()\n",
    "    - public final void notifyAll()\n",
    "    - public final void wait()\n",
    "    - public final void wait(long timeout)\n",
    "    - public final void wait(long timeout, int nanos)"
   ]
  },
  {
   "cell_type": "markdown",
   "id": "0c92c991",
   "metadata": {},
   "source": [
    "## The toString() Method"
   ]
  },
  {
   "cell_type": "markdown",
   "id": "09b1be46",
   "metadata": {},
   "source": [
    "* always consider overriding the toString() method in your classes\n",
    "* toString returns a String representation of the object\n",
    "    - useful for debugging\n",
    "    - the String representation of the object depends entirely on the object which is why you should override\n",
    "* for example, if you created a Book class and print it\n",
    "    - it might not display a text representation of the Book class in the way you want\n",
    "    - thus, overriding toString can display far more useful info about your book like the title, author, ISBN, etc"
   ]
  },
  {
   "cell_type": "markdown",
   "id": "e90f3b2b",
   "metadata": {},
   "source": [
    "## The equals() Method"
   ]
  },
  {
   "cell_type": "markdown",
   "id": "2d589bd0",
   "metadata": {},
   "source": [
    "* compares 2 objects for equality\n",
    "* the equals() method provided in the Object class:\n",
    "    - uses the identity operator (==) to determine whether 2 objects are equal\n",
    "    - for primitive data types, this gives the correct result\n",
    "    - for objects, it does not\n",
    "        * it tests whether the __object references are equal__\n",
    "        * i.e. if the objects are compared are the exact same object\n",
    "* to test whether 2 objects are equal in the sense of equivalency (containing the same information), you must override equals() method\n",
    "* should always override the equals() method if the identity operator is not appropriate for your class\n",
    "* note: if you override equals(), you must override hashCode() as well"
   ]
  },
  {
   "cell_type": "code",
   "execution_count": null,
   "id": "14b5c8f4",
   "metadata": {},
   "outputs": [],
   "source": [
    "public class Book {\n",
    "    String ISBN;\n",
    "    \n",
    "    public String getISBN() { \n",
    "        return ISBN;\n",
    "    }\n",
    "    \n",
    "    // overrided the equals() method inherited from Object class\n",
    "    // instead of using the identity operator to compare 2 Books\n",
    "    // we instead get their ISBNs and check if they're equal\n",
    "    public boolean equals(Object obj) {\n",
    "        System.out.println(obj);\n",
    "        if (obj instanceof Book)\n",
    "            return ISBN.equals((Book)obj.getISBN()); \n",
    "        else\n",
    "            return false;\n",
    "    }\n",
    "}\n",
    "\n",
    "// Swing Tutorial, 2nd edition\n",
    "Book firstBook  = new Book(\"0201914670\");\n",
    "Book secondBook = new Book(\"0201914670\");\n",
    "if (firstBook.equals(secondBook)) {\n",
    "    System.out.println(\"objects are equal\");\n",
    "} else {\n",
    "    System.out.println(\"objects are not equal\");\n",
    "}"
   ]
  },
  {
   "cell_type": "markdown",
   "id": "57aef988",
   "metadata": {},
   "source": [
    "## The hashCode() Method"
   ]
  },
  {
   "cell_type": "markdown",
   "id": "c9b320c4",
   "metadata": {},
   "source": [
    "* hashCode() returns a value that represents the object's hash code\n",
    "    - it is an integer value generated by a hashing algorithm\n",
    "* by definition, if 2 objects are equal, their hash code must also be equal\n",
    "    - if you override the equals() method, you change the way 2 objects are equated and Object's implementation of hashCode() is no longer valid\n",
    "    - thus, if you override the equals() method, you must also override the hashCode() method as well"
   ]
  },
  {
   "cell_type": "markdown",
   "id": "416ab8a9",
   "metadata": {},
   "source": [
    "## The getClass() Method"
   ]
  },
  {
   "cell_type": "markdown",
   "id": "9186580b",
   "metadata": {},
   "source": [
    "* cannot override getClas()\n",
    "* getClas() returns a Class object which has methods to get information about the class:\n",
    "    - getSimpleName()\n",
    "    - getSuperClass()\n",
    "    - getInterfaces()"
   ]
  },
  {
   "cell_type": "code",
   "execution_count": null,
   "id": "c7ff6423",
   "metadata": {},
   "outputs": [],
   "source": [
    "void printClassName(Object obj) {\n",
    "    System.out.println(\"The object's class is \" + obj.getClass().getSimpleName());\n",
    "}"
   ]
  },
  {
   "cell_type": "markdown",
   "id": "3aacb6aa",
   "metadata": {},
   "source": [
    "## The clone() Method"
   ]
  },
  {
   "cell_type": "markdown",
   "id": "9c237b3f",
   "metadata": {},
   "source": [
    "* if a class or one of its superclasses implements a Cloneable interface, you can use the clone() method to create a copy from an existing object"
   ]
  },
  {
   "cell_type": "code",
   "execution_count": null,
   "id": "2e357d94",
   "metadata": {},
   "outputs": [],
   "source": [
    "aCloneableObject.clone()"
   ]
  },
  {
   "cell_type": "markdown",
   "id": "06246d8b",
   "metadata": {},
   "source": [
    "* Object's implementation of clone() checks to see if the object on which clone() was invoked implements the Cloneable interface\n",
    "    - if it does not, the method throws a CloneNotSupportedException\n",
    "    - if the object does implement the Cloneable interface, Object's implementation of clone() creates an object of the same class as the original object and initializes the new object's member variables to have the same value as the original object's corresponding member variables\n",
    "* simplest way to make a class cloneable is to add _implements Cloneable_ to the class's declaration\n",
    "* for some classes, the default behavior of Object's clone() method works fine\n",
    "* but if your object contains a reference to an external object:\n",
    "    - you may need to override clone() to get the correct behavior\n",
    "    - for example, if the external object gets changed by one object, then its clone can see that too\n",
    "    - thus, the original object and the clone are not independent and need to be decoupled\n",
    "        * you can do this by overriding clone() so that it clones the object and the external object\n",
    "        * so the original object references the original external object and the clone object references the clone external object, making them independent from one another"
   ]
  },
  {
   "cell_type": "code",
   "execution_count": null,
   "id": "bed5bf2c",
   "metadata": {},
   "outputs": [],
   "source": [
    "// clone must be declared this way if you want to write a clone() method to override the one in Object\n",
    "protected Object clone() throws CloneNotSupportedException\n",
    "\n",
    "// or\n",
    "public Object clone() throws CloneNotSupportedException"
   ]
  },
  {
   "cell_type": "markdown",
   "id": "27a46ed8",
   "metadata": {},
   "source": [
    "## The finalize() Method"
   ]
  },
  {
   "cell_type": "markdown",
   "id": "2f20b0c5",
   "metadata": {},
   "source": [
    "* the Object class provides a callback method, finalize() that may be invoked on an object when it becomes garbage\n",
    "* Object's implementation of finalize() does nothing (it got deprecated) and you can override finalize() to do cleanup, such as freeing resources\n",
    "* finalize() may be called automatically but when, or even if, it is called is uncertain\n",
    "    - should not rely on this method for cleanup\n",
    "* as of Java SE 9, finalize() has been __deprecated__\n",
    "    - __overriding this method is now strongly discouraged__\n",
    "* if you want to clean up some resources, you can do so by implementing the AutoCloseable interface"
   ]
  }
 ],
 "metadata": {
  "kernelspec": {
   "display_name": "Java",
   "language": "java",
   "name": "java"
  },
  "language_info": {
   "codemirror_mode": "java",
   "file_extension": ".jshell",
   "mimetype": "text/x-java-source",
   "name": "Java",
   "pygments_lexer": "java",
   "version": "21+35-2513"
  }
 },
 "nbformat": 4,
 "nbformat_minor": 5
}
