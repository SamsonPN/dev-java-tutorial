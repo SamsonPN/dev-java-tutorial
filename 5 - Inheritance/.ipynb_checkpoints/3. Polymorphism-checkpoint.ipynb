{
 "cells": [
  {
   "cell_type": "markdown",
   "id": "16aee71b",
   "metadata": {},
   "source": [
    "## Polymorphism"
   ]
  },
  {
   "cell_type": "markdown",
   "id": "f07601f1",
   "metadata": {},
   "source": [
    "* subclasses of  class can define their own unique behaviors and yet share some of the same functionality of the parent class\n",
    "* in the example below, TestBike:\n",
    "    - the Java Virtual Machine (JVM) calls the appropriate method for the object that is referred to in each variable\n",
    "    - does not call the method that is defined by the variable's type\n",
    "    - this behavior is referred to as virtual method invocation"
   ]
  },
  {
   "cell_type": "code",
   "execution_count": 6,
   "id": "c7c1afbe",
   "metadata": {},
   "outputs": [
    {
     "name": "stdout",
     "output_type": "stream",
     "text": [
      "\n",
      "Bike is in gear 20 with a cadence of 10 and travelling at a speed of 1. \n",
      "\n",
      "Bike is in gear 20 with a cadence of 10 and travelling at a speed of 5. \n",
      "The MountainBike has a Dual suspension.\n",
      "\n",
      "Bike is in gear 40 with a cadence of 20 and travelling at a speed of 8. \n",
      "The RoadBike has 23 MM tires.\n"
     ]
    }
   ],
   "source": [
    "class Bicycle {\n",
    "    private int gear;\n",
    "    private int cadence;\n",
    "    private int speed;\n",
    "    \n",
    "    public Bicycle(int gear, int cadence, int speed) {\n",
    "        this.gear = gear;\n",
    "        this.cadence = cadence;\n",
    "        this.speed = speed;\n",
    "    }\n",
    "    \n",
    "    public void printDescription(){\n",
    "        System.out.println(\"\\nBike is \" + \"in gear \" + this.gear\n",
    "            + \" with a cadence of \" + this.cadence +\n",
    "            \" and travelling at a speed of \" + this.speed + \". \");\n",
    "    }\n",
    "}\n",
    "// MountainBike inherits from the Bicycle class\n",
    "// in this case, we added a new field, suspension\n",
    "// along with the setters/getters\n",
    "// we also overrided the behavior of printDescription to show the suspension value\n",
    "public class MountainBike extends Bicycle {\n",
    "    private String suspension;\n",
    "\n",
    "    public MountainBike(\n",
    "               int startCadence,\n",
    "               int startSpeed,\n",
    "               int startGear,\n",
    "               String suspensionType){\n",
    "        super(startCadence,\n",
    "              startSpeed,\n",
    "              startGear);\n",
    "        this.setSuspension(suspensionType);\n",
    "    }\n",
    "\n",
    "    public String getSuspension(){\n",
    "      return this.suspension;\n",
    "    }\n",
    "\n",
    "    public void setSuspension(String suspensionType) {\n",
    "        this.suspension = suspensionType;\n",
    "    }\n",
    "\n",
    "    public void printDescription() {\n",
    "        // still calls the printDescription from Bicycle class\n",
    "        super.printDescription();\n",
    "        System.out.println(\"The \" + \"MountainBike has a \" +\n",
    "            getSuspension() + \" suspension.\");\n",
    "    }\n",
    "} \n",
    "\n",
    "// RoadBike inherits from the Bicycle class\n",
    "// also added a new field, tireWidth\n",
    "// along with the setters/getters\n",
    "// also overrided the printDescription method to show the tireWidth value\n",
    "public class RoadBike extends Bicycle{\n",
    "    // In millimeters (mm)\n",
    "    private int tireWidth;\n",
    "\n",
    "    public RoadBike(int startCadence,\n",
    "                    int startSpeed,\n",
    "                    int startGear,\n",
    "                    int newTireWidth){\n",
    "        super(startCadence,\n",
    "              startSpeed,\n",
    "              startGear);\n",
    "        this.setTireWidth(newTireWidth);\n",
    "    }\n",
    "\n",
    "    public int getTireWidth(){\n",
    "      return this.tireWidth;\n",
    "    }\n",
    "\n",
    "    public void setTireWidth(int newTireWidth){\n",
    "        this.tireWidth = newTireWidth;\n",
    "    }\n",
    "\n",
    "    public void printDescription(){\n",
    "        // still calls the printDescription from Bicycle class\n",
    "        super.printDescription();\n",
    "        System.out.println(\"The RoadBike\" + \" has \" + getTireWidth() +\n",
    "            \" MM tires.\");\n",
    "    }\n",
    "}\n",
    "\n",
    "public class TestBikes {\n",
    "  public static void main(String[] args){\n",
    "    Bicycle bike01, bike02, bike03;\n",
    "\n",
    "    bike01 = new Bicycle(20, 10, 1);\n",
    "    bike02 = new MountainBike(20, 10, 5, \"Dual\");\n",
    "    bike03 = new RoadBike(40, 20, 8, 23);\n",
    "\n",
    "    bike01.printDescription();\n",
    "    bike02.printDescription();\n",
    "    bike03.printDescription();\n",
    "  }\n",
    "}\n",
    "\n",
    "String[] args = {\"\"};\n",
    "TestBikes.main(args);"
   ]
  },
  {
   "cell_type": "markdown",
   "id": "d5200be6",
   "metadata": {},
   "source": [
    "## Hiding Fields"
   ]
  },
  {
   "cell_type": "markdown",
   "id": "8f08bfaf",
   "metadata": {},
   "source": [
    "* superclass fields are able to be hidden if the subclass has the same field name\n",
    "    - they don't have to be the same type\n",
    "* in the subclass, the field in the superclass cannot be referenced if it is hidden using its simple name\n",
    "    - must be accessed using super, e.g. super.cadence (if we hid cadence in Bicycle and were trying to access it in MountainBike)\n",
    "* hiding fields is not recommended"
   ]
  },
  {
   "cell_type": "markdown",
   "id": "e68dbc51",
   "metadata": {},
   "source": [
    "## Using the Keyword _Super_"
   ]
  },
  {
   "cell_type": "markdown",
   "id": "9e83fbd8",
   "metadata": {},
   "source": [
    "### Accessing Superclass Members\n",
    "\n",
    "* can invoke overriden methods from the superclass using the keyword super in the subclass\n",
    "    - can also use super to refer to hidden fields (hiding fields is not recommended)\n",
    "* in the example below:\n",
    "    - Subclass inherits from Superclass\n",
    "    - Subclass overrides printMethod\n",
    "    - in Subclass's main method, we instantiate a Subclass object and call printMethod\n",
    "        * printMethod is the simple name for the one in the Subclass (the one that overrided the Superclass's)\n",
    "    - in printMethod, we also call super.printMethod, which refers to the overriden method in Superclass"
   ]
  },
  {
   "cell_type": "code",
   "execution_count": 8,
   "id": "cba2805c",
   "metadata": {},
   "outputs": [
    {
     "name": "stdout",
     "output_type": "stream",
     "text": [
      "Printed in Superclass.\n",
      "Printed in Subclass\n"
     ]
    }
   ],
   "source": [
    "public class Superclass {\n",
    "    public void printMethod() {\n",
    "        System.out.println(\"Printed in Superclass.\");\n",
    "    }\n",
    "}\n",
    "\n",
    "public class Subclass extends Superclass {\n",
    "    \n",
    "    // overrides printMethod in Superclass\n",
    "    public void printMethod() {\n",
    "        super.printMethod();\n",
    "        System.out.println(\"Printed in Subclass\");\n",
    "    }\n",
    "    \n",
    "    public static void main(String[] args) {\n",
    "        Subclass s = new Subclass();\n",
    "        s.printMethod();\n",
    "    }\n",
    "}\n",
    "\n",
    "String[] args = {\"\"};\n",
    "Subclass.main(args);"
   ]
  },
  {
   "cell_type": "markdown",
   "id": "82f4560f",
   "metadata": {},
   "source": [
    "### Subclass Constructors\n",
    "\n",
    "* in the example below:\n",
    "    - MountainBike is a subclass of Bicycle\n",
    "    - MountainBike's constructor calls the superclass constructor (Bicycle's constructor) and adds initialization code of its own\n",
    "* invocation of a superclass constructor __must be the first line in the subclass constructor__\n",
    "* to call a superclass constructor, use:\n",
    "    - super()\n",
    "    - super(parameter list)\n",
    "* if a constructor does not explicitly invoke a superclass constructor\n",
    "    - the Java compiler automatically inserts a call to the no-argument constructor of the superclass\n",
    "    - if the superclass does not have a no-argument constructor, there will be a compile-time error\n",
    "    - Object doesn't have such a constructor so if Object is the only superclass, there is no problem\n",
    "* if a subclass constructor invokes a constructor of its superclass, either explicitly or implicitly:\n",
    "    - __there will be a whole chain of constructors called all the way back to the constructor of _Object___\n",
    "    - this is called ___constructor chaining___"
   ]
  },
  {
   "cell_type": "markdown",
   "id": "a9e68a53",
   "metadata": {},
   "source": [
    "## Writing Final Classes and Methods"
   ]
  },
  {
   "cell_type": "markdown",
   "id": "7d26e408",
   "metadata": {},
   "source": [
    "* use the _final_ keyword in a method declaration to indicate that the method __CANNOT BE OVERRIDDEN BY SUBCLASSES__\n",
    "    - the Object class does this -- a number of its methods are final\n",
    "* you might use final if a method's implemnetation should not be changed and it is critical to the consistent state of the object\n",
    "    - methods called from constructors should generally be declaredfinal\n",
    "    - if a constructor calls a non-final method, a subclass may redefine that method with surprising or undesirable results\n",
    "* note: you can also declare an entire class final\n",
    "    - __a class that is declared final cannot be subclasses__\n",
    "    - useful when creating an immutable class like the String class"
   ]
  },
  {
   "cell_type": "code",
   "execution_count": null,
   "id": "f4d538fa",
   "metadata": {},
   "outputs": [],
   "source": [
    "class ChessAlgorithm {\n",
    "    enum ChessPlayer { WHITE, BLACK };\n",
    "    \n",
    "    final ChessPlayer getFirstPlayer() {\n",
    "        return ChessPlayer.WHITE;\n",
    "    }\n",
    "}"
   ]
  }
 ],
 "metadata": {
  "kernelspec": {
   "display_name": "Java",
   "language": "java",
   "name": "java"
  },
  "language_info": {
   "codemirror_mode": "java",
   "file_extension": ".jshell",
   "mimetype": "text/x-java-source",
   "name": "Java",
   "pygments_lexer": "java",
   "version": "21+35-2513"
  }
 },
 "nbformat": 4,
 "nbformat_minor": 5
}
