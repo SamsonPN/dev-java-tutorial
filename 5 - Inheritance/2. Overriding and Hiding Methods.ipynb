{
 "cells": [
  {
   "cell_type": "markdown",
   "id": "e7306300",
   "metadata": {},
   "source": [
    "## Instance Methods"
   ]
  },
  {
   "cell_type": "markdown",
   "id": "e195dfb6",
   "metadata": {},
   "source": [
    "* a subclass's instance method can override a superclass's when they have the same signature:\n",
    "    - name\n",
    "    - number and type of parameters\n",
    "    - return type\n",
    "* a subclass's ability to override its superclass's method allows for a subclass to inherit from a superclass whose behavior is \"close enough\" but allows for modification as needed\n",
    "* an overriding method can also return a subtype of the type returned by the overriden method, this is called a _covariant return type_\n",
    "* using the @Override annotation when overriding a method\n",
    "    - this instructs the compiler that you intend to override a method in the superclass\n",
    "    - if the method actually doesn't exist in the superclass, it will generate an error"
   ]
  },
  {
   "cell_type": "markdown",
   "id": "52220e5b",
   "metadata": {},
   "source": [
    "## Static Methods"
   ]
  },
  {
   "cell_type": "markdown",
   "id": "59f78e5c",
   "metadata": {},
   "source": [
    "* the subclass's static method _hides_ the static method in the superclass if they have the same signature\n",
    "* there is a distinction between hiding a static method and overriding an instance method:\n",
    "    - the overriden instance method that gets invoked is the one in the subclass\n",
    "    - the hidden static method that gets invoked depends on whether it is invoked from the superclass or the subclass\n",
    "* in the example below:\n",
    "    - the Cat class overrides the instance method in Animal\n",
    "    - and hides the static method in Animal"
   ]
  },
  {
   "cell_type": "code",
   "execution_count": 18,
   "id": "bcb7cedc",
   "metadata": {},
   "outputs": [
    {
     "name": "stdout",
     "output_type": "stream",
     "text": [
      "myCat is an instanceof Cat: true\n",
      "The static method in Animal\n",
      "The static method in Cat\n",
      "The instance method in Cat\n",
      "The static method in Animal\n"
     ]
    }
   ],
   "source": [
    "public class Animal {\n",
    "    public static void testClassMethod() {\n",
    "        System.out.println(\"The static method in Animal\");\n",
    "    }\n",
    "    public void testInstanceMethod() {\n",
    "        System.out.println(\"The instance method in Animal\");\n",
    "    }\n",
    "}\n",
    "\n",
    "public class Cat extends Animal {\n",
    "    public static void testClassMethod() {\n",
    "        System.out.println(\"The static method in Cat\");\n",
    "    }\n",
    "    public void testInstanceMethod() {\n",
    "        System.out.println(\"The instance method in Cat\");\n",
    "    }\n",
    "\n",
    "    public static void main(String[] args) {\n",
    "        Cat myCat = new Cat();\n",
    "        \n",
    "        // implicit conversion to superclass\n",
    "        Animal myAnimal = myCat;\n",
    "        \n",
    "        // but it's still an instance of Cat\n",
    "        boolean isInstance = myCat instanceof Cat;\n",
    "        System.out.println(\"myCat is an instanceof Cat: \" + isInstance);\n",
    "        \n",
    "        // calls static method directly from superclass\n",
    "        Animal.testClassMethod();\n",
    "        \n",
    "        // calls static method from instance of Cat\n",
    "        myCat.testClassMethod();\n",
    "        \n",
    "        // calls instance method\n",
    "        myAnimal.testInstanceMethod();\n",
    "        \n",
    "        // even though the instance is Cat\n",
    "        // when assigned to myAnimal, which does an implicit conversion from Cat to Animal,\n",
    "        // the class becomes Animal\n",
    "        // that's why it calls Animal's static method\n",
    "        \n",
    "        // Class is a type\n",
    "        // similar to how boolean or int are types\n",
    "        // and similar to how their respective wrapper class, like Integer, are types as well\n",
    "        myAnimal.testClassMethod();\n",
    "    }\n",
    "}\n",
    "\n",
    "String[] args = {\"\"};\n",
    "Cat.main(args);"
   ]
  },
  {
   "cell_type": "markdown",
   "id": "6ccdd92b",
   "metadata": {},
   "source": [
    "## Interface Methods"
   ]
  },
  {
   "cell_type": "markdown",
   "id": "0acc166b",
   "metadata": {},
   "source": [
    "* default methods and abstract methods in interfaces are inherited like instance methods\n",
    "    - default methods: has a method body for default implementation\n",
    "    - abstract method: no method body allowed, only the signature\n",
    "* when a supertype of a class or interface provides multiple methods with the same signature, the Java compilerfollows inheritance rules to resolve the name conflict and are driven by these 2 principles:\n",
    "    1. instance methods are preferred over interface default methods\n",
    "    2. methods that are already overriden by other candidates are ignored.\n",
    "        * this can arise when supertypes share a common ancestor"
   ]
  },
  {
   "cell_type": "code",
   "execution_count": 20,
   "id": "9e8a62af",
   "metadata": {},
   "outputs": [
    {
     "name": "stdout",
     "output_type": "stream",
     "text": [
      "I am a horse.\r\n"
     ]
    }
   ],
   "source": [
    "// 1. instance methods are preferred over interface default methods\n",
    "\n",
    "public class Horse {\n",
    "    // instance method that Pegasus inherits from\n",
    "    public String identifyMyself() {\n",
    "        return \"I am a horse.\";\n",
    "    }\n",
    "}\n",
    "\n",
    "public interface Flyer {\n",
    "    // default method\n",
    "    default public String identifyMyself() {\n",
    "        return \"I am able to fly.\";\n",
    "    }\n",
    "}\n",
    "\n",
    "public interface Mythical {\n",
    "    // default method\n",
    "    default public String identifyMyself() {\n",
    "        return \"I am a mythical creature.\";\n",
    "    }\n",
    "}\n",
    "\n",
    "public class Pegasus extends Horse implements Flyer, Mythical {\n",
    "    public static void main(String... args) {\n",
    "        Pegasus myApp = new Pegasus();\n",
    "        \n",
    "        // instance method is preferred over default methods\n",
    "        System.out.println(myApp.identifyMyself());\n",
    "    }\n",
    "}\n",
    "\n",
    "String[] args = {\"\"};\n",
    "Pegasus.main(args);"
   ]
  },
  {
   "cell_type": "code",
   "execution_count": 31,
   "id": "44ef76c7",
   "metadata": {},
   "outputs": [
    {
     "name": "stdout",
     "output_type": "stream",
     "text": [
      "I am able to lay eggs.\r\n"
     ]
    }
   ],
   "source": [
    "// 2. methods that are already overriden by other candidates are ignored\n",
    "\n",
    "public interface Animal {\n",
    "    default public String identifyMyself() {\n",
    "        return \"I am an animal.\";\n",
    "    }\n",
    "}\n",
    "\n",
    "// EggLayer overrides the default method in Animal\n",
    "public interface EggLayer extends Animal {\n",
    "    default public String identifyMyself() {\n",
    "        return \"I am able to lay eggs.\";\n",
    "    }\n",
    "}\n",
    "\n",
    "public interface FireBreather extends Animal { }\n",
    "\n",
    "public class Dragon implements EggLayer, FireBreather {\n",
    "    public static void main (String... args) {\n",
    "        Dragon myApp = new Dragon();\n",
    "        \n",
    "        // this calls the default method in EggLayer\n",
    "        // b/c it is unambiguous which default method to call\n",
    "        // EggLayer inherits identifyMyself() from the supertype Animal\n",
    "        // but it overrides it\n",
    "        System.out.println(myApp.identifyMyself());\n",
    "    }\n",
    "}\n",
    "\n",
    "String[] args = {\"\"};\n",
    "Dragon.main(args);"
   ]
  },
  {
   "cell_type": "code",
   "execution_count": 32,
   "id": "c0e155fd",
   "metadata": {},
   "outputs": [
    {
     "ename": "CompilationException",
     "evalue": "",
     "output_type": "error",
     "traceback": [
      "\u001b[1m\u001b[30m|   \u001b[1m\u001b[30m\u001b[0m\u001b[1m\u001b[30m\u001b[41m\u001b[0m",
      "\u001b[1m\u001b[30m|   \u001b[1m\u001b[30m\u001b[41m\u001b[0m",
      "\u001b[1m\u001b[30m|   \u001b[1m\u001b[30m\u001b[41mpublic class Dragon implements EggLayer, FireBreather {\u001b[0m",
      "\u001b[1m\u001b[30m|   \u001b[1m\u001b[30m\u001b[41m    public static void main (String... args) {\u001b[0m",
      "\u001b[1m\u001b[30m|   \u001b[1m\u001b[30m\u001b[41m        Dragon myApp = new Dragon();\u001b[0m",
      "\u001b[1m\u001b[30m|   \u001b[1m\u001b[30m\u001b[41m        \u001b[0m",
      "\u001b[1m\u001b[30m|   \u001b[1m\u001b[30m\u001b[41m        // since Dragon implements from both EggLayer and FireBreather\u001b[0m",
      "\u001b[1m\u001b[30m|   \u001b[1m\u001b[30m\u001b[41m        // and there are conflicting default methods\u001b[0m",
      "\u001b[1m\u001b[30m|   \u001b[1m\u001b[30m\u001b[41m        // then the compiler throws an error\u001b[0m",
      "\u001b[1m\u001b[30m|   \u001b[1m\u001b[30m\u001b[41m        System.out.println(myApp.identifyMyself());\u001b[0m",
      "\u001b[1m\u001b[30m|   \u001b[1m\u001b[30m\u001b[41m    }\u001b[0m",
      "\u001b[1m\u001b[30m|   \u001b[1m\u001b[30m\u001b[41m}\u001b[0m",
      "\u001b[1m\u001b[31mtypes EggLayer and FireBreather are incompatible;\u001b[0m",
      "\u001b[1m\u001b[31m  class Dragon inherits unrelated defaults for identifyMyself() from types EggLayer and FireBreather\u001b[0m",
      ""
     ]
    }
   ],
   "source": [
    "// this example shows what happens when you have 2+ default methods that conflict\n",
    "// both EggLayer and FireBreather inherit from Animal and override the identifyMyself method with its own implementation\n",
    "public interface Animal {\n",
    "    default public String identifyMyself() {\n",
    "        return \"I am an animal.\";\n",
    "    }\n",
    "}\n",
    "\n",
    "public interface EggLayer extends Animal {\n",
    "    default public String identifyMyself() {\n",
    "        return \"I am able to lay eggs.\";\n",
    "    }\n",
    "}\n",
    "\n",
    "public interface FireBreather extends Animal { \n",
    "    default public String identifyMyself() {\n",
    "        return \"I am able to breathe fire.\";\n",
    "    }\n",
    "}\n",
    "\n",
    "public class Dragon implements EggLayer, FireBreather {\n",
    "    public static void main (String... args) {\n",
    "        Dragon myApp = new Dragon();\n",
    "        \n",
    "        // since Dragon implements from both EggLayer and FireBreather\n",
    "        // and there are conflicting default methods\n",
    "        // then the compiler throws an error\n",
    "        System.out.println(myApp.identifyMyself());\n",
    "    }\n",
    "}\n",
    "\n",
    "String[] args = {\"\"};\n",
    "Dragon.main(args);"
   ]
  },
  {
   "cell_type": "markdown",
   "id": "42d9af70",
   "metadata": {},
   "source": [
    "* if 2 or more independently defined default methods conflict or a default method conflicts with an abstract method, then the Java compiler produces a compiler error\n",
    "    - you must explicitly override the supertype methods\n",
    "* but you can invoke any of the default implementations using the super keyword\n",
    "    - __the name preceding super must refer to a direct superinterface__ that defines or inherits a default for the invoked method\n",
    "        * in the example below, FlyCar is the name before super\n",
    "        * and the invoked method, startEngine, is the inherited default method\n",
    "    - __IF YOU JUST WANT TO CALL A SUPERCLASS METHOD, JUST DO super.method()__\n",
    "        * a subclass can only derive from one superclass so you don't need a name before super\n",
    "    - you can also use the super keyword to invoke a default method in both classes and interfaces\n",
    "* note: static methods in interfaces are never inherited"
   ]
  },
  {
   "cell_type": "code",
   "execution_count": null,
   "id": "79a95ed4",
   "metadata": {},
   "outputs": [],
   "source": [
    "public interface OperateCar {\n",
    "    // ...\n",
    "    default public int startEngine(EncryptedKey key) {\n",
    "        // Implementation\n",
    "    }\n",
    "}\n",
    "\n",
    "public interface FlyCar {\n",
    "    // ...\n",
    "    default public int startEngine(EncryptedKey key) {\n",
    "        // Implementation\n",
    "    }\n",
    "}\n",
    "\n",
    "// a class that implements both OperateCar and FlyCar must override the method startEngine\n",
    "// to remove ambiguity\n",
    "// how would the compiler know which default method to inherit?\n",
    "public class FlyingCar implements OperateCar, FlyCar {\n",
    "    // ...\n",
    "    public int startEngine(EncryptedKey key) {\n",
    "        // using super keyword to use the default methods\n",
    "        FlyCar.super.startEngine(key);\n",
    "        OperateCar.super.startEngine(key);\n",
    "    }\n",
    "}"
   ]
  },
  {
   "cell_type": "code",
   "execution_count": 73,
   "id": "268f8770",
   "metadata": {},
   "outputs": [
    {
     "name": "stdout",
     "output_type": "stream",
     "text": [
      "Vroom vroom.\n",
      "I'm in me mum's car.\n"
     ]
    }
   ],
   "source": [
    "interface OperateCar {\n",
    "    default public void makeNoise() {\n",
    "        System.out.println(\"Vroom vroom.\");\n",
    "    }\n",
    "}\n",
    "\n",
    "interface Mum {\n",
    "    default public void makeNoise() {\n",
    "        System.out.println(\"I'm in me mum's car.\");\n",
    "    }\n",
    "}\n",
    "\n",
    "// MumsCar inherits the default method makeNoise from its interface, Mum\n",
    "class MumsCar implements Mum {}\n",
    "\n",
    "class FlyingCar extends MumsCar implements OperateCar {\n",
    "    public static void main(String[] args) {\n",
    "        FlyingCar myApp = new FlyingCar();\n",
    "        myApp.makeNoise();\n",
    "        \n",
    "    }\n",
    "    \n",
    "    public void makeNoise() {\n",
    "        // OperateCar is a superinterface for FlyingCar\n",
    "        // and since a class can implement multiple interfaces\n",
    "        // you need to be explicit\n",
    "        OperateCar.super.makeNoise();\n",
    "        \n",
    "        // classes can only derive from one superclass\n",
    "        // so you can call super directly\n",
    "        super.makeNoise();\n",
    "    }\n",
    "    \n",
    "}\n",
    "\n",
    "String[] args = {\"\"};\n",
    "FlyingCar.main(args);"
   ]
  },
  {
   "cell_type": "code",
   "execution_count": 75,
   "id": "2843ee57",
   "metadata": {},
   "outputs": [
    {
     "name": "stdout",
     "output_type": "stream",
     "text": [
      "I am a horse.\r\n"
     ]
    }
   ],
   "source": [
    "// inherited instance methods from classes can override abstract interface methods\n",
    "\n",
    "public interface Mammal {\n",
    "    String identifyMyself();\n",
    "}\n",
    "\n",
    "public class Horse {\n",
    "    public String identifyMyself() {\n",
    "        return \"I am a horse.\";\n",
    "    }\n",
    "}\n",
    "\n",
    "public class Mustang extends Horse implements Mammal {\n",
    "    public static void main(String... args) {\n",
    "        Mustang myApp = new Mustang();\n",
    "        \n",
    "        // the instance method, identifyMyself, from Horse overrides\n",
    "        // the abstract method from Mammal\n",
    "        System.out.println(myApp.identifyMyself());\n",
    "    }\n",
    "}\n",
    "\n",
    "String[] args = {\"\"};\n",
    "Mustang.main(args);"
   ]
  },
  {
   "cell_type": "markdown",
   "id": "89327434",
   "metadata": {},
   "source": [
    "## Modifiers"
   ]
  },
  {
   "cell_type": "markdown",
   "id": "09d7c7fa",
   "metadata": {},
   "source": [
    "* the access specifier for an overriding method can allow __more, but not less, access__ than an overriden method\n",
    "    - e.g. a protected instance method in the superclass can be made public (more access) but not private in the subclass (less access)\n",
    "* you will get a compile-time error if you attempt to change an instance method in the superclass to a static method in the subclass, and vice versa"
   ]
  },
  {
   "cell_type": "code",
   "execution_count": 80,
   "id": "65e8bda4",
   "metadata": {},
   "outputs": [
    {
     "ename": "CompilationException",
     "evalue": "",
     "output_type": "error",
     "traceback": [
      "\u001b[1m\u001b[30m|   \u001b[1m\u001b[30m    \u001b[0m\u001b[1m\u001b[30m\u001b[41mprivate void makeNoise() {}\u001b[0m\u001b[1m\u001b[30m\u001b[0m",
      "\u001b[1m\u001b[31mmakeNoise() in Example1 cannot implement makeNoise() in LessAccess\u001b[0m",
      "\u001b[1m\u001b[31m  attempting to assign weaker access privileges; was public\u001b[0m",
      ""
     ]
    }
   ],
   "source": [
    "interface LessAccess {\n",
    "    void makeNoise();\n",
    "}\n",
    "\n",
    "class Example1 implements LessAccess {\n",
    "    private void makeNoise() {}\n",
    "}"
   ]
  },
  {
   "cell_type": "code",
   "execution_count": 82,
   "id": "5a456ff5",
   "metadata": {},
   "outputs": [],
   "source": [
    "interface MoreAccess {\n",
    "    void makeNoise();\n",
    "}\n",
    "\n",
    "// compiler doesn't throw any errors\n",
    "class Example2 implements MoreAccess {\n",
    "    public void makeNoise() {}\n",
    "}"
   ]
  },
  {
   "cell_type": "markdown",
   "id": "b710a3d5",
   "metadata": {},
   "source": [
    "## Summary"
   ]
  },
  {
   "cell_type": "markdown",
   "id": "2a3287c2",
   "metadata": {},
   "source": [
    "* the table summarizes what happpens when you define a method with the same signature as a method in a superclass\n",
    "\n",
    "|  | Superclass Instance Method | Superclass Static Method |\n",
    "| :- | :- | :- |\n",
    "| Subclass Instance Method | Overrides | Generates a compile-time error |\n",
    "| Subclass Static Method | Generates a compile-time error | Hides |\n",
    "\n",
    "* note: in a subclass, you can overload the methods inherited from the superclass\n",
    "    - such overloaded methods neither hide nor override the superclass instance methods -- they are new methods, unique to the subclass"
   ]
  }
 ],
 "metadata": {
  "kernelspec": {
   "display_name": "Java",
   "language": "java",
   "name": "java"
  },
  "language_info": {
   "codemirror_mode": "java",
   "file_extension": ".jshell",
   "mimetype": "text/x-java-source",
   "name": "Java",
   "pygments_lexer": "java",
   "version": "21+35-2513"
  }
 },
 "nbformat": 4,
 "nbformat_minor": 5
}
