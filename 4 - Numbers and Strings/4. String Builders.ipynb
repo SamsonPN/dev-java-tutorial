{
 "cells": [
  {
   "cell_type": "markdown",
   "id": "dc559cdd",
   "metadata": {},
   "source": [
    "## The StringBuilder Class"
   ]
  },
  {
   "cell_type": "markdown",
   "id": "a45502fe",
   "metadata": {},
   "source": [
    "* String objects are like StringBuilder objects except they can be modified\n",
    "    - internally, these objects are treated like variable-length arrays that contain a sequence of characters\n",
    "    - at any point, the length and content of the sequence can be changed through method invocations\n",
    "* Strings should always be used unless string builders offer an advantage in terms of simpler code"
   ]
  },
  {
   "cell_type": "markdown",
   "id": "100e38b1",
   "metadata": {},
   "source": [
    "## Length and Capacity"
   ]
  },
  {
   "cell_type": "markdown",
   "id": "86bcd095",
   "metadata": {},
   "source": [
    "* StringBuilder class has a length() method like the String class\n",
    "* but unlike strings, every string builder has a capacity\n",
    "    - capacity = # of character spaces that have been allocated and capacity >= length\n",
    "    - capacity will increase in response to additions to the string builder\n",
    "* constructors of the StringBuilder class:\n",
    "    - StringBuilder(): \n",
    "        * creates empty string builder with a capacity of 16 (16 empty elements)\n",
    "    - StringBuilder(CharacterSequence cs): \n",
    "        * creates a string builder containing the same characters as the specified CharSequence + an extra 16 empty elements trailing the CharSequence\n",
    "    - StringBuilder(int initCapacity): \n",
    "        * creates an empty string builder with the specified initial capacity\n",
    "    - StringBuilder(String s):\n",
    "        - creates a string builder whose value is initialized by the specified string, plus an extra 16 empty elements trailing the string"
   ]
  },
  {
   "cell_type": "code",
   "execution_count": 3,
   "id": "a85da3bd",
   "metadata": {},
   "outputs": [
    {
     "name": "stdout",
     "output_type": "stream",
     "text": [
      "Greetings\n",
      "9\n",
      "16\n"
     ]
    }
   ],
   "source": [
    "// creates empty builder, capacity 16\n",
    "StringBuilder sb = new StringBuilder();\n",
    "\n",
    "// adds 9 character string at beginning\n",
    "sb.append(\"Greetings\");\n",
    "\n",
    "System.out.println(sb);\n",
    "System.out.println(sb.length());\n",
    "System.out.println(sb.capacity());"
   ]
  },
  {
   "cell_type": "markdown",
   "id": "cf000b31",
   "metadata": {},
   "source": [
    "* StringBuilder methods that String doesn't have:\n",
    "    - void setLength(int newLength):\n",
    "        * sets length of the character sequence\n",
    "        * if newLength is less than length(), the last characters in the character sequence are truncated\n",
    "        * if newLength is greater than length(), null characters are added at the end of the character sequence\n",
    "    - void ensureCapacity(int minCapacity):\n",
    "        - ensures that the capacity is at least equal to the specified minimum"
   ]
  },
  {
   "cell_type": "code",
   "execution_count": 5,
   "id": "31e3aa26",
   "metadata": {},
   "outputs": [
    {
     "name": "stdout",
     "output_type": "stream",
     "text": [
      "Greetings\u0000\u0000\u0000\n",
      "12\n",
      "16\n"
     ]
    }
   ],
   "source": [
    "// creates empty builder, capacity 16\n",
    "StringBuilder sb = new StringBuilder();\n",
    "\n",
    "// adds 9 character string at beginning\n",
    "sb.append(\"Greetings\");\n",
    "\n",
    "// sets length for sb\n",
    "// there are only 9 characters in Greetings but the rest of the length is filled with null characters\n",
    "sb.setLength(12);\n",
    "\n",
    "System.out.println(sb);\n",
    "System.out.println(sb.length());\n",
    "System.out.println(sb.capacity());"
   ]
  },
  {
   "cell_type": "markdown",
   "id": "ed1d554b",
   "metadata": {},
   "source": [
    "## StringBuilder Operations"
   ]
  },
  {
   "cell_type": "markdown",
   "id": "5bbae2c1",
   "metadata": {},
   "source": [
    "* the principal operations on a StringBuilder that are not available in String are the append() and insert() methods\n",
    "    - they're overloaded to accept any data type and convert them to a string that is then appended or inserted into the character sequence in the string builder\n",
    "    - append method always adds at the end of the character sequence\n",
    "    - insert method adds characters at a specified point\n",
    "* methods:\n",
    "    - append(Any data):\n",
    "        * can append any primitive type or object to a string builder\n",
    "        * data is converted to a string before the append operation takes place\n",
    "    - delete(int start, int end):\n",
    "        * deletes subsequence from [start, end - 1] in the StringBuilder's char sequence\n",
    "    - deleteCharAt(int index):\n",
    "        * can delete char at index\n",
    "    - insert(int offset, Any data):\n",
    "        * can insert any primitive type or object at the given offset\n",
    "        * these methods take the element to be inserted as a second argument\n",
    "        * the data is converted to a string before the insert operation takes place\n",
    "    - replace(int start, int end, String s) and setCharAt(int index, char c):\n",
    "        * used to replace characters or strings in the StringBuilder\n",
    "    - reverse():\n",
    "        * reverse sequence of characters in the string builder\n",
    "    - toString():\n",
    "        * returns a string that contains the character sequence in the builder\n",
    "* you can use any String method on a StringBuilder object by first converting the string builder to a string with the toString() method\n",
    "    - then you convert the string back into a string builder using the StringBuilder(String string) constructor"
   ]
  },
  {
   "cell_type": "markdown",
   "id": "a6fe93a2",
   "metadata": {},
   "source": [
    "## StringBuilder in Action"
   ]
  },
  {
   "cell_type": "markdown",
   "id": "f0603716",
   "metadata": {},
   "source": [
    "* the StringDemo program below reverses a string\n",
    "* using a StringBuilder, you can do this process more efficiently"
   ]
  },
  {
   "cell_type": "code",
   "execution_count": 10,
   "id": "d83a69be",
   "metadata": {},
   "outputs": [
    {
     "name": "stdout",
     "output_type": "stream",
     "text": [
      "doT saw I was toD\r\n"
     ]
    }
   ],
   "source": [
    "// more efficient and leaner than StringDemo\n",
    "\n",
    "public class StringBuilderDemo {\n",
    "    public static void main(String[] args) {\n",
    "        String palindrome = \"Dot saw I was Tod\";\n",
    "        \n",
    "        StringBuilder sb = new StringBuilder(palindrome);\n",
    "        \n",
    "        sb.reverse(); // reverse it\n",
    "        \n",
    "        // println calls sb.toString() implicitly\n",
    "        System.out.println(sb);\n",
    "    }\n",
    "}\n",
    "\n",
    "String[] args = {\"\"};\n",
    "StringBuilderDemo.main(args);"
   ]
  },
  {
   "cell_type": "code",
   "execution_count": 11,
   "id": "315a8831",
   "metadata": {},
   "outputs": [
    {
     "name": "stdout",
     "output_type": "stream",
     "text": [
      "doT saw I was toD\r\n"
     ]
    }
   ],
   "source": [
    "public class StringDemo {\n",
    "    public static void main(String[] args) {\n",
    "        String palindrome = \"Dot saw I was Tod\";\n",
    "        int len = palindrome.length();\n",
    "        char[] tempCharArray = new char[len];\n",
    "        char[] charArray = new char[len];\n",
    "        \n",
    "        // put original string in an \n",
    "        // array of chars\n",
    "        for (int i = 0; i < len; i++) {\n",
    "            tempCharArray[i] = \n",
    "                palindrome.charAt(i);\n",
    "        } \n",
    "        \n",
    "        // reverse array of chars\n",
    "        for (int j = 0; j < len; j++) {\n",
    "            charArray[j] =\n",
    "                tempCharArray[len - 1 - j];\n",
    "        }\n",
    "        \n",
    "        String reversePalindrome =\n",
    "            new String(charArray);\n",
    "        System.out.println(reversePalindrome);\n",
    "    }\n",
    "}\n",
    "\n",
    "String[] args = {\"\"};\n",
    "StringDemo.main(args);"
   ]
  }
 ],
 "metadata": {
  "kernelspec": {
   "display_name": "Java",
   "language": "java",
   "name": "java"
  },
  "language_info": {
   "codemirror_mode": "java",
   "file_extension": ".jshell",
   "mimetype": "text/x-java-source",
   "name": "Java",
   "pygments_lexer": "java",
   "version": "21+35-2513"
  }
 },
 "nbformat": 4,
 "nbformat_minor": 5
}
