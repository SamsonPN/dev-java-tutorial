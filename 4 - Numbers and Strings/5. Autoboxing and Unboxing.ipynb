{
 "cells": [
  {
   "cell_type": "markdown",
   "id": "3868ba42",
   "metadata": {},
   "source": [
    "## Autoboxing and Unboxing"
   ]
  },
  {
   "cell_type": "markdown",
   "id": "7e7384fa",
   "metadata": {},
   "source": [
    "* __autoboxing__: automatic conversion that the Java compiler makes between the primitive types and their corresponding object wrapper classes\n",
    "    - converting an int to an Integer, double to a Double, etc\n",
    "* __unboxing__: automatic conversion that the Java compiler makes between the primitive types and their corresponding object wrapper classes\n",
    "    - converts Integer to int, Double to double\n",
    "    - basically unwraps them"
   ]
  },
  {
   "cell_type": "markdown",
   "id": "eba710f0",
   "metadata": {},
   "source": [
    "| Primitive type | Wrapper class |\n",
    "| :- | :- |\n",
    "| boolean | Boolean |\n",
    "| byte | Byte |\n",
    "| char | Character |\n",
    "| float | Float |\n",
    "| int | Integer |\n",
    "| long | Long |\n",
    "| short | Short |\n",
    "| double | Double |"
   ]
  },
  {
   "cell_type": "code",
   "execution_count": 1,
   "id": "5815bd54",
   "metadata": {},
   "outputs": [],
   "source": [
    "// simplest example of autoboxing\n",
    "// automatic conversion from primitive type char to object wrapper class Character\n",
    "Character ch = 'a';"
   ]
  },
  {
   "cell_type": "code",
   "execution_count": null,
   "id": "eb6b8147",
   "metadata": {},
   "outputs": [],
   "source": [
    "// even though ints is an array list of Integers (objects)\n",
    "// this still compiles because Java automatically creates the Integer objects using i and adds it to the arraylist\n",
    "List<Integer> ints = new ArrayList<>();\n",
    "for (int i = 1; i < 50; i += 2) {\n",
    "    ints.add(i);\n",
    "}\n",
    "\n",
    "// so the above code is converted to this by the compiler at runtime\n",
    "List<Integer> ints = new ArrayList<>();\n",
    "for (int i = 1; i < 50; i += 2) {\n",
    "    ints.add(Integer.valueOf(i));\n",
    "}"
   ]
  },
  {
   "cell_type": "markdown",
   "id": "947d0aba",
   "metadata": {},
   "source": [
    "* the Java compiler applies autoboxing when a primitive value is:\n",
    "    - passed as a parameter to a method that expects an object of the corresponding wrapper class\n",
    "        * i.e. passing in an int when the method parameter requires an Integer object\n",
    "    - assigned to a variable of the corresponding wrapper class\n",
    "        * e.g. like the simple example with Character"
   ]
  },
  {
   "cell_type": "code",
   "execution_count": null,
   "id": "757b7576",
   "metadata": {},
   "outputs": [],
   "source": [
    "public static int sumEven(List<Integer> ints) {\n",
    "    int sum = 0;\n",
    "    for (Integer i: ints) {\n",
    "        if (i % 2 == 0) {\n",
    "            sum += i;\n",
    "        }\n",
    "    }\n",
    "    return sum;\n",
    "}\n",
    "\n",
    "// % and += do not apply to Integer objects but how come the Java compiler compiles the method above without issues?\n",
    "// it is because it invokes the intValue() method to convert an Integer to an int at runtime:\n",
    "public static int sumEven(List<Integer> ints) {\n",
    "    int sum = 0;\n",
    "    for (Integer i: ints) {\n",
    "        if (i.intValue() % 2 == 0) {\n",
    "           sum += i.intValue(); \n",
    "        }\n",
    "    }\n",
    "    return sum;\n",
    "}"
   ]
  },
  {
   "cell_type": "markdown",
   "id": "83ef102e",
   "metadata": {},
   "source": [
    "* converting an object of a wrapper type Integer to its corresponding primitive (int) value is called unboxing\n",
    "* the Java compiler applies unboxing when an object of a wrapper class is:\n",
    "    - passed as a parameter to a method that expects a value of the corresponding primitive type\n",
    "    - assigned to a variable of the corresponding primitive type"
   ]
  },
  {
   "cell_type": "code",
   "execution_count": 3,
   "id": "e881b774",
   "metadata": {},
   "outputs": [
    {
     "name": "stdout",
     "output_type": "stream",
     "text": [
      "absolute value of -8 = 8\n",
      "pi = 3.1416\n"
     ]
    }
   ],
   "source": [
    "// unboxing example\n",
    "\n",
    "import java.util.ArrayList;\n",
    "import java.util.List;\n",
    "\n",
    "public class Unboxing {\n",
    "    public static void main(String[] args) {\n",
    "        Integer i = Integer.valueOf(-8);\n",
    "        \n",
    "        // 1. Unboxing through method invocation\n",
    "        int absVal = absoluteValue(i);\n",
    "        System.out.println(\"absolute value of \" + i + \" = \" + absVal);\n",
    "        \n",
    "        // pi is autoboxed through method invocation\n",
    "        // converted from double (primitive type) --> Double (object wrapper class)\n",
    "        List<Double> doubles = new ArrayList<>();\n",
    "        doubles.add(3.1416); \n",
    "        \n",
    "        // 2. Unboxing through assignment\n",
    "        // doubles is an array list of Doubles (object wrapper class)\n",
    "        // it got unboxed by being assigned to the variable pi with a type of double (primitive type)\n",
    "        double pi = doubles.get(0);\n",
    "        System.out.println(\"pi = \" + pi);\n",
    "    }\n",
    "    \n",
    "    public static int absoluteValue(int i) {\n",
    "        return (i < 0) ? -i : i;\n",
    "    }\n",
    "}\n",
    "\n",
    "String[] args = {\"\"};\n",
    "Unboxing.main(args);"
   ]
  }
 ],
 "metadata": {
  "kernelspec": {
   "display_name": "Java",
   "language": "java",
   "name": "java"
  },
  "language_info": {
   "codemirror_mode": "java",
   "file_extension": ".jshell",
   "mimetype": "text/x-java-source",
   "name": "Java",
   "pygments_lexer": "java",
   "version": "21+35-2513"
  }
 },
 "nbformat": 4,
 "nbformat_minor": 5
}
