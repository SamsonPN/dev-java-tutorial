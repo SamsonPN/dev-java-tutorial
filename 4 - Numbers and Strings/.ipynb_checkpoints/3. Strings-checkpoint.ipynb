{
 "cells": [
  {
   "cell_type": "markdown",
   "id": "f66463aa",
   "metadata": {},
   "source": [
    "## Creating Strings"
   ]
  },
  {
   "cell_type": "markdown",
   "id": "3b024bba",
   "metadata": {},
   "source": [
    "* __strings__: a sequence of characters\n",
    "    - in Java, strings are __objects__\n",
    "    - Java provides the String class to create/manipulate strings\n",
    "* whenever the compiler encounters a string literal, it creates a String object with its value\n",
    "* String class is __immutable__ so once it is created, a String object CANNOT be changed\n",
    "    - any methods that appear to modify a string are actually creating and returning a new copy of the string with the resulting modifications"
   ]
  },
  {
   "cell_type": "code",
   "execution_count": 1,
   "id": "9b11cf04",
   "metadata": {},
   "outputs": [
    {
     "name": "stdout",
     "output_type": "stream",
     "text": [
      "hello.\r\n"
     ]
    }
   ],
   "source": [
    "// string literal: the series of characters enclosed in double quotes\n",
    "String greeting = \"Hello world!\";\n",
    "\n",
    "// can create String objects using the new keyword and a constructor\n",
    "char[] helloArray = { 'h', 'e', 'l', 'l', 'o', '.' };\n",
    "String helloString = new String(helloArray);\n",
    "System.out.println(helloString);"
   ]
  },
  {
   "cell_type": "markdown",
   "id": "d9d53773",
   "metadata": {},
   "source": [
    "## String Length"
   ]
  },
  {
   "cell_type": "markdown",
   "id": "c06be94b",
   "metadata": {},
   "source": [
    "* .length(): accessor method that returns the number of characters in the string object\n",
    "* .charAt(i): returns the ith character in the string\n",
    "* .getChars(int srcBegin, int srcEnd, char[] dst, int dstBegin): copies characters from this string into the destination character array\n",
    "    - the first char to be copied is at index srcBegin; the last character to be copied is at index srcEnd - 1\n",
    "    - total number of chars copied is srcEnd - srcBegin\n",
    "    - chars are copied into the subarray of dst starting at index dstBegin and ending at index: dstBegin + (srcEnd - srcBegin) - 1\n",
    "    - https://docs.oracle.com/en/java/javase/21/docs/api/java.base/java/lang/String.html#getChars(int,int,char%5B%5D,int)"
   ]
  },
  {
   "cell_type": "code",
   "execution_count": 3,
   "id": "88858ae8",
   "metadata": {},
   "outputs": [
    {
     "name": "stdout",
     "output_type": "stream",
     "text": [
      "17\r\n"
     ]
    }
   ],
   "source": [
    "String palindrome = \"Dot saw I was Tod\";\n",
    "int len = palindrome.length();\n",
    "System.out.println(len);"
   ]
  },
  {
   "cell_type": "code",
   "execution_count": 11,
   "id": "96b55326",
   "metadata": {},
   "outputs": [
    {
     "name": "stdout",
     "output_type": "stream",
     "text": [
      "doT saw I was toD\r\n"
     ]
    }
   ],
   "source": [
    "public class StringDemo {\n",
    "    public static void main(String[] args) {\n",
    "        String palindrome = \"Dot saw I was Tod\";\n",
    "        \n",
    "        // using .length() method\n",
    "        int len = palindrome.length();\n",
    "        char[] tempCharArray = new char[len];\n",
    "        char[] charArray = new char[len];\n",
    "        \n",
    "        // put original string in an array of chars\n",
    "        for (int i = 0; i < len; i++) {\n",
    "            // using .charAt(i) method\n",
    "            tempCharArray[i] = palindrome.charAt(i);\n",
    "        }\n",
    "        \n",
    "        /*\n",
    "         * could replace for-loop above with this:\n",
    "         * this copies all characters in palindrome string object into the tempCharArray\n",
    "        \n",
    "           palindrome.getChars(0, len, tempCharArray, 0);\n",
    "         */\n",
    "        \n",
    "        // reverse array of chars\n",
    "        for (int j = len - 1; j >= 0; j--) {\n",
    "            charArray[len - j - 1] = tempCharArray[j];\n",
    "        }\n",
    "        \n",
    "        // creating a String object from a char[] by calling the constructor of the String class\n",
    "        String reversePalindrome = new String(charArray);\n",
    "        System.out.println(reversePalindrome);\n",
    "    }\n",
    "}\n",
    "\n",
    "String[] args = { \"\" };\n",
    "StringDemo.main(args);"
   ]
  },
  {
   "cell_type": "markdown",
   "id": "f9fd74ec",
   "metadata": {},
   "source": [
    "## Concatenating Strings"
   ]
  },
  {
   "cell_type": "code",
   "execution_count": 14,
   "id": "87c9774f",
   "metadata": {},
   "outputs": [
    {
     "name": "stdout",
     "output_type": "stream",
     "text": [
      "Hello World!\n",
      "My name is Samson\n"
     ]
    }
   ],
   "source": [
    "// .concat()\n",
    "String string1 = \"Hello \";\n",
    "String string2 = \"World!\";\n",
    "String newString = string1.concat(string2);\n",
    "System.out.println(newString);\n",
    "\n",
    "// .concat() with string literals\n",
    "String literal = \"My name is \".concat(\"Samson\");\n",
    "System.out.println(literal);"
   ]
  },
  {
   "cell_type": "code",
   "execution_count": 15,
   "id": "bf1b8f09",
   "metadata": {},
   "outputs": [
    {
     "name": "stdout",
     "output_type": "stream",
     "text": [
      "Hello World!\r\n"
     ]
    }
   ],
   "source": [
    "// concatenating with + operator\n",
    "System.out.println(\"Hello \" + \"World!\");"
   ]
  },
  {
   "cell_type": "markdown",
   "id": "8354ca6b",
   "metadata": {},
   "source": [
    "* for concatenation using the + operator, each object that is not a String is converted to a string using its .toString() method\n",
    "* up until Java SE 15, Java did not permit literal strings to span multiple lines so you must use the + concatenation operator at the end of each line"
   ]
  },
  {
   "cell_type": "code",
   "execution_count": 17,
   "id": "46d29f13",
   "metadata": {},
   "outputs": [
    {
     "name": "stdout",
     "output_type": "stream",
     "text": [
      "Now is the time for all good men to come to the aid of their country.\r\n"
     ]
    }
   ],
   "source": [
    "// using + for multi-line for for anything below Java SE 15\n",
    "String multiQuote = \n",
    "    \"Now is the time for all good \" +\n",
    "    \"men to come to the aid of their country.\";\n",
    "System.out.println(multiQuote);"
   ]
  },
  {
   "cell_type": "code",
   "execution_count": 20,
   "id": "af9c2137",
   "metadata": {},
   "outputs": [
    {
     "name": "stdout",
     "output_type": "stream",
     "text": [
      "    <html>\n",
      "        <body>\n",
      "            <p>Hello, world</p>\n",
      "        </body>\n",
      "    </html>\n",
      "\r\n"
     ]
    }
   ],
   "source": [
    "// in Java SE 15+, you can write 2-D string literals without using the + concatenation operator\n",
    "\n",
    "String html = \"\"\"\n",
    "    <html>\n",
    "        <body>\n",
    "            <p>Hello, world</p>\n",
    "        </body>\n",
    "    </html>\n",
    "\"\"\";\n",
    "\n",
    "System.out.println(html);"
   ]
  },
  {
   "cell_type": "markdown",
   "id": "ed9343e2",
   "metadata": {},
   "source": [
    "## Creating Format Strings"
   ]
  },
  {
   "cell_type": "markdown",
   "id": "1c7df4d5",
   "metadata": {},
   "source": [
    "* String.format(): static method of the String class that returns a formatted String object rather than a PrintStream object like using printf"
   ]
  },
  {
   "cell_type": "code",
   "execution_count": 23,
   "id": "ca177786",
   "metadata": {},
   "outputs": [
    {
     "name": "stdout",
     "output_type": "stream",
     "text": [
      "The value of the float variable is 3.570000, while the value of the integer variable is 7, and the string is Hi\n",
      "The value of the float variable is 3.570000, while the value of the integer variable is 7, and the string is Hi"
     ]
    },
    {
     "data": {
      "text/plain": [
       "java.io.PrintStream@4eb48220"
      ]
     },
     "execution_count": 23,
     "metadata": {},
     "output_type": "execute_result"
    }
   ],
   "source": [
    "double floatVar = 3.57;\n",
    "int intVar = 7;\n",
    "String stringVar = \"Hi\";\n",
    "\n",
    "// this creates a PrintStream object\n",
    "System.out.printf(\"The value of the float \" +\n",
    "                  \"variable is %f, while \" +\n",
    "                  \"the value of the \" + \n",
    "                  \"integer variable is %d, \" +\n",
    "                  \"and the string is %s\", \n",
    "                  floatVar, intVar, stringVar);\n",
    "\n",
    "System.out.printf(\"\\n\");\n",
    "\n",
    "// this uses the .format() static method that is reusable\n",
    "String fs;\n",
    "fs = String.format(\"The value of the float \" +\n",
    "                   \"variable is %f, while \" +\n",
    "                   \"the value of the \" + \n",
    "                   \"integer variable is %d, \" +\n",
    "                   \"and the string is %s\", \n",
    "                   floatVar, intVar, stringVar); \n",
    "System.out.printf(fs);"
   ]
  },
  {
   "cell_type": "markdown",
   "id": "0b76ca0e",
   "metadata": {},
   "source": [
    "## Converting Strings to Numbers"
   ]
  },
  {
   "cell_type": "markdown",
   "id": "55d05188",
   "metadata": {},
   "source": [
    "* each of the Number subclasses that wrap primitive numeric types (Byte, Integer, Double, Float, Long, and Short) each provide a class method named .valueOf()\n",
    "    - this converts a string to an object of that type\n",
    "* could also use the Number subclasses's parse[Subclass]() method to convert a String to a primitive number rather than an object\n",
    "    - ex: Float a = Float.parseFloat(\"3.57\");\n",
    "    "
   ]
  },
  {
   "cell_type": "code",
   "execution_count": 35,
   "id": "8fdcfbad",
   "metadata": {},
   "outputs": [
    {
     "name": "stdout",
     "output_type": "stream",
     "text": [
      "a + b = 7.67\n",
      "a - b = -0.53\n",
      "a * b = 14.636999\n",
      "a / b = 0.8707317\n",
      "a % b = 3.57\n"
     ]
    }
   ],
   "source": [
    "public class ValueOfDemo {\n",
    "    public static void main(String[] args) {\n",
    "\n",
    "        // this program requires two \n",
    "        // arguments on the command line \n",
    "        if (args.length == 2) {\n",
    "            // convert strings to numbers\n",
    "            float a = (Float.valueOf(args[0])).floatValue(); \n",
    "            float b = (Float.valueOf(args[1])).floatValue();\n",
    "            \n",
    "            /*\n",
    "             * could also use parseFloat to directly get a primitive number\n",
    "               float a = Float.parseFloat(args[0]);\n",
    "               float b = Float.parseFloat(args[1]);\n",
    "             */\n",
    "\n",
    "            // do some arithmetic\n",
    "            System.out.println(\"a + b = \" +\n",
    "                               (a + b));\n",
    "            System.out.println(\"a - b = \" +\n",
    "                               (a - b));\n",
    "            System.out.println(\"a * b = \" +\n",
    "                               (a * b));\n",
    "            System.out.println(\"a / b = \" +\n",
    "                               (a / b));\n",
    "            System.out.println(\"a % b = \" +\n",
    "                               (a % b));\n",
    "        } else {\n",
    "            System.out.println(\"This program \" +\n",
    "                \"requires two command-line arguments.\");\n",
    "        }\n",
    "    }\n",
    "}\n",
    "\n",
    "String[] args = {\"3.57\", \"4.10\"};\n",
    "ValueOfDemo.main(args);"
   ]
  },
  {
   "cell_type": "markdown",
   "id": "5aec6d95",
   "metadata": {},
   "source": [
    "## Converting Numbers to Strings"
   ]
  },
  {
   "cell_type": "code",
   "execution_count": 36,
   "id": "80743b6a",
   "metadata": {},
   "outputs": [
    {
     "name": "stdout",
     "output_type": "stream",
     "text": [
      "5\r\n"
     ]
    }
   ],
   "source": [
    "// concatenate a number with an empty string\n",
    "// and conversion is automatically handled\n",
    "int i = 5;\n",
    "String s1 = \"\" + i;\n",
    "System.out.println(s1);"
   ]
  },
  {
   "cell_type": "code",
   "execution_count": 1,
   "id": "2fe7e649",
   "metadata": {},
   "outputs": [
    {
     "name": "stdout",
     "output_type": "stream",
     "text": [
      "6\r\n"
     ]
    }
   ],
   "source": [
    "// valueOf class method\n",
    "int i = 6;\n",
    "String s2 = String.valueOf(i);\n",
    "System.out.println(s2);"
   ]
  },
  {
   "cell_type": "markdown",
   "id": "943724a0",
   "metadata": {},
   "source": [
    "* each of the Number subclasses includes a class method, toString(), that will convert its primitive type to a string"
   ]
  },
  {
   "cell_type": "code",
   "execution_count": 7,
   "id": "83846469",
   "metadata": {},
   "outputs": [
    {
     "name": "stdout",
     "output_type": "stream",
     "text": [
      "7\n",
      "3.57\n"
     ]
    }
   ],
   "source": [
    "int i = 7;\n",
    "double d = 3.57;\n",
    "String s3 = Integer.toString(i);\n",
    "String s4 = Double.toString(d);\n",
    "System.out.println(s3);\n",
    "System.out.println(s4);"
   ]
  },
  {
   "cell_type": "markdown",
   "id": "c28491d3",
   "metadata": {},
   "source": [
    "## Getting Characters and Substrings by Index"
   ]
  },
  {
   "cell_type": "markdown",
   "id": "1c1b885b",
   "metadata": {},
   "source": [
    "* .charAt(): gets a character at a particular index within a string\n",
    "* .substring(int beginIndex, int endIndex):\n",
    "    - returns substring of the string between [beginIndex, endIndex - 1]\n",
    "* .substring(int beginIndex):\n",
    "    - returns substring of the string between [beginIndex, .length() - 1]"
   ]
  },
  {
   "cell_type": "code",
   "execution_count": 11,
   "id": "79a34c77",
   "metadata": {},
   "outputs": [
    {
     "name": "stdout",
     "output_type": "stream",
     "text": [
      "a\n",
      "Samson\n",
      "Nguyen\n"
     ]
    }
   ],
   "source": [
    "String name = \"Samson Nguyen\";\n",
    "\n",
    "char s1 = name.charAt(1);\n",
    "System.out.println(s1);\n",
    "\n",
    "String s2 = name.substring(0, 6);\n",
    "System.out.println(s2);\n",
    "\n",
    "String s3 = name.substring(7);\n",
    "System.out.println(s3);"
   ]
  },
  {
   "cell_type": "markdown",
   "id": "2483ba5b",
   "metadata": {},
   "source": [
    "## Other Methods for Manipulating Strings"
   ]
  },
  {
   "cell_type": "markdown",
   "id": "635b771f",
   "metadata": {},
   "source": [
    "* String[] split(String regex):\n",
    "    - searches for a match specified by the string argument and splits it into an array of strings\n",
    "* String[] split(String regex, int limit):\n",
    "    - searches for a match specified by the string argument and splits it into an array of strings\n",
    "    - but also specifies the maximum size of the returned array via the integer, limit\n",
    "* CharSequence subSequence(int beginIndex, int endIndex):\n",
    "    - returns a new character sequence from [beginIndex, endIndex - 1]\n",
    "    - a String class implements the CharSequence interface\n",
    "* String trim():\n",
    "    - returns a copy of this string with leading and trailing white space removed\n",
    "* String toLowerCase():\n",
    "    - returns a copy of the string converted to lowercase\n",
    "    - or returns original if there are no conversions needed\n",
    "* String toUpperCase():\n",
    "    - returns a copy of the string converted to uppercase\n",
    "    - or returns original if there are no conversions needed"
   ]
  },
  {
   "cell_type": "markdown",
   "id": "3389c6d1",
   "metadata": {},
   "source": [
    "## Searching for Characters and Substrings in a String"
   ]
  },
  {
   "cell_type": "markdown",
   "id": "287dc3d5",
   "metadata": {},
   "source": [
    "* int .indexOf(int ch):\n",
    "    - returns index of the first occurrence of the specific character\n",
    "* int .lastIndexOf(int ch):\n",
    "    - returns index of the last occurrence of the specified character\n",
    "* int .indexOf(int ch, int fromIndex):\n",
    "    - returns index of the first occurrence of the specified character, searching forward from the specified index\n",
    "* int .lastIndexOf(int ch, int fromIndex):\n",
    "    - returns indexo f the last occurrence of the specified character, searching backward from the specified index\n",
    "* int .indexOf(String str):\n",
    "    - returns index of the first occurrence of the specified substring\n",
    "* int .lastIndexOf(String str):\n",
    "    - returns index of the last occurrence of the specified substring\n",
    "* int .indexOf(String str, int fromIndex):\n",
    "    - returns the index of the first occurrence of the specified substring, searching forward from the specified index\n",
    "* int .lastIndexOf(String str, int fromIndex):\n",
    "    - returns the index of the last occurrence of the specified substring, searching backward from the specified index\n",
    "* boolean contains(CharSequence s):\n",
    "    - returns true if the string contains the specified character sequence\n",
    "    - CharSequence is an interface that is implemented by the String class\n",
    "    - therefore, you can use a string as an argument for the contains() method"
   ]
  },
  {
   "cell_type": "markdown",
   "id": "7c41b841",
   "metadata": {},
   "source": [
    "## Replacing Characters and Substrings into a String"
   ]
  },
  {
   "cell_type": "markdown",
   "id": "58557dd8",
   "metadata": {},
   "source": [
    "* String replace(char oldChar, char newChar):\n",
    "    - returns a new string resulting from replacing all occurrences of oldChar in this string with newChar\n",
    "* String replace(CharSequence target, CharSequence replacement):\n",
    "    - replaces each substring of this string that matches the literal target sequence with the specified literal replacement sequence\n",
    "* String replaceAll(String regex, String replacement):\n",
    "    - replaces each substring of this string that matches the given regular expression with the given replacement\n",
    "* String replaceFirst(String regex, String replacement):\n",
    "    - replaces the first substring of this string that matches the given regular expression with the given replacement"
   ]
  },
  {
   "cell_type": "markdown",
   "id": "114174d1",
   "metadata": {},
   "source": [
    "## The String Class in Action"
   ]
  },
  {
   "cell_type": "markdown",
   "id": "bae166ac",
   "metadata": {},
   "source": [
    "* the following class, FileName, illustrates the use of lastIndexOf() and substring() to isolate different parts of a file name"
   ]
  },
  {
   "cell_type": "code",
   "execution_count": 14,
   "id": "d9de92c0",
   "metadata": {},
   "outputs": [
    {
     "name": "stdout",
     "output_type": "stream",
     "text": [
      "Extension = html\n",
      "Filename = index\n",
      "Path = /home/user\n"
     ]
    }
   ],
   "source": [
    "public class Filename {\n",
    "    private String fullPath;\n",
    "    private char pathSeparator,\n",
    "                 extensionSeparator;\n",
    "    \n",
    "    // constructor\n",
    "    public Filename(String str, char sep, char ext) {\n",
    "        fullPath = str;\n",
    "        pathSeparator = sep;\n",
    "        extensionSeparator = ext;\n",
    "    }\n",
    "    \n",
    "    public String extension() {\n",
    "        int dot = fullPath.lastIndexOf(extensionSeparator);\n",
    "        return fullPath.substring(dot + 1);\n",
    "    }\n",
    "    \n",
    "    // gets filename without extension\n",
    "    public String filename() {\n",
    "        int dot = fullPath.lastIndexOf(extensionSeparator);\n",
    "        int sep = fullPath.lastIndexOf(pathSeparator);\n",
    "        return fullPath.substring(sep + 1, dot);\n",
    "    }\n",
    "    \n",
    "    public String path() {\n",
    "        int sep = fullPath.lastIndexOf(pathSeparator);\n",
    "        return fullPath.substring(0, sep);\n",
    "    }\n",
    "}\n",
    "\n",
    "public class FilenameDemo {\n",
    "    public static void main(String[] args) {\n",
    "        final String FPATH = \"/home/user/index.html\";\n",
    "        Filename myHomePage = new Filename(FPATH, '/', '.');\n",
    "        System.out.println(\"Extension = \" + myHomePage.extension());\n",
    "        System.out.println(\"Filename = \" + myHomePage.filename());\n",
    "        System.out.println(\"Path = \" + myHomePage.path());\n",
    "    }\n",
    "}\n",
    "\n",
    "String[] args = {\"\"};\n",
    "FilenameDemo.main(args);"
   ]
  },
  {
   "cell_type": "markdown",
   "id": "67e55e53",
   "metadata": {},
   "source": [
    "## Comparing Strings and Portions of Strings"
   ]
  },
  {
   "cell_type": "markdown",
   "id": "1529585f",
   "metadata": {},
   "source": [
    "* boolean endsWith(String suffix) and boolean startsWith(String prefix):\n",
    "    - returns true if this string ends with or begins with the substring specified as the argument\n",
    "* boolean startsWith(String prefix, int offset):\n",
    "    - considers the string beginning at the index offset and returns true if it begins with the substring specified as an argument\n",
    "* int compareTo(String anotherString):\n",
    "    - compares 2 strings lexicographically (dictionary order)\n",
    "    - returns an integer indicating whether this string is greater than (result > 0), equal to (result = 0), or less than (result < 0) the argument\n",
    "* int compareToIgnoreCase(String str):\n",
    "    - compares 2 strings lexicographically, ignoring differences in case\n",
    "    - returns an integer indicating whether this string is greater than (result > 0), equal to (result = 0), or less than (result < 0) the argument\n",
    "* boolean equals(Object anObject):\n",
    "    - returns true if and only if the argument is a String object that represents the same sequence of characters as this object\n",
    "* boolean equalsIgnoreCase(String anotherString):\n",
    "    - returns true if and only if the argument is a String object that represents the same sequence of characters as this object, ignoring differences in case\n",
    "* boolean regionMatches(int toffset, String other, int ooffset, int len):\n",
    "    - tests whether the specified region of this string matches the specified region of the String argument\n",
    "    - region is of length len and begins at the index toffset for this string and ooffset for the other string\n",
    "* boolean regionMatches(boolean ignoreCase, int toffset, String other, int ooffset, int len):\n",
    "    - tests whether the specified region of this string matches the specified region of the String argument\n",
    "    - region is of length len and begins at the index toffset for this string and ooffset for the other string\n",
    "    - the boolean argument indicates whether the case should be ignored\n",
    "        * if true, case is ignored when comparing characters\n",
    "* boolean matches(String regex):\n",
    "    - tests whether this string matches the specified regular expression"
   ]
  },
  {
   "cell_type": "code",
   "execution_count": 17,
   "id": "a55adb78",
   "metadata": {},
   "outputs": [
    {
     "name": "stdout",
     "output_type": "stream",
     "text": [
      "true\r\n"
     ]
    }
   ],
   "source": [
    "String html = \"html\";\n",
    "System.out.println(html.startsWith(\"tm\", 1));"
   ]
  },
  {
   "cell_type": "code",
   "execution_count": 26,
   "id": "0e8f541b",
   "metadata": {},
   "outputs": [
    {
     "name": "stdout",
     "output_type": "stream",
     "text": [
      "Eggs\r\n"
     ]
    }
   ],
   "source": [
    "public class RegionMatchesDemo {\n",
    "    public static void main(String[] args) {\n",
    "        String searchMe = \"Green Eggs and Ham\";\n",
    "        String findMe = \"Eggs\";\n",
    "        int searchMeLength = searchMe.length();\n",
    "        int findMeLength = findMe.length();\n",
    "        boolean foundIt = false;\n",
    "        \n",
    "        // loops until the white space between \"and Ham\";\n",
    "        // provided we don't find Eggs in that string\n",
    "        for (int i = 0; i <= (searchMeLength - findMeLength); i++) {\n",
    "            \n",
    "            // starting at index i\n",
    "            // we try to find the string, findMe, starting at index 0 of findMe (so the entire string)\n",
    "            \n",
    "            // we could also have starting index of findMe be at index 1 so \"ggs\" BUT we need to update the len\n",
    "            // of the region to be findMeLength - offset, so findMeLength - 1 for it to work properly\n",
    "            \n",
    "            // and the length of the region is the length findMe\n",
    "            if (searchMe.regionMatches(i, findMe, 0, findMeLength)) {\n",
    "                foundIt = true;\n",
    "                System.out.println(searchMe.substring(i, i + findMeLength));\n",
    "                break;\n",
    "            }\n",
    "        }\n",
    "        if (!foundIt) {\n",
    "            System.out.println(\"No match found.\");\n",
    "        }\n",
    "    }\n",
    "}\n",
    "\n",
    "String[] args = {\"\"};\n",
    "RegionMatchesDemo.main(args);"
   ]
  },
  {
   "cell_type": "code",
   "execution_count": 38,
   "id": "e13cb986",
   "metadata": {},
   "outputs": [
    {
     "name": "stdout",
     "output_type": "stream",
     "text": [
      "ggs\r\n"
     ]
    }
   ],
   "source": [
    "public class RegionMatchesDemo {\n",
    "    // static variable that we can change to set the ooffset parameter for the regionMatches method\n",
    "    private static int ooffset = 1;\n",
    "    \n",
    "    public static void main(String[] args) {\n",
    "        String searchMe = \"Green Eggs and Ham\";\n",
    "        String findMe = \"Eggs\";\n",
    "        int searchMeLength = searchMe.length();\n",
    "        int findMeLength = findMe.length();\n",
    "        boolean foundIt = false;\n",
    "        \n",
    "        // loops until the white space between \"and Ham\";\n",
    "        // provided we don't find Eggs in that string\n",
    "        for (int i = 0; i <= (searchMeLength - findMeLength); i++) {\n",
    "            \n",
    "            // starting at index i\n",
    "            // we try to find the string, findMe, starting at index 0 of findMe (so the entire string)\n",
    "            \n",
    "            // we could also have starting index of findMe be at index 1 so \"ggs\" BUT we need to update the len\n",
    "            // of the region to be findMeLength - offset, so findMeLength - 1 for it to work properly\n",
    "            \n",
    "            // and the length of the region is the length findMe\n",
    "            if (searchMe.regionMatches(i, findMe, ooffset, findMeLength - ooffset)) {\n",
    "                foundIt = true;\n",
    "                System.out.println(searchMe.substring(i, i + findMeLength - ooffset));\n",
    "                break;\n",
    "            }\n",
    "        }\n",
    "        if (!foundIt) {\n",
    "            System.out.println(\"No match found.\");\n",
    "        }\n",
    "    }\n",
    "}\n",
    "\n",
    "String[] args = {\"\"};\n",
    "RegionMatchesDemo.main(args);"
   ]
  }
 ],
 "metadata": {
  "kernelspec": {
   "display_name": "Java",
   "language": "java",
   "name": "java"
  },
  "language_info": {
   "codemirror_mode": "java",
   "file_extension": ".jshell",
   "mimetype": "text/x-java-source",
   "name": "Java",
   "pygments_lexer": "java",
   "version": "21+35-2513"
  }
 },
 "nbformat": 4,
 "nbformat_minor": 5
}
