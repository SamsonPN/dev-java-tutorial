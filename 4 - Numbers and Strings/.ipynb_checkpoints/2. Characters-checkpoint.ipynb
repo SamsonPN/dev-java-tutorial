{
 "cells": [
  {
   "cell_type": "markdown",
   "id": "74903cfb",
   "metadata": {},
   "source": [
    "## Characters"
   ]
  },
  {
   "cell_type": "markdown",
   "id": "ce95c546",
   "metadata": {},
   "source": [
    "* most of the time, you'll be using the primitive char type"
   ]
  },
  {
   "cell_type": "code",
   "execution_count": 1,
   "id": "864ca45d",
   "metadata": {},
   "outputs": [],
   "source": [
    "char ch = 'a';\n",
    "\n",
    "// unicode for uppercase Greek omega character\n",
    "char uniChar = '\\u03A9';\n",
    "\n",
    "// an array of chars\n",
    "char[] charArray = { 'a', 'b', 'c', 'd', 'e'};"
   ]
  },
  {
   "cell_type": "markdown",
   "id": "308e4975",
   "metadata": {},
   "source": [
    "* there are times when you need to use char as an object\n",
    "    - Java provides a wrapper class that \"wraps\" the char in a Character object\n",
    "    - an object of type Character contains a single field, whose type is char\n",
    "    - also provides useful static methods\n",
    "* the Java compiler will also create a character object for you sometimes\n",
    "    - e.g. if you pass a primitive char into a method that expects an object, Java will convert the char to a Character object for you\n",
    "        * this is called autoboxing\n",
    "    - and if a method expects a primitive char type and not an object, then the Java compiler will unwrap the Character object for you\n",
    "        * this is called unboxing\n",
    "* the Character class is immutable so once it is created, a Character object cannot be changed\n",
    "* Useful methods:\n",
    "    - boolean isLetter() \n",
    "    - boolean isDigit()\n",
    "    - boolean isWhiteSpace()\n",
    "    - boolean isUpperCase\n",
    "    - boolean isLowerCase()\n",
    "    - char toUpperCase()\n",
    "    - char toLowerCase()\n",
    "    - char toString(): returns a one-character string object"
   ]
  },
  {
   "cell_type": "code",
   "execution_count": null,
   "id": "96ec124d",
   "metadata": {},
   "outputs": [],
   "source": [
    "// can create a Character object with the Character constructor:\n",
    "\n",
    "Character ch = new Character('a');"
   ]
  },
  {
   "cell_type": "markdown",
   "id": "666ebee1",
   "metadata": {},
   "source": [
    "## Characters and Code Points"
   ]
  },
  {
   "cell_type": "markdown",
   "id": "857f6f79",
   "metadata": {},
   "source": [
    "* char data type and the Character class are based on the original Unicode specification:\n",
    "    - characters are fixed-width 16-bit entities\n",
    "    - the Unicode Standard has allowed more characters that require more than 16-bits though\n",
    "        * range is now U+0000 to U+10FFFF, known as the Unicode scalar value\n",
    "* a char value is encoded with 16-bits and can represent numbers from 0x0000 to 0xFFFF\n",
    "    - this is referred to as the _Basic Multilingual Plane (BMP)_\n",
    "    - characters whose code points are greater than 0xFFFF (noted U+FFFF) are called _supplementary characters_\n",
    "* a char value, therefore, represents the Basic Multilingual Plane (BMP)\n",
    "    - an int value represnets all Unicode code points, including supplementary code points\n",
    "* the behavior of supplementary characters and surrogate char values is as follows:\n",
    "    - the methods that only accept a char value cannot support supplementary characters\n",
    "        * they treat char values from the surrogate ranges as undefined characters\n",
    "    - the methods that can accept an int value support all Unicode characters, including supplementary characters"
   ]
  },
  {
   "cell_type": "markdown",
   "id": "0c81770e",
   "metadata": {},
   "source": [
    "## Escape Sequence"
   ]
  },
  {
   "cell_type": "markdown",
   "id": "f97581bb",
   "metadata": {},
   "source": [
    "* a character precede by a backslash (\\) is an escape sequence and has special meaning to the compiler\n",
    "* common ones:\n",
    "    - \\n: insert newline in text at this point\n",
    "    - \\': insert single quote at this point\n",
    "    - \\\": insert double quote at this point\n",
    "    - \\\\: insert backslash at this point"
   ]
  },
  {
   "cell_type": "code",
   "execution_count": 2,
   "id": "862d3aba",
   "metadata": {},
   "outputs": [
    {
     "name": "stdout",
     "output_type": "stream",
     "text": [
      "She said \"Hello!\" to me.\r\n"
     ]
    }
   ],
   "source": [
    "System.out.println(\"She said \\\"Hello!\\\" to me.\");"
   ]
  }
 ],
 "metadata": {
  "kernelspec": {
   "display_name": "Java",
   "language": "java",
   "name": "java"
  },
  "language_info": {
   "codemirror_mode": "java",
   "file_extension": ".jshell",
   "mimetype": "text/x-java-source",
   "name": "Java",
   "pygments_lexer": "java",
   "version": "21+35-2513"
  }
 },
 "nbformat": 4,
 "nbformat_minor": 5
}
