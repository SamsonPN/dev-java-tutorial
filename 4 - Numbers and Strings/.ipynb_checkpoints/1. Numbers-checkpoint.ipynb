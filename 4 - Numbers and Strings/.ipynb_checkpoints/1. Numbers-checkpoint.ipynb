{
 "cells": [
  {
   "cell_type": "markdown",
   "id": "50e332f3",
   "metadata": {},
   "source": [
    "## Numbers"
   ]
  },
  {
   "cell_type": "markdown",
   "id": "fb9d7717",
   "metadata": {},
   "source": [
    "* when working with numbers, you use the primitive types in your code"
   ]
  },
  {
   "cell_type": "code",
   "execution_count": 1,
   "id": "3aa9c9d2",
   "metadata": {},
   "outputs": [],
   "source": [
    "int i = 500;\n",
    "float gpa = 3.65f;\n",
    "byte mask = 0x7f;"
   ]
  },
  {
   "cell_type": "markdown",
   "id": "cd0068e6",
   "metadata": {},
   "source": [
    "* however, there are reasons to use objects in place of primitives and Java provides wrapper classes for each of the primtive data types\n",
    "    - these classes \"wrap\" the primitive in an object and the wrapping is done by the compiler\n",
    "    - if you use a primitive where can object is expected, the compiler boxes the primitive in its wrapper classes\n",
    "        * and if a primitive is expected but you pass in a number object, the compiler unboxes the object for you\n",
    "* all of the numeric wrapper classes are subclasses of the abstract class Number:\n",
    "![Numeric wrapper classes](https://dev.java/assets/images/numbers-strings/01_numbers.png)"
   ]
  },
  {
   "cell_type": "markdown",
   "id": "45a51697",
   "metadata": {},
   "source": [
    "* there are 3 reasons why you might want to use a Number object rather than a primitive:\n",
    "    1. as an argument for a method that expects an object\n",
    "        - often used when manipulating collections of numbers\n",
    "    2. to use constants defined by the class, such as MIN_VALUE and MAX_VALUE, that provide the upper and lower bounds of the data type\n",
    "    3. to use class methods for:\n",
    "        - converting values to and from other primitive types\n",
    "        - converting to and from strings\n",
    "        - converting between number systems (decimal, octal, hexadecimal, binary)\n",
    " "
   ]
  },
  {
   "cell_type": "code",
   "execution_count": 18,
   "id": "06d7a066",
   "metadata": {},
   "outputs": [
    {
     "name": "stdout",
     "output_type": "stream",
     "text": [
      "3\n",
      "5\n",
      "7\n"
     ]
    }
   ],
   "source": [
    "// declaring i as Integer subclass\n",
    "Integer i = 3;\n",
    "System.out.println(i.toString());\n",
    "\n",
    "// using the static method\n",
    "int num = 5;\n",
    "System.out.println(Integer.toString(num));\n",
    "\n",
    "// converting int to Integer\n",
    "int num = 7;\n",
    "Integer convNum = new Integer(num);\n",
    "System.out.println(convNum.toString());"
   ]
  },
  {
   "cell_type": "markdown",
   "id": "210cafc5",
   "metadata": {},
   "source": [
    "## Formatting Numeric Print Output"
   ]
  },
  {
   "cell_type": "markdown",
   "id": "c94b3fec",
   "metadata": {},
   "source": [
    "### The Printf and Format Methods \n",
    "\n",
    "* java.io package includes a PrintStream class that has 2 formatting methods to replace print and println:\n",
    "    1. format\n",
    "    2. printf\n",
    "* the methods are equivalent to one another"
   ]
  },
  {
   "cell_type": "code",
   "execution_count": null,
   "id": "87f01069",
   "metadata": {},
   "outputs": [],
   "source": [
    "// System.out is a PrintStream object\n",
    "// thus you can use it to invoke other PrintStream methods\n",
    "\n",
    "System.out.format(...);\n",
    "\n",
    "public PrintStream format(String format, Object... args)"
   ]
  },
  {
   "cell_type": "code",
   "execution_count": 19,
   "id": "b286e4d8",
   "metadata": {},
   "outputs": [
    {
     "name": "stdout",
     "output_type": "stream",
     "text": [
      "The value of the float variable is 7.650000, while the value of the integer variable is 3, and the string is seven"
     ]
    },
    {
     "data": {
      "text/plain": [
       "java.io.PrintStream@4fce4cd8"
      ]
     },
     "execution_count": 19,
     "metadata": {},
     "output_type": "execute_result"
    }
   ],
   "source": [
    "float floatVar = 7.65f;\n",
    "int intVar = 3;\n",
    "String stringVar = \"seven\";\n",
    "\n",
    "System.out.format(\"The value of the float variable is %f, while the value of the integer variable is %d, and the string is %s\", floatVar, intVar, stringVar);"
   ]
  },
  {
   "cell_type": "code",
   "execution_count": 20,
   "id": "d1674200",
   "metadata": {},
   "outputs": [
    {
     "name": "stdout",
     "output_type": "stream",
     "text": [
      "461012\n",
      "00461012\n",
      " +461012\n",
      " 461,012\n",
      "+461,012\n",
      "\n",
      "3.141593\n",
      "3.142\n",
      "     3.142\n",
      "3.142     \n",
      "3,1416    \n",
      "\n",
      "November 4, 2023\n",
      "6:55 pm\n",
      "11/04/23\n"
     ]
    }
   ],
   "source": [
    "import java.util.Calendar;\n",
    "import java.util.Locale;\n",
    "\n",
    "public class TestFormat {\n",
    "    \n",
    "    public static void main(String[] args) {\n",
    "      long n = 461012;\n",
    "      System.out.format(\"%d%n\", n);      //  -->  \"461012\"\n",
    "      System.out.format(\"%08d%n\", n);    //  -->  \"00461012\"\n",
    "      System.out.format(\"%+8d%n\", n);    //  -->  \" +461012\"\n",
    "      System.out.format(\"%,8d%n\", n);    // -->  \" 461,012\"\n",
    "      System.out.format(\"%+,8d%n%n\", n); //  -->  \"+461,012\"\n",
    "      \n",
    "      double pi = Math.PI;\n",
    "\n",
    "      System.out.format(\"%f%n\", pi);       // -->  \"3.141593\"\n",
    "      System.out.format(\"%.3f%n\", pi);     // -->  \"3.142\"\n",
    "      System.out.format(\"%10.3f%n\", pi);   // -->  \"     3.142\"\n",
    "      System.out.format(\"%-10.3f%n\", pi);  // -->  \"3.142\"\n",
    "      System.out.format(Locale.FRANCE,\n",
    "                        \"%-10.4f%n%n\", pi); // -->  \"3,1416\"\n",
    "\n",
    "      Calendar c = Calendar.getInstance();\n",
    "      System.out.format(\"%tB %te, %tY%n\", c, c, c); // -->  \"May 29, 2006\"\n",
    "\n",
    "      System.out.format(\"%tl:%tM %tp%n\", c, c, c);  // -->  \"2:34 am\"\n",
    "\n",
    "      System.out.format(\"%tD%n\", c);    // -->  \"05/29/06\"\n",
    "    }\n",
    "}\n",
    "\n",
    "String[] args = {\"\"};\n",
    "TestFormat.main(args);"
   ]
  },
  {
   "cell_type": "markdown",
   "id": "d513e610",
   "metadata": {},
   "source": [
    "## The DecimalFormat Class"
   ]
  },
  {
   "cell_type": "markdown",
   "id": "844669aa",
   "metadata": {},
   "source": [
    "* the java.text.DecimalFormat class controls the:\n",
    "    - display of leading and trailing zeros\n",
    "    - prefixes and suffixes\n",
    "    - grouping (thousands) separators\n",
    "    - decimal separator\n",
    "* provides flexibility in formatting of numbers but can make code more complex\n",
    "* the example below:\n",
    "    - creates a DecimalFormat object, myFormatter, by passing a pattern string to the DecimalFormat constructor\n",
    "    - the format method, which DecimalFormat inherits from NumberFormat, is then invoked by myFormatter\n",
    "        * it accepts a double value as an argument and returns the formatted number in a string"
   ]
  },
  {
   "cell_type": "code",
   "execution_count": 23,
   "id": "86756aa0",
   "metadata": {},
   "outputs": [
    {
     "name": "stdout",
     "output_type": "stream",
     "text": [
      "123456.789  ###,###.###  123,456.789\n",
      "123456.789  ###.##  123456.79\n",
      "123.78  000000.000  000123.780\n",
      "12345.67  $###,###.###  $12,345.67\n"
     ]
    }
   ],
   "source": [
    "import java.text.*;\n",
    "\n",
    "public class DecimalFormatDemo {\n",
    "\n",
    "   static public void customFormat(String pattern, double value ) {\n",
    "   \n",
    "       // constructor call with String pattern\n",
    "      DecimalFormat myFormatter = new DecimalFormat(pattern);\n",
    "      \n",
    "      // calls format method on value (must be a double)\n",
    "      String output = myFormatter.format(value);\n",
    "      \n",
    "      System.out.println(value + \"  \" + pattern + \"  \" + output);\n",
    "   }\n",
    "\n",
    "   static public void main(String[] args) {\n",
    "\n",
    "      customFormat(\"###,###.###\", 123456.789);\n",
    "      customFormat(\"###.##\", 123456.789);\n",
    "      customFormat(\"000000.000\", 123.78);\n",
    "      customFormat(\"$###,###.###\", 12345.67);  \n",
    "   }\n",
    "}\n",
    "\n",
    "DecimalFormatDemo.main(args);"
   ]
  },
  {
   "cell_type": "markdown",
   "id": "e6dfadeb",
   "metadata": {},
   "source": [
    "## Beyond Basic Arithmetic"
   ]
  },
  {
   "cell_type": "markdown",
   "id": "8a1ed868",
   "metadata": {},
   "source": [
    "* the Math class in the java.lang package provides method and constants for doing more advanced mathematical computation\n",
    "* the methods in the Math class __are all static__"
   ]
  },
  {
   "cell_type": "code",
   "execution_count": null,
   "id": "92bc5b27",
   "metadata": {},
   "outputs": [],
   "source": [
    "// static methods for Math class\n",
    "\n",
    "Math.cos(angle);"
   ]
  },
  {
   "cell_type": "markdown",
   "id": "b0d8fb76",
   "metadata": {},
   "source": [
    "### Constants and Basic Methods\n",
    "\n",
    "* Constants:\n",
    "    - Math.E: base of natural logarithms\n",
    "    - Math.PI: ratio of the circumference of a circle to its diameter\n",
    "* Math.abs(): compute absolute value\n",
    "* Rounding values:\n",
    "    - double Math.ceil(): returns the closest integer that is >= argument\n",
    "    - double Math.floor(): returns the closest integer that is <= argument\n",
    "    - double Math.rint(): returns integer that is closest in value to the argument\n",
    "    - double Math.round: returns closest long or int\n",
    "* Math.min(): finds the min between 2 arguments\n",
    "* Math.max(): finds the max between 2 arguments\n"
   ]
  },
  {
   "cell_type": "code",
   "execution_count": 29,
   "id": "d05c85b8",
   "metadata": {},
   "outputs": [
    {
     "name": "stdout",
     "output_type": "stream",
     "text": [
      "The absolute value of -191.635 is 191.635\n",
      "The ceiling of 43.74 is 44\n",
      "The floor of 43.74 is 43\n",
      "The rint of 43.74 is 44\n",
      "The max of 16 and 45 is 45\n",
      "The min of of 16 and 45 is 16\n"
     ]
    }
   ],
   "source": [
    "public class BasicMathDemo {\n",
    "    public static void main(String[] args) {\n",
    "        double a = -191.635;\n",
    "        double b = 43.74;\n",
    "        int c = 16, d = 45;\n",
    "\n",
    "        System.out.printf(\"The absolute value \" + \"of %.3f is %.3f%n\", \n",
    "                          a, Math.abs(a));\n",
    "\n",
    "        System.out.printf(\"The ceiling of \" + \"%.2f is %.0f%n\", \n",
    "                          b, Math.ceil(b));\n",
    "\n",
    "        System.out.printf(\"The floor of \" + \"%.2f is %.0f%n\", \n",
    "                          b, Math.floor(b));\n",
    "\n",
    "        System.out.printf(\"The rint of %.2f \" + \"is %.0f%n\", \n",
    "                          b, Math.rint(b));\n",
    "\n",
    "        System.out.printf(\"The max of %d and \" + \"%d is %d%n\",\n",
    "                          c, d, Math.max(c, d));\n",
    "\n",
    "        System.out.printf(\"The min of of %d \" + \"and %d is %d%n\",\n",
    "                          c, d, Math.min(c, d));\n",
    "    }\n",
    "}\n",
    "\n",
    "BasicMathDemo.main(args);"
   ]
  },
  {
   "cell_type": "markdown",
   "id": "807fa313",
   "metadata": {},
   "source": [
    "### Exponential and Logarithmic Methods\n",
    "\n",
    "* double exp(): returns e$^{argument}$\n",
    "* double log(): returns natural log of the argument\n",
    "* double pow(base, exp): returns value of the first argument raised to the power of the second argument\n",
    "* double sqrt(): returns square root of the argument"
   ]
  },
  {
   "cell_type": "code",
   "execution_count": 31,
   "id": "7d209f10",
   "metadata": {},
   "outputs": [
    {
     "name": "stdout",
     "output_type": "stream",
     "text": [
      "The value of e is 2.7183\n",
      "exp(11.635) is 112983.831\n",
      "log(11.635) is 2.454\n",
      "pow(11.635, 2.760) is 874.008\n",
      "sqrt(11.635) is 3.411\n"
     ]
    }
   ],
   "source": [
    "public class ExponentialDemo {\n",
    "    public static void main(String[] args) {\n",
    "        double x = 11.635;\n",
    "        double y = 2.76;\n",
    "\n",
    "        System.out.printf(\"The value of \" + \"e is %.4f%n\",\n",
    "                          Math.E);\n",
    "\n",
    "        System.out.printf(\"exp(%.3f) \" + \"is %.3f%n\",\n",
    "                          x, Math.exp(x));\n",
    "\n",
    "        System.out.printf(\"log(%.3f) is \" + \"%.3f%n\",\n",
    "                          x, Math.log(x));\n",
    "\n",
    "        System.out.printf(\"pow(%.3f, %.3f) \" + \"is %.3f%n\",\n",
    "                          x, y, Math.pow(x, y));\n",
    "\n",
    "        System.out.printf(\"sqrt(%.3f) is \" + \"%.3f%n\",\n",
    "                          x, Math.sqrt(x));\n",
    "    }\n",
    "}\n",
    "\n",
    "ExponentialDemo.main(args);"
   ]
  },
  {
   "cell_type": "markdown",
   "id": "fde33ddd",
   "metadata": {},
   "source": [
    "### Trigonometric Methods"
   ]
  },
  {
   "cell_type": "code",
   "execution_count": 32,
   "id": "36ac0adc",
   "metadata": {},
   "outputs": [],
   "source": [
    "public class TrigonometricDemo {\n",
    "    public static void main(String[] args) {\n",
    "        double degrees = 45.0;\n",
    "        double radians = Math.toRadians(degrees);\n",
    "        \n",
    "        System.out.format(\"The value of pi \" + \"is %.4f%n\",\n",
    "                           Math.PI);\n",
    "\n",
    "        System.out.format(\"The sine of %.1f \" + \"degrees is %.4f%n\",\n",
    "                          degrees, Math.sin(radians));\n",
    "\n",
    "        System.out.format(\"The cosine of %.1f \" + \"degrees is %.4f%n\",\n",
    "                          degrees, Math.cos(radians));\n",
    "\n",
    "        System.out.format(\"The tangent of %.1f \" + \"degrees is %.4f%n\",\n",
    "                          degrees, Math.tan(radians));\n",
    "\n",
    "        System.out.format(\"The arcsine of %.4f \" + \"is %.4f degrees %n\", \n",
    "                          Math.sin(radians), \n",
    "                          Math.toDegrees(Math.asin(Math.sin(radians))));\n",
    "\n",
    "        System.out.format(\"The arccosine of %.4f \" + \"is %.4f degrees %n\", \n",
    "                          Math.cos(radians),  \n",
    "                          Math.toDegrees(Math.acos(Math.cos(radians))));\n",
    "\n",
    "        System.out.format(\"The arctangent of %.4f \" + \"is %.4f degrees %n\", \n",
    "                          Math.tan(radians), \n",
    "                          Math.toDegrees(Math.atan(Math.tan(radians))));\n",
    "    }\n",
    "}\n"
   ]
  },
  {
   "cell_type": "markdown",
   "id": "3ab9524c",
   "metadata": {},
   "source": [
    "## Random Numbers"
   ]
  },
  {
   "cell_type": "markdown",
   "id": "f0963bda",
   "metadata": {},
   "source": [
    "* double Math.random() returns a pseudo-randomly selected number __between 0.0 and 1.0__\n",
    "    - includes 0.0 but not 1.0, so __0.0 <= Math.random() < 1.0__"
   ]
  },
  {
   "cell_type": "code",
   "execution_count": 55,
   "id": "d1e0a166",
   "metadata": {},
   "outputs": [
    {
     "name": "stdout",
     "output_type": "stream",
     "text": [
      "8\r\n"
     ]
    }
   ],
   "source": [
    "// generates a number between 0 and 9\n",
    "// Math.random() returns a double so we needed to convert it to an integer\n",
    "\n",
    "int number = (int)(Math.random() * 10);\n",
    "System.out.println(number);"
   ]
  }
 ],
 "metadata": {
  "kernelspec": {
   "display_name": "Java",
   "language": "java",
   "name": "java"
  },
  "language_info": {
   "codemirror_mode": "java",
   "file_extension": ".jshell",
   "mimetype": "text/x-java-source",
   "name": "Java",
   "pygments_lexer": "java",
   "version": "21+35-2513"
  }
 },
 "nbformat": 4,
 "nbformat_minor": 5
}
