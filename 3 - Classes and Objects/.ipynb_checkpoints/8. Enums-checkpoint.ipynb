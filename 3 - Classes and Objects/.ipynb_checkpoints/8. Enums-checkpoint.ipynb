{
 "cells": [
  {
   "cell_type": "markdown",
   "id": "ce52eafb",
   "metadata": {},
   "source": [
    "## What are enums?"
   ]
  },
  {
   "cell_type": "markdown",
   "id": "08ba9a8a",
   "metadata": {},
   "source": [
    "* enums are classes where all instances are known to the compiler\n",
    "    - the JVM instantiates all instances of an enum's constants\n",
    "* they're used for creating types that can only have few possible values, i.e. __CONSTANTS__\n",
    "    - no instances of the enum can be created outside of enum constants\n",
    "* enums implicitly extend the java.lang.Enum class and cannot have any subclasses"
   ]
  },
  {
   "cell_type": "code",
   "execution_count": 1,
   "id": "3eec1ed7",
   "metadata": {},
   "outputs": [],
   "source": [
    "public enum DayOfWeek {\n",
    "    // enum constant are listed here:\n",
    "    MONDAY, TUESDAY, WEDNESDAY, THURSDAY, FRIDAY, SATURDAY, SUNDAY\n",
    "}"
   ]
  },
  {
   "cell_type": "markdown",
   "id": "8bf78459",
   "metadata": {},
   "source": [
    "## Accessing, evaluating, and comparing enums"
   ]
  },
  {
   "cell_type": "markdown",
   "id": "7ff639de",
   "metadata": {},
   "source": [
    "* values of an enum can be used as constants"
   ]
  },
  {
   "cell_type": "code",
   "execution_count": 2,
   "id": "4b145134",
   "metadata": {},
   "outputs": [
    {
     "name": "stdout",
     "output_type": "stream",
     "text": [
      "The week starts on Monday.\r\n"
     ]
    }
   ],
   "source": [
    "DayOfWeek weekStart = DayOfWeek.MONDAY;\n",
    "\n",
    "if (weekStart == DayOfWeek.MONDAY) {\n",
    "    System.out.println(\"The week starts on Monday.\");\n",
    "}"
   ]
  },
  {
   "cell_type": "markdown",
   "id": "b253125a",
   "metadata": {},
   "source": [
    "* also possible to use switch statements for performing actions depending on the value of the enum"
   ]
  },
  {
   "cell_type": "code",
   "execution_count": 3,
   "id": "48f04636",
   "metadata": {},
   "outputs": [
    {
     "name": "stdout",
     "output_type": "stream",
     "text": [
      "The weekend is near.\r\n"
     ]
    }
   ],
   "source": [
    "DayOfWeek someDay = DayOfWeek.FRIDAY;\n",
    "\n",
    "switch(someDay) {\n",
    "    case MONDAY ->\n",
    "        System.out.println(\"The week just started.\");\n",
    "    case TUESDAY, WEDNESDAY, THURSDAY ->\n",
    "        System.out.println(\"We are somewhere in the middle of the week.\");\n",
    "    case FRIDAY ->\n",
    "        System.out.println(\"The weekend is near.\");\n",
    "    case SATURDAY, SUNDAY ->\n",
    "        System.out.println(\"Weekend\");\n",
    "    default ->\n",
    "        throw new AssertionError(\"Should not happen\");\n",
    "}"
   ]
  },
  {
   "cell_type": "markdown",
   "id": "260d25bf",
   "metadata": {},
   "source": [
    "* with _switch expressions_, the compiler can check whether all values of the enum are handled\n",
    "    - if any value from the enum is missing in the expression, there will be a compiler error\n",
    "    - this is known as _Exhaustiveness_\n",
    "        * can also be achieved with regular classes through Sealed Classes"
   ]
  },
  {
   "cell_type": "code",
   "execution_count": 6,
   "id": "f5f45ee2",
   "metadata": {},
   "outputs": [
    {
     "name": "stdout",
     "output_type": "stream",
     "text": [
      "The weekend is near.\r\n"
     ]
    }
   ],
   "source": [
    "DayOfWeek someDay = DayOfWeek.FRIDAY;\n",
    "\n",
    "String text = switch (someDay) {\n",
    "    case MONDAY -> \"The week just started.\";\n",
    "    case TUESDAY, WEDNESDAY, THURSDAY -> \"We are somewhere in the middle of the week.\";\n",
    "    case FRIDAY -> \"The weekend is near.\";\n",
    "    case SATURDAY, SUNDAY -> \"Weekend\";\n",
    "};\n",
    "\n",
    "System.out.println(text);"
   ]
  },
  {
   "cell_type": "code",
   "execution_count": 8,
   "id": "ffaeaecb",
   "metadata": {},
   "outputs": [
    {
     "ename": "CompilationException",
     "evalue": "",
     "output_type": "error",
     "traceback": [
      "\u001b[1m\u001b[30m|   \u001b[1m\u001b[30mString text = \u001b[0m\u001b[1m\u001b[30m\u001b[41mswitch (someDay) {\u001b[0m",
      "\u001b[1m\u001b[30m|   \u001b[1m\u001b[30m\u001b[41m\u001b[0m",
      "\u001b[1m\u001b[30m|   \u001b[1m\u001b[30m\u001b[41m    // case MONDAY -> \"The week just started.\";\u001b[0m",
      "\u001b[1m\u001b[30m|   \u001b[1m\u001b[30m\u001b[41m    \u001b[0m",
      "\u001b[1m\u001b[30m|   \u001b[1m\u001b[30m\u001b[41m    case TUESDAY, WEDNESDAY, THURSDAY -> \"We are somewhere in the middle of the week.\";\u001b[0m",
      "\u001b[1m\u001b[30m|   \u001b[1m\u001b[30m\u001b[41m    case FRIDAY -> \"The weekend is near.\";\u001b[0m",
      "\u001b[1m\u001b[30m|   \u001b[1m\u001b[30m\u001b[41m    case SATURDAY, SUNDAY -> \"Weekend\";\u001b[0m",
      "\u001b[1m\u001b[30m|   \u001b[1m\u001b[30m\u001b[41m}\u001b[0m\u001b[1m\u001b[30m;\u001b[0m",
      "\u001b[1m\u001b[31mthe switch expression does not cover all possible input values\u001b[0m",
      ""
     ]
    }
   ],
   "source": [
    "// Exhaustiveness with switch expressions\n",
    "\n",
    "DayOfWeek someDay = DayOfWeek.FRIDAY;\n",
    "\n",
    "String text = switch (someDay) {\n",
    "\n",
    "    // case MONDAY -> \"The week just started.\";\n",
    "    \n",
    "    case TUESDAY, WEDNESDAY, THURSDAY -> \"We are somewhere in the middle of the week.\";\n",
    "    case FRIDAY -> \"The weekend is near.\";\n",
    "    case SATURDAY, SUNDAY -> \"Weekend\";\n",
    "};\n",
    "\n",
    "System.out.println(text);"
   ]
  },
  {
   "cell_type": "markdown",
   "id": "ff47fb64",
   "metadata": {},
   "source": [
    "## Adding members to enums"
   ]
  },
  {
   "cell_type": "markdown",
   "id": "df1a2bca",
   "metadata": {},
   "source": [
    "* just like classes, enums can have constructors, methods and fields\n",
    "* must add a semi-colon (;) after the enum constants list\n",
    "* arguments to the constructor are passed in parentheses after declaring the enum constant"
   ]
  },
  {
   "cell_type": "code",
   "execution_count": 11,
   "id": "1502b1c3",
   "metadata": {},
   "outputs": [
    {
     "data": {
      "text/plain": [
       "MON"
      ]
     },
     "execution_count": 11,
     "metadata": {},
     "output_type": "execute_result"
    }
   ],
   "source": [
    "public enum DayOfWeek {\n",
    "    // list of enum constants ending with a semi-colon;\n",
    "    // arguments passed to constructor using the parentheses\n",
    "    MONDAY(\"MON\"), TUESDAY(\"TUE\"), WEDNESDAY(\"WED\"), THURSDAY(\"THU\"), FRIDAY(\"FRI\"), SATURDAY(\"SAT\"), SUNDAY(\"SUN\");\n",
    "    \n",
    "    // field\n",
    "    private final String abbreviation;\n",
    "    \n",
    "    // constructor\n",
    "    DayOfWeek(String abbreviation) {\n",
    "        this.abbreviation = abbreviation;\n",
    "    }\n",
    "    \n",
    "    // method\n",
    "    public String getAbbreviation() {\n",
    "        return abbreviation;\n",
    "    }\n",
    "}\n",
    "\n",
    "DayOfWeek day = DayOfWeek.MONDAY;\n",
    "day.getAbbreviation();"
   ]
  },
  {
   "cell_type": "markdown",
   "id": "5833e362",
   "metadata": {},
   "source": [
    "## Special Methods"
   ]
  },
  {
   "cell_type": "markdown",
   "id": "718862f8",
   "metadata": {},
   "source": [
    "* enums have a few implicit methods\n",
    "    - name(): used to get the name of the enum constant\n",
    "    - ordinal(): returns position of the enum constant in the declaration"
   ]
  },
  {
   "cell_type": "code",
   "execution_count": 13,
   "id": "72c4336e",
   "metadata": {},
   "outputs": [
    {
     "name": "stdout",
     "output_type": "stream",
     "text": [
      "MONDAY\n",
      "0\n"
     ]
    }
   ],
   "source": [
    "System.out.println(DayOfWeek.MONDAY.name());\n",
    "\n",
    "// prints \"0\" b/c MONDAY is the first constant in the DayOfWeek enum\n",
    "System.out.println(DayOfWeek.MONDAY.ordinal());"
   ]
  },
  {
   "cell_type": "markdown",
   "id": "0034f7a9",
   "metadata": {},
   "source": [
    "* there are also __static methods__ added to all enums\n",
    "    - values(): returns an array containing all instances of the enum\n",
    "    - valueOf(String): can be used to get a specific instance by its name"
   ]
  },
  {
   "cell_type": "code",
   "execution_count": 20,
   "id": "63726cc0",
   "metadata": {},
   "outputs": [
    {
     "name": "stdout",
     "output_type": "stream",
     "text": [
      "MONDAY\n",
      "TUESDAY\n",
      "WEDNESDAY\n",
      "THURSDAY\n",
      "FRIDAY\n",
      "SATURDAY\n",
      "SUNDAY\n",
      "\n",
      "MONDAY\n"
     ]
    }
   ],
   "source": [
    "// returns an array of all enum constants\n",
    "DayOfWeek[] days = DayOfWeek.values();\n",
    "\n",
    "for (DayOfWeek d: days) {\n",
    "    System.out.println(d);\n",
    "}\n",
    "\n",
    "// used to get a specific instance by its name\n",
    "DayOfWeek monday = DayOfWeek.valueOf(\"MONDAY\");\n",
    "System.out.println(\"\\n\" + monday);"
   ]
  },
  {
   "cell_type": "markdown",
   "id": "0b6eeb15",
   "metadata": {},
   "source": [
    "* enums implement the interface Comparable\n",
    "* by default, enums are ordered according to their ordinal number\n",
    "    - i.e. the order that the enum constants were declared in\n",
    "    - this allows for comparing instances of enums as well as sorting/searching"
   ]
  },
  {
   "cell_type": "code",
   "execution_count": 24,
   "id": "d2087431",
   "metadata": {},
   "outputs": [
    {
     "name": "stdout",
     "output_type": "stream",
     "text": [
      "It's before the middle of the work week.\n",
      "It's after the middle of the  work week.\n",
      "It's the middle of the work week.\n"
     ]
    }
   ],
   "source": [
    "public void compareDayOfWeek(DayOfWeek dayOfWeek) {\n",
    "    int comparison = dayOfWeek.compareTo(DayOfWeek.WEDNESDAY);\n",
    "    \n",
    "    // comparing by ordinals\n",
    "    if (comparison < 0) {\n",
    "        System.out.println(\"It's before the middle of the work week.\");\n",
    "    }\n",
    "    else if (comparison > 0) {\n",
    "        System.out.println(\"It's after the middle of the  work week.\");\n",
    "    }\n",
    "    else {\n",
    "        System.out.println(\"It's the middle of the work week.\");\n",
    "    }\n",
    "}\n",
    "\n",
    "\n",
    "compareDayOfWeek(DayOfWeek.MONDAY);\n",
    "compareDayOfWeek(DayOfWeek.FRIDAY);\n",
    "compareDayOfWeek(DayOfWeek.WEDNESDAY);"
   ]
  },
  {
   "cell_type": "code",
   "execution_count": 27,
   "id": "4fe27734",
   "metadata": {},
   "outputs": [
    {
     "name": "stdout",
     "output_type": "stream",
     "text": [
      "[TUESDAY, FRIDAY, SATURDAY]\r\n"
     ]
    }
   ],
   "source": [
    "List<DayOfWeek> days = new ArrayList<>(List.of(DayOfWeek.FRIDAY, DayOfWeek.TUESDAY, DayOfWeek.SATURDAY));\n",
    "Collections.sort(days);\n",
    "System.out.println(days);"
   ]
  },
  {
   "cell_type": "markdown",
   "id": "579d62d1",
   "metadata": {},
   "source": [
    "## Using enums as singletons"
   ]
  },
  {
   "cell_type": "markdown",
   "id": "a9237819",
   "metadata": {},
   "source": [
    "* since enums can only have a specific number of instances, it is possible to create a singleton by creating an enum with only a single enum constant"
   ]
  },
  {
   "cell_type": "code",
   "execution_count": null,
   "id": "0de43dab",
   "metadata": {},
   "outputs": [],
   "source": [
    "public enum SomeSingleton {\n",
    "    // has an implicit empty constructor\n",
    "    INSTANCE\n",
    "}"
   ]
  },
  {
   "cell_type": "code",
   "execution_count": 31,
   "id": "c3143215",
   "metadata": {},
   "outputs": [
    {
     "name": "stdout",
     "output_type": "stream",
     "text": [
      "Here\n",
      "INSTANCE\n"
     ]
    }
   ],
   "source": [
    "public enum SomeSingleton {\n",
    "    INSTANCE;\n",
    "    \n",
    "    // explicit constructor here\n",
    "    private SomeSingleton() {\n",
    "        System.out.println(\"Here\");\n",
    "    }\n",
    "}\n",
    "\n",
    "public class SomeClass {\n",
    "    public static void main(String... args) {\n",
    "        System.out.println(SomeSingleton.INSTANCE);\n",
    "    }\n",
    "}\n",
    "\n",
    "String[] args = {\"\"};\n",
    "SomeClass.main(args);"
   ]
  },
  {
   "cell_type": "markdown",
   "id": "d4581e0e",
   "metadata": {},
   "source": [
    "## Abstract methods in enums"
   ]
  },
  {
   "cell_type": "markdown",
   "id": "97bc742c",
   "metadata": {},
   "source": [
    "* enums cannot be extended but can still have abstract methods\n",
    "* abstract methods are blueprints that are required to be implemented\n",
    "    - how you implement them is up to you\n",
    "* in the case of enums, __each enum constant__ must have its own implementation of the abstract method"
   ]
  },
  {
   "cell_type": "code",
   "execution_count": 42,
   "id": "9b41dcd4",
   "metadata": {},
   "outputs": [
    {
     "name": "stdout",
     "output_type": "stream",
     "text": [
      "MEOW!\n",
      "WOOF!\n"
     ]
    }
   ],
   "source": [
    "public enum Animal {\n",
    "    // this is the enum constants list which ends with a semi-colon\n",
    "    // each constant has a class body with the implementation of the abstract method\n",
    "    CAT {\n",
    "        public String makeNoise() { return \"MEOW!\"; }\n",
    "    },\n",
    "    DOG {\n",
    "        public String makeNoise() { return \"WOOF!\"; }\n",
    "    };\n",
    "    \n",
    "    // abstract method\n",
    "    // MUST BE IMPLEMENTED FOR EACH ENUM CONSTANT\n",
    "    public abstract String makeNoise();\n",
    "}\n",
    "\n",
    "System.out.println(Animal.CAT.makeNoise());\n",
    "System.out.println(Animal.DOG.makeNoise());"
   ]
  },
  {
   "cell_type": "code",
   "execution_count": 40,
   "id": "4df39fde",
   "metadata": {},
   "outputs": [
    {
     "name": "stdout",
     "output_type": "stream",
     "text": [
      "Calling constructor for: CAT\n",
      "Calling constructor for: DOG\n",
      "MEOW!\n",
      "WOOF!\n"
     ]
    }
   ],
   "source": [
    "public enum Animal {\n",
    "    \n",
    "    // how it would look if you were to call an explicit constructor\n",
    "    \n",
    "    CAT(\"CAT\") {\n",
    "        public String makeNoise() { return \"MEOW!\"; }\n",
    "    },\n",
    "    DOG(\"DOG\") {\n",
    "        public String makeNoise() { return \"WOOF!\"; }\n",
    "    };\n",
    "    \n",
    "    public abstract String makeNoise();\n",
    "    \n",
    "    Animal(String name) {\n",
    "        System.out.println(\"Calling constructor for: \" + name);\n",
    "    }\n",
    "}\n",
    "\n",
    "System.out.println(Animal.CAT.makeNoise());\n",
    "System.out.println(Animal.DOG.makeNoise());"
   ]
  },
  {
   "cell_type": "code",
   "execution_count": 44,
   "id": "511d5b68",
   "metadata": {},
   "outputs": [
    {
     "name": "stdout",
     "output_type": "stream",
     "text": [
      "MEOW!\n",
      "WOOF!\n"
     ]
    }
   ],
   "source": [
    "// could also have the enum implement an interface instead of using abstract methods\n",
    "\n",
    "public interface Noise {\n",
    "    String makeNoise();\n",
    "}\n",
    "\n",
    "public enum Animal implements Noise {\n",
    "    CAT {\n",
    "        public String makeNoise() { return \"MEOW!\"; }\n",
    "    },\n",
    "    DOG {\n",
    "        public String makeNoise() { return \"WOOF!\"; }\n",
    "    };\n",
    "}\n",
    "\n",
    "System.out.println(Animal.CAT.makeNoise());\n",
    "System.out.println(Animal.DOG.makeNoise());"
   ]
  },
  {
   "cell_type": "markdown",
   "id": "4e913d41",
   "metadata": {},
   "source": [
    "## Precautions"
   ]
  },
  {
   "cell_type": "markdown",
   "id": "fb3d0529",
   "metadata": {},
   "source": [
    "* care should be taken when using enums where the number (or names) of instances is subject to change\n",
    "    - when enum constants are changed, other code using the old version might not work\n",
    "        * this could lead to compilation errors (when reference a removed enuma constant)\n",
    "        * runtime errors (if there is a default case even though the new enum constant should be handled separately)\n",
    "        * or other inconsistencies (e.g. if the value of the enum was saved to a file which is then read expecting that value to still exist)\n",
    "* when changing enum constants, one must review all code using the enum\n",
    "* might be worth considering using other options in case of many instances since listing a lot of instances at a single location in code can be inflexible\n",
    "    - e.g. using a configuration file for listing all instances and reading these configuration files in the program"
   ]
  },
  {
   "cell_type": "markdown",
   "id": "d3780734",
   "metadata": {},
   "source": [
    "## Conclusion"
   ]
  },
  {
   "cell_type": "markdown",
   "id": "013dd7ac",
   "metadata": {},
   "source": [
    "* enums are a simple and safe way of representing a fixed set of constants while keeping most of the flexibilities of classes\n",
    "* they're a special type of class that can work well with modern features like switch expressions"
   ]
  }
 ],
 "metadata": {
  "kernelspec": {
   "display_name": "Java",
   "language": "java",
   "name": "java"
  },
  "language_info": {
   "codemirror_mode": "java",
   "file_extension": ".jshell",
   "mimetype": "text/x-java-source",
   "name": "Java",
   "pygments_lexer": "java",
   "version": "21+35-2513"
  }
 },
 "nbformat": 4,
 "nbformat_minor": 5
}
