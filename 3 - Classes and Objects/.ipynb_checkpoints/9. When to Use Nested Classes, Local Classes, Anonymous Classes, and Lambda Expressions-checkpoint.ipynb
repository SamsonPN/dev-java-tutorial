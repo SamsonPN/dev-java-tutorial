{
 "cells": [
  {
   "cell_type": "markdown",
   "id": "196728b4",
   "metadata": {},
   "source": [
    "## Choosing Between Nested Classes, Local Classes, Anonymous Classes, and Lambda Expressions"
   ]
  },
  {
   "cell_type": "markdown",
   "id": "e4b88074",
   "metadata": {},
   "source": [
    "* nested classes enable you to logically group classes that are only used in one place\n",
    "    - increases the use of encapsulation\n",
    "    - creates more readable and maintainable code\n",
    "* local classes, anonymous classes, and lambda expressions also impart these advantages but are inteded to be used for more specific situations:\n",
    "    1. Local class:\n",
    "        - used if you need to create more than one instance of a class, access its constructor, or introduce a new, named type\n",
    "    2. Anonymous class:\n",
    "        - use if you need to declare fields or additional methods\n",
    "    3. Lambda expression:\n",
    "        - use if you are encapsulating a single unit of behavior that you want to pass to other code\n",
    "            * e.g. use a lambda expression if you want a certain action performed on each element of a collection, when a process is completed, or when a process encounters an error\n",
    "        - use if you need a simple instance of a functional interface and none of the preceding criteria apply\n",
    "            * e.g. don't need a constructor, a named type, fields, or additional methods\n",
    "    4. Nested class:\n",
    "        - use it if your requirements are similar to those of a local class\n",
    "        - you want to make the type more widely available\n",
    "        - don't need access to local variables or method parameters\n",
    "            * remember that a nested class is defined within another class's definition\n",
    "            * a local class is one that is defined within a _block_, like a method\n",
    "                - local classes have access to local variables in that method and its parameters\n",
    "    5. non-static nested class (inner class):\n",
    "        - use if you require access to an enclosing instance's non-public fields and methods\n",
    "        - use a static nested class if you don't require this access"
   ]
  }
 ],
 "metadata": {
  "kernelspec": {
   "display_name": "Java",
   "language": "java",
   "name": "java"
  },
  "language_info": {
   "codemirror_mode": "java",
   "file_extension": ".jshell",
   "mimetype": "text/x-java-source",
   "name": "Java",
   "pygments_lexer": "java",
   "version": "21+35-2513"
  }
 },
 "nbformat": 4,
 "nbformat_minor": 5
}
