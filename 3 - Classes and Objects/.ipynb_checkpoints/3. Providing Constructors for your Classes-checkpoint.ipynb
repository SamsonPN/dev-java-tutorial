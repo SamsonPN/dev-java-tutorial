{
 "cells": [
  {
   "cell_type": "markdown",
   "id": "82fbe96d",
   "metadata": {},
   "source": [
    "## Defining a Constructor"
   ]
  },
  {
   "cell_type": "markdown",
   "id": "0352e995",
   "metadata": {},
   "source": [
    "* constructors are invoked to create objects from the class blueprint\n",
    "* constructor declarations look like method declarations but they use the name of the class and have no return type\n",
    "* classes can also have more than 1 constructor and can also have a no-argument constructor\n",
    "    - you can have multiple constructors as long as the number of arguments is different (similar to overloading)\n",
    "    - depending on how many arguments are passed to the class upon invocation, the appropriate constructor would be called\n",
    "        * if you passed in no arguments, the constructor with no parameters would be called\n",
    "* you can also provide no constructors for the class\n",
    "    - the compilar will provide a no-argument default constructor for any class without one\n",
    "    - the default constructor will call the no-argument constructor of the superclass\n",
    "        * if the superclass doesn't have one, the compiler will complain\n",
    "        * but if there is no explicit superclass for your class, then an __implicit superclass of Object will be called which has a no-argument constructor__\n",
    "* you can use access modifiers in a constructor's declaration to control which other classes can call the constructor as well"
   ]
  },
  {
   "cell_type": "code",
   "execution_count": null,
   "id": "3a9b6c1a",
   "metadata": {},
   "outputs": [],
   "source": [
    "// Bicycle class has 1 constructor\n",
    "\n",
    "public Bicycle (int startCadence, int startSpeed, int startGear) {\n",
    "    gear = startGear;\n",
    "    cadence = startCadence;\n",
    "    speed = startSpeed;\n",
    "}"
   ]
  },
  {
   "cell_type": "code",
   "execution_count": null,
   "id": "e8473f3f",
   "metadata": {},
   "outputs": [],
   "source": [
    "// create a new Bicycle object using the Bicycle class by invoking the its constructor using the new operator\n",
    "// this creates space in memory for the object and initializes its fields\n",
    "\n",
    "Bicycle myBike = new Bicycle(30, 0, 8);"
   ]
  },
  {
   "cell_type": "code",
   "execution_count": null,
   "id": "40b175a6",
   "metadata": {},
   "outputs": [],
   "source": [
    "// classes can also have no-argument constructors\n",
    "\n",
    "public Bicycle() {\n",
    "    gear = 1;\n",
    "    cadence = 10;\n",
    "    speed = 0;\n",
    "}"
   ]
  },
  {
   "cell_type": "code",
   "execution_count": null,
   "id": "8d9854be",
   "metadata": {},
   "outputs": [],
   "source": [
    "// classes can have more than 1 constructor if they have different parameter lists\n",
    "\n",
    "class Bicycle {\n",
    "    \n",
    "    public Bicycle (int startCadence, int startSpeed, int startGear) {\n",
    "        gear = startGear;\n",
    "        cadence = startCadence;\n",
    "        speed = startSpeed;\n",
    "    }\n",
    "    \n",
    "    public Bicycle() {\n",
    "        gear = 1;\n",
    "        cadence = 10;\n",
    "        speed = 0;\n",
    "    }\n",
    "}"
   ]
  }
 ],
 "metadata": {
  "kernelspec": {
   "display_name": "Java",
   "language": "java",
   "name": "java"
  },
  "language_info": {
   "codemirror_mode": "java",
   "file_extension": ".jshell",
   "mimetype": "text/x-java-source",
   "name": "Java",
   "pygments_lexer": "java",
   "version": "21+35-2513"
  }
 },
 "nbformat": 4,
 "nbformat_minor": 5
}
