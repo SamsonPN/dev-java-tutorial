{
 "cells": [
  {
   "cell_type": "markdown",
   "id": "487a9222",
   "metadata": {},
   "source": [
    "## Declaring Classes"
   ]
  },
  {
   "cell_type": "markdown",
   "id": "67666a8d",
   "metadata": {},
   "source": [
    "* the class body contains all code that provides for the life cycle of the objects created from the class:\n",
    "    - constructors for initializing new objects\n",
    "    - declarations for the fields that provide the state of the class and its objects\n",
    "    - methods to implement the behavior of the class and its objects\n",
    "* in general, class declarations can include these components:\n",
    "    1. modifiers such as public, private, etc\n",
    "    2. class name, with the initial letter capitalized by convention\n",
    "    3. name of the class's parent (superclass) if any, preceded by the keyword extends\n",
    "        - a class can only extend (subclass) one parent\n",
    "    4. a comma-separated list of interfaces implemented by the class, if any, preceded by the keyword implements\n",
    "        - a class can implement more than one interface\n",
    "    5. the class body, surrounded by braces, {}"
   ]
  },
  {
   "cell_type": "code",
   "execution_count": null,
   "id": "00114dce",
   "metadata": {},
   "outputs": [],
   "source": [
    "class MyClass {\n",
    "    // field, constructor, and\n",
    "    // method declarations\n",
    "}\n",
    "\n",
    "class MyClass extends MySuperClass implements YourInterface {\n",
    "    // field, constructor, and\n",
    "    // method declarations\n",
    "}"
   ]
  },
  {
   "cell_type": "markdown",
   "id": "8c017c1e",
   "metadata": {},
   "source": [
    "## Declaring Member Variables"
   ]
  },
  {
   "cell_type": "markdown",
   "id": "efe3f540",
   "metadata": {},
   "source": [
    "* several kinds of variables:\n",
    "    - fields: member variables in a class\n",
    "    - local variables: variables in a method or block of code\n",
    "    - parameters: variables in method declarations\n",
    "* field declarations are composed of 3 components:\n",
    "    1. zero or more modifiers such as public or private\n",
    "    2. the field's type\n",
    "    3. the field's name"
   ]
  },
  {
   "cell_type": "code",
   "execution_count": null,
   "id": "6c24ed3f",
   "metadata": {},
   "outputs": [],
   "source": [
    "class Bicycle {\n",
    "    public int cadence;\n",
    "    public int gear;\n",
    "    public int speed;\n",
    "}"
   ]
  },
  {
   "cell_type": "markdown",
   "id": "04375420",
   "metadata": {},
   "source": [
    "## Controlling who has Access to a Member"
   ]
  },
  {
   "cell_type": "markdown",
   "id": "34ef9c1b",
   "metadata": {},
   "source": [
    "* the first (left-most) modifier of a variable lets you control access to member fields by other classes\n",
    "* __public modifier__: field is accessible from all classes\n",
    "* __private modifier__: field is accessible only within its own class\n",
    "* for encapsulation purposes, it is common to make fields private:\n",
    "    - this means that fields can only be accessed by the class\n",
    "    - but we can also allow other classes to indirectly access them by creating public methods that return the field values"
   ]
  },
  {
   "cell_type": "code",
   "execution_count": null,
   "id": "cc1b3e29",
   "metadata": {},
   "outputs": [],
   "source": [
    "public class Bicycle {\n",
    "    private int cadence;\n",
    "    private int gear;\n",
    "    private int speed;\n",
    "    \n",
    "    public int getCadence() {\n",
    "        return cadence;\n",
    "    }\n",
    "    \n",
    "    public void setCadence(int newValue) {\n",
    "        cadence = newValue;\n",
    "    }\n",
    "}"
   ]
  },
  {
   "cell_type": "markdown",
   "id": "34917cad",
   "metadata": {},
   "source": [
    "## Setting the Type of a Variable"
   ]
  },
  {
   "cell_type": "markdown",
   "id": "789f5449",
   "metadata": {},
   "source": [
    "* all variables must have a type\n",
    "* can use primitive types such as int, float, boolean, etc\n",
    "* or can use reference types like strings, arrays, or objects"
   ]
  },
  {
   "cell_type": "markdown",
   "id": "0527496b",
   "metadata": {},
   "source": [
    "## Naming a Variable"
   ]
  },
  {
   "cell_type": "markdown",
   "id": "8fcc2820",
   "metadata": {},
   "source": [
    "* all variables follow the same naming rules and conventions\n",
    "* in the case for method and class names\n",
    "    - first letter of a class name should be capitalized\n",
    "    - first (or only) word in a method name should be a verb"
   ]
  }
 ],
 "metadata": {
  "kernelspec": {
   "display_name": "Java",
   "language": "java",
   "name": "java"
  },
  "language_info": {
   "codemirror_mode": "java",
   "file_extension": ".jshell",
   "mimetype": "text/x-java-source",
   "name": "Java",
   "pygments_lexer": "java",
   "version": "21+35-2513"
  }
 },
 "nbformat": 4,
 "nbformat_minor": 5
}
