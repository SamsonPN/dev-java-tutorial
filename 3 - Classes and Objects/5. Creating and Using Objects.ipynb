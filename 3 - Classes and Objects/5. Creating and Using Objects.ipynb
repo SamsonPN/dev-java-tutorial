{
 "cells": [
  {
   "cell_type": "markdown",
   "id": "c23f7ace",
   "metadata": {},
   "source": [
    "## Understanding What Objects Are"
   ]
  },
  {
   "cell_type": "markdown",
   "id": "113e497d",
   "metadata": {},
   "source": [
    "* a typical Java program creates many objects that interact by invoking methods\n",
    "* through these interactions, a program can carry out various tasks\n",
    "* in the example below, CreateObjectDemo creates 3 objects"
   ]
  },
  {
   "cell_type": "code",
   "execution_count": 2,
   "id": "9bec5619",
   "metadata": {},
   "outputs": [
    {
     "name": "stdout",
     "output_type": "stream",
     "text": [
      "Width of rectOne: 100\n",
      "Height of rectOne: 200\n",
      "Area of rectOne: 20000\n",
      "X Position of rectTwo: 23\n",
      "Y Position of rectTwo: 94\n",
      "X Position of rectTwo: 40\n",
      "Y Position of rectTwo: 72\n"
     ]
    }
   ],
   "source": [
    "public class Point {\n",
    "    public int x = 0;\n",
    "    public int y = 0;\n",
    "    // a constructor!\n",
    "    public Point(int a, int b) {\n",
    "    x = a;\n",
    "    y = b;\n",
    "    }\n",
    "}\n",
    "\n",
    "public class Rectangle {\n",
    "    public int width = 0;\n",
    "    public int height = 0;\n",
    "    public Point origin;\n",
    " \n",
    "    // four constructors\n",
    "    public Rectangle() {\n",
    "    origin = new Point(0, 0);\n",
    "    }\n",
    "    public Rectangle(Point p) {\n",
    "    origin = p;\n",
    "    }\n",
    "    public Rectangle(int w, int h) {\n",
    "    origin = new Point(0, 0);\n",
    "    width = w;\n",
    "    height = h;\n",
    "    }\n",
    "    public Rectangle(Point p, int w, int h) {\n",
    "    origin = p;\n",
    "    width = w;\n",
    "    height = h;\n",
    "    }\n",
    " \n",
    "    // a method for moving the rectangle\n",
    "    public void move(int x, int y) {\n",
    "    origin.x = x;\n",
    "    origin.y = y;\n",
    "    }\n",
    " \n",
    "    // a method for computing the area of the rectangle\n",
    "    public int getArea() {\n",
    "    return width * height;\n",
    "    }\n",
    "}\n",
    "\n",
    "public class CreateObjectDemo {\n",
    "\n",
    "    public static void main(String[] args) {\n",
    "        \n",
    "        // Declare and create a point object and two rectangle objects.\n",
    "        Point originOne = new Point(23, 94);\n",
    "        Rectangle rectOne = new Rectangle(originOne, 100, 200);\n",
    "        Rectangle rectTwo = new Rectangle(50, 100);\n",
    "        \n",
    "        // display rectOne's width, height, and area\n",
    "        System.out.println(\"Width of rectOne: \" + rectOne.width);\n",
    "        System.out.println(\"Height of rectOne: \" + rectOne.height);\n",
    "        System.out.println(\"Area of rectOne: \" + rectOne.getArea());\n",
    "        \n",
    "        // set rectTwo's position\n",
    "        rectTwo.origin = originOne;\n",
    "        \n",
    "        // display rectTwo's position\n",
    "        System.out.println(\"X Position of rectTwo: \" + rectTwo.origin.x);\n",
    "        System.out.println(\"Y Position of rectTwo: \" + rectTwo.origin.y);\n",
    "        \n",
    "        // move rectTwo and display its new position\n",
    "        rectTwo.move(40, 72);\n",
    "        System.out.println(\"X Position of rectTwo: \" + rectTwo.origin.x);\n",
    "        System.out.println(\"Y Position of rectTwo: \" + rectTwo.origin.y);\n",
    "    }\n",
    "}\n",
    "\n",
    "String[] args = { \"\" };\n",
    "CreateObjectDemo.main(args);"
   ]
  },
  {
   "cell_type": "markdown",
   "id": "fda153e8",
   "metadata": {},
   "source": [
    "## Creating Objects"
   ]
  },
  {
   "cell_type": "markdown",
   "id": "f853778f",
   "metadata": {},
   "source": [
    "* a class provides the blueprint for objects and you create an object from a class\n",
    "* for the example below, each of the statements below have 3 parts:\n",
    "    1. declaration: variable declarations associate a variable name with an object type\n",
    "    2. instantiation: the new keyword is a Java operator that creates the object\n",
    "    3. initialization: the new operator is followed by a call to a constructor, which initializes the new object"
   ]
  },
  {
   "cell_type": "code",
   "execution_count": 3,
   "id": "184fa13a",
   "metadata": {},
   "outputs": [],
   "source": [
    "Point originOne = new Point(23, 94);\n",
    "Rectangle rectOne = new Rectangle(originOne, 100, 200);\n",
    "Rectangle rectTwo = new Rectangle(50, 100);"
   ]
  },
  {
   "cell_type": "markdown",
   "id": "7839a251",
   "metadata": {},
   "source": [
    "### Declaring a Variable to Refer to an Object\n",
    "\n",
    "* able to a declare a reference variable on its own line\n",
    "* the variable will be undetermined until an object is created and assigned to it"
   ]
  },
  {
   "cell_type": "code",
   "execution_count": null,
   "id": "cb3fe993",
   "metadata": {},
   "outputs": [],
   "source": [
    "Point originOne;"
   ]
  },
  {
   "cell_type": "markdown",
   "id": "501d4907",
   "metadata": {},
   "source": [
    "### Instantiating a Class\n",
    "\n",
    "*  the new operator instantiates a class by allocating memory for a new object and returning a reference to that memory\n",
    "    - the new operator also invokes the object constructor\n",
    "* the prhase \"instantiating a class\" means the same thing as \"creating an object\"\n",
    "    - when you create an object, you create an \"instance\" of a class, therefore \"instantiating\" a class"
   ]
  },
  {
   "cell_type": "code",
   "execution_count": 4,
   "id": "a484daea",
   "metadata": {},
   "outputs": [],
   "source": [
    "Point originOne = new Point(23, 94);"
   ]
  },
  {
   "cell_type": "code",
   "execution_count": null,
   "id": "8c046d89",
   "metadata": {},
   "outputs": [],
   "source": [
    "// reference returned by the new operator does not have to be assigned to a variable\n",
    "// can be used directly in an expression\n",
    "\n",
    "int height = new Rectangle().height;"
   ]
  },
  {
   "cell_type": "markdown",
   "id": "703576a1",
   "metadata": {},
   "source": [
    "### Initializing an Object"
   ]
  },
  {
   "cell_type": "code",
   "execution_count": null,
   "id": "6abb17ee",
   "metadata": {},
   "outputs": [],
   "source": [
    "// Rectangle class that contains 4 constructors\n",
    "\n",
    "public class Rectangle {\n",
    "    public int width = 0;\n",
    "    public int height = 0;\n",
    "    public Point origin;\n",
    "\n",
    "    // four constructors\n",
    "    public Rectangle() {\n",
    "        origin = new Point(0, 0);\n",
    "    }\n",
    "    \n",
    "    public Rectangle(Point p) {\n",
    "        origin = p;\n",
    "    }\n",
    "    \n",
    "    public Rectangle(int w, int h) {\n",
    "        origin = new Point(0, 0);\n",
    "        width = w;\n",
    "        height = h;\n",
    "    }\n",
    "    \n",
    "    public Rectangle(Point p, int w, int h) {\n",
    "        origin = p;\n",
    "        width = w;\n",
    "        height = h;\n",
    "    }\n",
    "\n",
    "    // a method for moving the rectangle\n",
    "    public void move(int x, int y) {\n",
    "        origin.x = x;\n",
    "        origin.y = y;\n",
    "    }\n",
    "\n",
    "    // a method for computing the area of the rectangle\n",
    "    public int getArea() {\n",
    "        return width * height;\n",
    "    }\n",
    "}\n",
    "\n",
    "// calls the constructor that requires a Point argument, and 2 integer arguments\n",
    "Point originOne = new Point(23, 94);\n",
    "Rectangle rectOne = new Rectangle(originOne, 100, 200);\n",
    "\n",
    "// calls constructor that requires only 2 integer arguments\n",
    "Rectangle rectTwo = new Rectangle(50, 100);\n",
    "\n",
    "// calls constructor that requires no arguments\n",
    "Rectangle rect = new Rectangle();"
   ]
  },
  {
   "cell_type": "markdown",
   "id": "1b697583",
   "metadata": {},
   "source": [
    "## Using Objects"
   ]
  },
  {
   "cell_type": "markdown",
   "id": "af017440",
   "metadata": {},
   "source": [
    "### Reference an Object's Fields\n",
    "\n",
    "* code that is outside the object's class must use an object reference or expression:\n",
    "    - objectReference.fieldName"
   ]
  },
  {
   "cell_type": "code",
   "execution_count": null,
   "id": "d63f6e6d",
   "metadata": {},
   "outputs": [],
   "source": [
    "// rect is an object reference\n",
    "Rectangle rect = new Rectangle(23, 50);\n",
    "\n",
    "int width = rect.width;\n",
    "int height = rect.height;\n",
    "\n",
    "// the new operator also returns a reference to an object so you can use that to access fields\n",
    "// but if you don't assign that reference to a variable, it will be garbage collected after it's used\n",
    "\n",
    "int width = new Rectangle().width;\n",
    "int height = new Rectangle().height;"
   ]
  },
  {
   "cell_type": "markdown",
   "id": "1b2e1fb0",
   "metadata": {},
   "source": [
    "### Calling an Object's Methods\n",
    "\n",
    "* can also use an object reference to invoke an object's method similar to an object's fields\n",
    "    - objectReference.methodName(argumentList)\n",
    "    - objectReference.methodName()"
   ]
  },
  {
   "cell_type": "code",
   "execution_count": null,
   "id": "77a7280a",
   "metadata": {},
   "outputs": [],
   "source": [
    "// using an object reference\n",
    "Rectangle rect = new Rectangle(23, 50);\n",
    "int rectangleArea = rect.getArea();\n",
    "\n",
    "// using an expression that returns a reference to an object\n",
    "int rectangleArea = new Rectangle(23, 50).getArea();"
   ]
  },
  {
   "cell_type": "markdown",
   "id": "11c86c44",
   "metadata": {},
   "source": [
    "## The Garbage Collector"
   ]
  },
  {
   "cell_type": "markdown",
   "id": "69f87f37",
   "metadata": {},
   "source": [
    "* Java runtime environment (JRE) deletes objects when it determines that they are no longer being used\n",
    "    - this process is called garbage collection\n",
    "* object eligible for garbage collection when there are no more references to that object\n",
    "    - references that are held in a variable are usually dropped when the variable goes out of scope\n",
    "    - an object reference can be dropped by setting the variable to a special value null\n",
    "* the JRE's garbage collector does its job automatically when it determines that the time is right"
   ]
  }
 ],
 "metadata": {
  "kernelspec": {
   "display_name": "Java",
   "language": "java",
   "name": "java"
  },
  "language_info": {
   "codemirror_mode": "java",
   "file_extension": ".jshell",
   "mimetype": "text/x-java-source",
   "name": "Java",
   "pygments_lexer": "java",
   "version": "21+35-2513"
  }
 },
 "nbformat": 4,
 "nbformat_minor": 5
}
