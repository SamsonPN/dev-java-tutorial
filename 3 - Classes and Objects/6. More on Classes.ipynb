{
 "cells": [
  {
   "cell_type": "markdown",
   "id": "45c92083",
   "metadata": {},
   "source": [
    "## Returning a Value from a Method"
   ]
  },
  {
   "cell_type": "markdown",
   "id": "c975d529",
   "metadata": {},
   "source": [
    "* a method returns to the code that invoked it when it:\n",
    "    - completes all the statements in the method\n",
    "    - reaches a return statement\n",
    "    - or throws an exception\n",
    "    - whichever occurs first\n",
    "* declare a method's return type in its method declaration\n",
    "    - any method declared void does not return a value but can have a return statement that is empty\n",
    "        * there will be a compiler error if a void method returns something\n",
    "    - methods must return values with the same type as the one it was declared with\n",
    "        * an int method must return an int value\n",
    "        * methods can return primitive or data types"
   ]
  },
  {
   "cell_type": "markdown",
   "id": "6e2aef2a",
   "metadata": {},
   "source": [
    "## Returning a Class or Interface"
   ]
  },
  {
   "cell_type": "markdown",
   "id": "eba834a0",
   "metadata": {},
   "source": [
    "* when a method uses a class name as its return type, the class of the type of the returned object must be either a:\n",
    "    - subclass of\n",
    "    - or the exact class of the return type\n",
    "* e.g. you have a class hierarchy like so:\n",
    "    - Object --> Number --> ImaginaryNumber\n",
    "    - Object is the superclass of Number that is a superclass of ImaginaryNumber\n",
    "* if you have a method that returns a Number, like in the example below, the method can also return an ImaginaryNumber but not an Object\n",
    "    - an instance of ImaginaryNumber is also an instance of Number b/c ImaginaryNumber is a subclass of Number\n",
    "    - but Object is not necessarily a Number - it could be something else\n",
    "* this technique is called __covariant return type__\n",
    "    - this means that the return type is allowed to vary in the same direction as the subclass\n",
    "* you can also use interface names as return types\n",
    "    - the object returned must implement the specified interface"
   ]
  },
  {
   "cell_type": "code",
   "execution_count": null,
   "id": "d337655c",
   "metadata": {},
   "outputs": [],
   "source": [
    "// this method can return a Number and an ImaginaryNumber (also an instance of Number)\n",
    "\n",
    "public Number returnANumber() {\n",
    "    // ...\n",
    "}\n",
    "\n",
    "// this method can only return an ImaginaryNumber b/c a Number is not necessarily an ImaginaryNumber\n",
    "\n",
    "public ImaginaryNumber returnANumber() {\n",
    "    // ...\n",
    "}"
   ]
  },
  {
   "cell_type": "markdown",
   "id": "1b605c6e",
   "metadata": {},
   "source": [
    "## Using the _this_ Keyword"
   ]
  },
  {
   "cell_type": "markdown",
   "id": "2c1e7821",
   "metadata": {},
   "source": [
    "* __this__: a reference to the current object whose method or constructor is being called"
   ]
  },
  {
   "cell_type": "markdown",
   "id": "4db2d2f8",
   "metadata": {},
   "source": [
    "### Using _this_ with a Field\n",
    "\n",
    "* if a field is shadowed by a method or constructor parameter, you can use the this keyword to access the class field of the same name\n",
    "    - when a field is shadowed, it means that a method or constructor parameter has the same name as a class field"
   ]
  },
  {
   "cell_type": "code",
   "execution_count": null,
   "id": "22966747",
   "metadata": {},
   "outputs": [],
   "source": [
    "public class Point {\n",
    "    public int x = 0;\n",
    "    public int y = 0;\n",
    "    \n",
    "    // constructor\n",
    "    // the fields x and y have the same name as this constructor's parameters\n",
    "    // so the fields are shadowed\n",
    "    public Point(int x, int y) {\n",
    "        this.x = x;\n",
    "        this.y = y;\n",
    "    }\n",
    "}"
   ]
  },
  {
   "cell_type": "markdown",
   "id": "13d03377",
   "metadata": {},
   "source": [
    "### Using _this_ with a Constructor\n",
    "\n",
    "* __explicit constructor invocation__: from within a constructor, you can use the this keyword to call another constructor in the same class\n",
    "    - it's more like a function call\n",
    "    - the invocation of another constructor must be the first line in the constructor\n",
    "    - the compiler will determine which constructor to call based on the number and type of arguments"
   ]
  },
  {
   "cell_type": "code",
   "execution_count": null,
   "id": "b4ad88e0",
   "metadata": {},
   "outputs": [],
   "source": [
    "public class Rectangle {\n",
    "    private int x, y;\n",
    "    private int width, height;\n",
    "    \n",
    "    // no-argument constructor\n",
    "    // calls the 4-argument constructor with default values\n",
    "    public Rectangle() {\n",
    "        this(0, 0, 1, 1);\n",
    "    }\n",
    "    \n",
    "    // width/height only constructor\n",
    "    // calls the 4-argument constructor with default values for x and y\n",
    "    public Rectangle(int width, int height) {\n",
    "        this(0, 0, width, height);\n",
    "    }\n",
    "    \n",
    "    // 4-argument constructor that actually initializes the class-fields\n",
    "    public Rectangle(int x, int y, int width, int height) {\n",
    "        this.x = x;\n",
    "        this.y = y;\n",
    "        this.width = width;\n",
    "        this.height = height;\n",
    "    }\n",
    "}"
   ]
  },
  {
   "cell_type": "markdown",
   "id": "0b41b6dc",
   "metadata": {},
   "source": [
    "## Controlling Access to Members of a Class"
   ]
  },
  {
   "cell_type": "markdown",
   "id": "a7aa329b",
   "metadata": {},
   "source": [
    "* access level modifiers determine whether other classes can use a particular field or invoke a particular method. there are 2 levels of access control:\n",
    "    1. top level: __public__ or package-private (no explicit modifier)\n",
    "    2. member level: __public, private, protected,__ or package-private (no explicit modifier)\n",
    "* public: that class is visible to all classes everywhere\n",
    "    - has the same meaning at top or member level\n",
    "* package-private (no modifier): only visible within its own package\n",
    "    - has the same meaning at top or member level\n",
    "    - packages are named groups of related classes\n",
    "* private: members can only be accessed in its own class\n",
    "    - members are things like class fields, method, etc\n",
    "* protected: member can only be accessed within its own package (as with package-private) and, in addition, by a subclass of its class in another package"
   ]
  },
  {
   "cell_type": "markdown",
   "id": "3f8d97b3",
   "metadata": {},
   "source": [
    "| Modifier | Class | Package | Subclass | World |\n",
    "| :- | :- | :- | :- | :- |\n",
    "| public | Y | Y | Y | Y |\n",
    "| protected | Y | Y | Y | N |\n",
    "| no modifier | Y | Y | N | N |\n",
    "| private | Y | N | N | N |\n",
    "\n",
    "* class: indicates whether the class itself has access to the member defined by the access level\n",
    "    - classes always have access to their own members\n",
    "* package: indicates whether classes in the same package as the class (regardless of their parentage) have access to the member\n",
    "* sublcass: indicates whether subclasses of the class declared outside this package have access to the member\n",
    "* world: indicates whether all classes have access to the member"
   ]
  },
  {
   "cell_type": "markdown",
   "id": "f99d17e9",
   "metadata": {},
   "source": [
    "* access levels affect you in 2 ways:\n",
    "    1. when you use classes that come from another source, like classes in the Java platform, access levels determine which members of those classes your own classes can use\n",
    "    2. when you write a class, you need to decide what access level every member variable and every method in your class should have"
   ]
  },
  {
   "cell_type": "markdown",
   "id": "40979f8b",
   "metadata": {},
   "source": [
    "### Tips on Choosing an Access Level: \n",
    "\n",
    "* if other programmers use your class, you want to ensure that errors from misuse cannot happen and access levels can help with this\n",
    "* use the most restrictive access level that makes sense for a particular member\n",
    "    - use private unless you have a good reason not to\n",
    "* avoid public fields except for constants\n",
    "    - public fields tend to link you to a particular implementation and limit your flexibility in changing your code"
   ]
  },
  {
   "cell_type": "markdown",
   "id": "deb81756",
   "metadata": {},
   "source": [
    "## Understanding Class Members"
   ]
  },
  {
   "cell_type": "markdown",
   "id": "5a795112",
   "metadata": {},
   "source": [
    "### Class Variables\n",
    "\n",
    "* __class variables__: fields that have the __static modifier__ in their declaration and are associated with the class, rather than with any object\n",
    "* every instance of the class shares a class variable which is in one fixed location in memory\n",
    "    - any object can change the value of a class variable\n",
    "    - class variables can also be changed without creating an instance of the class\n",
    "* class variables are referenced by the class name itself"
   ]
  },
  {
   "cell_type": "code",
   "execution_count": null,
   "id": "43ab2506",
   "metadata": {},
   "outputs": [],
   "source": [
    "public class Bicycle {\n",
    "    private int cadence;\n",
    "    private int gear;\n",
    "    private int speed;\n",
    "    \n",
    "    // the bike's ID is based on # of bicycle objects instantiated\n",
    "    private int id;\n",
    "    \n",
    "    // add a class variable for the\n",
    "    // number of Bicycle objects instantiated\n",
    "    // this is a class variable b/c it is declared with the static modifier\n",
    "    private static int numberOfBicycles = 0;\n",
    "    \n",
    "    public Bicycle(int startCadence, int startSpeed, int startGear) {\n",
    "        cadence = startCadence;\n",
    "        speed = startSpeed;\n",
    "        gear = startGear;\n",
    "        \n",
    "        // increment # of Bicycles instantiated\n",
    "        // and assign ID number\n",
    "        id = ++numberOfBicycles;\n",
    "    }\n",
    "}\n",
    "\n",
    "// class variables are referenced by the class name itself\n",
    "Bicycle.numberOfBicycles"
   ]
  },
  {
   "cell_type": "markdown",
   "id": "799d0725",
   "metadata": {},
   "source": [
    "### Class Methods\n",
    "\n",
    "* __class methods__: methods that have the __static modifier__ in their declarations\n",
    "    - invoked using the class name without needing to create an instance of the class\n",
    "        * ClassName.methodName(args)\n",
    "* common use for static methods is to access static fields\n",
    "* not all combinations of instance and class variables and methods are allowed:\n",
    "    - instance methods can access instance variables and instance methods directly\n",
    "    - instance methods can access class variables and class methods directly\n",
    "    - class methods can access class variables and class methods directly\n",
    "    - class methods cannot access instance variables or instance methods directly\n",
    "        * must use an object reference\n",
    "        * __class methods cannot use the _this_ keyword as there is no instance for _this_ to refer to__\n",
    "        * makes sense since class methods/fields are static and don't necessarily require an objectReference to be invoked\n",
    "            - without an object, there is no access to instance methods/class methods"
   ]
  },
  {
   "cell_type": "code",
   "execution_count": null,
   "id": "df5f5e4c",
   "metadata": {},
   "outputs": [],
   "source": [
    "// static method in the Bicycle class to access the numberOfBicycles static field\n",
    "public static int getNumberOfBicycles() {\n",
    "    return numberOfBicycles;\n",
    "}"
   ]
  },
  {
   "cell_type": "markdown",
   "id": "a1516e52",
   "metadata": {},
   "source": [
    "### Constants\n",
    "\n",
    "* can define constants using the __static modifier__ in combination with the __final modifier__\n",
    "    - final modifier: indicates that the value cannot change\n",
    "* constants cannot be reassigned\n",
    "    - will result in a compile-time error if your program tries to\n",
    "* naming convention\n",
    "    - ALL CAPS\n",
    "    - WORLDS_SEPARATED_BY_UNDERSCORES\n",
    "* if a primitive type or a string is defined as a constant and the value is known at compile time, the compiler replaces the constant name everywhere in the code with its value\n",
    "    - this is called a compile-time constant\n",
    "    - if the value of the constant is changed (like if PI's value changes to be 3.1413 or something), then any classes that use that constant need to be recompiled to get the current value"
   ]
  },
  {
   "cell_type": "code",
   "execution_count": null,
   "id": "86ba5de0",
   "metadata": {},
   "outputs": [],
   "source": [
    "static final double PI = 3.1415;"
   ]
  },
  {
   "cell_type": "markdown",
   "id": "2f5035c9",
   "metadata": {},
   "source": [
    "## Initializing Fields"
   ]
  },
  {
   "cell_type": "markdown",
   "id": "221cfc93",
   "metadata": {},
   "source": [
    "* for instance variables, they can be initialized upon declaration or in constructors where error-handling or other logic can be used\n",
    "* for class variables, you can do the same using _static initialization blocks_"
   ]
  },
  {
   "cell_type": "markdown",
   "id": "813cd362",
   "metadata": {},
   "source": [
    "### Static Initialization Blocks\n",
    "\n",
    "* __static initialization block__: normal block of code enclosed in braces, {}, and preceded by the static keyword\n",
    "* a class can have any number of these blocks and they can appear anywhere in the class body\n",
    "    - these blocks are called in the order they appear in the source code"
   ]
  },
  {
   "cell_type": "code",
   "execution_count": null,
   "id": "199b58d8",
   "metadata": {},
   "outputs": [],
   "source": [
    "static {\n",
    "    // initialize static fields here\n",
    "}"
   ]
  },
  {
   "cell_type": "markdown",
   "id": "4ffdc737",
   "metadata": {},
   "source": [
    "* __private static method__: an alternative to static blocks used in initializing static fields\n",
    "    - can be reused later if you need to reinitialize the class variable\n",
    "* you cannot redefine content of a static block\n",
    "    - once it's written, you cannot prevent the block from beingexecuted\n",
    "    - if the static block can't be executed, you will not be able to instantiate any object for this class\n",
    "        * this might happen if the block has code that tries to access an external resource like a file system or a network"
   ]
  },
  {
   "cell_type": "code",
   "execution_count": null,
   "id": "77475675",
   "metadata": {},
   "outputs": [],
   "source": [
    "class Whatever {\n",
    "    public static varType myVar = initializeClassVariable();\n",
    "    \n",
    "    private static varType initializeClassVariable() {\n",
    "        // initialization code\n",
    "    }\n",
    "}"
   ]
  },
  {
   "cell_type": "markdown",
   "id": "8612258b",
   "metadata": {},
   "source": [
    "### Initializing Instance Members\n",
    "\n",
    "* 2 alternatives to using a constructor to initialize instance variables:\n",
    "    1. initializer blocks\n",
    "        - look like static initializer blocks but without the static keyword\n",
    "        - the compiler copies the initializer blocks into every constructor\n",
    "        - this approach can be used to share a block of code between multiple constructors\n",
    "    2. final methods\n",
    "        - cannot be overriden in a subclass\n",
    "        - useful if subclasses might want to reuse the initialization method\n",
    "        - the method is final because calling non-final methods during instance initialization can cause problems"
   ]
  },
  {
   "cell_type": "code",
   "execution_count": null,
   "id": "85387f93",
   "metadata": {},
   "outputs": [],
   "source": [
    "// initializer block\n",
    "\n",
    "{\n",
    "    // initialize instance members here\n",
    "}"
   ]
  },
  {
   "cell_type": "code",
   "execution_count": null,
   "id": "b50327ee",
   "metadata": {},
   "outputs": [],
   "source": [
    "// final method\n",
    "\n",
    "class Whatever {\n",
    "    private varType myVar = initializeInstanceVariable();\n",
    "    \n",
    "    protected final varType initializeInstanceVariable() {\n",
    "        // initialize instance members here\n",
    "    }\n",
    "}"
   ]
  },
  {
   "cell_type": "markdown",
   "id": "e513e7c7",
   "metadata": {},
   "source": [
    "## Summary of Creating and Using Classes and Objects"
   ]
  },
  {
   "cell_type": "markdown",
   "id": "b26aa3ef",
   "metadata": {},
   "source": [
    "* class:\n",
    "    - class declaration names the class and encloses the class body between braces\n",
    "    - class name can be preceded by modifiers\n",
    "    - class body contains fields, methods and constructors\n",
    "        * fields contain state information and methods implement behavior\n",
    "        * constructors initialize an instance of a class, share the same name as the class, and look like methods without a return type\n",
    "* access modifiers are used to control access to classes and members\n",
    "* class variables/methods are declared by using the static keyword\n",
    "    - these members are shared by all instances of the class\n",
    "    - they are accessed through the class name or an instance reference (not recommended since you cannot make a dinstinction between a class variable/method and an instance variable/method)\n",
    "* instance variables/methods are declared without using the static keyword\n",
    "    - each instance of the class get their own copies of the instance variables/methods\n",
    "    - must be accessed through an instance reference\n",
    "* an object is created from a class using the new operator and a constructor\n",
    "    - the new operator returns a reference to the object that was created\n",
    "        * can assign this reference to a variable or use it directly\n",
    "* instance variables/methods are accessible to code outside of the class they are declared in by using a qualified name\n",
    "    - objectReference.variableName\n",
    "    - objectReference.methodName(argumentlist)\n",
    "* the garbage collector automatically cleans up unused objects\n",
    "    - an unused object is an object that has no references to it\n",
    "    - you can drop a reference by setting the variable holding the reference to null"
   ]
  }
 ],
 "metadata": {
  "kernelspec": {
   "display_name": "Java",
   "language": "java",
   "name": "java"
  },
  "language_info": {
   "codemirror_mode": "java",
   "file_extension": ".jshell",
   "mimetype": "text/x-java-source",
   "name": "Java",
   "pygments_lexer": "java",
   "version": "21+35-2513"
  }
 },
 "nbformat": 4,
 "nbformat_minor": 5
}
