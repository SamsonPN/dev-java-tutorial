{
 "cells": [
  {
   "cell_type": "markdown",
   "id": "c02c5eae",
   "metadata": {},
   "source": [
    "## Nested Classes"
   ]
  },
  {
   "cell_type": "markdown",
   "id": "9f6d7a1b",
   "metadata": {},
   "source": [
    "* __nested classes__: a class defined within another class\n",
    "    - a nested class is a member of its enclosing class\n",
    "    - as a member of the OuterClass, a nested class can be declared private, public, protected, or package private\n",
    "        * recall that outer classes can only be declared public or package-private (no modifier)\n",
    "* nested classes are divided into 2 categories:\n",
    "    1. non-static (inner classes)\n",
    "        - have access to other members of the enclosing class even if they are declared private\n",
    "    2. static (static nested classes)\n",
    "        - do NOT have access to other members of the enclosing class"
   ]
  },
  {
   "cell_type": "code",
   "execution_count": null,
   "id": "15ee3527",
   "metadata": {},
   "outputs": [],
   "source": [
    "class OuterClass {\n",
    "    \n",
    "    class InnerClass {\n",
    "        // ...\n",
    "    }\n",
    "    \n",
    "    static class StaticNestedClass {\n",
    "        // ...\n",
    "    }\n",
    "}"
   ]
  },
  {
   "cell_type": "markdown",
   "id": "2b81b11f",
   "metadata": {},
   "source": [
    "### Why Use Nested Classes?\n",
    "\n",
    "* logically group classes that are only used in one place\n",
    "    - if only one other class uses a class, it is logical to nest that class and keep them together\n",
    "    - nesting these \"helper classes\" makes the package more streamlined\n",
    "* increases encapsulation:\n",
    "    - consider 2 classes, A and B, where B needs access to members of A that would otherwise be declared private\n",
    "    - if B is not nested in A, then B has no access to A's private members\n",
    "    - but if B was nested inside of A, then B can get access even if those members are private\n",
    "    - also, B can be hidden as well\n",
    "* more readable and maintainable code\n",
    "    - nesting small classes in top-level classes places the code closer to where it is used"
   ]
  },
  {
   "cell_type": "markdown",
   "id": "d6aa413f",
   "metadata": {},
   "source": [
    "### Inner Classes\n",
    "\n",
    "* similar to instance methods and variables, an inner class (non-static nested class) is associated with an instance of its enclosing class\n",
    "    - has direct access to the object's methods and fields\n",
    "    - cannot define any static members itself since it is associated with an instance\n",
    "* objects that are instances of an inner class exist within an instance of the outer class\n",
    "    - so an instance of InnerClass can only exist within an instance of OuterClass\n",
    "* there are 2 special kinds of inner classes:\n",
    "    1. local classes\n",
    "    2. anonymous classes"
   ]
  },
  {
   "cell_type": "code",
   "execution_count": null,
   "id": "f5e97457",
   "metadata": {},
   "outputs": [],
   "source": [
    "class OuterClass {\n",
    "    \n",
    "    class InnerClass {\n",
    "        // ...\n",
    "    }\n",
    "}\n",
    "\n",
    "// instantiate an inner class\n",
    "// by instantiating the outerclass first\n",
    "// then creating the inner object within the outer object\n",
    "OuterClass outerObject = new OuterClass();\n",
    "OuterClass.InnerClass innerObject = outerObject.new InnerClass();"
   ]
  },
  {
   "cell_type": "markdown",
   "id": "39021d75",
   "metadata": {},
   "source": [
    "### Static Nested Classes\n",
    "\n",
    "* similar to class methods and variables (methods/variables declared with the static keyword), a static nested class is associated with its outer class\n",
    "    - static nested class cannot refer directly to instance variables or methods defined in its enclosing class\n",
    "        * but they can use them only through an object reference\n",
    "* static nested classes, behaviorally, is a top-level class that is nested inside another top-level class for packaging convenience\n",
    "    - it interacts with the instance members of its outer class (and other classes) just like any other top-level class"
   ]
  },
  {
   "cell_type": "code",
   "execution_count": null,
   "id": "4615749b",
   "metadata": {},
   "outputs": [],
   "source": [
    "// static nested classes are instantiated the same way as a top-level class\n",
    "\n",
    "StaticNestedClass staticNestedObject = new StaticNestedClass();"
   ]
  },
  {
   "cell_type": "markdown",
   "id": "df8d99a2",
   "metadata": {},
   "source": [
    "### Inner Class and Nested Static Class Example\n",
    "\n",
    "* static nested classes interact with instance members of its outer class like any other top-level class\n",
    "    - requires an objectReference to do so\n",
    "    - that's why the staticNestedClass cannot directly access the instance variable outerField\n",
    "        * the same can be said about TopLevelClass"
   ]
  },
  {
   "cell_type": "code",
   "execution_count": 3,
   "id": "4210d82e",
   "metadata": {},
   "outputs": [
    {
     "name": "stdout",
     "output_type": "stream",
     "text": [
      "Inner class:\n",
      "------------\n",
      "Outer field\n",
      "Static outer field\n",
      "\n",
      "Static nested class:\n",
      "--------------------\n",
      "Outer field\n",
      "Static outer field\n",
      "\n",
      "Top-level class:\n",
      "--------------------\n",
      "Outer field\n",
      "Static outer field\n"
     ]
    }
   ],
   "source": [
    "public class OuterClass {\n",
    "\n",
    "    String outerField = \"Outer field\";\n",
    "    static String staticOuterField = \"Static outer field\";\n",
    "\n",
    "    class InnerClass {\n",
    "        void accessMembers() {\n",
    "            System.out.println(outerField);\n",
    "            System.out.println(staticOuterField);\n",
    "        }\n",
    "    }\n",
    "\n",
    "    static class StaticNestedClass {\n",
    "        void accessMembers(OuterClass outer) {\n",
    "            // Compiler error: Cannot make a static reference to the non-static\n",
    "            //     field outerField\n",
    "            // System.out.println(outerField);\n",
    "            System.out.println(outer.outerField);\n",
    "            System.out.println(staticOuterField);\n",
    "        }\n",
    "    }\n",
    "\n",
    "    public static void main(String[] args) {\n",
    "        System.out.println(\"Inner class:\");\n",
    "        System.out.println(\"------------\");\n",
    "        \n",
    "        // instantiate an OuterClass object\n",
    "        OuterClass outerObject = new OuterClass();\n",
    "        \n",
    "        // instantiate an innerClass object\n",
    "        OuterClass.InnerClass innerObject = outerObject.new InnerClass();\n",
    "        \n",
    "        // an innerClass can access other instance members of an outerclass\n",
    "        // since it's also an instance member itself\n",
    "        // it can also access static fields as well\n",
    "        innerObject.accessMembers();\n",
    "\n",
    "        \n",
    "        System.out.println(\"\\nStatic nested class:\");\n",
    "        System.out.println(\"--------------------\");\n",
    "        \n",
    "        // instantiate static nested class object\n",
    "        StaticNestedClass staticNestedObject = new StaticNestedClass();\n",
    "        \n",
    "        // we pass in an object reference to the OuterClass so it's able to access\n",
    "        // an instance field, outerField using the object reference\n",
    "        // and static fields, since it doesn't require an object reference. any member can access it\n",
    "        \n",
    "        // IF IT TRIES TO ACCESS outerField WITHOUT USING AN OBJECT REFERENCE, YOU'LL GET A COMPILER ERROR\n",
    "        // remember that a static member cannot just access an instance member\n",
    "        // it makes sense since static members do not need to be instantiated to work whereas instance members do\n",
    "        staticNestedObject.accessMembers(outerObject);\n",
    "\n",
    "        System.out.println(\"\\nTop-level class:\");\n",
    "        System.out.println(\"--------------------\");\n",
    "        \n",
    "        // instantiate an object using another top-level class\n",
    "        TopLevelClass topLevelObject = new TopLevelClass();\n",
    "        \n",
    "        // pass in the outerObject\n",
    "        // can access the instance variable, outerField, using the outerObject reference that was passed in\n",
    "        // can access the static field using the class name\n",
    "        // cannot just access the instance variable using the class name\n",
    "        topLevelObject.accessMembers(outerObject);\n",
    "    }\n",
    "}\n",
    "\n",
    "public class TopLevelClass {\n",
    "\n",
    "    void accessMembers(OuterClass outer) {\n",
    "        // Compiler error: Cannot make a static reference to the non-static\n",
    "        //     field OuterClass.outerField\n",
    "        // System.out.println(OuterClass.outerField);\n",
    "        System.out.println(outer.outerField);\n",
    "        System.out.println(OuterClass.staticOuterField);\n",
    "    }\n",
    "}\n",
    "\n",
    "String[] args = { \"\" };\n",
    "OuterClass.main(args);"
   ]
  },
  {
   "cell_type": "markdown",
   "id": "78204b90",
   "metadata": {},
   "source": [
    "### Shadowing\n",
    "\n",
    "* if an inner class/method definition has the same name as another declaration in the outer class, then the declaration of the inner class shadows the outer class\n",
    "* you cannot refer to a shadowed declaration by its name alone\n",
    "    - this.x refers to the enclosing scope\n",
    "    - OuterClass.this.x refers to the enclosing larger scope if this.x refers to an inner class member"
   ]
  },
  {
   "cell_type": "code",
   "execution_count": 5,
   "id": "a27b63b2",
   "metadata": {},
   "outputs": [
    {
     "name": "stdout",
     "output_type": "stream",
     "text": [
      "x = 23\n",
      "this.x = 1\n",
      "ShadowTest.this.x = 0\n"
     ]
    }
   ],
   "source": [
    "public class ShadowTest {\n",
    "    \n",
    "    // outer class x\n",
    "    public int x = 0;\n",
    "    \n",
    "    class FirstLevel {\n",
    "        \n",
    "        // inner class x\n",
    "        public int x = 1;\n",
    "        \n",
    "        // inner class method parameter x\n",
    "        void methodInFirstLevel(int x) {\n",
    "        \n",
    "            // x refers to the parameter for this method\n",
    "            System.out.println(\"x = \" + x);\n",
    "            \n",
    "            // this.x refers to the inner class x\n",
    "            System.out.println(\"this.x = \" + this.x);\n",
    "            \n",
    "            // refers to the outer class x\n",
    "            System.out.println(\"ShadowTest.this.x = \" + ShadowTest.this.x);\n",
    "        }\n",
    "    }\n",
    "    \n",
    "    public static void main(String ...args) {\n",
    "        ShadowTest st = new ShadowTest();\n",
    "        ShadowTest.FirstLevel f1 = st.new FirstLevel();\n",
    "        f1.methodInFirstLevel(23);\n",
    "    }\n",
    "}\n",
    "\n",
    "String[] args = { \"\" };\n",
    "ShadowTest.main(args);"
   ]
  },
  {
   "cell_type": "markdown",
   "id": "ad5917c8",
   "metadata": {},
   "source": [
    "### Serialization\n",
    "\n",
    "* serialization of inner classes, including local and anonymous classes, is __STRONGLY DISCOURAGED__\n",
    "    - Java compiler creates synthetic constructs for things like inner classes\n",
    "        * these are classes, methods, fields, and other constructs that do not have a corresponding construct in the source code\n",
    "    - these synthetic constructs enable Java compilers to implement new Java language features without changes to the JVM\n",
    "    - however, synthetic constructs can vary among different Java compiler implementations which means that .class files can vary among different implementations as well\n",
    "        * thus, you can have compatibility issues if you serialize an inner class and then deserialize it iwth a different JRE implementation"
   ]
  },
  {
   "cell_type": "markdown",
   "id": "e0878e62",
   "metadata": {},
   "source": [
    "## Inner Class Example\n",
    "\n",
    "* in the following example, you create an array, fill it with integer values, then output only values of even indices of the array in ascending order\n",
    "* the DataStructure.java example consists of:\n",
    "    - DataStructure outer class which:\n",
    "        * includes a constructor to create an instance of DataStructure\n",
    "        * the DataStructure instance contains an array filled with consecutive integer values (0,1,2,3...n)\n",
    "        * and a method that prints elements of the array with an even index value\n",
    "    - EvenIterator inner class which:\n",
    "        * implements the DataStructureIterator interface which extends the Iterator<Integer> interface\n",
    "        * iterators are used to step through a data structure and typically have methods to test for the last element, retrieve the current element, and move to the next element\n",
    "    - main method that:\n",
    "        * instantiates a DataStructure object, ds\n",
    "        * then invokes the printEven() method to print elements of the array, arrayOfInts, that have an even index value\n",
    "* the EvenIterator inner class refers directly the the arrayOfInts instance variable of the DataStructure object\n",
    "    - it's not a static nested class so it can do that\n",
    "* you can use inner classes to implement helper classes\n",
    "    - to handle user interface events, you must know how to use inner class b/c the event-handling mechanism makes extensive use of them"
   ]
  },
  {
   "cell_type": "code",
   "execution_count": 8,
   "id": "e9781652",
   "metadata": {},
   "outputs": [
    {
     "name": "stdout",
     "output_type": "stream",
     "text": [
      "0 2 4 6 8 10 12 14 \n"
     ]
    }
   ],
   "source": [
    "public class DataStructure {\n",
    "    \n",
    "    // create an array\n",
    "    \n",
    "    // private variable\n",
    "    // final means it cannot be reassigned\n",
    "    // static means it can be accessed using the className without instantiating\n",
    "    // variable is named in all caps since it's a constant\n",
    "    private final static int SIZE = 15;\n",
    "    private int[] arrayOfInts = new int[SIZE];\n",
    "    \n",
    "    // constructor that fills array with ints\n",
    "    public DataStructure() {\n",
    "        // fill the array with ascending integer values\n",
    "        for (int i = 0; i < SIZE; i++) {\n",
    "            arrayOfInts[i] = i;\n",
    "        }\n",
    "    }\n",
    "    \n",
    "    // public method\n",
    "    // void so doesn't return anything\n",
    "    // prints out values of even indices of the array\n",
    "    public void printEven() {\n",
    "        DataStructureIterator iterator = this.new EvenIterator();\n",
    "        while(iterator.hasNext()) {\n",
    "            System.out.print(iterator.next() + \" \");\n",
    "        }\n",
    "        System.out.println();\n",
    "    }\n",
    "    \n",
    "    interface DataStructureIterator extends java.util.Iterator<Integer> { }\n",
    "    \n",
    "    // inner class implements the DataStructureIterator interface,\n",
    "    // which extends the Iterator<Integer> interface\n",
    "    private class EvenIterator implements DataStructureIterator {\n",
    "        \n",
    "        // start stepping through the array from the beginning\n",
    "        private int nextIndex = 0;\n",
    "        \n",
    "        // check if the current element is the last in the array\n",
    "        public boolean hasNext() {\n",
    "            return (nextIndex <= SIZE - 1);\n",
    "        }\n",
    "        \n",
    "        // record a value of an even index of the array\n",
    "        public Integer next() {\n",
    "            Integer retValue = Integer.valueOf(arrayOfInts[nextIndex]);\n",
    "            \n",
    "            // get the next even element\n",
    "            nextIndex += 2;\n",
    "            return retValue;\n",
    "        }\n",
    "    }\n",
    "    \n",
    "    public static void main(String s[]) {\n",
    "        // fill the array with integer values and print out only\n",
    "        // values of even indices\n",
    "        DataStructure ds = new DataStructure();\n",
    "        ds.printEven();\n",
    "    }\n",
    "    \n",
    "}\n",
    "\n",
    "String[] args = {\"\"};\n",
    "DataStructure.main(args);"
   ]
  },
  {
   "cell_type": "markdown",
   "id": "5402783a",
   "metadata": {},
   "source": [
    "### Local and Anonymous Classes\n",
    "\n",
    "* these classes are types of inner classes\n",
    "* __local class__: an inner class declared within the body of a method\n",
    "* __anonymous class__: an inner class declared within the body of a method without naming the class"
   ]
  },
  {
   "cell_type": "markdown",
   "id": "9dd746d0",
   "metadata": {},
   "source": [
    "### Modifiers\n",
    "\n",
    "* able to use the same modifiers for inner classes that you use for other members of the outer class\n",
    "* private, public, and protected can be used to restrict access to inner classes"
   ]
  },
  {
   "cell_type": "markdown",
   "id": "787bc9c4",
   "metadata": {},
   "source": [
    "## Local Classes"
   ]
  },
  {
   "cell_type": "markdown",
   "id": "a3ca7f31",
   "metadata": {},
   "source": [
    "* local classes are classes that are defined in a block\n",
    "* you typically find local classes defined in the body of a method"
   ]
  },
  {
   "cell_type": "markdown",
   "id": "d4f63a37",
   "metadata": {},
   "source": [
    "### Declaring Local Classes\n",
    "\n",
    "* able to define a local class inside any block\n",
    "    - e.g. in a method body, for loop, or an if clause\n",
    "* the example below validates 2 phone numbers\n",
    "    - it defines a local class PhoneNumber in the method validatePhoneNumber();\n",
    "    - the example validates a phone number by removing all characters from the phone number except the digits 0 through 9\n",
    "        * it then checks if the phone number contains exactly 10 digits"
   ]
  },
  {
   "cell_type": "code",
   "execution_count": 12,
   "id": "9387defb",
   "metadata": {},
   "outputs": [
    {
     "name": "stdout",
     "output_type": "stream",
     "text": [
      "First number is 1234567890\n",
      "Second number is invalid\n"
     ]
    }
   ],
   "source": [
    "public class LocalClassExample {\n",
    "\n",
    "    static String regularExpression = \"[^0-9]\";\n",
    "\n",
    "    public static void validatePhoneNumber(\n",
    "        String phoneNumber1, String phoneNumber2) {\n",
    "\n",
    "        final int numberLength = 10;\n",
    "\n",
    "        // Valid in JDK 8 and later:\n",
    "\n",
    "        // int numberLength = 10;\n",
    "\n",
    "        // inner class inside the static method validatePhoneNumber\n",
    "        class PhoneNumber {\n",
    "\n",
    "            String formattedPhoneNumber = null;\n",
    "\n",
    "            PhoneNumber(String phoneNumber){\n",
    "                // numberLength = 7;\n",
    "                \n",
    "                // replaces all non-numeric characters with an empty string\n",
    "                // which would reduce the string's length and not make it equal to 10 digits\n",
    "                String currentNumber = phoneNumber.replaceAll(\n",
    "                  regularExpression, \"\");\n",
    "                if (currentNumber.length() == numberLength)\n",
    "                    formattedPhoneNumber = currentNumber;\n",
    "                else\n",
    "                    formattedPhoneNumber = null;\n",
    "            }\n",
    "\n",
    "            public String getNumber() {\n",
    "                return formattedPhoneNumber;\n",
    "            }\n",
    "\n",
    "            // Valid in JDK 8 and later:\n",
    "\n",
    "//            public void printOriginalNumbers() {\n",
    "//                System.out.println(\"Original numbers are \" + phoneNumber1 +\n",
    "//                    \" and \" + phoneNumber2);\n",
    "//            }\n",
    "        }\n",
    "\n",
    "        PhoneNumber myNumber1 = new PhoneNumber(phoneNumber1);\n",
    "        PhoneNumber myNumber2 = new PhoneNumber(phoneNumber2);\n",
    "\n",
    "        // Valid in JDK 8 and later:\n",
    "\n",
    "//        myNumber1.printOriginalNumbers();\n",
    "\n",
    "        if (myNumber1.getNumber() == null)\n",
    "            System.out.println(\"First number is invalid\");\n",
    "        else\n",
    "            System.out.println(\"First number is \" + myNumber1.getNumber());\n",
    "        if (myNumber2.getNumber() == null)\n",
    "            System.out.println(\"Second number is invalid\");\n",
    "        else\n",
    "            System.out.println(\"Second number is \" + myNumber2.getNumber());\n",
    "\n",
    "    }\n",
    "\n",
    "    public static void main(String... args) {\n",
    "        validatePhoneNumber(\"123-456-7890\", \"456-7890\");\n",
    "    }\n",
    "}\n",
    "\n",
    "String[] args = { \"\" };\n",
    "LocalClassExample.main(args);"
   ]
  },
  {
   "cell_type": "markdown",
   "id": "c285b8c2",
   "metadata": {},
   "source": [
    "### Accessing Members of an Enclosing Class\n",
    "\n",
    "* a local class has access to the members of its enclosing class\n",
    "    - in the example above, the Phone Number class had access to the LocalClassExample's field, regularExpression\n",
    "* a local class has access to local variables (variables declared in the method body)\n",
    "    - however, a local class can __only access local variables declared final__\n",
    "        * when a local class accesses a local variable or parameter of the enclosing block, it captures that variable or parameter\n",
    "        * e.g. the PhoneNumber() constructor can access the local variable numberLength b/c it is declared final; numberLength is a captured variable\n",
    "    - but starting in Java SE 8, a local class can access local variables and parameters of the enclosing block that are __final or effectively final__\n",
    "        * __effectively final__: a variable that is never changed after it is initialized"
   ]
  },
  {
   "cell_type": "code",
   "execution_count": null,
   "id": "c545b497",
   "metadata": {},
   "outputs": [],
   "source": [
    "PhoneNumber(String phoneNumber) {\n",
    "\n",
    "    // if you added this statement into the original example above\n",
    "    // assuming numberLength was not declared with the final keyword\n",
    "    // then numberLength IS NOT EFFECTIVELY FINAL\n",
    "    numberLength = 7;\n",
    "    String currentNumber = phoneNumber.replaceAll(\n",
    "        regularExpression, \"\");\n",
    "        \n",
    "    // since numberLength is NOT EFFECTIVELY FINAL\n",
    "    // then the Java compiler generates an error message similar to\n",
    "    // \"local variables referenced from an inner class must be final or effectively final\"\n",
    "    if (currentNumber.length() == numberLength)\n",
    "        formattedPhoneNumber = currentNumber;\n",
    "    else\n",
    "        formattedPhoneNumber = null;\n",
    "}\n"
   ]
  },
  {
   "cell_type": "markdown",
   "id": "d0c26d73",
   "metadata": {},
   "source": [
    "* starting in Java SE 8, if you declare a local class in a method, it can access the method's parameters\n",
    "* declarations of a type (such as a variable) in a local class shadow declarations in the enclosing scope that have the same name"
   ]
  },
  {
   "cell_type": "code",
   "execution_count": null,
   "id": "35759e7a",
   "metadata": {},
   "outputs": [],
   "source": [
    "// in the LocalClassExample, phoneNumber1 and phoneNumber2\n",
    "// were the method parameters for validatePhoneNumber() in which the local class was declared\n",
    "\n",
    "public void printOriginalNumbers() {\n",
    "    System.out.println(\"Original numbers are \" + phoneNumber1 +\n",
    "        \" and \" + phoneNumber2);\n",
    "}"
   ]
  },
  {
   "cell_type": "markdown",
   "id": "a8125e67",
   "metadata": {},
   "source": [
    "### Local Classes are Similar to Inner Classes\n",
    "\n",
    "* local classes are similar to inner classes b/c they __CANNOT DEFINE OR DECLARE ANY STATIC MEMBERS__\n",
    "* local classes in static methods can only refer to static members of the enclosing class\n",
    "    - e.g. in the LocalClassExample, if regularExpression was not defined as static, then the Java compiler generates an erorr similar to \"non-static variable regularExpression cannot be referenced from a static context\"\n",
    "* local classes are non-static b/c they have access to instance members of the enclosing block\n",
    "    - thus, they cannot contain most kinds of static declarations\n",
    "* you cannot declare an interface inside a block\n",
    "    - __interfaces are inherently static__"
   ]
  },
  {
   "cell_type": "code",
   "execution_count": null,
   "id": "3bb9640e",
   "metadata": {},
   "outputs": [],
   "source": [
    "// this code does not compile b/c the interface HelloThere is defined inside the body of the method greetInEnglish()\n",
    "public void greeInEnglish() {\n",
    "    interface HelloThere {\n",
    "        public void greet();\n",
    "    }\n",
    "    \n",
    "    class EnglishHelloThere implements HelloThere {\n",
    "        public void greet() {\n",
    "            System.out.println(\"Hello \" + name);\n",
    "        }\n",
    "    }\n",
    "    \n",
    "    HelooThere myGreeting = new EnglishHelloThere();\n",
    "    myGreeting.greet();\n",
    "}"
   ]
  },
  {
   "cell_type": "markdown",
   "id": "d341642e",
   "metadata": {},
   "source": [
    "* cannot declare static initializers or member interfaces in a local class"
   ]
  },
  {
   "cell_type": "code",
   "execution_count": null,
   "id": "d2065738",
   "metadata": {},
   "outputs": [],
   "source": [
    "// this doesn't compile b/c the method EnglishGoodbye.sayGoodbye() is declared static\n",
    "// the compiler generates an error similar to \"modifier static is only allowed in constant variable declaration\"\n",
    "// remember that local classes are non-static b/c they have access to instance members\n",
    "\n",
    "public void sayGoodbyeInEnglish() {\n",
    "    class EnglishGoodbye {\n",
    "        public static void sayGoodbye() {\n",
    "            System.out.println(\"Bye bye\");\n",
    "        }\n",
    "    }\n",
    "    \n",
    "    EnglishGoodbye.sayGoodbye();\n",
    "}\n",
    "\n",
    "sayGoodbyeInEnglish();"
   ]
  },
  {
   "cell_type": "markdown",
   "id": "74329995",
   "metadata": {},
   "source": [
    "* a local class can have static members if they are constant variables\n",
    "    - constant variables: variable of primitive type or type String that is declared with final and initialized with a compile-time constant expression\n",
    "    - compile-time constant expression: a string or an arithmetic expression that can be evaluated at compile time"
   ]
  },
  {
   "cell_type": "code",
   "execution_count": 20,
   "id": "7eccac23",
   "metadata": {},
   "outputs": [
    {
     "name": "stdout",
     "output_type": "stream",
     "text": [
      "Bye bye\r\n"
     ]
    }
   ],
   "source": [
    "// this code compiles b/c the static member EnglishGoodbye.farewell is a constant variable\n",
    "\n",
    "public void sayGoodbyeInEnglish() {\n",
    "    class EnglishGoodbye {\n",
    "        public static final String farewell = \"Bye bye\";\n",
    "        public static void sayGoodbye() {\n",
    "            System.out.println(farewell);\n",
    "        }\n",
    "    }\n",
    "    \n",
    "    EnglishGoodbye myEnglishGoodbye = new EnglishGoodbye();\n",
    "    myEnglishGoodbye.sayGoodbye();\n",
    "}\n",
    "\n",
    "sayGoodbyeInEnglish();"
   ]
  },
  {
   "cell_type": "markdown",
   "id": "12bdf2d9",
   "metadata": {},
   "source": [
    "## Anonymous Classes"
   ]
  },
  {
   "cell_type": "markdown",
   "id": "2dcc5591",
   "metadata": {},
   "source": [
    "* anonymous classes are like local classes but they do not have a name\n",
    "* use them if you need to use a local class only once\n",
    "    - they allow your code to be more concise\n",
    "    - they enable you to declare and instantiate a class at the same time"
   ]
  },
  {
   "cell_type": "markdown",
   "id": "ed16ae19",
   "metadata": {},
   "source": [
    "### Declaring Anonymous Classes\n",
    "\n",
    "* local classes are class declarations, __anonymous classes are expressions__ which means you define the class in another expression"
   ]
  },
  {
   "cell_type": "code",
   "execution_count": 27,
   "id": "5aa4a688",
   "metadata": {},
   "outputs": [
    {
     "name": "stdout",
     "output_type": "stream",
     "text": [
      "Hello world\n",
      "Salut Fred\n",
      "Hola, mundo\n"
     ]
    }
   ],
   "source": [
    "public class HelloWorldAnonymousClasses {\n",
    "    \n",
    "    interface HelloWorld {\n",
    "        public void greet();\n",
    "        public void greetSomeone(String someone);\n",
    "    }\n",
    "    \n",
    "    public void sayHello() {\n",
    "        \n",
    "        // local class declaration\n",
    "        class EnglishGreeting implements HelloWorld {\n",
    "            String name = \"world\";\n",
    "            \n",
    "            public void greet() {\n",
    "                greetSomeone(\"world\");\n",
    "            }\n",
    "            \n",
    "            public void greetSomeone(String someone) {\n",
    "                name = someone;\n",
    "                System.out.println(\"Hello \" + name);\n",
    "            }\n",
    "        }\n",
    "        \n",
    "        // local class to initialize englishGreeting\n",
    "        HelloWorld englishGreeting = new EnglishGreeting();\n",
    "        \n",
    "        // anonymous class to initialize frenchGreeting\n",
    "        HelloWorld frenchGreeting = new HelloWorld() {\n",
    "            String name = \"tout le monde\";\n",
    "            \n",
    "            public void greet() {\n",
    "                greetSomeone(\"tout le monde\");\n",
    "            }\n",
    "            \n",
    "            public void greetSomeone(String someone) {\n",
    "                name = someone;\n",
    "                System.out.println(\"Salut \" + name);\n",
    "            }\n",
    "        };\n",
    "        \n",
    "        // these anonymous classes are declared and instantiated using the HelloWorld interface\n",
    "        // anonmyous class to initialize spanishGreeting\n",
    "        HelloWorld spanishGreeting = new HelloWorld() {\n",
    "            String name = \"mundo\";\n",
    "            public void greet() {\n",
    "                greetSomeone(\"mundo\");\n",
    "            }\n",
    "            public void greetSomeone(String someone) {\n",
    "                name = someone;\n",
    "                System.out.println(\"Hola, \" + name);\n",
    "            }\n",
    "        };\n",
    "        \n",
    "        englishGreeting.greet();\n",
    "        frenchGreeting.greetSomeone(\"Fred\");\n",
    "        spanishGreeting.greet();\n",
    "    }\n",
    "    \n",
    "    public static void main(String... args) {\n",
    "        HelloWorldAnonymousClasses myApp = new HelloWorldAnonymousClasses();\n",
    "        myApp.sayHello();\n",
    "    }\n",
    "}\n",
    "\n",
    "String[] args = { \"\" };\n",
    "HelloWorldAnonymousClasses.main(args);"
   ]
  },
  {
   "cell_type": "markdown",
   "id": "ada57d23",
   "metadata": {},
   "source": [
    "### Syntax of Anonymous Classes\n",
    "\n",
    "* syntax of anonymous class expression is like the invocation of a constructor but the class definition is contained in a block of code\n",
    "* the anonymous class expression consists of:\n",
    "    - the new operator\n",
    "    - __name of an interface to implement or a class to extend__\n",
    "        * in this case, the anonymous class implements the HelloWorld interface\n",
    "    - parentheses that contains the arguments to a constructor, just like a normal class instance creation expression\n",
    "        * note: when you implement an interface, there is no constructor so use an empty pair of parentheses\n",
    "    - a body which is a class declaration body\n",
    "        * in the body, method declarations are allowed but statements are not\n",
    "    - must be part of a statement since an anonymous class definition is an expression\n",
    "        * in the frenchGreeting example, there is a semicolon after the closing brace"
   ]
  },
  {
   "cell_type": "code",
   "execution_count": null,
   "id": "5b668345",
   "metadata": {},
   "outputs": [],
   "source": [
    "HelloWorld frenchGreeting = new HelloWorld() {\n",
    "    String name = \"tout le monde\";\n",
    "    public void greet() {\n",
    "        greetSomeone(\"tout le monde\");\n",
    "    }\n",
    "    public void greetSomeone(String someone) {\n",
    "        name = someone;\n",
    "        System.out.println(\"Salut \" + name);\n",
    "    }\n",
    "};\n"
   ]
  },
  {
   "cell_type": "markdown",
   "id": "2894c0ae",
   "metadata": {},
   "source": [
    "### Accessing Local Variables of the Enclosing Scope, and Declaring and Accessing Members of the Anonymous Class\n",
    "\n",
    "* like local classes, anonymous classes can capture variables; they have the same access to local variables of the enclosing scope:\n",
    "    - an anonymous class has access to the members of its enclosing class\n",
    "    - cannot access local variables in its enclosing scope that are not declared as final or effectively final\n",
    "    - like a nested class, a declaration of a type (such as a variable) in an anonymous class shadows any other declarations in the enclosing scope that have the same name\n",
    "* anonymous classes also have the same restrictions as local classes with respect to their members\n",
    "    - cannot declare static initializers or member interfaces in an anonymous class\n",
    "        * interfaces are inherently static\n",
    "    - can have static members provided that they are constant variables (declared with final keyword)\n",
    "* note that you can declare the following in anonymous classes:\n",
    "    - fields\n",
    "    - extra methods (even if they do not implement any methods of the supertype, i.e. extending a superclass or implementing an interface)\n",
    "    - instance initializers\n",
    "    - local classes\n",
    "* however, you cannot declare constructors in an anonymous class"
   ]
  }
 ],
 "metadata": {
  "kernelspec": {
   "display_name": "Java",
   "language": "java",
   "name": "java"
  },
  "language_info": {
   "codemirror_mode": "java",
   "file_extension": ".jshell",
   "mimetype": "text/x-java-source",
   "name": "Java",
   "pygments_lexer": "java",
   "version": "21+35-2513"
  }
 },
 "nbformat": 4,
 "nbformat_minor": 5
}
