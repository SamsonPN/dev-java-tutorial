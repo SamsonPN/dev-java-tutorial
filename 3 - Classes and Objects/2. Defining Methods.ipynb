{
 "cells": [
  {
   "cell_type": "markdown",
   "id": "e413e4e1",
   "metadata": {},
   "source": [
    "## Defining a Method"
   ]
  },
  {
   "cell_type": "markdown",
   "id": "45a6cb34",
   "metadata": {},
   "source": [
    "* method declarations have 6 components:\n",
    "    1. modifiers\n",
    "        - such as public, private, etc\n",
    "    2. return type\n",
    "        - data type of the value returned by the method or void if method does not return a value\n",
    "    3. method name\n",
    "        - rules for field names apply to method names as well but convention is a little different\n",
    "    4. parameter list in parenthesis\n",
    "        - comma-delimited list of input parameters, preceded by their data types, enclosed by parentheses\n",
    "        - if no parameters, use empty parentheses\n",
    "    5. exception list\n",
    "    6. method boyd\n",
    "        - enclosed between braces -- the method's code, including the declaration of local variables\n",
    "* method signature: method's name and parameter types"
   ]
  },
  {
   "cell_type": "code",
   "execution_count": null,
   "id": "f0b4ca0e",
   "metadata": {},
   "outputs": [],
   "source": [
    "// method declaration\n",
    "\n",
    "public double calculateAnswer(double wingSpan, int numberofEngines, double length, double grossTons) {\n",
    "    // calculation here\n",
    "}\n",
    "\n",
    "// method signature\n",
    "calculateAnswer(double, int, double, double)"
   ]
  },
  {
   "cell_type": "markdown",
   "id": "0409b82b",
   "metadata": {},
   "source": [
    "## Naming a Method"
   ]
  },
  {
   "cell_type": "markdown",
   "id": "b6794dd6",
   "metadata": {},
   "source": [
    "* method names should be a verb in lower case or a multi-word name that begins with a verb in lowercase, followed by adjectives, nouns, etc\n",
    "* in multi-word names, the first letter of each of the second and following words should be capitalized\n",
    "    - run\n",
    "    - runFast\n",
    "    - getBackground"
   ]
  },
  {
   "cell_type": "markdown",
   "id": "a46f6f2e",
   "metadata": {},
   "source": [
    "## Overloading Methods"
   ]
  },
  {
   "cell_type": "markdown",
   "id": "276162c2",
   "metadata": {},
   "source": [
    "* Java can distinguish between methods with different method signatures\n",
    "    - i.e. methods within a class can have the same name if they have different parameter lists\n",
    "* for example: you have a class that can use calligraphy to draw various types of data (strings, integers, etc) and contains methods for drawing each data type\n",
    "    - it would be annoying to name each method a new thing like drawString(), drawInteger(), etc when you just draw but with different types\n",
    "    - thus, you can create methods with the same name, i.e. draw(), but pass in different data types\n",
    "* overloaded methods are __differentiated by the number and type of arguments__ passed into the method\n",
    "    - cannot declare more than 1 method with the same name and same number and type of arguments b/c the compiler cannot tell them apart\n",
    "    - compiler does NOT consider return type when differentiating methods so you cannot declare 2 methods with the same signature even if they have a different return type\n",
    "* overloaded methods should be used sparingly"
   ]
  },
  {
   "cell_type": "code",
   "execution_count": null,
   "id": "1b0cf533",
   "metadata": {},
   "outputs": [],
   "source": [
    "// methods with the same name but different parameters\n",
    "\n",
    "public class DataArtist {\n",
    "    \n",
    "    public void draw(String s) {\n",
    "        //\n",
    "    }\n",
    "    \n",
    "    public void draw(int i) {\n",
    "        //\n",
    "    }\n",
    "    \n",
    "    public void draw(double f) {\n",
    "        //\n",
    "    }\n",
    "    \n",
    "    public void draw(int i, double f) {\n",
    "        //\n",
    "    }\n",
    "}"
   ]
  }
 ],
 "metadata": {
  "kernelspec": {
   "display_name": "Java",
   "language": "java",
   "name": "java"
  },
  "language_info": {
   "codemirror_mode": "java",
   "file_extension": ".jshell",
   "mimetype": "text/x-java-source",
   "name": "Java",
   "pygments_lexer": "java",
   "version": "21+35-2513"
  }
 },
 "nbformat": 4,
 "nbformat_minor": 5
}
