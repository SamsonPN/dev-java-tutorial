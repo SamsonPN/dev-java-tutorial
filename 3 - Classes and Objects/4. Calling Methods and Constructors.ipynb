{
 "cells": [
  {
   "cell_type": "markdown",
   "id": "a028e3c6",
   "metadata": {},
   "source": [
    "## Passing Information to a Method or a Constructor"
   ]
  },
  {
   "cell_type": "markdown",
   "id": "794d4ea0",
   "metadata": {},
   "source": [
    "* parameters: list of variables in a method declaration\n",
    "* arguments: the actual values that are passed in when the method is invoked"
   ]
  },
  {
   "cell_type": "markdown",
   "id": "23390708",
   "metadata": {},
   "source": [
    "## Arbitrary Number of Arguments"
   ]
  },
  {
   "cell_type": "markdown",
   "id": "22f0b80f",
   "metadata": {},
   "source": [
    "* can use __varargs__ to pass an arbitrary number of values to a method\n",
    "* you use this when you don't know how many of a particular type of argument will be passed to the method\n",
    "* it is a __shortcut to creating an array manually__\n",
    "* syntax: type...\n",
    "    - int...\n",
    "    - double...\n",
    "    - char..."
   ]
  },
  {
   "cell_type": "code",
   "execution_count": null,
   "id": "bf7c7620",
   "metadata": {},
   "outputs": [],
   "source": [
    "// using an Array\n",
    "public Polygon polygonFrom(Point[] corners) {\n",
    "    ...\n",
    "}\n",
    "\n",
    "// using varargs\n",
    "public Polygon polygonFrom(Point... corners) {\n",
    "    int numberOfSides = corners.length;\n",
    "    double squareOfSide1, lengthOfSide1;\n",
    "    \n",
    "    // the corners parameter is treated as an array in the method body\n",
    "    squareOfSide1 = (corners[1].x - corners[0].x)\n",
    "                     * (corners[1].x - corners[0].x) \n",
    "                     + (corners[1].y - corners[0].y)\n",
    "                     * (corners[1].y - corners[0].y);\n",
    "    lengthOfSide1 = Math.sqrt(squareOfSide1);\n",
    "}"
   ]
  },
  {
   "cell_type": "code",
   "execution_count": null,
   "id": "0a2caa04",
   "metadata": {},
   "outputs": [],
   "source": [
    "// most commonly see varargs with printing methods\n",
    "\n",
    "public PrintStream printf(String format, Object... args)\n",
    "\n",
    "System.out.printf(\"%s: %d, %s%n\", name, idnum, address);"
   ]
  },
  {
   "cell_type": "markdown",
   "id": "fd12d643",
   "metadata": {},
   "source": [
    "## Parameter Names"
   ]
  },
  {
   "cell_type": "markdown",
   "id": "0b68a7a3",
   "metadata": {},
   "source": [
    "* names of parameters must be unique in its scope\n",
    "    - cannot be the same as the name of another parameter of the same method or constructor or a local variable within\n",
    "* parameter can have the same name as one of the class's fields\n",
    "    - in this case, parameter is said to shadow the field\n",
    "    - shadowing fields only used within constructors and methods that set a particular field\n",
    "    - within the body of the method or constructor, the parameter's value is used, not the class's field of the same name\n",
    "    - but if you want to access the shadowed field, you can use the _this_ keyword"
   ]
  },
  {
   "cell_type": "code",
   "execution_count": null,
   "id": "e7e84889",
   "metadata": {},
   "outputs": [],
   "source": [
    "// example of shadowing the field\n",
    "\n",
    "public class Circle {\n",
    "    private int x, y, radius;\n",
    "    \n",
    "    public void setOrigin(int x, int y) {\n",
    "        // the values passed into setOrigin override the class's field values\n",
    "        // if you want to access the fields, you have to use the (this) keyword\n",
    "    }\n",
    "}"
   ]
  },
  {
   "cell_type": "markdown",
   "id": "43a60bf6",
   "metadata": {},
   "source": [
    "## Passing Primitive Data Type Arguments"
   ]
  },
  {
   "cell_type": "markdown",
   "id": "6d9b1db5",
   "metadata": {},
   "source": [
    "* primitive arguments, like int or double, are __passed into methods by value__\n",
    "    - any changes to the values of the parameters exist only within the scope of the method\n",
    "    - when the method returns, the parameters are gone and any changes to them as well"
   ]
  },
  {
   "cell_type": "code",
   "execution_count": 10,
   "id": "8155df1e",
   "metadata": {},
   "outputs": [
    {
     "name": "stdout",
     "output_type": "stream",
     "text": [
      "After invoking passMethod, x = 3\r\n"
     ]
    }
   ],
   "source": [
    "public class PassPrimitiveByValue {\n",
    "    \n",
    "    public static void main(String[] args) {\n",
    "        int x = 3;\n",
    "        \n",
    "        // invoke passMethod() with\n",
    "        // x as argument\n",
    "        passMethod(x);\n",
    "        \n",
    "        // print x to see if its\n",
    "        // value has changed\n",
    "        System.out.println(\"After invoking passMethod, x = \" + x);\n",
    "    }\n",
    "    \n",
    "    // change parameter in passMethod()\n",
    "    public static void passMethod(int p) {\n",
    "        p = 10;\n",
    "    }\n",
    "}\n",
    "\n",
    "// value did not change\n",
    "String[] str = { \"\" };\n",
    "PassPrimitiveByValue.main(str);"
   ]
  },
  {
   "cell_type": "markdown",
   "id": "d5342121",
   "metadata": {},
   "source": [
    "## Passing Reference Data Type Arguments"
   ]
  },
  {
   "cell_type": "markdown",
   "id": "ba43d518",
   "metadata": {},
   "source": [
    "* reference data type parameters, such as objects, are __also passed into methods by value__\n",
    "    - when a method returns, the passed-in reference still references the same object as before\n",
    "    - __HOWEVER, the values of the object's fields can be changed in the method if they have the proper access level__\n",
    "* __JAVA IS ALL PASS-BY-VALUE__\n",
    "    - for reference data type arguments, the value just happens to be the reference"
   ]
  },
  {
   "cell_type": "code",
   "execution_count": null,
   "id": "5f5bfc8a",
   "metadata": {},
   "outputs": [],
   "source": [
    "public void moveCircle(Circle circle, int deltaX, int deltaY) {\n",
    "    // code to move origin of circle to x+deltaX, y+deltaY\n",
    "    circle.setX(circle.getX() + deltaX);\n",
    "    circle.setY(circle.getY() + deltaY);\n",
    "        \n",
    "    // code to assign a new reference to circle\n",
    "    circle = new Circle(0, 0);\n",
    "}\n",
    "\n",
    "// myCircle is an object with x and y coordinates\n",
    "// moveCircle will change those x and y coordinates and those changes will be reflected in myCircle\n",
    "// after the method has returned\n",
    "\n",
    "// if we reassign the circle parameter in moveCircle, nothing changes to myCircle itself\n",
    "// the only thing that changes is that the circle parameter now points to a different Circle object\n",
    "moveCirlce(myCircle, 23, 56);"
   ]
  }
 ],
 "metadata": {
  "kernelspec": {
   "display_name": "Java",
   "language": "java",
   "name": "java"
  },
  "language_info": {
   "codemirror_mode": "java",
   "file_extension": ".jshell",
   "mimetype": "text/x-java-source",
   "name": "Java",
   "pygments_lexer": "java",
   "version": "21+35-2513"
  }
 },
 "nbformat": 4,
 "nbformat_minor": 5
}
