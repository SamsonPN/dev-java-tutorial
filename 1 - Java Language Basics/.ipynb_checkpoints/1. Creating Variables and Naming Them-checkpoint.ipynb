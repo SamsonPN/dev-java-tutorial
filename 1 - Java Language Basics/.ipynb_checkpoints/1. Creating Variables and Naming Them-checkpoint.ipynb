{
 "cells": [
  {
   "cell_type": "markdown",
   "id": "999aef89",
   "metadata": {},
   "source": [
    "## Variables"
   ]
  },
  {
   "cell_type": "markdown",
   "id": "47988fa7",
   "metadata": {},
   "source": [
    "* __Instance Variables (Non-Static Fields):__\n",
    "    - objects store their individual states in \"non-static fields\" - fields that are declared __without the static keyword__\n",
    "    - these variables are __unique__ to each instance of a class (i.e. to each object)\n",
    "        * e.g. the currentSpeed of one bicycle is independent from the currentSpeed of another\n",
    "* __Class Variables (Static Fields):__\n",
    "    - any field declared __with the static modifier__\n",
    "    - it tells the compiler that there is only 1 copy of this variable in existence __regardless of how many times this class has been instantiated__\n",
    "        * e.g. static int numGrears = 6; \n",
    "        * any Bicycle object crated from the Bicycle class will have 6 gears\n",
    "        * additionally, the keyword __final__ could be added to indicate that the number of gears will never change\n",
    "* __Local Variables:__\n",
    "    - methods will store its temporary state in local variables\n",
    "    - no special keyword for designating a variable as local but rather where the variable is declared\n",
    "    - not accessible from the rest of the class\n",
    "* __Parameters:__\n",
    "    - for main method signature: public static void main(String[] args), the args variable is a parameter to this method\n",
    "    - parameters are always classified as variables, not fields\n",
    "        * this also applies to other parameter-accepting constructs like constructors and exception handlers\n",
    "* the tutorial also mentions the term \"member\"\n",
    "    - this refers to a type's fields, methods, and nested types"
   ]
  },
  {
   "cell_type": "markdown",
   "id": "10376118",
   "metadata": {},
   "source": [
    "## Naming Variables"
   ]
  },
  {
   "cell_type": "markdown",
   "id": "1353d413",
   "metadata": {},
   "source": [
    "* variable names are:\n",
    "    - case sensitive\n",
    "    - any length sequence of unicode letters/digits\n",
    "    - begin with a letter\n",
    "        * can begin with a dollar sign ($) or an underscore (\"_\") but this is discouraged\n",
    "    - without white space\n",
    "* subsequent characters can be letters, digits, dollar signs, or underscore\n",
    "    - names should be full words so that they're easy to read and understand\n",
    "    - cannot use a keyword or reserved word\n",
    "* variables follow camelCase\n",
    "    - constant values, like static final int NUM_GEARS = 6, should follow this convention:\n",
    "        * all capital letters\n",
    "        * snake_case instead of camelCase"
   ]
  }
 ],
 "metadata": {
  "kernelspec": {
   "display_name": "Java",
   "language": "java",
   "name": "java"
  },
  "language_info": {
   "codemirror_mode": "java",
   "file_extension": ".jshell",
   "mimetype": "text/x-java-source",
   "name": "Java",
   "pygments_lexer": "java",
   "version": "21+35-2513"
  }
 },
 "nbformat": 4,
 "nbformat_minor": 5
}
