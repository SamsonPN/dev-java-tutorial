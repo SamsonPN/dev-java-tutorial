{
 "cells": [
  {
   "cell_type": "markdown",
   "id": "fc34755c",
   "metadata": {},
   "source": [
    "## Expressions"
   ]
  },
  {
   "cell_type": "markdown",
   "id": "78f7db43",
   "metadata": {},
   "source": [
    "* __expression__: construct made up of variables, operators, and method invocations which are constructed according to the syntax of the language that evalues to a single value"
   ]
  },
  {
   "cell_type": "code",
   "execution_count": null,
   "id": "ce4d7f6d",
   "metadata": {},
   "outputs": [],
   "source": [
    "int cadence = 0;\n",
    "anArray[0] = 100;"
   ]
  },
  {
   "cell_type": "markdown",
   "id": "8be64ff5",
   "metadata": {},
   "source": [
    "## Floating Point Arithmetic"
   ]
  },
  {
   "cell_type": "markdown",
   "id": "bede799c",
   "metadata": {},
   "source": [
    "* behaves pretty unexpectedly"
   ]
  },
  {
   "cell_type": "code",
   "execution_count": 1,
   "id": "8d2fc2f2",
   "metadata": {},
   "outputs": [
    {
     "name": "stdout",
     "output_type": "stream",
     "text": [
      "d1 == 1 ? false\r\n"
     ]
    }
   ],
   "source": [
    "double d1 = 0.1 + 0.1 + 0.1 + 0.1 + 0.1 + 0.1 + 0.1 + 0.1 + 0.1 + 0.1;\n",
    "System.out.println(\"d1 == 1 ? \" + (d1 == 1.0));"
   ]
  },
  {
   "cell_type": "markdown",
   "id": "e16ecd7f",
   "metadata": {},
   "source": [
    "## Statements"
   ]
  },
  {
   "cell_type": "markdown",
   "id": "4acd7a75",
   "metadata": {},
   "source": [
    "* basically sentences in natural languages\n",
    "* statement forms a complete unit of execution\n",
    "* an expression can be made into a statement by terminating the expression with a semicolon (;)\n",
    "    - assignment of expressions\n",
    "    - any use of ++ or --\n",
    "    - method invocations\n",
    "    - object creation expressions\n",
    "    - such statements are called expressions statements\n",
    "* there are also 2 other kinds:\n",
    "    - declarative statements: declares a variable\n",
    "    - control flow statements: regulate order in which statements get executed"
   ]
  },
  {
   "cell_type": "code",
   "execution_count": null,
   "id": "67d79abf",
   "metadata": {},
   "outputs": [],
   "source": [
    "// assignment statement\n",
    "aValue = 8933.234;\n",
    "\n",
    "// increment statement\n",
    "aValue++;\n",
    "\n",
    "// method invocation statement\n",
    "System.out.println(\"Hello World!\");\n",
    "\n",
    "// object creation statement\n",
    "Bicycle myBike = new Bicycle();\n",
    "\n",
    "// declaration statement\n",
    "double aValue = 8933.234;"
   ]
  },
  {
   "cell_type": "markdown",
   "id": "49c32fb1",
   "metadata": {},
   "source": [
    "## Blocks"
   ]
  },
  {
   "cell_type": "markdown",
   "id": "2ec44cc7",
   "metadata": {},
   "source": [
    "* __block__: group of 0+ statements between balanced braces and can be used anywhere a single statement is allowed"
   ]
  },
  {
   "cell_type": "code",
   "execution_count": null,
   "id": "8ba9a6c3",
   "metadata": {},
   "outputs": [],
   "source": [
    "class BlockDemo {\n",
    "    public static void main(String[] args) {\n",
    "        boolean condition = true;\n",
    "        if (condition) { // begin block 1\n",
    "            System.out.println(\"Condition is true.\");\n",
    "        } // end block one\n",
    "        else { // begin block 2\n",
    "            System.out.println(\"Condition is false.\");\n",
    "        } // end block 2\n",
    "    }\n",
    "}"
   ]
  }
 ],
 "metadata": {
  "kernelspec": {
   "display_name": "Java",
   "language": "java",
   "name": "java"
  },
  "language_info": {
   "codemirror_mode": "java",
   "file_extension": ".jshell",
   "mimetype": "text/x-java-source",
   "name": "Java",
   "pygments_lexer": "java",
   "version": "21+35-2513"
  }
 },
 "nbformat": 4,
 "nbformat_minor": 5
}
