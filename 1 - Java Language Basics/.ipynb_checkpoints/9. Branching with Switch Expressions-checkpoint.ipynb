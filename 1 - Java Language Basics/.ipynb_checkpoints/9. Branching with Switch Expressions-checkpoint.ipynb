{
 "cells": [
  {
   "cell_type": "markdown",
   "id": "ba15dbb5",
   "metadata": {},
   "source": [
    "## Modifying the Switch Syntax"
   ]
  },
  {
   "cell_type": "markdown",
   "id": "631f751c",
   "metadata": {},
   "source": [
    "* switch expression: more convenient syntax for the switch keyword\n",
    "* several things motivated this new syntax:\n",
    "    1. default control flow behavior between switch labels is to fall through\n",
    "        - this is error-prone and leads to bugs in applications\n",
    "    2. switch block is treated as one block\n",
    "        - may be an impediment in the case where you need to define a variable only in one particular case\n",
    "    3. switch statement is a statement\n",
    "        - in the examples of the previous sections, a variable is given a value in each case\n",
    "        - making it an expression could lead to better and more readable code\n",
    "* syntax of switch label is now:\n",
    "    - case L ->\n",
    "    - code to the right is executed only if label matches\n",
    "        * the code can be a single expression, a block, or a throw statement\n",
    "        * b/c this code is one block, you can define variables in it that are local to this particular block\n",
    "    - this syntax also supports multiple constants per case, separated by commas\n",
    "* you can think of it like in JavaScript where you can assign an expression to a variable and that expression returns something that initializes that variable"
   ]
  },
  {
   "cell_type": "code",
   "execution_count": null,
   "id": "17ac564c",
   "metadata": {},
   "outputs": [],
   "source": [
    "// switch statement\n",
    "\n",
    "int day = ...; // any day\n",
    "int len = 0;\n",
    "switch (day) {\n",
    "    case MONDAY:\n",
    "    case FRIDAY:\n",
    "    case SUNDAY:\n",
    "        len = 6;\n",
    "        break;\n",
    "    case TUESDAY:\n",
    "        len = 7;\n",
    "        break;\n",
    "    case THURSDAY:\n",
    "    case SATURDAY:\n",
    "        len = 8;\n",
    "        break;\n",
    "    case WEDNESDAY:\n",
    "        len = 9;\n",
    "        break;\n",
    "}\n",
    "System.out.println(\"len = \" + len);"
   ]
  },
  {
   "cell_type": "code",
   "execution_count": null,
   "id": "a785c737",
   "metadata": {},
   "outputs": [],
   "source": [
    "// switch expression\n",
    "\n",
    "int day = ...; // any day\n",
    "int len =\n",
    "    switch (day) {\n",
    "        case MONDAY, FRIDAY, SUNDAY -> 6;\n",
    "        case TUESDAY                -> 7;\n",
    "        case THURSDAY, SATURDAY     -> 8;\n",
    "        case WEDNESDAY              -> 9;\n",
    "    }\n",
    "System.out.println(\"len = \" + len);"
   ]
  },
  {
   "cell_type": "markdown",
   "id": "1e367ceb",
   "metadata": {},
   "source": [
    "## Producing a Value"
   ]
  },
  {
   "cell_type": "markdown",
   "id": "924b7635",
   "metadata": {},
   "source": [
    "* if there is only one statement in the case block, the value produced by this statement is returned by the switch expression\n",
    "    - think of it like arrow functions in JavaScript\n",
    "* in the case with a block of code, you can use a yield statement to return\n",
    "    - reason why you don't use return keyword is because it leads to ambiguity\n",
    "    - yield statement is a statement that can be used in any case block of a switch statement\n",
    "        * it comes with a value that becomes the value of the enclosing switch statement"
   ]
  },
  {
   "cell_type": "code",
   "execution_count": null,
   "id": "c42c7883",
   "metadata": {},
   "outputs": [],
   "source": [
    "// Be careful, this code does NOT compile!\n",
    "public String convertToLabel(int quarter) {\n",
    "    String quarterLabel =\n",
    "        switch (quarter) {\n",
    "            case 0  -> {\n",
    "                System.out.println(\"Q1 - Winter\");\n",
    "                \n",
    "                // this return is ambiguous\n",
    "                // does it return from the switch or out of this function?\n",
    "                return \"Q1 - Winter\";\n",
    "            };\n",
    "            default -> \"Unknown quarter\";\n",
    "        };\n",
    "    }\n",
    "    return quarterLabel;\n",
    "}\n"
   ]
  },
  {
   "cell_type": "code",
   "execution_count": null,
   "id": "f90bbac3",
   "metadata": {},
   "outputs": [],
   "source": [
    "// using the yield keyword\n",
    "\n",
    "public String convertToLabel(int quarter) {\n",
    "    String quarterLabel =\n",
    "        switch (quarter) {\n",
    "            case 0  -> {\n",
    "                System.out.println(\"Q1 - Winter\");\n",
    "                yield \"Q1 - Winter\";\n",
    "            };\n",
    "            default -> \"Unknown quarter\";\n",
    "        };\n",
    "    }\n",
    "    return quarterLabel;\n",
    "}"
   ]
  },
  {
   "cell_type": "markdown",
   "id": "1ef4734d",
   "metadata": {},
   "source": [
    "## Adding a Default Clause"
   ]
  },
  {
   "cell_type": "markdown",
   "id": "cd1224f0",
   "metadata": {},
   "source": [
    "* allows your code to handle cases where the selector value does not match any case constant"
   ]
  },
  {
   "cell_type": "markdown",
   "id": "53584bed",
   "metadata": {},
   "source": [
    "## Writing Colon Case in Switch Expressions"
   ]
  },
  {
   "cell_type": "markdown",
   "id": "4df40caa",
   "metadata": {},
   "source": [
    "* switch expressions can also use a traditional case block with case L: syntax\n",
    "* using the traditional case blocks will have the fall through semantics apply\n",
    "* values are still yielded using the yield statement"
   ]
  },
  {
   "cell_type": "code",
   "execution_count": 7,
   "id": "edd32356",
   "metadata": {},
   "outputs": [
    {
     "name": "stdout",
     "output_type": "stream",
     "text": [
      "Q1 - Winter\r\n"
     ]
    }
   ],
   "source": [
    "int quarter = 0; // any value\n",
    "\n",
    "String quarterLabel =\n",
    "    switch (quarter) {\n",
    "        case 0 :  yield \"Q1 - Winter\";\n",
    "        case 1 :  yield \"Q2 - Spring\";\n",
    "        case 2 :  yield \"Q3 - Summer\";\n",
    "        case 3 :  yield \"Q3 - Summer\";\n",
    "        default: System.out.println(\"Unknown quarter\");\n",
    "                 yield \"Unknown quarter\";\n",
    "    };\n",
    "System.out.println(quarterLabel);"
   ]
  },
  {
   "cell_type": "markdown",
   "id": "2af927a0",
   "metadata": {},
   "source": [
    "## Dealing with Null Values"
   ]
  },
  {
   "cell_type": "markdown",
   "id": "33bce7da",
   "metadata": {},
   "source": [
    "* so far, switch statements do not accept null selector values\n",
    "* if you try to switch on a null value, you will get a NullPointerException"
   ]
  }
 ],
 "metadata": {
  "kernelspec": {
   "display_name": "Java",
   "language": "java",
   "name": "java"
  },
  "language_info": {
   "codemirror_mode": "java",
   "file_extension": ".jshell",
   "mimetype": "text/x-java-source",
   "name": "Java",
   "pygments_lexer": "java",
   "version": "21+35-2513"
  }
 },
 "nbformat": 4,
 "nbformat_minor": 5
}
