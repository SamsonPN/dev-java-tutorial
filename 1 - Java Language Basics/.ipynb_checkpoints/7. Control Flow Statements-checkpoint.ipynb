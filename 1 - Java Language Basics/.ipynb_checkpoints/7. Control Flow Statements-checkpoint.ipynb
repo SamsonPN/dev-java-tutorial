{
 "cells": [
  {
   "cell_type": "markdown",
   "id": "b27b2a54",
   "metadata": {},
   "source": [
    "## The If-Then Statement"
   ]
  },
  {
   "cell_type": "markdown",
   "id": "72a75b78",
   "metadata": {},
   "source": [
    "* if-then statement is the most basic of all control flow statements\n",
    "* opening and closing braces are optional, provided that the \"then\" clause contains only one statement"
   ]
  },
  {
   "cell_type": "code",
   "execution_count": 1,
   "id": "13c9caec",
   "metadata": {},
   "outputs": [],
   "source": [
    "void applyBrakes() {\n",
    "    if (isMoving){\n",
    "        currentSpeed--;\n",
    "    }\n",
    "}\n",
    "\n",
    "\n",
    "// without braces\n",
    "void applyBrakes() {\n",
    "    if (isMoving)\n",
    "        currentSpeed--;\n",
    "}"
   ]
  },
  {
   "cell_type": "markdown",
   "id": "20703d84",
   "metadata": {},
   "source": [
    "## If-Then-Else Statement"
   ]
  },
  {
   "cell_type": "markdown",
   "id": "f8489569",
   "metadata": {},
   "source": [
    "* if-then-else statement provides a secondary path of execution when an \"if\" clause evaluates to false"
   ]
  },
  {
   "cell_type": "code",
   "execution_count": 2,
   "id": "4509b994",
   "metadata": {},
   "outputs": [],
   "source": [
    "void applyBrakes() {\n",
    "    if (isMoving) {\n",
    "        currentSpeed--;\n",
    "    } else {\n",
    "        System.err.println(\"The bicycle has already stopped!\");\n",
    "    }\n",
    "}"
   ]
  },
  {
   "cell_type": "markdown",
   "id": "ce4db5c7",
   "metadata": {},
   "source": [
    "## The While and Do-while statements"
   ]
  },
  {
   "cell_type": "markdown",
   "id": "4e069f72",
   "metadata": {},
   "source": [
    "* while statement continually executes a block of statements while a particular condition is true\n",
    "* do-while statement does the same thing but executes the statement first before evaluating the condition"
   ]
  },
  {
   "cell_type": "code",
   "execution_count": 3,
   "id": "9ed581b6",
   "metadata": {},
   "outputs": [
    {
     "name": "stdout",
     "output_type": "stream",
     "text": [
      "Count is: 1\n",
      "Count is: 2\n",
      "Count is: 3\n",
      "Count is: 4\n",
      "Count is: 5\n",
      "Count is: 6\n",
      "Count is: 7\n",
      "Count is: 8\n",
      "Count is: 9\n",
      "Count is: 10\n"
     ]
    }
   ],
   "source": [
    "// while\n",
    "int count = 1;\n",
    "while (count < 11) {\n",
    "    System.out.println(\"Count is: \" + count);\n",
    "    count++;\n",
    "}"
   ]
  },
  {
   "cell_type": "code",
   "execution_count": 4,
   "id": "8040da93",
   "metadata": {},
   "outputs": [
    {
     "name": "stdout",
     "output_type": "stream",
     "text": [
      "Count is: 1\n",
      "Count is: 2\n",
      "Count is: 3\n",
      "Count is: 4\n",
      "Count is: 5\n",
      "Count is: 6\n",
      "Count is: 7\n",
      "Count is: 8\n",
      "Count is: 9\n",
      "Count is: 10\n"
     ]
    }
   ],
   "source": [
    "// do while\n",
    "int count = 1;\n",
    "do {\n",
    "    System.out.println(\"Count is: \" + count);\n",
    "    count++;\n",
    "} while (count < 11);"
   ]
  },
  {
   "cell_type": "markdown",
   "id": "f1742dba",
   "metadata": {},
   "source": [
    "## The For Statement\n",
    "\n",
    "* for statement provides a compact way to iterate over a range of values\n",
    "    - initialization expression initializes the loop; it is executed once, as the loop begins\n",
    "    - when the termination expression evalutes to false, the loop terminates\n",
    "    - the increment expression is invoked after each iteration through the loop; it is perfectly acceptable for this expression to increment or decrement a value\n",
    "* __enhanced for statement__: used for iteration through Collections and arrays\n",
    "    - recommended to use this form whenever possible"
   ]
  },
  {
   "cell_type": "code",
   "execution_count": null,
   "id": "457e61fb",
   "metadata": {},
   "outputs": [],
   "source": [
    "// general form\n",
    "for (initialization; termination; increment) {\n",
    "    statement(s)\n",
    "}"
   ]
  },
  {
   "cell_type": "code",
   "execution_count": 5,
   "id": "3e5e67f1",
   "metadata": {},
   "outputs": [
    {
     "name": "stdout",
     "output_type": "stream",
     "text": [
      "Count is: 1\n",
      "Count is: 2\n",
      "Count is: 3\n",
      "Count is: 4\n",
      "Count is: 5\n",
      "Count is: 6\n",
      "Count is: 7\n",
      "Count is: 8\n",
      "Count is: 9\n",
      "Count is: 10\n"
     ]
    }
   ],
   "source": [
    "// general for loop\n",
    "for(int i = 1; i < 11; i++){\n",
    "      System.out.println(\"Count is: \" + i);\n",
    " }"
   ]
  },
  {
   "cell_type": "code",
   "execution_count": 6,
   "id": "1f90b175",
   "metadata": {},
   "outputs": [
    {
     "name": "stdout",
     "output_type": "stream",
     "text": [
      "Count is: 1\n",
      "Count is: 2\n",
      "Count is: 3\n",
      "Count is: 4\n",
      "Count is: 5\n",
      "Count is: 6\n",
      "Count is: 7\n",
      "Count is: 8\n",
      "Count is: 9\n",
      "Count is: 10\n"
     ]
    }
   ],
   "source": [
    "// enhanced for loop for collections and arrays\n",
    "int[] numbers = {1, 2, 3, 4, 5, 6, 7, 8, 9, 10};\n",
    "\n",
    "// item holds the current value from the numbers array\n",
    "for (int item: numbers) {\n",
    "    System.out.println(\"Count is: \" + item);\n",
    "}"
   ]
  },
  {
   "cell_type": "markdown",
   "id": "1937be10",
   "metadata": {},
   "source": [
    "## The Break Statement"
   ]
  },
  {
   "cell_type": "markdown",
   "id": "3d45f950",
   "metadata": {},
   "source": [
    "* break statement has 2 forms:\n",
    "    1. labeled: terminates an __outer statement__\n",
    "        - so if you have a nested for-loop, you can actually break out of the outermost loop\n",
    "        - you have to label the outermost loop though\n",
    "            * in the example below, the outermost for-loop is labeled search\n",
    "    2. unlabeled: used to terminate a __for, while, or do-while loop__\n",
    "        - terminates the innermost switch, for, while"
   ]
  },
  {
   "cell_type": "code",
   "execution_count": 8,
   "id": "c9370138",
   "metadata": {},
   "outputs": [
    {
     "name": "stdout",
     "output_type": "stream",
     "text": [
      "Found 12 at index 4\r\n"
     ]
    }
   ],
   "source": [
    "// unlabeled break for for, while, or do-while loop\n",
    "int[] arrayOfInts =\n",
    "    { 32, 87, 3, 589,\n",
    "      12, 1076, 2000,\n",
    "      8, 622, 127 };\n",
    "int searchfor = 12;\n",
    "\n",
    "int i;\n",
    "boolean foundIt = false;\n",
    "\n",
    "for (i = 0; i < arrayOfInts.length; i++) {\n",
    "    if (arrayOfInts[i] == searchfor) {\n",
    "        foundIt = true;\n",
    "        // breaks out of loop when arrayofInts[i] == 12\n",
    "        break;\n",
    "    }\n",
    "}\n",
    "\n",
    "if (foundIt) {\n",
    "    System.out.println(\"Found \" + searchfor + \" at index \" + i);\n",
    "} \n",
    "else {\n",
    "    System.out.println(searchfor + \" not in the array\");\n",
    "}"
   ]
  },
  {
   "cell_type": "code",
   "execution_count": 9,
   "id": "fa636c33",
   "metadata": {},
   "outputs": [
    {
     "name": "stdout",
     "output_type": "stream",
     "text": [
      "Found 12 at 1, 0\r\n"
     ]
    }
   ],
   "source": [
    "// labeled break for outer statements\n",
    "    int[][] arrayOfInts = {\n",
    "        {  32,   87,    3, 589 },\n",
    "        {  12, 1076, 2000,   8 },\n",
    "        { 622,  127,   77, 955 }\n",
    "    };\n",
    "    int searchfor = 12;\n",
    "\n",
    "    int i;\n",
    "    int j = 0;\n",
    "    boolean foundIt = false;\n",
    "\n",
    "// search is the label of the outermost for loop\n",
    "search:\n",
    "    for (i = 0; i < arrayOfInts.length; i++) {\n",
    "        for (j = 0; j < arrayOfInts[i].length;\n",
    "             j++) {\n",
    "            if (arrayOfInts[i][j] == searchfor) {\n",
    "                foundIt = true;\n",
    "                \n",
    "                // breaking out of the outermost loop\n",
    "                break search;\n",
    "            }\n",
    "        }\n",
    "    }\n",
    "\n",
    "    if (foundIt) {\n",
    "        System.out.println(\"Found \" + searchfor + \" at \" + i + \", \" + j);\n",
    "    } else {\n",
    "        System.out.println(searchfor + \" not in the array\");\n",
    "    }\n"
   ]
  },
  {
   "cell_type": "markdown",
   "id": "b61e6883",
   "metadata": {},
   "source": [
    "## The Continue Statement"
   ]
  },
  {
   "cell_type": "markdown",
   "id": "a93b1980",
   "metadata": {},
   "source": [
    "* continue statement skips the current iteration of a for, while, do-while loop\n",
    "* the unlabeled form skips to the end of the innermost loop's body and evaluates the boolean expression that controls the loop\n",
    "* a labeled continue statement skips the current iteration of an outer loop marked with the given label"
   ]
  },
  {
   "cell_type": "code",
   "execution_count": 11,
   "id": "c736ce15",
   "metadata": {},
   "outputs": [
    {
     "name": "stdout",
     "output_type": "stream",
     "text": [
      "Found 9 p's in the string.\r\n"
     ]
    }
   ],
   "source": [
    "// unlabeled continue\n",
    "String searchMe = \"peter piper picked a \" + \"peck of pickled peppers\";\n",
    "int max = searchMe.length();\n",
    "int numPs = 0;\n",
    "\n",
    "for (int i = 0; i < max; i++) {\n",
    "    // interested only in p's\n",
    "    if (searchMe.charAt(i) != 'p')\n",
    "        continue;\n",
    "\n",
    "    // process p's\n",
    "    numPs++;\n",
    "}\n",
    "System.out.println(\"Found \" + numPs + \" p's in the string.\");"
   ]
  },
  {
   "cell_type": "code",
   "execution_count": 12,
   "id": "92ba0a45",
   "metadata": {},
   "outputs": [
    {
     "name": "stdout",
     "output_type": "stream",
     "text": [
      "Found it\r\n"
     ]
    }
   ],
   "source": [
    "// labeled continue\n",
    "\n",
    "    String searchMe = \"Look for a substring in me\";\n",
    "    String substring = \"sub\";\n",
    "    boolean foundIt = false;\n",
    "\n",
    "    int max = searchMe.length() -\n",
    "              substring.length();\n",
    "\n",
    "// labeled outer for loop\n",
    "test:\n",
    "    for (int i = 0; i <= max; i++) {\n",
    "        int n = substring.length();\n",
    "        int j = i;\n",
    "        int k = 0;\n",
    "        while (n-- != 0) {\n",
    "            if (searchMe.charAt(j++) != substring.charAt(k++)) {\n",
    "                continue test;\n",
    "            }\n",
    "        }\n",
    "        foundIt = true;\n",
    "            break test;\n",
    "    }\n",
    "    System.out.println(foundIt ? \"Found it\" : \"Didn't find it\");\n"
   ]
  },
  {
   "cell_type": "markdown",
   "id": "ef368ab0",
   "metadata": {},
   "source": [
    "## The Return Statement"
   ]
  },
  {
   "cell_type": "markdown",
   "id": "ec50ec93",
   "metadata": {},
   "source": [
    "* return statement exits from the current method and control flow returns to where the method was invoked\n",
    "* return statement has 2 forms:\n",
    "    1. returns a value: simply put the value or en expression that calculates the value after the return keyword\n",
    "        - data type of the returned value must match the type of the method's declared return value\n",
    "    2. does not return a value\n",
    "        - use this when a method is declared void"
   ]
  },
  {
   "cell_type": "code",
   "execution_count": null,
   "id": "1abc4551",
   "metadata": {},
   "outputs": [],
   "source": [
    "// returns a value\n",
    "return ++count;\n",
    "\n",
    "// method type is void and doesn't return anything\n",
    "return;"
   ]
  },
  {
   "cell_type": "markdown",
   "id": "d5fc076f",
   "metadata": {},
   "source": [
    "## The Yield Statement"
   ]
  },
  {
   "cell_type": "markdown",
   "id": "a2d6fb87",
   "metadata": {},
   "source": [
    "* yield statement exits from the current switch expression it is in\n",
    "* always followed by an expression that must produce a value\n",
    "    - expression must not be void\n",
    "    - the value of this expression is the value produced by the enclosing switch expression\n",
    "* basically, you can return a value from the enclosing switch statement using yield when you need a full block\n",
    "    - in the example below, case SATURDAY, SUNDAY uses arrows to yield the value \"week-end\"\n",
    "    - but for the default case, it required a block so it yields whatever is calculated in that block"
   ]
  },
  {
   "cell_type": "code",
   "execution_count": 28,
   "id": "a00c98dd",
   "metadata": {},
   "outputs": [
    {
     "name": "stdout",
     "output_type": "stream",
     "text": [
      "week-end\n",
      "5\n"
     ]
    }
   ],
   "source": [
    "enum Day {\n",
    "    MONDAY, TUESDAY, WEDNESDAY, THURSDAY, FRIDAY, SATURDAY, SUNDAY\n",
    "}\n",
    "\n",
    "public String calculate(Day d) {\n",
    "    return switch (d) {\n",
    "        case SATURDAY, SUNDAY -> \"week-end\";\n",
    "        default -> {\n",
    "            int remainingWorkDays = 5 - d.ordinal();\n",
    "            yield \"\" + remainingWorkDays;\n",
    "        }\n",
    "    };\n",
    "}\n",
    "\n",
    "System.out.println(calculate(Day.SATURDAY));\n",
    "System.out.println(calculate(Day.MONDAY));"
   ]
  },
  {
   "cell_type": "code",
   "execution_count": 33,
   "id": "6a6d6d9a",
   "metadata": {},
   "outputs": [
    {
     "name": "stdout",
     "output_type": "stream",
     "text": [
      "week-end\n",
      "week-end\n",
      "5\n"
     ]
    }
   ],
   "source": [
    "enum Day {\n",
    "    MONDAY, TUESDAY, WEDNESDAY, THURSDAY, FRIDAY, SATURDAY, SUNDAY\n",
    "}\n",
    "\n",
    "public String calculate(Day d) {\n",
    "    return switch (d) {\n",
    "        case SATURDAY, SUNDAY: \n",
    "            yield \"week-end\";\n",
    "        default:\n",
    "            int remainingWorkDays = 5 - d.ordinal();\n",
    "            yield \"\" + remainingWorkDays;\n",
    "    };\n",
    "}\n",
    "\n",
    "System.out.println(calculate(Day.SATURDAY));\n",
    "System.out.println(calculate(Day.SUNDAY));\n",
    "System.out.println(calculate(Day.MONDAY));"
   ]
  }
 ],
 "metadata": {
  "kernelspec": {
   "display_name": "Java",
   "language": "java",
   "name": "java"
  },
  "language_info": {
   "codemirror_mode": "java",
   "file_extension": ".jshell",
   "mimetype": "text/x-java-source",
   "name": "Java",
   "pygments_lexer": "java",
   "version": "21+35-2513"
  }
 },
 "nbformat": 4,
 "nbformat_minor": 5
}
