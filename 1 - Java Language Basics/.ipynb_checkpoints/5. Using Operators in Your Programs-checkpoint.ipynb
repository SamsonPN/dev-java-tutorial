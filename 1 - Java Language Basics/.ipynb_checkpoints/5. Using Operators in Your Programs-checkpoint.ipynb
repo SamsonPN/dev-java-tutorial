{
 "cells": [
  {
   "cell_type": "markdown",
   "id": "73aaad65",
   "metadata": {},
   "source": [
    "## Operators"
   ]
  },
  {
   "cell_type": "markdown",
   "id": "bbc8db07",
   "metadata": {},
   "source": [
    "* __operators__: special symbols that perform specific operations one 1, 2, or 3 operands then return a result\n",
    "    - operators have a precedence\n",
    "        * operators with higher precedence are evaluated before operators with relatively lower precedence\n",
    "* the table below is orderered from highest to lowest precedence\n",
    "    - operators on the same line have equal precedence\n",
    "* when operators of equal precedence appear in the same expression the rule is that:\n",
    "    - binary operators, except for assignment operators, are evaluated from left to right\n",
    "    - assignment operators are evaluated right to left"
   ]
  },
  {
   "cell_type": "markdown",
   "id": "eec6d941",
   "metadata": {},
   "source": [
    "* Operators \t\n",
    "    - Precedence\n",
    "* postfix \t\n",
    "    - expr++ expr--\n",
    "* unary: \t\n",
    "    - ++expr --expr +expr -expr ~ !\n",
    "* multiplicative \t\n",
    "    - * / %\n",
    "* additive \t\n",
    "    - + -\n",
    "* shift \t\n",
    "    - << >> >>>\n",
    "* relational \t\n",
    "    - < > <= >= instanceof\n",
    "* equality \t\n",
    "    - == !=\n",
    "* bitwise AND \t\n",
    "    - &\n",
    "* bitwise exclusive OR \t\n",
    "    - ^\n",
    "* bitwise inclusive OR \t\n",
    "    - |\n",
    "* logical AND \t\n",
    "    - &&\n",
    "* logical OR \t\n",
    "    - ||\n",
    "* ternary \t\n",
    "    - ? :\n",
    "* assignment \t\n",
    "    - = += -= *= /= %= &= ^= |= <<= >>= >>>="
   ]
  },
  {
   "cell_type": "markdown",
   "id": "30224355",
   "metadata": {},
   "source": [
    "## The Simple Assignment Operator"
   ]
  },
  {
   "cell_type": "markdown",
   "id": "40e2ecef",
   "metadata": {},
   "source": [
    "* assigns value on its right to the operand on its left\n",
    "* can also be used on objects to assign object references"
   ]
  },
  {
   "cell_type": "code",
   "execution_count": 1,
   "id": "de02dc56",
   "metadata": {},
   "outputs": [],
   "source": [
    "int cadence = 0;\n",
    "int speed = 0;\n",
    "int gear = 1;"
   ]
  },
  {
   "cell_type": "markdown",
   "id": "1e3a7eaa",
   "metadata": {},
   "source": [
    "## The Arithmetic Operators"
   ]
  },
  {
   "cell_type": "markdown",
   "id": "0297f842",
   "metadata": {},
   "source": [
    "* +: addition\n",
    "    - can also be used for concatenating 2 strings\n",
    "* -: subtraction \n",
    "* \\*: multiplication\n",
    "* /: division\n",
    "* %: remainder"
   ]
  },
  {
   "cell_type": "code",
   "execution_count": 2,
   "id": "14bfe328",
   "metadata": {},
   "outputs": [
    {
     "name": "stdout",
     "output_type": "stream",
     "text": [
      "1 + 2 = 3\n",
      "3 - 1 = 2\n",
      "2 * 2 = 4\n",
      "4 / 2 = 2\n",
      "2 + 8 = 10\n",
      "10 % 7 = 3\n"
     ]
    }
   ],
   "source": [
    "int result = 1 + 2;\n",
    "// result is now 3\n",
    "System.out.println(\"1 + 2 = \" + result);\n",
    "int original_result = result;\n",
    "\n",
    "result = result - 1;\n",
    "// result is now 2\n",
    "System.out.println(original_result + \" - 1 = \" + result);\n",
    "original_result = result;\n",
    "\n",
    "result = result * 2;\n",
    "// result is now 4\n",
    "System.out.println(original_result + \" * 2 = \" + result);\n",
    "original_result = result;\n",
    "\n",
    "result = result / 2;\n",
    "// result is now 2\n",
    "System.out.println(original_result + \" / 2 = \" + result);\n",
    "original_result = result;\n",
    "\n",
    "result = result + 8;\n",
    "// result is now 10\n",
    "System.out.println(original_result + \" + 8 = \" + result);\n",
    "original_result = result;\n",
    "\n",
    "result = result % 7;\n",
    "// result is now 3\n",
    "System.out.println(original_result + \" % 7 = \" + result);"
   ]
  },
  {
   "cell_type": "code",
   "execution_count": 4,
   "id": "b9645a84",
   "metadata": {},
   "outputs": [
    {
     "name": "stdout",
     "output_type": "stream",
     "text": [
      "This is a concatenated string.\r\n"
     ]
    }
   ],
   "source": [
    "String firstString = \"This is\";\n",
    "String secondString = \" a concatenated string.\";\n",
    "String thirdString = firstString+secondString;\n",
    "System.out.println(thirdString);"
   ]
  },
  {
   "cell_type": "markdown",
   "id": "a8995ef7",
   "metadata": {},
   "source": [
    "## The Unary Operators"
   ]
  },
  {
   "cell_type": "markdown",
   "id": "18435a32",
   "metadata": {},
   "source": [
    "* require only 1 operand\n",
    "* +: unary plus operator; indicates positive value (numbers are positive without; however)\n",
    "* -: unary minus operator; negates an expression\n",
    "* ++: increment operator\n",
    "* --: decrement operator\n",
    "* !: logical complement operator; inverts the value of a boolean"
   ]
  },
  {
   "cell_type": "code",
   "execution_count": 5,
   "id": "7071643d",
   "metadata": {},
   "outputs": [
    {
     "name": "stdout",
     "output_type": "stream",
     "text": [
      "1\n",
      "0\n",
      "1\n",
      "-1\n",
      "false\n",
      "true\n"
     ]
    }
   ],
   "source": [
    "int result = +1;\n",
    "// result is now 1\n",
    "System.out.println(result);\n",
    "\n",
    "result--;\n",
    "// result is now 0\n",
    "System.out.println(result);\n",
    "\n",
    "result++;\n",
    "// result is now 1\n",
    "System.out.println(result);\n",
    "\n",
    "result = -result;\n",
    "// result is now -1\n",
    "System.out.println(result);\n",
    "\n",
    "boolean success = false;\n",
    "// false\n",
    "System.out.println(success);\n",
    "// true\n",
    "System.out.println(!success);"
   ]
  },
  {
   "cell_type": "markdown",
   "id": "c99567f4",
   "metadata": {},
   "source": [
    "* the increment/decrement operators can be applied before (prefix) or after (postfix) the operand\n",
    "    - the code result++; and ++result; will both end in the result being incremented by one\n",
    "    - the only difference is that the prefix version (++result) evaluates to the incremented value whereas the postfix version (result++) evaluates to the original value\n",
    "* if you only want to increment/decrement, then this doesn't matter but if you use this in a larger expression, it can make a difference"
   ]
  },
  {
   "cell_type": "code",
   "execution_count": 7,
   "id": "c683f49b",
   "metadata": {},
   "outputs": [
    {
     "name": "stdout",
     "output_type": "stream",
     "text": [
      "4\n",
      "5\n",
      "6\n",
      "6\n",
      "7\n"
     ]
    }
   ],
   "source": [
    "int i = 3;\n",
    "i++;\n",
    "// prints 4\n",
    "System.out.println(i);\n",
    "++i;               \n",
    "// prints 5\n",
    "System.out.println(i);\n",
    "// prints 6\n",
    "System.out.println(++i);\n",
    "// prints 6\n",
    "System.out.println(i++);\n",
    "// prints 7\n",
    "System.out.println(i);"
   ]
  },
  {
   "cell_type": "markdown",
   "id": "c1b5bc62",
   "metadata": {},
   "source": [
    "## The Equality and Relational Operators"
   ]
  },
  {
   "cell_type": "markdown",
   "id": "30a883ea",
   "metadata": {},
   "source": [
    "* ==: equal to\n",
    "* !=: not equal to\n",
    "* \\>: greater than\n",
    "* \\>=: greater than or equal to\n",
    "* \\<: less than\n",
    "* <=: less than or equal to"
   ]
  },
  {
   "cell_type": "code",
   "execution_count": 8,
   "id": "1ed7bba3",
   "metadata": {},
   "outputs": [
    {
     "name": "stdout",
     "output_type": "stream",
     "text": [
      "value1 != value2\n",
      "value1 < value2\n",
      "value1 <= value2\n"
     ]
    }
   ],
   "source": [
    "int value1 = 1;\n",
    "int value2 = 2;\n",
    "if(value1 == value2)\n",
    "    System.out.println(\"value1 == value2\");\n",
    "if(value1 != value2)\n",
    "    System.out.println(\"value1 != value2\");\n",
    "if(value1 > value2)\n",
    "    System.out.println(\"value1 > value2\");\n",
    "if(value1 < value2)\n",
    "    System.out.println(\"value1 < value2\");\n",
    "if(value1 <= value2)\n",
    "    System.out.println(\"value1 <= value2\");"
   ]
  },
  {
   "cell_type": "markdown",
   "id": "52985a54",
   "metadata": {},
   "source": [
    "## The Conditional Operators"
   ]
  },
  {
   "cell_type": "markdown",
   "id": "f77e0f7e",
   "metadata": {},
   "source": [
    "* &&: conditional-AND\n",
    "* ||: conditional-OR\n",
    "* able to be \"short-circuited\"\n",
    "    - second operand is evaluated only if needed\n",
    "* ? value1 : value2: ternary operator"
   ]
  },
  {
   "cell_type": "code",
   "execution_count": 9,
   "id": "42540502",
   "metadata": {},
   "outputs": [
    {
     "name": "stdout",
     "output_type": "stream",
     "text": [
      "value1 is 1 AND value2 is 2\n",
      "value1 is 1 OR value2 is 1\n"
     ]
    }
   ],
   "source": [
    "int value1 = 1;\n",
    "int value2 = 2;\n",
    "if ((value1 == 1) && (value2 == 2))\n",
    "    System.out.println(\"value1 is 1 AND value2 is 2\");\n",
    "if ((value1 == 1) || (value2 == 1))\n",
    "    System.out.println(\"value1 is 1 OR value2 is 1\");"
   ]
  },
  {
   "cell_type": "code",
   "execution_count": 10,
   "id": "1e218291",
   "metadata": {},
   "outputs": [
    {
     "name": "stdout",
     "output_type": "stream",
     "text": [
      "1\r\n"
     ]
    }
   ],
   "source": [
    "int value1 = 1;\n",
    "int value2 = 2;\n",
    "int result;\n",
    "boolean someCondition = true;\n",
    "result = someCondition ? value1 : value2;\n",
    "\n",
    "System.out.println(result);"
   ]
  },
  {
   "cell_type": "markdown",
   "id": "53345575",
   "metadata": {},
   "source": [
    "## The Type Comparison Operator Instanceof"
   ]
  },
  {
   "cell_type": "markdown",
   "id": "86b55317",
   "metadata": {},
   "source": [
    "* instanceof operator compares an object to a specified type\n",
    "    - can test if an object is an instance of a class, instance of a subclass, or an instance of a class that implements a particular interface\n",
    "* null is NOT an instance of anything"
   ]
  },
  {
   "cell_type": "code",
   "execution_count": 14,
   "id": "6f77de2f",
   "metadata": {},
   "outputs": [
    {
     "name": "stdout",
     "output_type": "stream",
     "text": [
      "obj1 instanceof Parent: true\n",
      "obj1 instanceof Child: false\n",
      "obj1 instanceof MyInterface: false\n",
      "obj2 instanceof Parent: true\n",
      "obj2 instanceof Child: true\n",
      "obj2 instanceof MyInterface: true\n"
     ]
    }
   ],
   "source": [
    "// child class that inherits from the parent and it also implements the interface\n",
    "class Parent {}\n",
    "interface MyInterface {}\n",
    "class Child extends Parent implements MyInterface {}\n",
    "\n",
    "Parent obj1 = new Parent();\n",
    "Parent obj2 = new Child();\n",
    "\n",
    "\n",
    "System.out.println(\"obj1 instanceof Parent: \"\n",
    "    + (obj1 instanceof Parent));\n",
    "System.out.println(\"obj1 instanceof Child: \"\n",
    "    + (obj1 instanceof Child));\n",
    "System.out.println(\"obj1 instanceof MyInterface: \"\n",
    "    + (obj1 instanceof MyInterface));\n",
    "System.out.println(\"obj2 instanceof Parent: \"\n",
    "    + (obj2 instanceof Parent));\n",
    "System.out.println(\"obj2 instanceof Child: \"\n",
    "    + (obj2 instanceof Child));\n",
    "System.out.println(\"obj2 instanceof MyInterface: \"\n",
    "    + (obj2 instanceof MyInterface));"
   ]
  },
  {
   "cell_type": "markdown",
   "id": "6fb5d903",
   "metadata": {},
   "source": [
    "## Bitwise and Bit Shift Operators"
   ]
  },
  {
   "cell_type": "markdown",
   "id": "8688f7ef",
   "metadata": {},
   "source": [
    "* operators that perform bitwise and bit shift operators on integral types\n",
    "* ~: unary bitwise complement operator inverts a bit pattern\n",
    "    - can be applied to any of the integral types\n",
    "    - makes a \"0\" a \"1\" and vice versa\n",
    "* \\<<: signed left shit operator\n",
    "    - shifts a bit pattern to the left\n",
    "* \\>>: signed right shifter operator\n",
    "    - shifts a bit pattern to the right\n",
    "    - bit pattern is given by the left-hand operand and the number of positions to shift by the right-hand operand\n",
    "* \\>>>: unsigned right shift operator\n",
    "    - shifts a zero into the leftmost position while the leftmost position after >> depends on sign extension\n",
    "* &: bitwise AND\n",
    "* ^: bitwise exclusive OR\n",
    "* |: bitwise inclusive OR"
   ]
  },
  {
   "cell_type": "code",
   "execution_count": 16,
   "id": "ac481554",
   "metadata": {},
   "outputs": [
    {
     "name": "stdout",
     "output_type": "stream",
     "text": [
      "2\r\n"
     ]
    }
   ],
   "source": [
    "int bitmask = 0x000F;\n",
    "int val = 0x2222;\n",
    "// prints \"2\"\n",
    "System.out.println(val & bitmask);"
   ]
  }
 ],
 "metadata": {
  "kernelspec": {
   "display_name": "Java",
   "language": "java",
   "name": "java"
  },
  "language_info": {
   "codemirror_mode": "java",
   "file_extension": ".jshell",
   "mimetype": "text/x-java-source",
   "name": "Java",
   "pygments_lexer": "java",
   "version": "21+35-2513"
  }
 },
 "nbformat": 4,
 "nbformat_minor": 5
}
