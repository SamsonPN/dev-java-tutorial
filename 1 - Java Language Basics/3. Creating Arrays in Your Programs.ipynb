{
 "cells": [
  {
   "cell_type": "markdown",
   "id": "a44d80fe",
   "metadata": {},
   "source": [
    "## Creating Arrays in Your Programs"
   ]
  },
  {
   "cell_type": "markdown",
   "id": "55b3dba9",
   "metadata": {},
   "source": [
    "* __array__: container object that holds a __fixed__ number of values of a __single type__\n",
    "    - array length established when array is created\n",
    "    - after creation, length is fixed\n",
    "    - element = item in array accessible by its index"
   ]
  },
  {
   "cell_type": "code",
   "execution_count": 3,
   "id": "61b52609",
   "metadata": {},
   "outputs": [
    {
     "name": "stdout",
     "output_type": "stream",
     "text": [
      "Element at index 0: 100\n",
      "Element at index 1: 200\n",
      "Element at index 2: 300\n",
      "Element at index 3: 400\n",
      "Element at index 4: 500\n",
      "Element at index 5: 600\n",
      "Element at index 6: 700\n",
      "Element at index 7: 800\n",
      "Element at index 8: 900\n",
      "Element at index 9: 1000\n"
     ]
    }
   ],
   "source": [
    "// declares an array of integers\n",
    "int[] anArray;\n",
    "\n",
    "// allocates memory for 10 integers\n",
    "anArray = new int[10];\n",
    "\n",
    "// initialize first element\n",
    "anArray[0] = 100;\n",
    "// initialize second element\n",
    "anArray[1] = 200;\n",
    "// and so forth\n",
    "anArray[2] = 300;\n",
    "anArray[3] = 400;\n",
    "anArray[4] = 500;\n",
    "anArray[5] = 600;\n",
    "anArray[6] = 700;\n",
    "anArray[7] = 800;\n",
    "anArray[8] = 900;\n",
    "anArray[9] = 1000;\n",
    "\n",
    "System.out.println(\"Element at index 0: \"\n",
    "                   + anArray[0]);\n",
    "System.out.println(\"Element at index 1: \"\n",
    "                   + anArray[1]);\n",
    "System.out.println(\"Element at index 2: \"\n",
    "                   + anArray[2]);\n",
    "System.out.println(\"Element at index 3: \"\n",
    "                   + anArray[3]);\n",
    "System.out.println(\"Element at index 4: \"\n",
    "                   + anArray[4]);\n",
    "System.out.println(\"Element at index 5: \"\n",
    "                   + anArray[5]);\n",
    "System.out.println(\"Element at index 6: \"\n",
    "                   + anArray[6]);\n",
    "System.out.println(\"Element at index 7: \"\n",
    "                   + anArray[7]);\n",
    "System.out.println(\"Element at index 8: \"\n",
    "                   + anArray[8]);\n",
    "System.out.println(\"Element at index 9: \"\n",
    "                   + anArray[9]);"
   ]
  },
  {
   "cell_type": "markdown",
   "id": "6e6559e3",
   "metadata": {},
   "source": [
    "## Declaring a Variable to Refer to an Array"
   ]
  },
  {
   "cell_type": "markdown",
   "id": "c9a57c55",
   "metadata": {},
   "source": [
    "* an array declaration has 2 components:\n",
    "    - an array's type and the array's name\n",
    "    - array type written as type[]\n",
    "        * type = data type of the contained elements\n",
    "        * [] = indicates that this variable holds an array\n",
    "        * size of array is not part of its type"
   ]
  },
  {
   "cell_type": "code",
   "execution_count": null,
   "id": "191925e7",
   "metadata": {},
   "outputs": [],
   "source": [
    "// declares an array of integers\n",
    "int[] anArray;\n",
    "\n",
    "byte[] anArrayOfBytes;\n",
    "short[] anArrayOfShorts;\n",
    "long[] anArrayOfLongs;\n",
    "float[] anArrayOfFloats;\n",
    "double[] anArrayOfDoubles;\n",
    "boolean[] anArrayOfBooleans;\n",
    "char[] anArrayOfChars;\n",
    "String[] anArrayOfStrings;"
   ]
  },
  {
   "cell_type": "markdown",
   "id": "1ba37939",
   "metadata": {},
   "source": [
    "## Creating, Initializing, and Accessing an Array"
   ]
  },
  {
   "cell_type": "markdown",
   "id": "c986e5d0",
   "metadata": {},
   "source": [
    "* one way to create an array is with the new operator"
   ]
  },
  {
   "cell_type": "code",
   "execution_count": 4,
   "id": "a9d0f3d6",
   "metadata": {},
   "outputs": [
    {
     "name": "stdout",
     "output_type": "stream",
     "text": [
      "Element 1 at index 0: 100\n",
      "Element 2 at index 1: 200\n",
      "Element 3 at index 2: 300\n"
     ]
    }
   ],
   "source": [
    "// create an array of integers\n",
    "anArray = new int[10];\n",
    "\n",
    "anArray[0] = 100; // initialize first element\n",
    "anArray[1] = 200; // initialize second element\n",
    "anArray[2] = 300; // and so forth\n",
    "\n",
    "System.out.println(\"Element 1 at index 0: \" + anArray[0]);\n",
    "System.out.println(\"Element 2 at index 1: \" + anArray[1]);\n",
    "System.out.println(\"Element 3 at index 2: \" + anArray[2]);"
   ]
  },
  {
   "cell_type": "code",
   "execution_count": 9,
   "id": "a191a867",
   "metadata": {},
   "outputs": [
    {
     "name": "stdout",
     "output_type": "stream",
     "text": [
      "10\r\n"
     ]
    }
   ],
   "source": [
    "// alternative shortcut syntax to create/initialize an array\n",
    "// here, the length of the array is determined by the number of values between braces\n",
    "// and separated by commas\n",
    "int[] anArray = {\n",
    "    100, 200, 300,\n",
    "    400, 500, 600,\n",
    "    700, 800, 900, 1000\n",
    "};\n",
    "\n",
    "System.out.println(anArray.length);"
   ]
  },
  {
   "cell_type": "code",
   "execution_count": 8,
   "id": "dee2fa97",
   "metadata": {},
   "outputs": [
    {
     "name": "stdout",
     "output_type": "stream",
     "text": [
      "Mr. Smith\n",
      "Ms. Jones\n"
     ]
    }
   ],
   "source": [
    "// can also create multidimensional arrays whose components themselves are arrays\n",
    "// rows are allowed to vary in length\n",
    "\n",
    "String[][] names = {\n",
    "    {\"Mr. \", \"Mrs. \", \"Ms. \"},\n",
    "    {\"Smith\", \"Jones\"}\n",
    "};\n",
    "// Mr. Smith\n",
    "System.out.println(names[0][0] + names[1][0]);\n",
    "// Ms. Jones\n",
    "System.out.println(names[0][2] + names[1][1]);\n"
   ]
  },
  {
   "cell_type": "markdown",
   "id": "521edb76",
   "metadata": {},
   "source": [
    "## Copying Arrays"
   ]
  },
  {
   "cell_type": "markdown",
   "id": "f0abc949",
   "metadata": {},
   "source": [
    "* the System class has an arrayCopy() method to efficiently copy data from one array into another\n",
    "    - the 2 Object arguments specify the array to copy from and the array to copy to\n",
    "    - the 3 int arguments specify the starting position in the source array, the starting position in the destination array and the number of array elements to copy"
   ]
  },
  {
   "cell_type": "code",
   "execution_count": null,
   "id": "b5ff5d34",
   "metadata": {},
   "outputs": [],
   "source": [
    "public static void arraycopy(Object src, int srcPos,\n",
    "                             Object dest, int destPos, int length);"
   ]
  },
  {
   "cell_type": "code",
   "execution_count": 10,
   "id": "8f8944ae",
   "metadata": {},
   "outputs": [
    {
     "name": "stdout",
     "output_type": "stream",
     "text": [
      "Cappuccino Corretto Cortado Doppio Espresso Frappucino Freddo "
     ]
    }
   ],
   "source": [
    "String[] copyFrom = {\n",
    "    \"Affogato\", \"Americano\", \"Cappuccino\", \"Corretto\", \"Cortado\",\n",
    "    \"Doppio\", \"Espresso\", \"Frappucino\", \"Freddo\", \"Lungo\", \"Macchiato\",\n",
    "    \"Marocchino\", \"Ristretto\" };\n",
    "\n",
    "String[] copyTo = new String[7];\n",
    "System.arraycopy(copyFrom, 2, copyTo, 0, 7);\n",
    "\n",
    "for (String coffee : copyTo) {\n",
    "    System.out.print(coffee + \" \");\n",
    "}\n"
   ]
  },
  {
   "cell_type": "markdown",
   "id": "d1f25c22",
   "metadata": {},
   "source": [
    "## Array Manipulations"
   ]
  },
  {
   "cell_type": "markdown",
   "id": "cc037e53",
   "metadata": {},
   "source": [
    "* java.util.Arrays class provides several methods for performing array manipulations\n",
    "* .copyOfRange:\n",
    "    - makes a copy of an array using the given range\n",
    "    - start index = inclusive, end index = exclusive (similar to an slice)\n",
    "* .binarySearch:\n",
    "    - searches for a specific value at that index\n",
    "* .equals():\n",
    "    - compares 2 arrays to determine if they are equal\n",
    "* .fill():\n",
    "    - fills an array to place a specific value at each index\n",
    "* .sort():\n",
    "    - sorts an array in ascending order\n",
    "    - can be done sequentially using .sort() or concurrently using .parallelSort()\n",
    "        * .parallelSort() of large arrays on multiprocessor systems is faster than sequential array sorting\n",
    "* .stream():\n",
    "    - creates a stream that uses an array as its source (stream() method)\n",
    "* .toString():\n",
    "    - converts an array to a string\n",
    "    - converts each element of array to a string, separates them with commas, then surrounds them with brackets"
   ]
  },
  {
   "cell_type": "code",
   "execution_count": 25,
   "id": "0f3067d5",
   "metadata": {},
   "outputs": [
    {
     "name": "stdout",
     "output_type": "stream",
     "text": [
      "Cappuccino Corretto Cortado Doppio Espresso Frappucino Freddo \n",
      "\n",
      "Using a stream:\n",
      "Cappuccino Corretto Cortado Doppio Espresso Frappucino Freddo \n",
      "toString: \n",
      "[Cappuccino, Corretto, Cortado, Doppio, Espresso, Frappucino, Freddo]\n"
     ]
    }
   ],
   "source": [
    "String[] copyFrom = {\n",
    "    \"Affogato\", \"Americano\", \"Cappuccino\", \"Corretto\", \"Cortado\",\n",
    "    \"Doppio\", \"Espresso\", \"Frappucino\", \"Freddo\", \"Lungo\", \"Macchiato\",\n",
    "    \"Marocchino\", \"Ristretto\" };\n",
    "\n",
    "// does not require creating the destination array since .copyOfRange returns it\n",
    "String[] copyTo = java.util.Arrays.copyOfRange(copyFrom, 2, 9);\n",
    "for (String coffee : copyTo) {\n",
    "    System.out.print(coffee + \" \");\n",
    "}\n",
    "\n",
    "\n",
    "// creates a stream and prints out the contents of the copyto array similar to the for-loop above\n",
    "System.out.println(\"\\n\\nUsing a stream:\");\n",
    "java.util.Arrays.stream(copyTo).map(coffee -> coffee + \" \").forEach(System.out::print);\n",
    "\n",
    "// toString\n",
    "System.out.println(\"\\ntoString: \\n\" + java.util.Arrays.toString(copyTo));"
   ]
  },
  {
   "cell_type": "markdown",
   "id": "4d022108",
   "metadata": {},
   "source": [
    "## Wrapping-up Variables and Arrays"
   ]
  },
  {
   "cell_type": "markdown",
   "id": "29b6f308",
   "metadata": {},
   "source": [
    "* Java uses both \"fields\" and \"variables\" as part of its terminology\n",
    "    - instance variables (non-static fields) = unique to each instance of a class\n",
    "    - class variables (static fields) are fields declared with the static modifier\n",
    "        * there is exactly one copy of a class variable regardless of how many times the class has been instantiated\n",
    "    - local variables store temporary state inside a method\n",
    "    - parameters are variables that provide extra information to a method\n",
    "        * both local variables and parameters are always classified as \"variables\", not \"fields\"\n",
    "* the 8 primitive data types are:\n",
    "    - byte\n",
    "    - short\n",
    "    - int\n",
    "    - long\n",
    "    - float\n",
    "    - double\n",
    "    - boolean\n",
    "    - char\n",
    "* java.lang.String class represents character strings\n",
    "* the compiler will assign a reasonable default value for fields of the above types\n",
    "    - for local variables, a default value is never assigned\n",
    "* a literal is the source code representation of a fixed value\n",
    "* an array is a container object that holds a fixed number of values of a single type\n",
    "    - the length of an array is established when the array is created\n",
    "    - after creation, its length is fixed"
   ]
  }
 ],
 "metadata": {
  "kernelspec": {
   "display_name": "Java",
   "language": "java",
   "name": "java"
  },
  "language_info": {
   "codemirror_mode": "java",
   "file_extension": ".jshell",
   "mimetype": "text/x-java-source",
   "name": "Java",
   "pygments_lexer": "java",
   "version": "21+35-2513"
  }
 },
 "nbformat": 4,
 "nbformat_minor": 5
}
