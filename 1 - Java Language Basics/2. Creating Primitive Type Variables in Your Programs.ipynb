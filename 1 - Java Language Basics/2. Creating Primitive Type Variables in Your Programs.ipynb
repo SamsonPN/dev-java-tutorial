{
 "cells": [
  {
   "cell_type": "markdown",
   "id": "23987b6e",
   "metadata": {},
   "source": [
    "## Primitive Types"
   ]
  },
  {
   "cell_type": "markdown",
   "id": "fc62fb5a",
   "metadata": {},
   "source": [
    "* Java is statically-typed so all variables must first be declared before they can be used\n",
    "    - e.g. int gear = 1;\n",
    "* besides int, Java supports 7 other primitive data types\n",
    "* primitive values do not share state with other primitive values\n",
    "* the 8 primitive data types are:\n",
    "    1. byte:\n",
    "        - 8-bit\n",
    "        - signed\n",
    "        - two's complement\n",
    "        - integer\n",
    "        - min value of -128 and max value of 127 (inclusive)\n",
    "            * reason being 1 of the bits is used for signing (+/-) with two's complement\n",
    "            * therefore, the range is for $2^{7}$ = 128 \n",
    "        - useful for saving memory in large arrays where memory\n",
    "        - can also be used in place of int where their limits help to clarify code\n",
    "            * i.e. the fact that a variable's range is limited can serve as a form of documentation\n",
    "    2. short:\n",
    "        - 16-bit\n",
    "        - signed\n",
    "        - two's complement\n",
    "        - integer\n",
    "        - min value of -32,768 and max value of 32,767 (inclusive)\n",
    "        - can use short to save memory in large arrays, like byte\n",
    "    3. int:\n",
    "        - 32-bit\n",
    "        - signed\n",
    "        - two's complement\n",
    "        - integer\n",
    "        - min value of -2$^{31}$ and a max value of 2$^{31}$ - 1\n",
    "        - in Java SE 8+, int can be used to represent an unsigned 32-bit integer which has a min value of 0 and a max value of 2^${32}$ - 1\n",
    "            * use the _Integer_ class to use int data type as an unsigned integer\n",
    "    4. long:\n",
    "        - 64-bit\n",
    "        - two's complement\n",
    "        - integer\n",
    "        - signed long has min value of -2$^{63}$ and a max value of 2$^{63}$ - 1\n",
    "        - in Java SE 8+, long can be used to represent unsigned 64-bit integer which has a min value of 0 and max value of 2$^{64}$ - 1\n",
    "        - use this when you need a range of values wider than those provided by int\n",
    "    5. float:\n",
    "        - single-precision 32-bit IEEE 754 floating point\n",
    "        - use float, instead of double, if you need to save memory in large arrays of floating point numbers\n",
    "        - should never be used for precise values, such as currency\n",
    "            * for that, use java.math.BigDecimal class instead\n",
    "    6. double:\n",
    "        - double-precision 64-bit IEEE 754 floating point\n",
    "        - for decimal values, this data type is the default choice\n",
    "        - should never be used for precise values like currency\n",
    "    7. boolean:\n",
    "        - has only 2 possible values: true and false\n",
    "        - used for simple flags that track true/false conditions\n",
    "        - represents one bit of information\n",
    "    8. char:\n",
    "        - single 16-bit unicode character\n",
    "        - minimum value of \\u0000 (or 0) and a maximum value of \\uffff (or 65,535 inclusive)\n",
    "* Java also provides support for character strings via java.lang.String class\n",
    "    - enclosing character string within double quotes will automatically create a new String object\n",
    "        * e.g. String s = \"this is a string\";\n",
    "    - String objects are immutable (once created, their values cannot be changed)\n",
    "    - technically not a primitive data type"
   ]
  },
  {
   "cell_type": "markdown",
   "id": "fc503199",
   "metadata": {},
   "source": [
    "## Initializing a Variable with a Default Value"
   ]
  },
  {
   "cell_type": "markdown",
   "id": "9021ee51",
   "metadata": {},
   "source": [
    "* fields that are declared but not initialized will be set to a reasonable default by the compilar, usually zero or null, depending on the data type\n",
    "* data type: default value (for fields)\n",
    "    - byte: 0\n",
    "    - short: 0\n",
    "    - int: 0\n",
    "    - long: 0\n",
    "    - float: 0.0f\n",
    "    - double: 0.0d\n",
    "    - char: \\u0000\n",
    "    - String (or any object): null\n",
    "    - boolean: false\n",
    "* local variables are slightly different\n",
    "    - compiler never assigns a default value to an uninitialized local variable\n",
    "    - accessing an uninitialized local variable will result in a compile-time error"
   ]
  },
  {
   "cell_type": "markdown",
   "id": "e170f5df",
   "metadata": {},
   "source": [
    "## Creating Values with Literals"
   ]
  },
  {
   "cell_type": "markdown",
   "id": "5c889c4a",
   "metadata": {},
   "source": [
    "* __literal__: source code representation of a fixed value\n",
    "    - literals are represented directly in your code without requiring computation"
   ]
  },
  {
   "cell_type": "code",
   "execution_count": 1,
   "id": "96769ef1",
   "metadata": {},
   "outputs": [],
   "source": [
    "// assigning literals to a variable of a primitive data type\n",
    "\n",
    "boolean result = true;\n",
    "char capitalC = 'C';\n",
    "byte b = 100;\n",
    "short s = 10000;\n",
    "int i = 100000;"
   ]
  },
  {
   "cell_type": "markdown",
   "id": "cb76f215",
   "metadata": {},
   "source": [
    "## Integer Literals"
   ]
  },
  {
   "cell_type": "markdown",
   "id": "3a5f0c4c",
   "metadata": {},
   "source": [
    "* integer of type long can be created by ending the int literal with the letter L\n",
    "* values of the integral types byte, short, int, and long can be created from int literals\n",
    "    - values of type long that exceed the range of int can be created from long literals\n",
    "* integer literals can be expressed by these number systems:\n",
    "    - decimal: base 10 (0 - 9)\n",
    "    - hexadecimal: base 16 (0 - 9, A - F)\n",
    "    - binary: base 2 (0 - 1)\n",
    "        * able to create binary literals in Java SE 7+"
   ]
  },
  {
   "cell_type": "code",
   "execution_count": 2,
   "id": "e0d546ce",
   "metadata": {},
   "outputs": [],
   "source": [
    "int decimalValue = 26;\n",
    "\n",
    "int hexadecimalValue = 0x1a;\n",
    "\n",
    "int binaryValue = 0b11010;"
   ]
  },
  {
   "cell_type": "markdown",
   "id": "b8984834",
   "metadata": {},
   "source": [
    "## Floating-Point Literals"
   ]
  },
  {
   "cell_type": "markdown",
   "id": "5cbc8e58",
   "metadata": {},
   "source": [
    "* floating-point literal is of type float if it ends with the letter F\n",
    "    - otherwise its type is double and can optionally end with the letter D\n",
    "* floating point types (float and double) can also be expressed using E (for scientific notation), F (for 32-bit float literal), and D (64-bit double literal; this is the default and by convention is omitted)"
   ]
  },
  {
   "cell_type": "code",
   "execution_count": 4,
   "id": "a6a97fbc",
   "metadata": {},
   "outputs": [],
   "source": [
    "double d1 = 123.4;\n",
    "\n",
    "// same value as d1, but in scientific notation\n",
    "double d2 = 1.234e2;\n",
    "float f1 = 123.4f;"
   ]
  },
  {
   "cell_type": "markdown",
   "id": "3f24136d",
   "metadata": {},
   "source": [
    "## Character and String Literals"
   ]
  },
  {
   "cell_type": "markdown",
   "id": "a8931a0f",
   "metadata": {},
   "source": [
    "* literals of type char and string can contain Unicode (UTF-16) characters\n",
    "    - able to use a \"Unicode escape\" to add it in\n",
    "    - e.g.: \"S\\u00ED Se\\u00F1or\" = Sí Señor\n",
    "* char literals = 'single quotes'\n",
    "* string literals = \"double quotes\"\n",
    "* null literal = used as a value for any reference type\n",
    "    - can be assigned to any variable, except variables of _primitive_ types\n",
    "    - null is often used in programs as a marker to indicate that some object is unavailable\n",
    "* class literal = append a type name with .class, e.g. String.class\n",
    "    - refers to the object that represents the type itself, of type class"
   ]
  },
  {
   "cell_type": "markdown",
   "id": "2855f9c1",
   "metadata": {},
   "source": [
    "## Using Underscore Characters in Numeric Literals\n",
    "\n",
    "* Java SE 7+, any number of underscore \"\\_\" characters can appear anywhere between digits in a numerical literal to improve readability of code, similar to how a comma is used to separate digits in numbers\n",
    "* can only place underscores between digits, so you cannot place underscores in the following places:\n",
    "    - at the beginning or end of a number\n",
    "    - adjacent to a decimal point in a floating point literal\n",
    "    - prior to an F or L suffix\n",
    "    - in positions where a string of digits is expected"
   ]
  },
  {
   "cell_type": "code",
   "execution_count": 2,
   "id": "83c819f2",
   "metadata": {},
   "outputs": [
    {
     "ename": "CompilationException",
     "evalue": "",
     "output_type": "error",
     "traceback": [
      "\u001b[1m\u001b[30m|   \u001b[1m\u001b[30mfloat pi1 = 3\u001b[0m\u001b[1m\u001b[30m\u001b[41m\u001b[0m\u001b[1m\u001b[30m_.1415F;\u001b[0m",
      "\u001b[1m\u001b[31millegal underscore\u001b[0m",
      ""
     ]
    }
   ],
   "source": [
    "// valid underscore\n",
    "long creditCardNumber = 1234_5678_9012_3456L;\n",
    "float pi = 3.14_15F;\n",
    "\n",
    "// invalid underscore\n",
    "float pi1 = 3_.1415F;\n",
    "float pi2 = 3._1415F;\n",
    "long ssNumber1 = 999_99_9999_L;\n",
    "int x2 = 52_;\n",
    "int x4 = 0_x52;\n",
    "int x5 = 0x_52;\n",
    "int x7 = 0x52_;"
   ]
  }
 ],
 "metadata": {
  "kernelspec": {
   "display_name": "Java",
   "language": "java",
   "name": "java"
  },
  "language_info": {
   "codemirror_mode": "java",
   "file_extension": ".jshell",
   "mimetype": "text/x-java-source",
   "name": "Java",
   "pygments_lexer": "java",
   "version": "21+35-2513"
  }
 },
 "nbformat": 4,
 "nbformat_minor": 5
}
