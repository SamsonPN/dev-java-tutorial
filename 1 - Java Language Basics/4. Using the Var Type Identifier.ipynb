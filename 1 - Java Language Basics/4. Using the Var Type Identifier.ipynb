{
 "cells": [
  {
   "cell_type": "markdown",
   "id": "44e94c92",
   "metadata": {},
   "source": [
    "## The Var Keyword"
   ]
  },
  {
   "cell_type": "markdown",
   "id": "03dede69",
   "metadata": {},
   "source": [
    "* __var__: var type identifier used to declare a local variable\n",
    "    - you let the compiler decide what is the real type of the variable you create\n",
    "    - once created, this type cannot be changed"
   ]
  },
  {
   "cell_type": "code",
   "execution_count": null,
   "id": "9aa54a24",
   "metadata": {},
   "outputs": [],
   "source": [
    "String message = \"Hello world!\";\n",
    "Path path = Path.of(\"debug.log\");\n",
    "InputStream stream = Files.newInputStream(path);\n",
    "\n",
    "// having to declare the explicit types of the 3 variables message, path, and stream is redundant\n",
    "var message = \"Hello world!\";\n",
    "var path = Path.of(\"debug.log\");\n",
    "var stream = Files.newInputStream(path);"
   ]
  },
  {
   "cell_type": "markdown",
   "id": "a070cd02",
   "metadata": {},
   "source": [
    "## Examples with Var"
   ]
  },
  {
   "cell_type": "code",
   "execution_count": 1,
   "id": "ce51ce76",
   "metadata": {},
   "outputs": [
    {
     "name": "stdout",
     "output_type": "stream",
     "text": [
      "one\n",
      "two\n",
      "three\n",
      "four\n"
     ]
    }
   ],
   "source": [
    "var list = List.of(\"one\", \"two\", \"three\", \"four\");\n",
    "\n",
    "for (var element: list) {\n",
    "    System.out.println(element);\n",
    "}"
   ]
  },
  {
   "cell_type": "markdown",
   "id": "3f32dc05",
   "metadata": {},
   "source": [
    "## Restrictions on Using Var"
   ]
  },
  {
   "cell_type": "markdown",
   "id": "ea0cb48c",
   "metadata": {},
   "source": [
    "1. can only use it for __local variables__ declared in methods, constructors, and initializer blocks\n",
    "2. var cannot be used for fields, not for method or constructor parameters\n",
    "3. compilar must be able to choose a type when the variable is declared\n",
    "    - since null has no type, the variable must have an initializer"
   ]
  },
  {
   "cell_type": "code",
   "execution_count": 3,
   "id": "7fa9e514",
   "metadata": {},
   "outputs": [
    {
     "ename": "CompilationException",
     "evalue": "",
     "output_type": "error",
     "traceback": [
      "\u001b[1m\u001b[30m|   \u001b[1m\u001b[30m    private \u001b[0m\u001b[1m\u001b[30m\u001b[41mvar\u001b[0m\u001b[1m\u001b[30m name = \"Sue\";\u001b[0m",
      "\u001b[1m\u001b[31m'var' is not allowed here\u001b[0m",
      "",
      "\u001b[1m\u001b[30m|   \u001b[1m\u001b[30m    public void setName(\u001b[0m\u001b[1m\u001b[30m\u001b[41mvar\u001b[0m\u001b[1m\u001b[30m name) {\u001b[0m",
      "\u001b[1m\u001b[31m'var' is not allowed here\u001b[0m",
      ""
     ]
    }
   ],
   "source": [
    "// following these restrictions, the following class does not compile b/c using var as a type identifier \n",
    "// is not possible for a field or a method parameter\n",
    "public class User {\n",
    "    private var name = \"Sue\";\n",
    "    \n",
    "    public void setName(var name) {\n",
    "        this.name = name;\n",
    "    }\n",
    "}"
   ]
  },
  {
   "cell_type": "code",
   "execution_count": 4,
   "id": "683ef9d9",
   "metadata": {},
   "outputs": [
    {
     "ename": "CompilationException",
     "evalue": "",
     "output_type": "error",
     "traceback": [
      "\u001b[1m\u001b[30m|   \u001b[1m\u001b[30m    \u001b[0m\u001b[1m\u001b[30m\u001b[41mvar greetings;\u001b[0m\u001b[1m\u001b[30m\u001b[0m",
      "\u001b[1m\u001b[31mcannot infer type for local variable greetings\u001b[0m",
      "\u001b[1m\u001b[31m  (cannot use 'var' on variable without initializer)\u001b[0m",
      ""
     ]
    }
   ],
   "source": [
    "// compiler cannot guess the real type of message because it lacks an initializer\n",
    "\n",
    "public String greetings(int message) {\n",
    "    var greetings;\n",
    "    if (message == 0) {\n",
    "        greetings = \"morning\";\n",
    "    }\n",
    "    else {\n",
    "        greetings = \"afternoon\";\n",
    "    }\n",
    "    return \"Good \" + greetings;\n",
    "}"
   ]
  }
 ],
 "metadata": {
  "kernelspec": {
   "display_name": "Java",
   "language": "java",
   "name": "java"
  },
  "language_info": {
   "codemirror_mode": "java",
   "file_extension": ".jshell",
   "mimetype": "text/x-java-source",
   "name": "Java",
   "pygments_lexer": "java",
   "version": "21+35-2513"
  }
 },
 "nbformat": 4,
 "nbformat_minor": 5
}
