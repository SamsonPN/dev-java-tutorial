{
 "cells": [
  {
   "cell_type": "markdown",
   "id": "14b745ab",
   "metadata": {},
   "source": [
    "## Using Switch Statements to Control the Flow of Your Program"
   ]
  },
  {
   "cell_type": "markdown",
   "id": "2c2faf91",
   "metadata": {},
   "source": [
    "* switch statement takes a selector variable as an argument and uses the value of this variable to choose the path that will be executed\n",
    "* must choose the type of your selector variable among the following types:\n",
    "    - byte, short, char, and int primitive data types\n",
    "    - Character, Byte, Short, and Integer wrapper types\n",
    "    - enumerated types\n",
    "    - the String type\n",
    "* these primitive types cannot be used for the type of your selector variable:\n",
    "    - boolean\n",
    "    - long\n",
    "    - float\n",
    "    - double\n",
    "* body of a switch statement is known as a switch block\n",
    "    - statement in the switch block can be labeled with 1+ case or default labels\n",
    "    - each break statement terminates the enclosing switch statement\n",
    "        * without breaks, statements in switch blocks fall through\n",
    "        * all statements after the matching case label are executed in sequence regardless of the expression of subsequent case labels until a break statement is encountered"
   ]
  },
  {
   "cell_type": "code",
   "execution_count": null,
   "id": "038da616",
   "metadata": {},
   "outputs": [],
   "source": [
    "int quarter = ...; // any value\n",
    "\n",
    "String quarterLabel = null;\n",
    "switch (quarter) {\n",
    "    case 0: \n",
    "        quarterLabel = \"Q1 - Winter\"; \n",
    "        break;\n",
    "    case 1: \n",
    "        quarterLabel = \"Q2 - Spring\"; \n",
    "        break;\n",
    "    case 2: \n",
    "        quarterLabel = \"Q3 - Summer\"; \n",
    "        break;\n",
    "    case 3: \n",
    "        quarterLabel = \"Q3 - Summer\"; \n",
    "        break;\n",
    "    default: \n",
    "        quarterLabel = \"Unknown quarter\";\n",
    "};\n"
   ]
  },
  {
   "cell_type": "code",
   "execution_count": 4,
   "id": "7512f6da",
   "metadata": {},
   "outputs": [
    {
     "name": "stdout",
     "output_type": "stream",
     "text": [
      "[August, September, October, November, December]\r\n"
     ]
    }
   ],
   "source": [
    "// without breaks, every statement after the matching case will be executed regardless if they actually match or not\n",
    "int month = 8;\n",
    "List<String> futureMonths = new ArrayList<>();\n",
    "\n",
    "switch (month) {\n",
    "    case 1:  futureMonths.add(\"January\");\n",
    "    case 2:  futureMonths.add(\"February\");\n",
    "    case 3:  futureMonths.add(\"March\");\n",
    "    case 4:  futureMonths.add(\"April\");\n",
    "    case 5:  futureMonths.add(\"May\");\n",
    "    case 6:  futureMonths.add(\"June\");\n",
    "    case 7:  futureMonths.add(\"July\");\n",
    "    case 8:  futureMonths.add(\"August\");\n",
    "    case 9:  futureMonths.add(\"September\");\n",
    "    case 10: futureMonths.add(\"October\");\n",
    "    case 11: futureMonths.add(\"November\");\n",
    "    case 12: futureMonths.add(\"December\");\n",
    "             break;\n",
    "    default: break;\n",
    "}\n",
    "\n",
    "\n",
    "// since there was no break in case 8, the rest of the months are added in\n",
    "// otherwise, it would just be August in list\n",
    "System.out.println(futureMonths);"
   ]
  },
  {
   "cell_type": "code",
   "execution_count": 8,
   "id": "f3c042a5",
   "metadata": {},
   "outputs": [
    {
     "name": "stdout",
     "output_type": "stream",
     "text": [
      "28\r\n"
     ]
    }
   ],
   "source": [
    "// statements can have multiple case labels\n",
    "\n",
    "int month = 2;\n",
    "int year = 2021;\n",
    "int numDays = 0;\n",
    "\n",
    "switch (month) {\n",
    "    case 1: case 3: case 5:   // January March May\n",
    "    case 7: case 8: case 10:  // July August October\n",
    "    case 12:\n",
    "        numDays = 31;\n",
    "        break;\n",
    "    case 4: case 6:   // April June\n",
    "    case 9: case 11:  // September November\n",
    "        numDays = 30;\n",
    "        break;\n",
    "    case 2: // February\n",
    "        if (((year % 4 == 0) && \n",
    "             !(year % 100 == 0))\n",
    "             || (year % 400 == 0))\n",
    "            numDays = 29;\n",
    "        else\n",
    "            numDays = 28;\n",
    "        break;\n",
    "    default:\n",
    "        System.out.println(\"Invalid month.\");\n",
    "        break;\n",
    "}\n",
    "\n",
    "System.out.println(numDays);"
   ]
  },
  {
   "cell_type": "markdown",
   "id": "ffcf5651",
   "metadata": {},
   "source": [
    "## Choosing Between Switch Statements and If-then-else Statements"
   ]
  },
  {
   "cell_type": "markdown",
   "id": "be33c125",
   "metadata": {},
   "source": [
    "* based on readability and the expression that the statement is testing\n",
    "* if-then-else statement can test expressions based on ranges of values or conditions\n",
    "* switch statement tests expressions base only on a single integer, enumerated value, or String object"
   ]
  },
  {
   "cell_type": "code",
   "execution_count": null,
   "id": "edc5a683",
   "metadata": {},
   "outputs": [],
   "source": [
    "// can be turned into a switch statement\n",
    "int month = ...; // any month\n",
    "if (month == 1) {\n",
    "    System.out.println(\"January\");\n",
    "} else if (month == 2) {\n",
    "    System.out.println(\"February\");\n",
    "} ... // and so on\n"
   ]
  },
  {
   "cell_type": "code",
   "execution_count": null,
   "id": "069c3cdd",
   "metadata": {},
   "outputs": [],
   "source": [
    "// cannot be turned into a switch statement b/c they do not support booleans\n",
    "int temperature = ...; // any temperature\n",
    "if (temperature < 0) {\n",
    "    System.out.println(\"Water is ice\");\n",
    "} else if (temperature < 100){\n",
    "    System.out.println(\"Water is liquid, known as water\");\n",
    "} else {\n",
    "    System.out.println(\"Water is vapor\");\n",
    "}"
   ]
  },
  {
   "cell_type": "markdown",
   "id": "0caa1c0d",
   "metadata": {},
   "source": [
    "## Using String as a Type for the Case Labels"
   ]
  },
  {
   "cell_type": "markdown",
   "id": "e1a9157b",
   "metadata": {},
   "source": [
    "* can use a String oject in the switch statement's expression\n",
    "* String in the switch expression is compared with the expressions associated with each case label is if the String.equals() method were being used"
   ]
  },
  {
   "cell_type": "code",
   "execution_count": null,
   "id": "0ad3ec44",
   "metadata": {},
   "outputs": [],
   "source": [
    "String month = ...; // any month\n",
    "int monthNumber = -1;\n",
    "\n",
    "switch (month.toLowerCase()) {\n",
    "    case \"january\":\n",
    "        monthNumber = 1;\n",
    "        break;\n",
    "    case \"february\":\n",
    "        monthNumber = 2;\n",
    "        break;\n",
    "    case \"march\":\n",
    "        monthNumber = 3;\n",
    "        break;\n",
    "    case \"april\":\n",
    "        monthNumber = 4;\n",
    "        break;\n",
    "    case \"may\":\n",
    "        monthNumber = 5;\n",
    "        break;\n",
    "    case \"june\":\n",
    "        monthNumber = 6;\n",
    "        break;\n",
    "    case \"july\":\n",
    "        monthNumber = 7;\n",
    "        break;\n",
    "    case \"august\":\n",
    "        monthNumber = 8;\n",
    "        break;\n",
    "    case \"september\":\n",
    "        monthNumber = 9;\n",
    "        break;\n",
    "    case \"october\":\n",
    "        monthNumber = 10;\n",
    "        break;\n",
    "    case \"november\":\n",
    "        monthNumber = 11;\n",
    "        break;\n",
    "    case \"december\":\n",
    "        monthNumber = 12;\n",
    "        break;\n",
    "    default: \n",
    "        monthNumber = 0;\n",
    "        break;\n",
    "}"
   ]
  },
  {
   "cell_type": "markdown",
   "id": "b5de15e4",
   "metadata": {},
   "source": [
    "## Null Selector Variables"
   ]
  },
  {
   "cell_type": "markdown",
   "id": "34c97e1d",
   "metadata": {},
   "source": [
    "* the selector variable of a switch statement can be an object so this object can be null\n",
    "* should protect code from null selector variables or else the switch statement will throw a NullPointerException"
   ]
  }
 ],
 "metadata": {
  "kernelspec": {
   "display_name": "Java",
   "language": "java",
   "name": "java"
  },
  "language_info": {
   "codemirror_mode": "java",
   "file_extension": ".jshell",
   "mimetype": "text/x-java-source",
   "name": "Java",
   "pygments_lexer": "java",
   "version": "21+35-2513"
  }
 },
 "nbformat": 4,
 "nbformat_minor": 5
}
