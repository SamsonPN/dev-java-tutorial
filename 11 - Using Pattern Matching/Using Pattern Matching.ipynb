{
 "cells": [
  {
   "cell_type": "markdown",
   "id": "9e531f59",
   "metadata": {},
   "source": [
    "## Introduction Pattern Matching"
   ]
  },
  {
   "cell_type": "markdown",
   "id": "e1be6741",
   "metadata": {},
   "source": [
    "* regular expressions are a form of pattern matching that has been created to analyze strings of characters\n",
    "* in the example below: \n",
    "    - text is analyzed with the regular expression \\bflame\\b\n",
    "        * starts and ends with \\b which denotes the start of the endo f a word\n",
    "    - the result tells you that there is a single occurrence of flame between index 233 and 238 in the sonnet\n",
    "* pattern matching with regular expression works in this way:\n",
    "    1. it matches a given pattern\n",
    "        * in this case, flame is the pattern and matches it to a text\n",
    "    2. then it gives you information on the place where the pattern has  been matched\n",
    "* there are 3 fundamental elements of pattern matching you need to keep in mind:\n",
    "    1. _matched target_: what you need to match\n",
    "        * this is the sonnet below\n",
    "    2. _pattern_: what you match against\n",
    "        * the regular expression\n",
    "    3. the result of the matching\n",
    "        * the start and end indices"
   ]
  },
  {
   "cell_type": "code",
   "execution_count": 2,
   "id": "3aead486",
   "metadata": {},
   "outputs": [
    {
     "name": "stdout",
     "output_type": "stream",
     "text": [
      "flame 233 238\r\n"
     ]
    }
   ],
   "source": [
    "String sonnet = \"From fairest creatures we desire increase,\\n\" +\n",
    "        \"That thereby beauty's rose might never die,\\n\" +\n",
    "        \"But as the riper should by time decease\\n\" +\n",
    "        \"His tender heir might bear his memory:\\n\" +\n",
    "        \"But thou, contracted to thine own bright eyes,\\n\" +\n",
    "        \"Feed'st thy light's flame with self-substantial fuel,\\n\" +\n",
    "        \"Making a famine where abundance lies,\\n\" +\n",
    "        \"Thyself thy foe, to thy sweet self too cruel.\\n\" +\n",
    "        \"Thou that art now the world's fresh ornament,\\n\" +\n",
    "        \"And only herald to the gaudy spring,\\n\" +\n",
    "        \"Within thine own bud buriest thy content,\\n\" +\n",
    "        \"And, tender churl, mak'st waste in niggardly.\\n\" +\n",
    "        \"Pity the world, or else this glutton be,\\n\" +\n",
    "        \"To eat the world's due, by the grave and thee.\";\n",
    "\n",
    "Pattern pattern = Pattern.compile(\"\\\\bflame\\\\b\");\n",
    "Matcher matcher = pattern.matcher(sonnet);\n",
    "while (matcher.find()) {\n",
    "    String group = matcher.group();\n",
    "    int start = matcher.start();\n",
    "    int end = matcher.end();\n",
    "    System.out.println(group + \" \" + start + \" \" + end);\n",
    "}"
   ]
  },
  {
   "cell_type": "markdown",
   "id": "ad7ae51b",
   "metadata": {},
   "source": [
    "## Pattern Matching for Instanceof"
   ]
  },
  {
   "cell_type": "markdown",
   "id": "731026e0",
   "metadata": {},
   "source": [
    "### Matching Any Object to a Type with Instanceof\n",
    "\n",
    "* consider the following example:\n",
    "    - the _matched target_ is any object of any type\n",
    "        * it is the left-hand side operand of the instanceof operator: o\n",
    "    - the _pattern_ is a type followed by a variable declaration\n",
    "        * it is the right-hand side operand of the instanceof\n",
    "        * __type can be a class, abstract class, or an interface__\n",
    "            - __THIS CANNOT BE A PRIMITIVE!!!__\n",
    "        * in this case, it's just String s\n",
    "    - if the target matches the pattern, a new reference to the target, o, is placed in the variable, s\n",
    "        * the variable, s, has the same type you have matched \n",
    "        * s is called a _pattern variable_ of the pattern and some patterns can have more than one\n",
    "* to summarize:\n",
    "    - the variable, o, is the element you need to match and is your _matched target_\n",
    "    - the _pattern_ is the String s declaration\n",
    "    - the result of the matching is the variable, s, declared along with the type String\n",
    "        * this variable is created ONLY if o is of type String\n",
    "    - the pattern String s is called a _type pattern_ b/c it checks the type of the matched target\n"
   ]
  },
  {
   "cell_type": "code",
   "execution_count": 4,
   "id": "0251b02e",
   "metadata": {},
   "outputs": [
    {
     "name": "stdout",
     "output_type": "stream",
     "text": [
      "This is a String of length 12\r\n"
     ]
    }
   ],
   "source": [
    "public void print(Object o) {\n",
    "    // the variable s would only be created if o is actually an instanceof String\n",
    "    if (o instanceof String s){\n",
    "        System.out.println(\"This is a String of length \" + s.length());\n",
    "    } else {\n",
    "        System.out.println(\"This is not a String\");\n",
    "    }\n",
    "}\n",
    "\n",
    "print(\"Hello World!\");\n",
    "\n",
    "// b/c String extends the type CharSequence, the following pattern would match as well\n",
    "public void print(Object o) {\n",
    "    if (o instanceof CharSequence cs) {\n",
    "        System.out.println(\"This is a CharSequence of length \" + s.length());\n",
    "    }\n",
    "}"
   ]
  },
  {
   "cell_type": "markdown",
   "id": "29bed014",
   "metadata": {},
   "source": [
    "### Using the Pattern Variable\n",
    "\n",
    "* the compiler lets you use the variable, s, above wherever it makes sense\n",
    "    - the first scope of the if branch is one and you could also use it in some parts of the if statement as well\n",
    "* in the example below:\n",
    "    - the code checks if object is an instance of the String class and if it is a non-empty string\n",
    "    - the conditional actually uses the variable, s, itself as part of the if-statement\n",
    "    - you can do this b/c you evaluate the instanceof pattern matching first and if it passes, then s would already contain the reference to the matched target"
   ]
  },
  {
   "cell_type": "code",
   "execution_count": null,
   "id": "ed0d4f8d",
   "metadata": {},
   "outputs": [],
   "source": [
    "public void print(Object o) {\n",
    "    if (o instanceof String s && !s.isEmpty()) {\n",
    "        int length = s.length();\n",
    "        System.out.println(\"This object is a non-empty string of length \" + length);\n",
    "    } else {\n",
    "        System.out.println(\"This object is not a string.\");\n",
    "    }\n",
    "}"
   ]
  },
  {
   "cell_type": "markdown",
   "id": "f03df256",
   "metadata": {},
   "source": [
    "* you can also check for types of a variable is a guard-clause pattern\n",
    "    - if the type is not the one you expect, you can skip the rest of the code\n",
    "* in the example below:\n",
    "    - the _pattern variable_, s, is available outside if it leaves the method from the if-branch\n",
    "        * this can be done either with a return or by throwing an exception\n",
    "        * if your code can execute the if branch and can carry on with the rest of the method, the pattern variable is not created"
   ]
  },
  {
   "cell_type": "code",
   "execution_count": 17,
   "id": "3679a8c7",
   "metadata": {},
   "outputs": [
    {
     "name": "stdout",
     "output_type": "stream",
     "text": [
      "This is a String of length 12\r\n"
     ]
    }
   ],
   "source": [
    "// the pattern variable, s, can be used outside the if-statement\n",
    "// reason being, your code can leave the method, print, with the return statement inside the if-block\n",
    "public void print(Object o) {\n",
    "    if (!(o instanceof String s)) {\n",
    "        return;\n",
    "    }\n",
    "\n",
    "    System.out.println(\"This is a String of length \" + s.length());\n",
    "}\n",
    "\n",
    "print(\"Hello world!\");"
   ]
  },
  {
   "cell_type": "code",
   "execution_count": 16,
   "id": "4208f04c",
   "metadata": {},
   "outputs": [
    {
     "name": "stdout",
     "output_type": "stream",
     "text": [
      "This is a String of length 12\r\n"
     ]
    }
   ],
   "source": [
    "// instead of return, we can also throw an exception\n",
    "public void print(Object o) {\n",
    "    if (!(o instanceof String s)) {\n",
    "        throw new NullPointerException();\n",
    "    }\n",
    "\n",
    "    System.out.println(\"This is a String of length \" + s.length());\n",
    "}\n",
    "\n",
    "print(\"Hello world!\");"
   ]
  },
  {
   "cell_type": "code",
   "execution_count": 10,
   "id": "ff844ef6",
   "metadata": {},
   "outputs": [
    {
     "ename": "UnresolvedReferenceException",
     "evalue": "Attempt to use definition snippet with unresolved references in MethodSnippet:print/(Object)void-// in this case, the pattern variable, s, cannot be used\n// b/c there is no way to exit the method from the if-block\n// it has to return or throw an exception inside it to make this feature available\n\npublic void print(Object o) {\n    if (!(o instanceof String s)) {\n        //return;\n    }\n\n    System.out.println(\"This is a String of length \" + s.length());\n}",
     "output_type": "error",
     "traceback": [
      "\u001b[1m\u001b[30m|   \u001b[1m\u001b[30m// in this case, the pattern variable, s, cannot be used\u001b[0m",
      "\u001b[1m\u001b[30m|   \u001b[1m\u001b[30m// b/c there is no way to exit the method from the if-block\u001b[0m",
      "\u001b[1m\u001b[30m|   \u001b[1m\u001b[30m// it has to return or throw an exception inside it to make this feature available\u001b[0m",
      "\u001b[1m\u001b[30m|   \u001b[1m\u001b[30m\u001b[0m",
      "\u001b[1m\u001b[30m|   \u001b[1m\u001b[30mpublic void print(Object o) {\u001b[0m",
      "\u001b[1m\u001b[30m|   \u001b[1m\u001b[30m    if (!(o instanceof String s)) {\u001b[0m",
      "\u001b[1m\u001b[30m|   \u001b[1m\u001b[30m        //return;\u001b[0m",
      "\u001b[1m\u001b[30m|   \u001b[1m\u001b[30m    }\u001b[0m",
      "\u001b[1m\u001b[30m|   \u001b[1m\u001b[30m\u001b[0m",
      "\u001b[1m\u001b[30m|   \u001b[1m\u001b[30m    System.out.println(\"This is a String of length \" + s.length());\u001b[0m",
      "\u001b[1m\u001b[30m|   \u001b[1m\u001b[30m}\u001b[0m",
      "\u001b[1m\u001b[31mUnresolved dependencies:\u001b[0m",
      "\u001b[1m\u001b[31m   - variable s\u001b[0m"
     ]
    }
   ],
   "source": [
    "// in this case, the pattern variable, s, cannot be used\n",
    "// b/c there is no way to exit the method from the if-block\n",
    "// it has to return or throw an exception inside it to make this feature available\n",
    "\n",
    "public void print(Object o) {\n",
    "    if (!(o instanceof String s)) {\n",
    "        //return;\n",
    "    }\n",
    "\n",
    "    System.out.println(\"This is a String of length \" + s.length());\n",
    "}\n",
    "\n",
    "print(\"Hello world!\");"
   ]
  },
  {
   "cell_type": "markdown",
   "id": "28a56db8",
   "metadata": {},
   "source": [
    "* there are also cases when the compiler can tell if the matching fails\n",
    "* in the example below:\n",
    "    - the compiler knows that the String class is final\n",
    "    - and there is no way that the variable pi can be of type String\n",
    "    - the compiler will therefore issue an error"
   ]
  },
  {
   "cell_type": "code",
   "execution_count": 18,
   "id": "1c449391",
   "metadata": {},
   "outputs": [
    {
     "ename": "CompilationException",
     "evalue": "",
     "output_type": "error",
     "traceback": [
      "\u001b[1m\u001b[30m|   \u001b[1m\u001b[30mif (\u001b[0m\u001b[1m\u001b[30m\u001b[41mpi\u001b[0m\u001b[1m\u001b[30m instanceof String s) {\u001b[0m",
      "\u001b[1m\u001b[31mincompatible types: java.lang.Double cannot be converted to java.lang.String\u001b[0m",
      ""
     ]
    }
   ],
   "source": [
    "Double pi = Math.PI;\n",
    "if (pi instanceof String s) {\n",
    "    // this will never be true!\n",
    "}"
   ]
  },
  {
   "cell_type": "markdown",
   "id": "3fc09cad",
   "metadata": {},
   "source": [
    "### Writing Cleaner Code with Pattern Matching for Instanceof\n",
    "\n",
    "* in the following example:\n",
    "    - we have a Point class with an equals() method\n",
    "    - the first iteration is a classic way of writing it but the second way leverages the pattern matching syntax with instanceof\n",
    "    - the second iteration makes use of the pattern variable point of type Point and also uses it in the conditional to check if its x and y values match the ones currently in the Point class\n",
    "        * this is all done without having to declare a new variable and typecast the original matched target, o, to the type we checked with instanceof"
   ]
  },
  {
   "cell_type": "code",
   "execution_count": null,
   "id": "edc1420f",
   "metadata": {},
   "outputs": [],
   "source": [
    "// classic way of writing equals() method\n",
    "public class Point {\n",
    "    private int x;\n",
    "    private int y;\n",
    "\n",
    "    public boolean equals(Object o) {\n",
    "        if (!(o instanceof Point)) {\n",
    "            return false;\n",
    "        }\n",
    "        Point point = (Point) o;\n",
    "        return x == point.x && y == point.y;\n",
    "    }\n",
    "\n",
    "    // constructor, hashCode method and accessors have been omitted\n",
    "}\n",
    "\n",
    "// using pattern matching with instanceof\n",
    "// don't need to create a new variable and typecast o\n",
    "public boolean equals(Object o) {\n",
    "    return o instanceof Point point &&\n",
    "            x == point.x &&\n",
    "            y == point.y;\n",
    "}"
   ]
  },
  {
   "cell_type": "markdown",
   "id": "2de77b16",
   "metadata": {},
   "source": [
    "## Pattern Matching for Switch"
   ]
  },
  {
   "cell_type": "markdown",
   "id": "73447b93",
   "metadata": {},
   "source": [
    "### Extending Switch Expressions to Use Type Patterns for Case Labels\n",
    "\n",
    "* pattern matching for switch uses switch statements or expressions\n",
    "    - allows you to match a _matched target_ to several _patterns_ as once\n",
    "    - so far, the _patterns_ are _type patterns_ like in the pattern matching for instanceof\n",
    "    - but in this case, the _matched target_ is the selector expression of the switch and each case of the switch expression is itself a type pattern that follows the syntax of the pattern matching with instanceof\n",
    "* in the example below:\n",
    "    - pattern matching with switch expressions allows you to evaluate the pattern matching using the case labels themselves\n",
    "    - this makes the code more readable and much more performant\n",
    "        * reason being, evaluating an if-else statement is proportional to the number of branches it contains\n",
    "            - so if you double the number of if-else statements, you double the evaluation time\n",
    "        * in the case of evaluating a switch, it does not depend on the number of cases\n",
    "        * we can think of the time complexity of the if-statement as being O(n) where n = # of branches whereas the switch statement is about O(1)\n",
    "* using type patterns as case labels for switch expressoins is not an extension of pattern matching but a new feature of the switch statement\n",
    "* currently, switch expressions accept the following for case labels:\n",
    "    - numeric types: byte, short, char, and int (long is not accepted)\n",
    "    - the corresponding wrapper types: Byte, Short, Character, and Integer\n",
    "    - String\n",
    "    - enumerated types"
   ]
  },
  {
   "cell_type": "code",
   "execution_count": 25,
   "id": "ad314fa2",
   "metadata": {},
   "outputs": [
    {
     "name": "stdout",
     "output_type": "stream",
     "text": [
      "Object Hello World!\r\n"
     ]
    }
   ],
   "source": [
    "// old pattern matching\n",
    "Object o = \"\"; // any object\n",
    "String formatted = null;\n",
    "if (o instanceof Integer i) {\n",
    "    formatted = String.format(\"int %d\", i);\n",
    "} else if (o instanceof Long l) {\n",
    "    formatted = String.format(\"long %d\", l);\n",
    "} else if (o instanceof Double d) {\n",
    "    formatted = String.format(\"double %f\", d);\n",
    "} else {\n",
    "    formatted = String.format(\"Object %s\", o.toString());\n",
    "}\n",
    "\n",
    "\n",
    "// pattern matching with switch expressions\n",
    "Object o = \"Hello World!\";\n",
    "String formatter = switch(o) {\n",
    "    case Integer i -> String.format(\"int %d\", i);\n",
    "    case Long l -> String.format(\"long %d\", l);\n",
    "    case Double d -> String.format(\"double %f\", d);\n",
    "    case Object o -> String.format(\"Object %s\", o.toString());\n",
    "};\n",
    "\n",
    "System.out.println(formatter);"
   ]
  },
  {
   "cell_type": "markdown",
   "id": "2806e266",
   "metadata": {},
   "source": [
    "### Using Guarded Patterns\n",
    "\n",
    "* pattern matching for switch has been extended to allow for a boolean expression to be added after the type pattern\n",
    "    - this is similar to the pattern matching for instanceof where you can use the pattern variable right in the conditional, e.g. o instanceof String s && !s.isEmpty()\n",
    "    - this boolean expression in the case label is called a _guard_ and the result case label is called a _guarded case label_\n",
    "* you can add this boolean expression in a _when_ clause"
   ]
  },
  {
   "cell_type": "code",
   "execution_count": null,
   "id": "dcee4c63",
   "metadata": {},
   "outputs": [],
   "source": [
    "Object object = ...; // any object\n",
    "\n",
    "// able to use the pattern variable, s, right after declaring it with object is an instance of String\n",
    "if (object instanceof String s && !s.isEmpty()) {\n",
    "    int length = s.length();\n",
    "    System.out.println(\"This object is a non-empty string of length \" + length);\n",
    "};\n",
    "\n",
    "// this doesn't work\n",
    "Object o = ...; // any object\n",
    "String formatter = switch(o) {\n",
    "    // !!! THIS DOES NOT COMPILE !!!\n",
    "    case String s && !s.isEmpty() -> String.format(\"Non-empty string %s\", s);\n",
    "    case Object o                 -> String.format(\"Object %s\", o.toString());\n",
    "};"
   ]
  },
  {
   "cell_type": "code",
   "execution_count": 28,
   "id": "1c22a313",
   "metadata": {},
   "outputs": [
    {
     "name": "stdout",
     "output_type": "stream",
     "text": [
      "Non-empty string Hello World!\r\n"
     ]
    }
   ],
   "source": [
    "// but this got extended to work using a when clause\n",
    "// the expression after the \"when\" keyword is called a guard\n",
    "// it's able to use the pattern variable, s, right in the label\n",
    "// and the case label is called a guarded case label\n",
    "Object o = \"Hello World!\"; // any object\n",
    "String formatter = switch(o) {\n",
    "    case String s when !s.isEmpty() -> String.format(\"Non-empty string %s\", s);\n",
    "    case Object o                   -> String.format(\"Object %s\", o.toString());\n",
    "};\n",
    "\n",
    "System.out.println(formatter);"
   ]
  },
  {
   "cell_type": "markdown",
   "id": "4dca4f3e",
   "metadata": {},
   "source": [
    "## Record Pattern"
   ]
  },
  {
   "cell_type": "markdown",
   "id": "38db6ca0",
   "metadata": {},
   "source": [
    "* a _record_ is a special type of immutable class\n",
    "    - it's built on components that are declared as part of the declaration of a record\n",
    "* in the example below:\n",
    "    - the Point record has 2 components: x and y\n",
    "    - this allows you to do something called _record deconstruction_ that's used in record pattern matching"
   ]
  },
  {
   "cell_type": "code",
   "execution_count": null,
   "id": "0af48012",
   "metadata": {},
   "outputs": [],
   "source": [
    "// the record, Point, takes in 2 values x and y that are integers into its constructor\n",
    "// the constructor creates 2 members, x and y, that are initialized by the constructor\n",
    "// the class also creates setters/getters for those 2 variables automatically\n",
    "\n",
    "public record Point(int x, int y) {}"
   ]
  },
  {
   "cell_type": "markdown",
   "id": "e712f7a0",
   "metadata": {},
   "source": [
    "* the _matched target_ is stil o but it is matched to a _record pattern_: Point(int x, int y)\n",
    "    - this pattern declares 2 _pattern variables_: x and y\n",
    "        * __note: in this case, you can define a type pattern with a primitive type which is not the case with instanceof. both x and y are of type int but if you use pattern matching with instanceof, you would have to use its corresponding wrapper class Integer__\n",
    "    - therefore if o is of type Point, then these 2 variables are created and initialized by calling the accessors of the Point record\n",
    "        * e.g. if o was an instance of Point that recorded values 2 and 3 respectively for x and y, then you can use those values of x and y in the if-statement\n",
    "* you can also use do the variable declaration syntax as well with records "
   ]
  },
  {
   "cell_type": "code",
   "execution_count": null,
   "id": "684ffa79",
   "metadata": {},
   "outputs": [],
   "source": [
    "Object o = ...; // any object\n",
    "if (o instanceof Point(int x, int y)) {\n",
    "    // do something with x and y\n",
    "}\n",
    "\n",
    "// variable declaration syntax like with the pattern matching using instanceof\n",
    "Object o = ...; // any object\n",
    "if (o instanceof Point(int x, int y) point) {\n",
    "    // do something with x, y, and point\n",
    "}"
   ]
  },
  {
   "cell_type": "markdown",
   "id": "0fbf33d5",
   "metadata": {},
   "source": [
    "* the record pattern is built on the same model as the _cannonical constructor_ of a record\n",
    "    - even if you have other constructors, the record pattern WILL ONLY follow the syntax of the cannnonical constructor"
   ]
  },
  {
   "cell_type": "code",
   "execution_count": null,
   "id": "ea5b24f5",
   "metadata": {},
   "outputs": [],
   "source": [
    "record Point(int x, int y) {\n",
    "\n",
    "    // this is a constructor that the programmer created\n",
    "    // IT IS NOT THE CANNONICAL CONSTRUCTOR\n",
    "    // it calls the this() method to invoke the cannonical instructor\n",
    "    \n",
    "    // as you can see the cannonical constructor actually takes in 2 values, x and y, but we provide\n",
    "    // since those were the components used for the record's declaration\n",
    "    Point(int x) {\n",
    "        this(x, 0);\n",
    "    }\n",
    "}\n",
    "\n",
    "Object o = ...; // any object\n",
    "// !!! THIS DOES NOT COMPILE !!!\n",
    "if (o intanceof Point(int x)) {\n",
    "\n",
    "}\n"
   ]
  },
  {
   "cell_type": "markdown",
   "id": "ca2dcac0",
   "metadata": {},
   "source": [
    "* record pattern supports type inference\n",
    "    - the type of the components you use to write the pattern can be inferred with var or can be an extension of the real type declared in your record\n",
    "* in addition, since the matching of each component is actually a type pattern, you can match a type that is an extension of the actual type of the component\n",
    "    - if you use a type that is not an extension of the type of the record component, the compiler will throw an error"
   ]
  },
  {
   "cell_type": "code",
   "execution_count": null,
   "id": "5c9e2933",
   "metadata": {},
   "outputs": [],
   "source": [
    "record Point(double x, double y) {}\n",
    "\n",
    "// type inference with var\n",
    "Object o == ...; // any object\n",
    "if (o instanceof Point(var x, var y)) {\n",
    "    // x and y are of type double\n",
    "}"
   ]
  },
  {
   "cell_type": "code",
   "execution_count": 33,
   "id": "efd8df2b",
   "metadata": {},
   "outputs": [
    {
     "name": "stdout",
     "output_type": "stream",
     "text": [
      "Box contains the string: Hello World!\r\n"
     ]
    }
   ],
   "source": [
    "// can use a switch statement on the type of the component of the Box record\n",
    "\n",
    "record Box(Object o) {}\n",
    "\n",
    "Object o = new Box(\"Hello World!\"); // any object\n",
    "switch (o) {\n",
    "    case Box(String s)  -> System.out.println(\"Box contains the string: \" + s);\n",
    "    case Box(Integer i) -> System.out.println(\"Box contains the integer: \" + i);\n",
    "    default -> System.out.println(\"Box contains something else\");\n",
    "}\n"
   ]
  },
  {
   "cell_type": "code",
   "execution_count": 34,
   "id": "d9a32663",
   "metadata": {},
   "outputs": [
    {
     "ename": "CompilationException",
     "evalue": "",
     "output_type": "error",
     "traceback": [
      "\u001b[1m\u001b[30m|   \u001b[1m\u001b[30m    case Box(\u001b[0m\u001b[1m\u001b[30m\u001b[41mInteger i\u001b[0m\u001b[1m\u001b[30m) -> System.out.println(\"Box contains the integer: \" + i);\u001b[0m",
      "\u001b[1m\u001b[31mincompatible types: java.lang.CharSequence cannot be converted to java.lang.Integer\u001b[0m",
      ""
     ]
    }
   ],
   "source": [
    "// Integer is not an extension of CharSequence\n",
    "// and is therefore not a type that is possible\n",
    "// thus the compiler will throw an error\n",
    "\n",
    "record Box(CharSequence o) {}\n",
    "\n",
    "Object o = new Box(\"Hello World\"); // any object\n",
    "switch (o) {\n",
    "    case Box(String s)  -> System.out.println(\"Box contains the string: \" + s);\n",
    "    // !!! THE FOLLOWING LINE DOES NOT COMPILE !!!\n",
    "    case Box(Integer i) -> System.out.println(\"Box contains the integer: \" + i);\n",
    "    default -> System.out.println(\"Box contains something else\");\n",
    "}\n"
   ]
  },
  {
   "cell_type": "markdown",
   "id": "06d5d6f2",
   "metadata": {},
   "source": [
    "* record patterns do not support boxing/unboxing"
   ]
  },
  {
   "cell_type": "code",
   "execution_count": 35,
   "id": "b7f4d197",
   "metadata": {},
   "outputs": [
    {
     "ename": "CompilationException",
     "evalue": "",
     "output_type": "error",
     "traceback": [
      "\u001b[1m\u001b[30m|   \u001b[1m\u001b[30mif (o instanceof Point(\u001b[0m\u001b[1m\u001b[30m\u001b[41mint x\u001b[0m\u001b[1m\u001b[30m, int y)) {\u001b[0m",
      "\u001b[1m\u001b[31mincompatible types: pattern of type int is not applicable at java.lang.Integer\u001b[0m",
      "",
      "\u001b[1m\u001b[30m|   \u001b[1m\u001b[30mif (o instanceof Point(int x, \u001b[0m\u001b[1m\u001b[30m\u001b[41mint y\u001b[0m\u001b[1m\u001b[30m)) {\u001b[0m",
      "\u001b[1m\u001b[31mincompatible types: pattern of type int is not applicable at java.lang.Integer\u001b[0m",
      ""
     ]
    }
   ],
   "source": [
    "record Point(Integer x, Integer y) {}\n",
    "\n",
    "Object o = new Point(3, 7); // any object\n",
    "// !!! DOES NOT COMPILE !!!\n",
    "if (o instanceof Point(int x, int y)) {\n",
    "}"
   ]
  },
  {
   "cell_type": "markdown",
   "id": "bce35e0a",
   "metadata": {},
   "source": [
    "* record pattern supports nesting"
   ]
  },
  {
   "cell_type": "code",
   "execution_count": null,
   "id": "1017f4de",
   "metadata": {},
   "outputs": [],
   "source": [
    "record Point(double x, double y) {}\n",
    "record Circle(Point center, double radius) {}\n",
    "\n",
    "Object o = ...; // any object\n",
    "if (o instanceof Circle(Point(var x, var y), var radius)) {\n",
    "    // Do something with x, y and radius\n",
    "}"
   ]
  },
  {
   "cell_type": "code",
   "execution_count": 38,
   "id": "f542cf46",
   "metadata": {},
   "outputs": [
    {
     "name": "stdout",
     "output_type": "stream",
     "text": [
      "The value of x and y are: 3.500000 and 4.000000 respectively and radius is 2.100000\r\n"
     ]
    }
   ],
   "source": [
    "record Point(double x, double y) {}\n",
    "record Circle(Point center, double radius) {}\n",
    "\n",
    "\n",
    "Point center = new Point(3.5, 4.0);\n",
    "Object o = new Circle(center, 2.1); // any object\n",
    "if (o instanceof Circle(Point(var x, var y), var radius)) {\n",
    "    // Do something with x, y and radius\n",
    "    String format = String.format(\"The value of x and y are: %f and %f respectively and radius is %f\", x, y, radius);\n",
    "    System.out.println(format);\n",
    "}"
   ]
  },
  {
   "cell_type": "markdown",
   "id": "fce30213",
   "metadata": {},
   "source": [
    "## Pattern Matching for Enhanced for statement"
   ]
  },
  {
   "cell_type": "markdown",
   "id": "bd66a3fc",
   "metadata": {},
   "source": [
    "* the _enhanced for statement_ consists in looping over elements of an Iterable object"
   ]
  },
  {
   "cell_type": "code",
   "execution_count": null,
   "id": "487b434f",
   "metadata": {},
   "outputs": [],
   "source": [
    "Iterable<String> iterable = ...;\n",
    "for (String s: iterable) {\n",
    "    // Do something with s\n",
    "}\n"
   ]
  },
  {
   "cell_type": "markdown",
   "id": "bd7f0d6c",
   "metadata": {},
   "source": [
    "* you can actually use the record pattern with the for statement but there are restrictions:\n",
    "    1. the collection you iterate over cannot contain any null values\n",
    "        - this is only logical: x and y are initialized by calling the accessors of each instance of Point\n",
    "    2. if the pattern you use does not match an element of the collection, then an exception will be thrown\n",
    "        - the exception generated is of type MatchException"
   ]
  },
  {
   "cell_type": "code",
   "execution_count": null,
   "id": "7b816942",
   "metadata": {},
   "outputs": [],
   "source": [
    "record Point(double x, double y) {}\n",
    "List<Points> points = ...;\n",
    "\n",
    "for (Point(double x, double y): points) {\n",
    "    // Do something with x and y\n",
    "}"
   ]
  },
  {
   "cell_type": "code",
   "execution_count": null,
   "id": "2ac40c0a",
   "metadata": {},
   "outputs": [],
   "source": [
    "record Box(Object o) {}\n",
    "List<Box> boxes = List.of(new Box(\"one\"), new Box(\"two\"), new Box(1), new Box(2));\n",
    "\n",
    "for (Box(String s): boxes) {\n",
    "    // this code does compile, but will throw a MatchException\n",
    "    // when reaching the third element\n",
    "}"
   ]
  },
  {
   "cell_type": "markdown",
   "id": "7ce37773",
   "metadata": {},
   "source": [
    "## More Patterns"
   ]
  },
  {
   "cell_type": "markdown",
   "id": "5c42076d",
   "metadata": {},
   "source": [
    "* pattern matching is now supported by 3 elements of the Java language as a final feature or as a preview feature:\n",
    "    - the instanceof keyword\n",
    "    - the switch statement and expression\n",
    "    - and the extends for loop\n",
    "* they all support 2 kinds of patterns: _type patterns_ and _record patterns_"
   ]
  }
 ],
 "metadata": {
  "kernelspec": {
   "display_name": "Java",
   "language": "java",
   "name": "java"
  },
  "language_info": {
   "codemirror_mode": "java",
   "file_extension": ".jshell",
   "mimetype": "text/x-java-source",
   "name": "Java",
   "pygments_lexer": "java",
   "version": "21+35-2513"
  }
 },
 "nbformat": 4,
 "nbformat_minor": 5
}
