{
 "cells": [
  {
   "cell_type": "markdown",
   "id": "91d49687",
   "metadata": {},
   "source": [
    "## Combining Lambda Expressions"
   ]
  },
  {
   "cell_type": "markdown",
   "id": "0806f7a9",
   "metadata": {},
   "source": [
    "* there are default methods in the functional interfaces of the java.util.function package\n",
    "    - these methods are added to allow the combination and chaining of lambda expressions\n",
    "    - they help you write simpler and more readable code"
   ]
  },
  {
   "cell_type": "markdown",
   "id": "bb8ac753",
   "metadata": {},
   "source": [
    "## Chaining Predicates with Default Methods"
   ]
  },
  {
   "cell_type": "markdown",
   "id": "f4fef05a",
   "metadata": {},
   "source": [
    "* suppose you need to process a list of strings and they must follow this criteria:\n",
    "    - non-null\n",
    "    - non-empty\n",
    "    - shorter than 5 characters\n",
    "* each of these tests can be written with a simple, one line predicate but it is also possible to combine those 3 tests into one single predicate\n",
    "* the purpose of combining lambda expressions  is to hide technical complexity and expose the intent of the code\n",
    "* How is this code implemented at the API level? Looking at the details:\n",
    "    - and() is a method\n",
    "        * since only one abstract method is allowed on a functional interface, and() has to be a default method\n",
    "    - it is called on an instance of Predicate\\<T\\>, thus making it an instance method\n",
    "    - it takes another Predicate\\<T\\> as an argument\n",
    "    - it returns a Predicate\\<T\\>\n",
    "* besides and(), Predicate\\<T\\> also has:\n",
    "    - an or() method that takes another predicate\n",
    "    - and a negate() method that takes no arguments"
   ]
  },
  {
   "cell_type": "code",
   "execution_count": null,
   "id": "66cffbcf",
   "metadata": {},
   "outputs": [],
   "source": [
    "// one-line predicate with all 3 conditions that must be met\n",
    "Predicate<String> p = s -> (s != null) && !s.isEmpty() && s.length() < 5;\n",
    "\n",
    "// can be rewritten as a chain of 3 Predicates\n",
    "Predicate<String> nonNull = s -> s != null;\n",
    "Predicate<String> nonEmpty = s -> s.isEmpty();\n",
    "Predicate<String> shorterThan5 = s -> s.length() < 5;\n",
    "\n",
    "Predicate<String> p = nonNull.and(nonEmpty).andshorterThan5;"
   ]
  },
  {
   "cell_type": "code",
   "execution_count": null,
   "id": "f2dfbc62",
   "metadata": {},
   "outputs": [],
   "source": [
    "// rewriting previous example using other default methods or() and negate()\n",
    "\n",
    "Predicate<String> isNull = Objects::isNull;\n",
    "Predicate<String> isEmpty = String::isEmpty;\n",
    "Predicate<String> isNullOrEmpty = isNull.or(isEmpty);\n",
    "Predicate<String> isNotNullNorEmpty = isNullOrEmpty.negate();\n",
    "Predicate<String> shorterThan5 = s -> s.length < 5;\n",
    "\n",
    "Predicate<String> p = isNotNullNorEmpty.and(shorterThan5);"
   ]
  },
  {
   "cell_type": "markdown",
   "id": "78aae0db",
   "metadata": {},
   "source": [
    "## Creating Predicates with Factory Methods"
   ]
  },
  {
   "cell_type": "markdown",
   "id": "9c4d7fc9",
   "metadata": {},
   "source": [
    "* Predicate\\<T\\> has 2 factory methods defined in its functional interface\n",
    "    - isEqual(): create predicates for any type of objects\n",
    "    - not(): negates the predicate given as an argument\n",
    "* in the example below:\n",
    "    - the predicate isEqualToDuke tests a string of characters\n",
    "    - the test returns true when the tested string is equal to \"Duke\""
   ]
  },
  {
   "cell_type": "code",
   "execution_count": null,
   "id": "7b44e219",
   "metadata": {},
   "outputs": [],
   "source": [
    "Predicate<String> isEqualToDuke = Predicate.isEqual(\"Duke\");\n",
    "\n",
    "Predicate<Collection<String>> isEmpty = Collection::isEmpty;\n",
    "Predicate<Collection<String>> isNotEmpty = Predicate.not(isEmpty);"
   ]
  },
  {
   "cell_type": "code",
   "execution_count": 9,
   "id": "e68eff9f",
   "metadata": {},
   "outputs": [
    {
     "name": "stdout",
     "output_type": "stream",
     "text": [
      "Hello, World!\n",
      "result: true\n",
      "result2: false\n"
     ]
    }
   ],
   "source": [
    "import java.util.function.*;\n",
    "import java.lang.*;\n",
    "\n",
    "class HelloWorld {\n",
    "    public static void main(String[] args) {\n",
    "        System.out.println(\"Hello, World!\");\n",
    "        \n",
    "        Predicate<ArrayList<String>> isEmpty = ArrayList::isEmpty;\n",
    "        Predicate<ArrayList<String>> isNotEmpty = Predicate.not(isEmpty);\n",
    "        \n",
    "        ArrayList<String> list = new ArrayList<>();\n",
    "        list.add(\"one\");\n",
    "        list.add(\"two\");\n",
    "        list.add(\"three\");\n",
    "        \n",
    "        boolean result = isNotEmpty.test(list);\n",
    "        System.out.println(\"result: \" + result);\n",
    "        \n",
    "        boolean result2 = isEmpty.test(list);\n",
    "        System.out.println(\"result2: \" + result2);\n",
    "    }\n",
    "}\n",
    "\n",
    "String[] args = {\"\"};\n",
    "HelloWorld.main(args);"
   ]
  },
  {
   "cell_type": "markdown",
   "id": "10489c20",
   "metadata": {},
   "source": [
    "## Chaining Consumers with Default Methods"
   ]
  },
  {
   "cell_type": "markdown",
   "id": "6b353a4c",
   "metadata": {},
   "source": [
    "* in the example below:\n",
    "    - printAndLog is a consumer\n",
    "    - it will pass the message to the log consumer\n",
    "    - and then pass it to the print consumer\n",
    "* remember that Consumers take in arguments and return nothing"
   ]
  },
  {
   "cell_type": "code",
   "execution_count": null,
   "id": "c8bc65ba",
   "metadata": {},
   "outputs": [],
   "source": [
    "Logger logger = Logger.getLogger(\"MyApplicationLogger\");\n",
    "Consumer<String> log = message -> logger.info(message);\n",
    "Consumer<String> print = message -> System.out.println(message);\n",
    "\n",
    "Consumer<String> printAndLog = log.andThen(print);"
   ]
  },
  {
   "cell_type": "markdown",
   "id": "de4491e0",
   "metadata": {},
   "source": [
    "## Chaining and Composing Functions with Default Methods"
   ]
  },
  {
   "cell_type": "markdown",
   "id": "a88af1c8",
   "metadata": {},
   "source": [
    "* the result of chaining and composing are the same\n",
    "    - what is different is how you write it\n",
    "* suppose you have 2 functions f1 and f2\n",
    "    - you can chain them by calling f1.andThen(f2)\n",
    "        * will pass an object to f1 and the result of f1 to f2\n",
    "    - you can compose them by using the Function interface's second default method: f2.compose(f1)\n",
    "        * the resulting function will first process an object by passing it to the f1 function and then the result is passed to f2\n",
    "    - to get the same resulting function:\n",
    "        * you need to call andThen() on f1\n",
    "        * or compose() on f2\n",
    "* you can chain or compose functions of different types\n",
    "    - the type of the result produced by f1 should be compatible with the type consumed by f2\n",
    "* why use one or the other?\n",
    "    - it depends on which function already exists\n",
    "    - if both f1 and f2 already exist, then it doesn't matter which default method you use\n",
    "    - if either f1 or f2 exist, then it depends on what your end result is and how convenient it is to chain or compose"
   ]
  },
  {
   "cell_type": "markdown",
   "id": "c59c6fdc",
   "metadata": {},
   "source": [
    "## Creating an Identity Function"
   ]
  },
  {
   "cell_type": "markdown",
   "id": "50bac787",
   "metadata": {},
   "source": [
    "* the Function\\<T, R\\> interface also has a factory method to create the identity function called identity()\n",
    "* identity():\n",
    "    - returns a function that always returns its input argument\n",
    "* this pattern is applicable for any valid type"
   ]
  },
  {
   "cell_type": "code",
   "execution_count": 12,
   "id": "acf248dd",
   "metadata": {},
   "outputs": [
    {
     "name": "stdout",
     "output_type": "stream",
     "text": [
      "Hello world!\n",
      "What is my identity?\n"
     ]
    }
   ],
   "source": [
    "Function<String, String> id = Function.identity();\n",
    "\n",
    "String result = id.apply(\"Hello world!\");\n",
    "System.out.println(result);\n",
    "\n",
    "String result2 = id.apply(\"What is my identity?\");\n",
    "System.out.println(result2);"
   ]
  }
 ],
 "metadata": {
  "kernelspec": {
   "display_name": "Java",
   "language": "java",
   "name": "java"
  },
  "language_info": {
   "codemirror_mode": "java",
   "file_extension": ".jshell",
   "mimetype": "text/x-java-source",
   "name": "Java",
   "pygments_lexer": "java",
   "version": "21+35-2513"
  }
 },
 "nbformat": 4,
 "nbformat_minor": 5
}
