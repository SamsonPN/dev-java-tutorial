{
 "cells": [
  {
   "cell_type": "markdown",
   "id": "5474684e",
   "metadata": {},
   "source": [
    "## Identifying the Type of a Lambda Expression"
   ]
  },
  {
   "cell_type": "markdown",
   "id": "fd5939e9",
   "metadata": {},
   "source": [
    "* type is known at compile time\n",
    "* the type of a lambda expression could be:\n",
    "    - the type of a variable\n",
    "    - field\n",
    "    - method parameter\n",
    "    - or returned type of a method\n",
    "* there is a restriction on the type of a lambda expression\n",
    "    - it has to be a functional interface\n",
    "    - an anonymous class that does not implement a functional interface cannot be written as a lambda expression\n",
    "    - __functional interface: the simplest definition is an interface that has one and only one _abstract_ method regardless of the number of default or static concrete methods inside it__\n",
    "        * so an inteface with only a default method or static method cannot be a functional interface\n",
    "* note: a functional interface does not require the annotation @FunctionalInterface\n",
    "    - it's just there to make sure that your interface is indeed functional\n",
    "    - if you put it on a type that isn't, then the compiler will raise an error"
   ]
  },
  {
   "cell_type": "markdown",
   "id": "08556f41",
   "metadata": {},
   "source": [
    "### Examples of Functional Interfaces"
   ]
  },
  {
   "cell_type": "code",
   "execution_count": null,
   "id": "35493b2e",
   "metadata": {},
   "outputs": [],
   "source": [
    "// Runnable is functional\n",
    "// only has 1 abstract method\n",
    "// @FunctionalInterface annotation is optional, it's only there as a helper to check\n",
    "\n",
    "@FunctionalInterface\n",
    "public interface Runnable {\n",
    "    public abstract void run();\n",
    "}"
   ]
  },
  {
   "cell_type": "code",
   "execution_count": null,
   "id": "3d4de94c",
   "metadata": {},
   "outputs": [],
   "source": [
    "// Consumer<T> is functional\n",
    "// has exactly 1 abstract method\n",
    "// and 1 default concrete method that doesn't count\n",
    "\n",
    "@FunctionalInterface\n",
    "public interface Consumer<T> {\n",
    "\n",
    "    void accept(T t);\n",
    "\n",
    "    default Consumer<T> andThen(Consumer<? super T> after) {\n",
    "        // the body of this method has been removed\n",
    "    }\n",
    "}\n"
   ]
  },
  {
   "cell_type": "code",
   "execution_count": null,
   "id": "3a0b0467",
   "metadata": {},
   "outputs": [],
   "source": [
    "// Predicate<T> is functional\n",
    "// it has exactly 1 abstract method\n",
    "// 3 default methods that don't count\n",
    "// and 2 static methods that don't count\n",
    "\n",
    "@FunctionalInterface\n",
    "public interface Predicate<T> {\n",
    "\n",
    "    boolean test(T t);\n",
    "\n",
    "    default Predicate<T> and(Predicate<? super T> other) {\n",
    "        // the body of this method has been removed\n",
    "    }\n",
    "\n",
    "    default Predicate<T> negate() {\n",
    "        // the body of this method has been removed\n",
    "    }\n",
    "\n",
    "    default Predicate<T> or(Predicate<? super T> other) {\n",
    "        // the body of this method has been removed\n",
    "    }\n",
    "\n",
    "    static <T> Predicate<T> isEqual(Object targetRef) {\n",
    "        // the body of this method has been removed\n",
    "    }\n",
    "\n",
    "    static <T> Predicate<T> not(Predicate<? super T> target) {\n",
    "        // the body of this method has been removed\n",
    "    }\n",
    "}\n"
   ]
  },
  {
   "cell_type": "markdown",
   "id": "727e69fa",
   "metadata": {},
   "source": [
    "## Finding the Right Method to Implement"
   ]
  },
  {
   "cell_type": "markdown",
   "id": "e8b6d5b4",
   "metadata": {},
   "source": [
    "* a lambda expression is an implementation of the only abstract method in the functional interface\n",
    "    - so just look for them in the interface"
   ]
  },
  {
   "cell_type": "code",
   "execution_count": null,
   "id": "643215cc",
   "metadata": {},
   "outputs": [],
   "source": [
    "// Runnable interface\n",
    "public abstract void run();\n",
    "\n",
    "// Predicate interface\n",
    "boolean test(T t);\n",
    "\n",
    "// Consumer interface\n",
    "void accept(T t);"
   ]
  },
  {
   "cell_type": "markdown",
   "id": "b9dd0699",
   "metadata": {},
   "source": [
    "## Implementing the Right Method with a Lambda Expression"
   ]
  },
  {
   "cell_type": "markdown",
   "id": "e4287d1a",
   "metadata": {},
   "source": [
    "### Writing a First Lambda Expression that Implements _Predicate\\<String\\>_\n",
    "\n",
    "* syntax is made of 3 elements:\n",
    "    1. block of parameters\n",
    "    2. little piece of ASCII art depicting an arrow: ->\n",
    "        - Java uses meager arrows (->) and not fat arrows (=>)\n",
    "    3. block of code which is the body of the method\n",
    "* suppose you need an instance of a Predicate that returns true for strings of characters that have exactly 3 characters:\n",
    "    1. the type of your lambda expression is Predicate\n",
    "    2. the method you need to implement is boolean test(String s)"
   ]
  },
  {
   "cell_type": "code",
   "execution_count": null,
   "id": "eeafaac8",
   "metadata": {},
   "outputs": [],
   "source": [
    "Predicate<String> predicate =\n",
    "    // same method signature as test() in Predicate<T>\n",
    "    (String s) -> {\n",
    "        return s.length() == 3;\n",
    "    };"
   ]
  },
  {
   "cell_type": "markdown",
   "id": "c35bad08",
   "metadata": {},
   "source": [
    "### Simplifying the Syntax\n",
    "\n",
    "* (String s) can be simplified to s\n",
    "    - the compiler knows that this abstract method takes String as an argument so you can skip declaring the type\n",
    "    - and since there's only 1 parameter, you can remove the parentheses\n",
    "* there's only 1 line of code in the body of the method\n",
    "    - thus, you can ignore the curly braces and remove the return keyword\n",
    "* good practice: keep your lambdas short so that they are just one line of simple, readable code"
   ]
  },
  {
   "cell_type": "code",
   "execution_count": null,
   "id": "08e7cdc0",
   "metadata": {},
   "outputs": [],
   "source": [
    "Predicate<String> predicate = s -> s.length() == 3;"
   ]
  },
  {
   "cell_type": "markdown",
   "id": "fdb0c962",
   "metadata": {},
   "source": [
    "### Implementing a Consumer\\<String\\>\n",
    "\n",
    "* lambda that consumes a string and prints on System.out"
   ]
  },
  {
   "cell_type": "code",
   "execution_count": null,
   "id": "1bea682d",
   "metadata": {},
   "outputs": [],
   "source": [
    "Consumer<String> print = s -> System.out.println(s);"
   ]
  },
  {
   "cell_type": "markdown",
   "id": "0db75599",
   "metadata": {},
   "source": [
    "### Implementing a Runnable\n",
    "\n",
    "* writes out an implementation of void run()\n",
    "* block of arguments is empty so should be written with empty parentheses"
   ]
  },
  {
   "cell_type": "code",
   "execution_count": null,
   "id": "7c3c4dea",
   "metadata": {},
   "outputs": [],
   "source": [
    "Runnable runnable = () -> System.out.println(\"I am running\");"
   ]
  },
  {
   "cell_type": "markdown",
   "id": "6591dd27",
   "metadata": {},
   "source": [
    "## Calling a Lambda Expression"
   ]
  },
  {
   "cell_type": "markdown",
   "id": "6cd8eee4",
   "metadata": {},
   "source": [
    "* use the variable that the lambda expression was assigned to\n",
    "* remember that a lambda expression is an implementation of an abstract method from a functional interface\n",
    "    - therefore, you can use the variable, call the abstract method directly, and pass in any arguments to it which would call the lambda expression\n",
    "    - thus, calling the abstract method will call the code of your lambda itself"
   ]
  },
  {
   "cell_type": "code",
   "execution_count": null,
   "id": "7e2cd1b0",
   "metadata": {},
   "outputs": [],
   "source": [
    "List<String> retainStringsOfLength3(List<String> strings) {\n",
    "\n",
    "    Predicate<String> predicate = s -> s.length() == 3;\n",
    "    List<String> stringsOfLength3 = new ArrayList<>();\n",
    "    for (String s: strings) {\n",
    "    \n",
    "        // calling the lambda expression\n",
    "        // keep in mind, a lambda expression is an implementation of an abstract method from a functional interface\n",
    "        if (predicate.test(s)) {\n",
    "            stringsOfLength3.add(s);\n",
    "        }\n",
    "    }\n",
    "    return stringsOfLength3;\n",
    "}\n"
   ]
  },
  {
   "cell_type": "markdown",
   "id": "5754015d",
   "metadata": {},
   "source": [
    "## Capturing Local Values"
   ]
  },
  {
   "cell_type": "markdown",
   "id": "eec2dc29",
   "metadata": {},
   "source": [
    "* in the example below:\n",
    "    - compiling it will give you an error on the use of totalPrice in the Consumer implementation\n",
    "        * error: Variable used in lambda expression should be final or effectively final\n",
    "    - reason being, lambdas cannot modify variables defined outside their body\n",
    "        * they can read them, as long as they are final, that is, immutable\n",
    "* the process of accessing variable is called _capturing_\n",
    "    - lambdas cannot capture variables, they can only capture values\n",
    "    - and that's why they can read variables that are final\n",
    "        * _a final variable is a value_\n",
    "* note that the error message tells us that the variable can be final or effectively final\n",
    "    - even if you do not explicitly declare a variable final, the compiler may do it for you, making it effectively final\n",
    "    - if the compiler sees that this variable is read from a lambda and you do not modify it, it will nicely add the final declaration for you\n",
    "    - this is done in the compiled code and does not modify the source code"
   ]
  },
  {
   "cell_type": "code",
   "execution_count": null,
   "id": "64703052",
   "metadata": {},
   "outputs": [],
   "source": [
    "int calculateTotalPrice(List<Product> products) {\n",
    "\n",
    "    int totalPrice = 0;\n",
    "    Consumer<Product> consumer =\n",
    "        product -> totalPrice += product.getPrice();\n",
    "    for (Product product: products) {\n",
    "        consumer.accept(product);\n",
    "    }\n",
    "}"
   ]
  },
  {
   "cell_type": "markdown",
   "id": "a8cb6bfa",
   "metadata": {},
   "source": [
    "## Serializing Lambdas"
   ]
  },
  {
   "cell_type": "markdown",
   "id": "5264ee2e",
   "metadata": {},
   "source": [
    "* why serialize lambda expressions?\n",
    "    - lambdas can be stored in fields and this field may be accessed through a constructor or a setter method\n",
    "    - then you may have a lambda in the state of your object at runtime, without being aware of it\n",
    "    - thus, to preserve backward compatibility with existing serializable classes, serializing a lambda expression is possible"
   ]
  }
 ],
 "metadata": {
  "kernelspec": {
   "display_name": "Java",
   "language": "java",
   "name": "java"
  },
  "language_info": {
   "codemirror_mode": "java",
   "file_extension": ".jshell",
   "mimetype": "text/x-java-source",
   "name": "Java",
   "pygments_lexer": "java",
   "version": "21+35-2513"
  }
 },
 "nbformat": 4,
 "nbformat_minor": 5
}
