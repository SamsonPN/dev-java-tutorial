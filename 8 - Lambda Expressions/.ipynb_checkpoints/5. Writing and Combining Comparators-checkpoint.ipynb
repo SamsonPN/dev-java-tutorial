{
 "cells": [
  {
   "cell_type": "markdown",
   "id": "c0226c30",
   "metadata": {},
   "source": [
    "## Implementing a Comparator with a Lambda Expression"
   ]
  },
  {
   "cell_type": "markdown",
   "id": "85b027ba",
   "metadata": {},
   "source": [
    "* Comparator\\<T\\> is a functional interface\n",
    "    - thus, implementing a comparator can be done using a lambda expression\n",
    "    - it has only 1 abstract method: compare\n",
    "* the contract of a comparator is the following:\n",
    "    - if o1 < o2, compare(o1, o2) returns a negative number\n",
    "    - if o1 > o2, compare(o1, o2) returns a positive number\n",
    "    - if o1 = o2, compare(o1, o2) returns 0\n",
    "        * not strictly required"
   ]
  },
  {
   "cell_type": "code",
   "execution_count": null,
   "id": "ec73145a",
   "metadata": {},
   "outputs": [],
   "source": [
    "@FunctionalInterface\n",
    "public interface Comparator<T> {\n",
    "\n",
    "    int compare(T o1, T o2);\n",
    "}"
   ]
  },
  {
   "cell_type": "code",
   "execution_count": null,
   "id": "43e60ab9",
   "metadata": {},
   "outputs": [],
   "source": [
    "// this method compares 2 integers\n",
    "Comparator<Integer> comparator = (i1, i2) -> Integer.compare(i1, i2);\n",
    "\n",
    "// can also be written as a bound method reference\n",
    "// this is bound b/c the method, Integer.compare(), is bound to the method reference definition itself\n",
    "// the method does not depend on the arguments passed into it\n",
    "Comparator<Integer> comparator = Integer::compare;"
   ]
  },
  {
   "cell_type": "markdown",
   "id": "6dc19b12",
   "metadata": {},
   "source": [
    "## Using a Factory Method to Create a Comparator"
   ]
  },
  {
   "cell_type": "markdown",
   "id": "785276b3",
   "metadata": {},
   "source": [
    "* suppose you need to create a comparator to compare strings of characters\n",
    "    - in the composition style, since the Comparator only depends on the Function called toLength, it's possible to create a factory method that takes this function as an argument and returns the corresponding Comparator\\<String\\>\n",
    "        * there is still a constraint of the returned type of the toLength function: it has to be coparable!\n",
    "    - you can use a factory method to return a Comparator using the static method Commparator.comparing()\n",
    "        * this static method takes a Function as an argument and returns a type that is an extension of Comparable"
   ]
  },
  {
   "cell_type": "code",
   "execution_count": null,
   "id": "f52baf24",
   "metadata": {},
   "outputs": [],
   "source": [
    "// creating a Comparator with a lambda expression\n",
    "Comparator<String> comparator = \n",
    "    (s1, s2) -> Integer.compare(s1.length(), s2.length());\n",
    "\n",
    "// rewritten in a composition style\n",
    "// this is an unbounded method reference since it relies on the object String passed in\n",
    "Function<String, Integer> toLength = String::length;\n",
    "Comparator<String> comparator = \n",
    "    (s1, s2) -> Integer.compare(\n",
    "            toLength.apply(s1),\n",
    "            toLength.apply(s2));\n",
    "\n",
    "// using Comparator's static method to return a Comparator<String>\n",
    "// this is the factory method that creates the Comparator\n",
    "Comparator<String> comparator = Comparator.comparing(String::length);"
   ]
  },
  {
   "cell_type": "code",
   "execution_count": null,
   "id": "fe6732bd",
   "metadata": {},
   "outputs": [],
   "source": [
    "// suppose you have a User class with a getName() getter\n",
    "// and you need to sort a list of users according to their name\n",
    "// you can write your code to do just that\n",
    "\n",
    "\n",
    "List<User> users = ...; // some list\n",
    "// uses the Comparator.comparing() factory method that returns a Comparator<User>\n",
    "Comparator<User> byName = Comparator.comparing(User::getName);\n",
    "// passes the comparator into the sort method\n",
    "users.sort(byName);"
   ]
  },
  {
   "cell_type": "code",
   "execution_count": 6,
   "id": "91f511e2",
   "metadata": {},
   "outputs": [
    {
     "name": "stdout",
     "output_type": "stream",
     "text": [
      "Before: \n",
      "[hello, world, this, is]\n",
      "After: \n",
      "[is, this, hello, world]\n"
     ]
    }
   ],
   "source": [
    "import java.util.function.*;\n",
    "import java.util.*;\n",
    "\n",
    "class HelloWorld {\n",
    "    public static void main(String[] args) {\n",
    "        // creates a Comparator<String> object using the factory method from Comparator\n",
    "        // which takes in a Function\n",
    "        Comparator<String> comparator = Comparator.comparing(String::length);\n",
    "        \n",
    "        List<String> list = Arrays.asList(\"hello\", \"world\", \"this\", \"is\");\n",
    "        System.out.println(\"Before: \");\n",
    "        System.out.println(list);\n",
    "        \n",
    "        // passes in the comparator object to the sort method\n",
    "        list.sort(comparator);\n",
    "        \n",
    "        System.out.println(\"After: \");\n",
    "        System.out.println(list);\n",
    "        \n",
    "    }\n",
    "}\n",
    "\n",
    "String[] args = {\"\"};\n",
    "HelloWorld.main(args);"
   ]
  },
  {
   "cell_type": "markdown",
   "id": "333c50a0",
   "metadata": {},
   "source": [
    "## Chaining Comparators"
   ]
  },
  {
   "cell_type": "markdown",
   "id": "0a0fd5eb",
   "metadata": {},
   "source": [
    "* suppose you created a Comparable\\<User\\> that compares by first name but now needs to do that last name as well\n",
    "    - you would create 2 comparators using the factory method Comparing.compare()\n",
    "    - but now you need a way to chain them similar to Predicate or Consumer\n",
    "        * the Comparator API gives you a way to do that using a default method: .thenComparing()\n",
    "        * this takes a comparator as an argument and returns a new comparator\n",
    "        * when used, it will compare the users by first name and if they're equal (return a 0), then it will compare by last name\n",
    "* there is also an overloaded version of the thenComparing() method that takes a function as an argument and not just a comparator\n",
    "    - since byLastName is a comparator that only relies on the Function User::getLastName, we can just rewrite it using this overloaded method"
   ]
  },
  {
   "cell_type": "code",
   "execution_count": null,
   "id": "f97c87a9",
   "metadata": {},
   "outputs": [],
   "source": [
    "// using Comparator.comparing factory method to create  2 comparators for first and last name\n",
    "Comparator<User> byFirstName = Comparator.comparing(User::getFirstName);\n",
    "Comparator<User> byLastName = Comparator.comparing(User:getLastName);\n",
    "\n",
    "// chain them using the .thenComparing() default method\n",
    "Comparator<User> byFirstNameThenLastName = byFirstName.thenComparing(byLastName);\n",
    "\n",
    "// rewritten using the overloaded method, without having to create 2 comparators\n",
    "Comparator<User> byFirstNameThenLastName = \n",
    "    Comparator.comparing(User::getFirstName)\n",
    "              .thenComparing(User::getLastName);"
   ]
  },
  {
   "cell_type": "markdown",
   "id": "6b30cd56",
   "metadata": {},
   "source": [
    "## Specialized Comparators"
   ]
  },
  {
   "cell_type": "markdown",
   "id": "9e445acb",
   "metadata": {},
   "source": [
    "* autoboxing/unboxing operations also occur with comparators, leading to the same performance hits similar to the functional interfaces of the java.util.function package\n",
    "* to deal with this, there are specialized versions of the comparing() factory method and the thenComparing() default method\n",
    "* can create an instance of Comparable\\<T\\> with:\n",
    "    - comparingInt(ToIntFunction\\<T\\> keyExtractor);\n",
    "    - comparingLong(ToLongFunction\\<T\\> keyExtractor);\n",
    "    - comparingDouble(ToDoubleFunction\\<T\\> keyExtractor);\n",
    "    - can use these methods if you need to compare objects using a property that is a primitive type and need to avoid boxing/unboxing:\n",
    "* there are also corresponding methods to chain Comparator\\<T\\>:\n",
    "    - thenComparingInt(ToIntFunction\\<T\\> keyExtractor);\n",
    "    - thenComparingLong(ToLongFunction\\<T\\> keyExtractor);\n",
    "    - thenComparingDouble(ToDoubleFunction\\<T\\> keyExtractor);\n",
    "    - using these methods, you can chain the comparison with a comparator built on a specialized function that returns a primitive type, without having any performance hit due to boxing/unboxing"
   ]
  },
  {
   "cell_type": "markdown",
   "id": "1bde9414",
   "metadata": {},
   "source": [
    "## Comparing Comparable Objects Using Their Natural Order"
   ]
  },
  {
   "cell_type": "markdown",
   "id": "9a3af9a4",
   "metadata": {},
   "source": [
    "* many classes in the JDK implement a special interface of the JDK:\n",
    "    - the Comparable\\<T\\> interface\n",
    "        * NOT TO BE CONFUSED WITH THE Comparator\\<T\\> functional interface\n",
    "    - Comparable\\<T\\> has one method: compareTo(T other) that returns an int\n",
    "        * it's used to compare this object that compareTo is invoked on with the specified object for order\n",
    "        * compareTo allows you to compare objects using their natural order\n",
    "* the Comparator API gives you a Comparator.naturalOrder() factory class\n",
    "    - it creates a Comparator that compares any Comparable object using its compareTo() method\n",
    "* it's very useful when you need to chain comparators\n",
    "    - e.g. you want to compare string of characters with their length and then with their natural order"
   ]
  },
  {
   "cell_type": "code",
   "execution_count": 2,
   "id": "2cc9377c",
   "metadata": {},
   "outputs": [
    {
     "name": "stdout",
     "output_type": "stream",
     "text": [
      "[one, two, five, four, three]\r\n"
     ]
    }
   ],
   "source": [
    "Comparator<String> byLengthThenAlphabetically =\n",
    "    Comparator.comparing(String::length)\n",
    "              .thenComparing(Comparator.naturalOrder());\n",
    "List<String> strings = Arrays.asList(\"one\", \"two\", \"three\", \"four\", \"five\");\n",
    "strings.sort(byLengthThenAlphabetically);\n",
    "System.out.println(strings);"
   ]
  },
  {
   "cell_type": "markdown",
   "id": "65f92695",
   "metadata": {},
   "source": [
    "## Reversing a Comparator"
   ]
  },
  {
   "cell_type": "markdown",
   "id": "57db74f7",
   "metadata": {},
   "source": [
    "* a major use of comparators is to sort objects\n",
    "    - the List interface has a method, List.sort(), that takes a comparator as an argument\n",
    "* if you need to sort a list in reverse order, you can use the reversed() method from the Comparator interface"
   ]
  },
  {
   "cell_type": "code",
   "execution_count": 7,
   "id": "335d6438",
   "metadata": {},
   "outputs": [
    {
     "name": "stdout",
     "output_type": "stream",
     "text": [
      "[three, four, five, two, one]\r\n"
     ]
    }
   ],
   "source": [
    "List<String> strings = Arrays.asList(\"one\", \"two\", \"three\", \"four\", \"five\");\n",
    "strings.sort(byLengthThenAlphabetically.reversed());\n",
    "System.out.println(strings);"
   ]
  },
  {
   "cell_type": "markdown",
   "id": "5105b496",
   "metadata": {},
   "source": [
    "## Dealing with Null Values"
   ]
  },
  {
   "cell_type": "markdown",
   "id": "6d9919fd",
   "metadata": {},
   "source": [
    "* comparing null objects can lead to NullPointerExceptions\n",
    "* suppose you need to write a null-safe comparator of integers to sort a list of integers\n",
    "    - the convention you might follow is to push all null values at the end of the list, meaning that a null value is greater than any other non-null value\n",
    "    - then you want to sort non-null values in their natural order\n",
    "* you can achieve this using factory methods of the Comparator interface:\n",
    "    - nullsLast()\n",
    "    - nullsFirst()\n",
    "    - both take a comparator as an argument and handle the null values for you: by either pushing them to the end or in front of the sorted list"
   ]
  },
  {
   "cell_type": "code",
   "execution_count": null,
   "id": "03eac1e7",
   "metadata": {},
   "outputs": [],
   "source": [
    "// initial way of doing this\n",
    "// readability takes a big hit\n",
    "Comparator<Integer> comparator = \n",
    "    (i1, i2) -> {\n",
    "        // makes null values greater than non-null\n",
    "        if (i1 == null && i2 != null) {\n",
    "            return 1;\n",
    "        }\n",
    "        // makes non-null values less than null\n",
    "        else if (i1 != null && i2 == null) {\n",
    "            return -1;\n",
    "        }\n",
    "        else {\n",
    "            return Integer.compare(i1, i2);\n",
    "        }\n",
    "    }\n",
    "\n",
    "// using the factory methods for handling nulls\n",
    "Comparator<Integer> naturalOrder = Comparator.naturalOrder();\n",
    "Comparator<Integer> naturalOrderNullsLast = \n",
    "    Comparator.nullsLast(naturalOrder());"
   ]
  },
  {
   "cell_type": "code",
   "execution_count": 8,
   "id": "528e88a0",
   "metadata": {},
   "outputs": [
    {
     "name": "stdout",
     "output_type": "stream",
     "text": [
      "[five, four, one, three, two, null, null, null]\r\n"
     ]
    }
   ],
   "source": [
    "List<String> strings = \n",
    "    Arrays.asList(\"one\", null, \"two\", \"three\", null, null, \"four\", \"five\");\n",
    "Comparator<String> naturalNullsLast = \n",
    "    Comparator.nullsLast(Comparator.naturalOrder());\n",
    "strings.sort(naturalNullsLast);\n",
    "System.out.println(strings);"
   ]
  }
 ],
 "metadata": {
  "kernelspec": {
   "display_name": "Java",
   "language": "java",
   "name": "java"
  },
  "language_info": {
   "codemirror_mode": "java",
   "file_extension": ".jshell",
   "mimetype": "text/x-java-source",
   "name": "Java",
   "pygments_lexer": "java",
   "version": "21+35-2513"
  }
 },
 "nbformat": 4,
 "nbformat_minor": 5
}
