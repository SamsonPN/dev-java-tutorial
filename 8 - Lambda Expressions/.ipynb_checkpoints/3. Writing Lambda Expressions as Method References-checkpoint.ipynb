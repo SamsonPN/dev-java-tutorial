{
 "cells": [
  {
   "cell_type": "markdown",
   "id": "42c07ac4",
   "metadata": {},
   "source": [
    "## Writing Lambda Expressions as Method References"
   ]
  },
  {
   "cell_type": "markdown",
   "id": "95f5f1c0",
   "metadata": {},
   "source": [
    "* lambda expression is an implementation of a method, specifically an implementation of the only abstract method of a functional interface\n",
    "    - these expressions are called \"anonymous methods\" since they don't have a name, can move around the application, be stored in a field or variable, pass as an argument to a method or a constructor and return from a method\n",
    "* sometimes, you will be writing lambdas that are just calls to specific methods defined elsewhere\n",
    "    - e.g. the lambda assign to the printer variable below references the println() method"
   ]
  },
  {
   "cell_type": "code",
   "execution_count": null,
   "id": "2c30c3c5",
   "metadata": {},
   "outputs": [],
   "source": [
    "Consumer<String> printer = s -> System.out.println(s);"
   ]
  },
  {
   "cell_type": "markdown",
   "id": "d18ff9f7",
   "metadata": {},
   "source": [
    "## Your First Method Reference"
   ]
  },
  {
   "cell_type": "markdown",
   "id": "18b2cea5",
   "metadata": {},
   "source": [
    "* sometimes a lambda expression is just a reference to an existing method\n",
    "    - in that case, you can write it as a _method reference_ like in the example below\n",
    "* there are 4 categories of method references:\n",
    "    - static method references\n",
    "    - bound method references\n",
    "    - unbound method references\n",
    "    - constructor method references\n",
    "* the printer consumer below belongs to the unbound method references category"
   ]
  },
  {
   "cell_type": "code",
   "execution_count": null,
   "id": "d77002a2",
   "metadata": {},
   "outputs": [],
   "source": [
    "Consumer<String> printer = System.out::println;"
   ]
  },
  {
   "cell_type": "markdown",
   "id": "27c7edc3",
   "metadata": {},
   "source": [
    "## Writing Static Method References"
   ]
  },
  {
   "cell_type": "markdown",
   "id": "deddc06a",
   "metadata": {},
   "source": [
    "* in the example below:\n",
    "    - the lambda expression below is in fact a reference to the static method Math.sqrt()\n",
    "    - thus, it can be written in the method reference syntax\n",
    "* the general syntax of a static method reference:\n",
    "    - __RefType::staticMethod__\n",
    "* static method references can also take more than one argument"
   ]
  },
  {
   "cell_type": "code",
   "execution_count": null,
   "id": "ee0b8bb3",
   "metadata": {},
   "outputs": [],
   "source": [
    "// this lambda is a reference to the static method Math.sqrt();\n",
    "DoubleUnaryOperator sqrt = a -> Math.sqrt(a);\n",
    "\n",
    "// static method reference syntax\n",
    "DoubleUnaryOperator sqrt = Math::sqrt;"
   ]
  },
  {
   "cell_type": "code",
   "execution_count": null,
   "id": "0e784b72",
   "metadata": {},
   "outputs": [],
   "source": [
    "// this lambda is a reference to the static method Integer.max();\n",
    "IntBinaryOperator max = (a, b) -> Integer.max(a, b);\n",
    "\n",
    "// static method reference syntax\n",
    "IntBinaryOperator max = Integer::max;"
   ]
  },
  {
   "cell_type": "markdown",
   "id": "7af0cf42",
   "metadata": {},
   "source": [
    "## Writing Unbound Method References"
   ]
  },
  {
   "cell_type": "markdown",
   "id": "fc0d3db1",
   "metadata": {},
   "source": [
    "### Methods That Do Not Take Any Argument\n",
    "\n",
    "* in the example below:\n",
    "    - lambda is a reference to the method length() of the class String\n",
    "    - thus, can be rewritten as a method reference\n",
    "    - the syntax is similar to the static method reference but there is some nuance:\n",
    "        * the length() method is an _instance method_ of the String class\n",
    "* general syntax of an unbound method reference:\n",
    "    - __RefType:instanceMethod__ where RefType is the name of a type\n",
    "        * e.g. since we pass in a String to the lambda below, the RefType is String\n",
    "        * e.g. since we pass in a User object to the lambda in the second example, the RefType is User"
   ]
  },
  {
   "cell_type": "code",
   "execution_count": null,
   "id": "2eb825bf",
   "metadata": {},
   "outputs": [],
   "source": [
    "// this lambda is a reference to the method length() of the class String\n",
    "Function<String, Integer> toLength = s -> s.length();\n",
    "\n",
    "// method reference syntax\n",
    "Function<String, Integer> toLength = String::length;"
   ]
  },
  {
   "cell_type": "code",
   "execution_count": null,
   "id": "4910b77e",
   "metadata": {},
   "outputs": [],
   "source": [
    "// able to call any getters using a method reference\n",
    "Function<User, String> getName = user -> user.getName();\n",
    "\n",
    "Function<User, String> getName = User::getName;"
   ]
  },
  {
   "cell_type": "markdown",
   "id": "4c75c3d8",
   "metadata": {},
   "source": [
    "### Methods that Take Any Argument\n",
    "\n",
    "* in the example below:\n",
    "    - the lambda is a reference to the indexOf() method of the String class\n",
    "    - can be written as a method reference\n",
    "    - the syntax is more confusing but we just have to remember to check the type of the method reference which would give us the arguments the lambda takes"
   ]
  },
  {
   "cell_type": "code",
   "execution_count": null,
   "id": "d4a87016",
   "metadata": {},
   "outputs": [],
   "source": [
    "BiFunction<String, String, Integer> indexOf = (sentence, word) -> sentence.indexOf(word);\n",
    "\n",
    "BiFunction<String, String, Integer> indexOf = String::indexOf;"
   ]
  },
  {
   "cell_type": "markdown",
   "id": "f52e564f",
   "metadata": {},
   "source": [
    "## Writing Bound Method References"
   ]
  },
  {
   "cell_type": "markdown",
   "id": "d840562b",
   "metadata": {},
   "source": [
    "* a method reference is called _bound_ because the object on which the method is called is defined in the method reference itself\n",
    "    - so this call is bound to the object given in the method reference\n",
    "* syntax of a bound method:\n",
    "    - __expr:instanceMethod__ where expr is an expression that returns an object"
   ]
  },
  {
   "cell_type": "code",
   "execution_count": null,
   "id": "5d9dec69",
   "metadata": {},
   "outputs": [],
   "source": [
    "// the first example of a method reference is a bound method reference\n",
    "// the method reference is bound to the System.out object in which the println() method is called\n",
    "Consumer<String> printer = System.out::println;"
   ]
  },
  {
   "cell_type": "markdown",
   "id": "2559db95",
   "metadata": {},
   "source": [
    "* if you consider the _unbound_ syntax, User::getName:\n",
    "    - the object on which the method is called is not part of the syntax, it's passed in as an argument of the lambda\n",
    "* in the example below:\n",
    "    - the function is applied to a specific instance of User that is passed to the function\n",
    "    - the function then operates on that instance\n",
    "    - this is not the case in the example above: the println() method is called on the System.out object that is part of the method reference and is not passed into it"
   ]
  },
  {
   "cell_type": "code",
   "execution_count": null,
   "id": "9687b97a",
   "metadata": {},
   "outputs": [],
   "source": [
    "Function<User, String> getName = User::getName;\n",
    "User anna = new User(\"Anna\");\n",
    "String name = getName.apply(anna);"
   ]
  },
  {
   "cell_type": "markdown",
   "id": "216c7559",
   "metadata": {},
   "source": [
    "## Writing Constructor Method References"
   ]
  },
  {
   "cell_type": "markdown",
   "id": "996cadd1",
   "metadata": {},
   "source": [
    "* in the example below:\n",
    "    - this is a reference on the empty constructor of ArrayList\n",
    "    - but since a constructor is not a method, this is another category of method references\n",
    "    - the diamond operator is not needed but you can add it if you also provide a type"
   ]
  },
  {
   "cell_type": "code",
   "execution_count": null,
   "id": "5741a7b0",
   "metadata": {},
   "outputs": [],
   "source": [
    "// lambda is a reference to the constructor\n",
    "Supplier<List<String>> newListOfStrings = () -> new ArrayList<>();\n",
    "\n",
    "// can be rewritten as a constructor method reference\n",
    "Supplier<List<String>> newListOfStrings = ArrayList::new;\n",
    "\n",
    "// diamond notation not needed but if you want to use it, then provide a type for it\n",
    "Supplier<List<String>> newListOfStrings = ArrayList<String>::new;"
   ]
  },
  {
   "cell_type": "markdown",
   "id": "ceb1600e",
   "metadata": {},
   "source": [
    "* need to be aware of that fact that if you do not know the type of a method reference then you cannot tell what it does exactly\n",
    "* in the example below:\n",
    "    - both of these variables can be written with the same syntax ArrayList::new\n",
    "    - but they do not refer to the same constructor"
   ]
  },
  {
   "cell_type": "code",
   "execution_count": null,
   "id": "d66c62a7",
   "metadata": {},
   "outputs": [],
   "source": [
    "// this is a reference to the no-argument constructor of ArrayList\n",
    "Supplier<List<String>> newListOfStrings = () -> new ArrayList<>();\n",
    "\n",
    "// this is a reference to a single argument constructor of ArrayList\n",
    "Function<Integer, List<String>> newListOfNStrings = size -> new ArrayList<>(size);\n",
    "\n",
    "// written with the constructor method syntax\n",
    "Supplier<List<String>> newListOfStrings = ArrayList::new;\n",
    "\n",
    "Function<Integer, List<String>> newListOfNStrings = ArrayList::new;"
   ]
  },
  {
   "cell_type": "markdown",
   "id": "c7aa3f95",
   "metadata": {},
   "source": [
    "## Wrapping Up Method References"
   ]
  },
  {
   "cell_type": "markdown",
   "id": "45fee78a",
   "metadata": {},
   "source": [
    "| Name | Syntax | Lambda Equivalent |\n",
    "| :- | :- | :- |\n",
    "| Static | RefType::staticMethod | (args) -> RefType.staticMethod(args) |\n",
    "| Bound | expr::instanceMethod | (args) -> expr.instanceMethod(args) |\n",
    "| Unbound | RefType::instanceMethod | (arg0, rest) -> arg0.instanceMethod(rest) |\n",
    "| Constructor | ClassName::new | (args) -> new ClassName(args) |"
   ]
  }
 ],
 "metadata": {
  "kernelspec": {
   "display_name": "Java",
   "language": "java",
   "name": "java"
  },
  "language_info": {
   "codemirror_mode": "java",
   "file_extension": ".jshell",
   "mimetype": "text/x-java-source",
   "name": "Java",
   "pygments_lexer": "java",
   "version": "21+35-2513"
  }
 },
 "nbformat": 4,
 "nbformat_minor": 5
}
