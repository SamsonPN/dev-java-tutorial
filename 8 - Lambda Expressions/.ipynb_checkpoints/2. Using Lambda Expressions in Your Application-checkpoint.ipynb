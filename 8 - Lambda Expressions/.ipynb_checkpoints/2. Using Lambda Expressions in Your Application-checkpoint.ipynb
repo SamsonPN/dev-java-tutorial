{
 "cells": [
  {
   "cell_type": "markdown",
   "id": "64fca0c1",
   "metadata": {},
   "source": [
    "## Discovering the java.util.function package"
   ]
  },
  {
   "cell_type": "markdown",
   "id": "39c7956c",
   "metadata": {},
   "source": [
    "* the java.util.function package contains functional interfaces that you can use in your application\n",
    "    - they're heavily used in the Collections Frameworks and the Stream API\n",
    "    - the package is in the java.base module\n",
    "* it is organized around 4 main interfaces\n",
    "    1. Supplier\\<T\\>\n",
    "    2. Consumer\\<T\\>\n",
    "    3. Predicate\\<T\\>\n",
    "    4.  Function\\<T, R\\>"
   ]
  },
  {
   "cell_type": "markdown",
   "id": "8efda41e",
   "metadata": {},
   "source": [
    "## Creating or Providing Objects with Supplier\\<T\\>"
   ]
  },
  {
   "cell_type": "markdown",
   "id": "5d6128cc",
   "metadata": {},
   "source": [
    "### Implementing the Supplier\\<T\\> Interface\n",
    "\n",
    "* the Supplier\\<T\\> interface does not take any arguments and returns an object\n",
    "    - a lambda that implements the supplier interface does not take any arguments and returns an object\n",
    "* the interface:\n",
    "    - has no default or static method\n",
    "    - just one abstract get() method"
   ]
  },
  {
   "cell_type": "code",
   "execution_count": 5,
   "id": "57ccb598",
   "metadata": {},
   "outputs": [
    {
     "data": {
      "text/plain": [
       "Hello Duke!"
      ]
     },
     "execution_count": 5,
     "metadata": {},
     "output_type": "execute_result"
    }
   ],
   "source": [
    "@FunctionalInterface\n",
    "public interface Supplier<T> {\n",
    "\n",
    "    T get();\n",
    "}\n",
    "\n",
    "// implementation of this interface\n",
    "// just returns \"Hello Duke!\" when called\n",
    "Supplier<String> supplier = () -> \"Hello Duke!\";\n",
    "supplier.get();"
   ]
  },
  {
   "cell_type": "code",
   "execution_count": 3,
   "id": "ad71064a",
   "metadata": {},
   "outputs": [
    {
     "name": "stdout",
     "output_type": "stream",
     "text": [
      "1 \n",
      "5 \n",
      "3 \n",
      "0 \n",
      "2 \n"
     ]
    }
   ],
   "source": [
    "// a supplier that returns a new object every time it is invoked\n",
    "\n",
    "// the lambda is capturing the variable from the enclosing scope: random\n",
    "// the variable is effectively final\n",
    "Random random = new Random(314L);\n",
    "Supplier<Integer> newRandom = () -> random.nextInt(10);\n",
    "\n",
    "for (int index = 0; index < 5; index++) {\n",
    "    System.out.println(newRandom.get() + \" \");\n",
    "}"
   ]
  },
  {
   "cell_type": "markdown",
   "id": "0d9aeb14",
   "metadata": {},
   "source": [
    "### Using a Supplier\\<T\\>\n",
    "\n",
    "* calling the get() method of the Supplier interface invokes your lambda"
   ]
  },
  {
   "cell_type": "code",
   "execution_count": null,
   "id": "2ebc38b9",
   "metadata": {},
   "outputs": [],
   "source": [
    "for (int index = 0; index < 5; index++) {\n",
    "    // lambda invoked\n",
    "    System.out.println(newRandom.get() + \" \");\n",
    "}"
   ]
  },
  {
   "cell_type": "markdown",
   "id": "aa7d2c14",
   "metadata": {},
   "source": [
    "### Using Specialized Suppliers"
   ]
  },
  {
   "cell_type": "markdown",
   "id": "6a3a3ddd",
   "metadata": {},
   "source": [
    "* lambda expressions are used to process data in applications\n",
    "    - how fast a lambda can be executed is critial in the JDK\n",
    "    - thus, the JDK offers specialized, optimized versions of the Supplier\\<T\\> interface\n",
    "* in our example above:\n",
    "    - we supply an Integer type where Random.nextInt() method returns an int\n",
    "    - there are 2 things that happen:\n",
    "        1. the int returnbed by Random.nextInt() is first boxed into an Integer, by the auto-boxing mechanism\n",
    "            * this is because the generics only work on non-primitive types\n",
    "            * and we have to wrap our int with an Integer\n",
    "        2. the Integer is then unboxed when assigned to the nextRandom variable, by the auto-unboxing mechanism\n",
    "    - boxing/unboxing is not free and the cost is small compared to other things\n",
    "        * but in some cases, this cost might not be something you want to pay\n",
    "* the JDK gives you a solution with the IntSupplier interface that avoids that boxing/unboxing for primitive types\n",
    "* the JDK gives you 4 of these specialized suppliers to avoid unnecessary boxing/unboxing un your application:\n",
    "    1. IntSupplier\n",
    "    2. BooleanSupplier\n",
    "    3. LongSupplier\n",
    "    4. DoubleSupplier"
   ]
  },
  {
   "cell_type": "code",
   "execution_count": 7,
   "id": "fbf714a3",
   "metadata": {},
   "outputs": [
    {
     "name": "stdout",
     "output_type": "stream",
     "text": [
      "next random = -1065453334\n",
      "next random = -524406526\n",
      "next random = -1859086510\n",
      "next random = 645160781\n",
      "next random = 806684224\n"
     ]
    }
   ],
   "source": [
    "@FunctionalInterface\n",
    "public interface IntSupplier {\n",
    "\n",
    "    int getAsInt();\n",
    "}\n",
    "\n",
    "Random random = new Random(314L);\n",
    "IntSupplier newRandom = () -> random.nextInt();\n",
    "\n",
    "for (int i = 0; i < 5; i++) {\n",
    "    int nextRandom = newRandom.getAsInt();\n",
    "    System.out.println(\"next random = \" + nextRandom);\n",
    "}"
   ]
  },
  {
   "cell_type": "markdown",
   "id": "cfbb9e56",
   "metadata": {},
   "source": [
    "## Consuming Objects with Consumer\\<T\\>"
   ]
  },
  {
   "cell_type": "markdown",
   "id": "1f1dcfec",
   "metadata": {},
   "source": [
    "### Implementing and Using Consumers\n",
    "\n",
    "* the consumer interface does the opposite of the supplier: it takes an argument and does not return anything"
   ]
  },
  {
   "cell_type": "code",
   "execution_count": 8,
   "id": "aff1b9df",
   "metadata": {},
   "outputs": [
    {
     "name": "stdout",
     "output_type": "stream",
     "text": [
      "next random = 634812813\n",
      "next random = 2134203617\n",
      "next random = 1381342566\n",
      "next random = -136324692\n",
      "next random = 1492779650\n"
     ]
    }
   ],
   "source": [
    "@FunctionalInterface\n",
    "public interface Consumer<T> {\n",
    "\n",
    "    void accept(T t);\n",
    "\n",
    "    // it has them but for now\n",
    "    // default methods removed\n",
    "    // and will be visited later\n",
    "}\n",
    "\n",
    "// accepts a string type as an argument\n",
    "// and just prints it out\n",
    "// it doesn't actually return anything\n",
    "Consumer<String> printer = s -> System.out.println(s);\n",
    "for (int i = 0; i < 5; i++) {\n",
    "    int nextRandom = newRandom.getAsInt();\n",
    "    printer.accept(\"next random = \" + nextRandom);\n",
    "}\n"
   ]
  },
  {
   "cell_type": "markdown",
   "id": "2a7aa2d9",
   "metadata": {},
   "source": [
    "### Using Specialized Consumers\n",
    "\n",
    "* suppose you need to print integers\n",
    "    - you may face the same auto-boxing issue similar to the supplier example b/c generics only take in non-primitive types\n",
    "* the JDK will supply you with 3 specialized consumers\n",
    "    1. IntConsumer\n",
    "    2. LongConsumer\n",
    "    3. DoubleConsumer"
   ]
  },
  {
   "cell_type": "code",
   "execution_count": null,
   "id": "0e8fb154",
   "metadata": {},
   "outputs": [],
   "source": [
    "Consumer<Integer> printer = i -> System.out.println(i);"
   ]
  },
  {
   "cell_type": "markdown",
   "id": "5d153404",
   "metadata": {},
   "source": [
    "### Consuming Two Elements with a BiConsumer\n",
    "\n",
    "* BiConsumer\\<T, U\\>: another variant of the Consumer\\<T\\> interface which takes 2 arguments\n",
    "* there are 3 specialized versions to handle primitive types:\n",
    "    1. ObjIntConsumer\\<T\\>\n",
    "    2. ObjLongConsumer\\<T\\>\n",
    "    3. ObjDoubleConsumer\\<T\\>"
   ]
  },
  {
   "cell_type": "code",
   "execution_count": 12,
   "id": "8781f3eb",
   "metadata": {},
   "outputs": [
    {
     "name": "stdout",
     "output_type": "stream",
     "text": [
      "next random = -1065453334\n",
      "next random = -524406526\n",
      "next random = -1859086510\n",
      "next random = 645160781\n",
      "next random = 806684224\n"
     ]
    }
   ],
   "source": [
    "@FunctionalInterface\n",
    "public interface BiConsumer<T, U> {\n",
    "\n",
    "    void accept(T t, U u);\n",
    "\n",
    "    // default methods removed\n",
    "}\n",
    "\n",
    "BiConsumer<Random, Integer> randomNumberPrinter =\n",
    "        (random, number) -> {\n",
    "            for (int i = 0; i < number; i++) {\n",
    "                System.out.println(\"next random = \" + random.nextInt());\n",
    "            }\n",
    "        };\n",
    "\n",
    "randomNumberPrinter.accept(new Random(314L), 5);"
   ]
  },
  {
   "cell_type": "markdown",
   "id": "a91f7815",
   "metadata": {},
   "source": [
    "### Passing a Consumer to an Iterable"
   ]
  },
  {
   "cell_type": "markdown",
   "id": "db9883df",
   "metadata": {},
   "source": [
    "* one of the methods of the interfaces used in the Collections Frameworks takes a Consumer\\<T\\> as an argument:\n",
    "    - Iterable.forEach()\n",
    "    - the forEach method exposes a way to access an internal iteration over all elements of any Iterable, passing the action you need to take on each of these elements\n",
    "* in the example:\n",
    "    - the last line applies the consumer to all the objects of the list\n",
    "    - it will simply print them one by one on the console"
   ]
  },
  {
   "cell_type": "code",
   "execution_count": null,
   "id": "fcdcfd59",
   "metadata": {},
   "outputs": [],
   "source": [
    "List<String> strings = ...; // really any list of any kind of objects\n",
    "Consumer<String> printer = s -> System.out.println(s);\n",
    "strings.forEach(printer);"
   ]
  },
  {
   "cell_type": "markdown",
   "id": "b62731ea",
   "metadata": {},
   "source": [
    "## Testing Objects with Predicate\\<T\\>"
   ]
  },
  {
   "cell_type": "markdown",
   "id": "103af01e",
   "metadata": {},
   "source": [
    "### Implementing and Using Predicates\n",
    "\n",
    "* a predicate is used to test an object\n",
    "    - used for filtering streams in the Stream API, etc\n",
    "* its abstract method takes an object and returns a boolean value"
   ]
  },
  {
   "cell_type": "code",
   "execution_count": 14,
   "id": "f252110a",
   "metadata": {},
   "outputs": [
    {
     "name": "stdout",
     "output_type": "stream",
     "text": [
      "Is of length 3? false\r\n"
     ]
    }
   ],
   "source": [
    "@FunctionalInterface\n",
    "public interface Predicate<T> {\n",
    "\n",
    "    boolean test(T t);\n",
    "\n",
    "    // default and static methods removed\n",
    "}\n",
    "\n",
    "Predicate<String> length3 = s -> s.length() == 3;\n",
    "String word = \"Hello World!\"; // any word\n",
    "boolean isOfLength3 = length3.test(word);\n",
    "System.out.println(\"Is of length 3? \" + isOfLength3);"
   ]
  },
  {
   "cell_type": "markdown",
   "id": "4edbedbd",
   "metadata": {},
   "source": [
    "### Using Specialized Predicates\n",
    "\n",
    "* suppose you need to test integer values\n",
    "    - similar to the consumers, supplier and this predicate, it takes as an argument a reference to an instance of the Integer class which it has to unbox to compare it to the value 10\n",
    "* the JDK provides 3 specialized predicates to remove any cost associated with autoboxing and unboxing:\n",
    "    1. IntPredicate\n",
    "    2. LongPredicate\n",
    "    3. DoublePredicate"
   ]
  },
  {
   "cell_type": "code",
   "execution_count": null,
   "id": "142a2399",
   "metadata": {},
   "outputs": [],
   "source": [
    "// cost of autoboxing/unboxing\n",
    "Predicate<Integer> isGreaterThan10 = i -> i > 10;\n",
    "\n",
    "// no cost\n",
    "// i is now an int type instead of Integer\n",
    "IntPredicate isGreaterThan10 = i -> i > 10;"
   ]
  },
  {
   "cell_type": "markdown",
   "id": "a066fcb8",
   "metadata": {},
   "source": [
    "### Testing Two Elements with a BiPredicate\n",
    "\n",
    "* BiPredicate\\<T, U\\>: tests 2 elements and returns a boolean\n",
    "* there is no specialized version of BiPredicate to handle primitive types"
   ]
  },
  {
   "cell_type": "code",
   "execution_count": 21,
   "id": "5da23350",
   "metadata": {},
   "outputs": [
    {
     "name": "stdout",
     "output_type": "stream",
     "text": [
      "Is eat 3 letters long? true\r\n"
     ]
    }
   ],
   "source": [
    "@FunctionalInterface\n",
    "public interface BiPredicate<T, U> {\n",
    "\n",
    "    boolean test(T t, U u);\n",
    "\n",
    "    // default methods removed\n",
    "}\n",
    "\n",
    "BiPredicate<String, Integer> isOfLength = (word, length) -> word.length() == length;\n",
    "String word = \"Eat\"; // really any word will do!\n",
    "int length = 3;\n",
    "boolean isWordOfLength3 = isOfLength.test(word, length);\n",
    "System.out.println(\"Is eat 3 letters long? \" + isWordOfLength3);"
   ]
  },
  {
   "cell_type": "markdown",
   "id": "e6ebca99",
   "metadata": {},
   "source": [
    "### Passing a Predicate to a Collection\n",
    "\n",
    "* one of the methods in the Collections Framework takes a predicate:\n",
    "    - removeIf()\n",
    "    - this method uses this predicate to test each element of the collection\n",
    "    - if the result is true, then the element is removed\n",
    "* in this example:\n",
    "    - calling removeIf() mutates this collection\n",
    "    - should not call removeIf() on an immutable collection like the ones produced by the List.of() factory methods\n",
    "        * will get an exception if you do that\n",
    "    - Arrays.asList() produces a collection that behaves like an array\n",
    "        - can mutate its existing elements but are not allowed to add or remove elements from the list returned by this factory method\n",
    "        - thus, calling removeIf() on that list will not work either"
   ]
  },
  {
   "cell_type": "code",
   "execution_count": null,
   "id": "548fbc13",
   "metadata": {},
   "outputs": [],
   "source": [
    "List<String> immutableStrings =\n",
    "        List.of(\"one\", \"two\", \"three\", \"four\", \"five\");\n",
    "List<String> strings = new ArrayList<>(immutableStrings);\n",
    "Predicate<String> isOddLength = s -> s.length() % 2 == 0;\n",
    "strings.removeIf(isOddLength);\n",
    "System.out.println(\"strings = \" + strings);\n",
    "\n",
    "// result: strings = [one, two, three]"
   ]
  },
  {
   "cell_type": "markdown",
   "id": "551bd88a",
   "metadata": {},
   "source": [
    "## Mapping Objects to Other Objects with Function\\<T, R\\>"
   ]
  },
  {
   "cell_type": "markdown",
   "id": "f2f35331",
   "metadata": {},
   "source": [
    "### Implementing and Using Functions\n",
    "\n",
    "* takes an object of type T and returns a transformation of that object to any other type U\n",
    "* they're used in the Stream API to map objects to other objects\n",
    "    - a predicate can be seen as a specialized type of function that returns a boolean"
   ]
  },
  {
   "cell_type": "code",
   "execution_count": 2,
   "id": "a82c9d11",
   "metadata": {},
   "outputs": [],
   "source": [
    "@FunctionalInterface\n",
    "public interface Function<T, R> {\n",
    "\n",
    "    R apply(T t);\n",
    "\n",
    "    // default and static methods removed\n",
    "}"
   ]
  },
  {
   "cell_type": "markdown",
   "id": "3ded3e52",
   "metadata": {},
   "source": [
    "### Using Specialized Functions\n",
    "\n",
    "* also faces the same boxing/unboxing operation cost\n",
    "    - length() returns an int\n",
    "    - but the function returns an Integer so int has to be boxed\n",
    "    - but the variable, length, is of type int so Integer has to be unboxed\n",
    "* the JDK has specialized versions of Function\\<T, R\\> but are much more complex b/c they're defined both for the type of te input argument and returned type\n",
    "* both the input argument and output can have 4 different types:\n",
    "    - parameterized type T\n",
    "    - an int\n",
    "    - a long\n",
    "    - a double\n",
    "* there is also a special interface: UnaryOperator\\<T\\> which extends Function\\<T, R\\>\n",
    "    - it's used to name the functions that take an argument of a given type and return a result of the same type\n",
    "    - all the classical math operators can be modeled by it:\n",
    "        * square root\n",
    "        * all trigonometric operators\n",
    "        * logarithm\n",
    "        * exponential\n",
    "* 16 specialized types of functions:\n",
    "    - x-axis: type argument\n",
    "    - y-axis: return type\n",
    "| Parameter Types | T | int | long | double |\n",
    "| :- | :- | :- | :- | :- |\n",
    "| T | UnaryOperator\\<T\\> | Intfunction\\<T\\> | LongFunction\\<T\\> | DoubleFunction\\<T\\> |\n",
    "| int | ToIntFunction\\<T\\> | IntUnaryOperator | LongToIntFunction | DoubleToIntFunction |\n",
    "| long | ToLongFunction | IntToLongFunction | LongToIntFunction | DoubleToLongFunction |\n",
    "| double | ToDoubleFunction | IntToDoubleFunction | LongToDoubleFunction | DoubleUnaryOperator |\n",
    "* all abstract methods follow the same convention\n",
    "    - they are named after the returned type of that function\n",
    "    - apply(): return a generic type T\n",
    "    - applyAsInt(): returns the primitive type int\n",
    "    - applyAsLong(): returns the primitive type long\n",
    "    - applyAsDouble(): returns the primitive type double"
   ]
  },
  {
   "cell_type": "code",
   "execution_count": 3,
   "id": "fcd05023",
   "metadata": {},
   "outputs": [],
   "source": [
    "Function<String, Integer> toLength = s -> s.length();\n",
    "String word = \"Hello\"; // any kind of word will do\n",
    "int length = toLength.apply(word);"
   ]
  },
  {
   "cell_type": "markdown",
   "id": "5d53456f",
   "metadata": {},
   "source": [
    "### Passing a Unary Operator to a List\n",
    "\n",
    "* can transform elements of a list with a UnaryOperator\\<T\\>\n",
    "    - why a UnaryOperator and not a basic Function?\n",
    "    - reason being, once declared, you cannot change the type of a list\n",
    "    - the function you applycan change the elemtns of the lit but not their type\n",
    "* note: we used a list created with the Arrays.asList() pattern\n",
    "    - don't need to add or remove any element to the list so we can use Arrays.asList()\n",
    "    - al we're doing is modifying each element one by one"
   ]
  },
  {
   "cell_type": "code",
   "execution_count": null,
   "id": "e1c049a8",
   "metadata": {},
   "outputs": [],
   "source": [
    "List<String> strings = Arrays.asList(\"one\", \"two\", \"three\");\n",
    "UnaryOperator<String> toUpperCase = word -> word.toUpperCase();\n",
    "strings.replaceAll(toUpperCase);\n",
    "System.out.println(strings);\n",
    "\n",
    "// running the code displays: [ONE, TWO, THREE]"
   ]
  },
  {
   "cell_type": "markdown",
   "id": "e8342f0a",
   "metadata": {},
   "source": [
    "### Mapping Two Elements with a BiFunction\n",
    "\n",
    "* BiFunction\\<T, U, R\\>: takes 2 arguments, T and U, and returns something of type R\n",
    "* the UnaryOperator\\<T\\> also has a sibiling interface with 2 arguments:\n",
    "    - BinaryOperator\\<T\\> that extends BiFunctionBiFunction\\<T, U, R\\>\n",
    "    - the 4 basic arithmetic operationrs can be modeled with a BinaryOperator\n",
    "* the JDK also has specialized versions of BiFunction:\n",
    "    - IntBinaryOperator\n",
    "    - LongBinaryOperator\n",
    "    - DoubleBinaryOperator\n",
    "    - ToIntBiFunction\\<T\\>\n",
    "    - ToLongBiFunction\\<T\\>\n",
    "    - ToDoubleBiFunction\\<T\\>"
   ]
  },
  {
   "cell_type": "code",
   "execution_count": null,
   "id": "3304ebb1",
   "metadata": {},
   "outputs": [],
   "source": [
    "@FunctionalInterface\n",
    "public interface BiFunction<T, U, R> {\n",
    "\n",
    "    R apply(T t, U u);\n",
    "\n",
    "    // default methods removed\n",
    "}\n",
    "\n",
    "BiFunction<String, String, Integer> findWordInSentence =\n",
    "    (word, sentence) -> sentence.indexOf(word);"
   ]
  },
  {
   "cell_type": "markdown",
   "id": "6b9d23e4",
   "metadata": {},
   "source": [
    "## Wrapping up the Four Categories of Functional Interfaces"
   ]
  },
  {
   "cell_type": "markdown",
   "id": "e1bd2ddf",
   "metadata": {},
   "source": [
    "* the java.util.function package is central in Java b/c all lambda expressions in the Collections Framework or the Stream API implement one of the interfaces from that package\n",
    "* the 4 categories are:\n",
    "    - suppliers: do not take any argument, return something\n",
    "    - consumers: take an argument, return nothing\n",
    "    - predicates: take an argument, return a boolean\n",
    "    - functions: take an argument, return something\n",
    "* some interfaces have versions that take 2 arguments:\n",
    "    - biconsumers\n",
    "    - bipredicates\n",
    "    - bifunctions\n",
    "* some interfaces have specialized versions added to avoid autoboxing/unboxing\n",
    "    - they're named after the type they take, e.g. IntPredicate\n",
    "    - or the type they return, e.g. ToLongFunction\\<T\\>\n",
    "    - they may be named after both, e.g. IntToDoubleFunction\n",
    "* there are extensions of Function\\<T, R\\> and BiFunction\\<T, U, R\\> for the case where all the types are the same with specialized versions for the primitive types:\n",
    "    - UnaryOperator\\<T\\>\n",
    "    - BinaryOperator\\<T\\>"
   ]
  }
 ],
 "metadata": {
  "kernelspec": {
   "display_name": "Java",
   "language": "java",
   "name": "java"
  },
  "language_info": {
   "codemirror_mode": "java",
   "file_extension": ".jshell",
   "mimetype": "text/x-java-source",
   "name": "Java",
   "pygments_lexer": "java",
   "version": "21+35-2513"
  }
 },
 "nbformat": 4,
 "nbformat_minor": 5
}
