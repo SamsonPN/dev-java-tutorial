{
 "cells": [
  {
   "cell_type": "markdown",
   "id": "6e199c80",
   "metadata": {},
   "source": [
    "## What is an Object?"
   ]
  },
  {
   "cell_type": "markdown",
   "id": "58a02814",
   "metadata": {},
   "source": [
    "* __object__: software bundle of related state and behavior\n",
    "    - _fields_: store an object's state\n",
    "    - _methods_: expose an object's behavior\n",
    "        * methods operate on an object's internal state\n",
    "        * server as the primary mechanism for object-to-object communication\n",
    "    - data encapsulation: a principle of object-oriented programming that entails hiding an object's internal state and requiring all interaction with that state to be performed through an object's methods\n",
    "* Benefits of bundling code into individual software objects:\n",
    "    1. Modularity\n",
    "        - source code for an object can be written and maintained individually from other objects\n",
    "        - you use this object in other parts of your system\n",
    "    2. Information-hiding\n",
    "        - an object's implementation is hidden from the outside since it can only be interacted with via the object's methods\n",
    "    3. Code re-use\n",
    "        - if an object already exists, you can use it in your program\n",
    "        - specialists can implement/test/debug complex, task-specific objects which you can then trust to run in your own code\n",
    "    4. Pluggability and debugging ease\n",
    "        - you can remove and add different objects into your code with ease"
   ]
  },
  {
   "cell_type": "markdown",
   "id": "18000e39",
   "metadata": {},
   "source": [
    "## What is a Class?"
   ]
  },
  {
   "cell_type": "markdown",
   "id": "00971783",
   "metadata": {},
   "source": [
    "* __class__: blueprint from which individual objects are created"
   ]
  },
  {
   "cell_type": "code",
   "execution_count": 8,
   "id": "e82a38fd",
   "metadata": {},
   "outputs": [
    {
     "name": "stdout",
     "output_type": "stream",
     "text": [
      "cadence:50 speed:10 gear:2\n",
      "cadence:40 speed:20 gear:3\n"
     ]
    }
   ],
   "source": [
    "// example of a Bicycle class\n",
    "\n",
    "class Bicycle {\n",
    "    int cadence = 0;\n",
    "    int speed = 0;\n",
    "    int gear = 1;\n",
    "    \n",
    "    void changeCadence(int newValue) {\n",
    "        cadence = newValue;\n",
    "    }\n",
    "    \n",
    "    void changeGear(int newValue) {\n",
    "        gear = newValue;\n",
    "    }\n",
    "    \n",
    "    void speedUp(int increment) {\n",
    "        speed = speed + increment;\n",
    "    }\n",
    "    \n",
    "    void applyBrakes(int decrement) {\n",
    "        speed = speed - decrement;\n",
    "    }\n",
    "    \n",
    "    void printStates() {\n",
    "        System.out.println(\"cadence:\" + cadence + \" speed:\" + speed + \" gear:\" + gear);\n",
    "    }\n",
    "}\n",
    "\n",
    "Bicycle bike1 = new Bicycle();\n",
    "Bicycle bike2 = new Bicycle();\n",
    "\n",
    "bike1.changeCadence(50);\n",
    "bike1.speedUp(10);\n",
    "bike1.changeGear(2);\n",
    "bike1.printStates();\n",
    "\n",
    "bike2.changeCadence(50);\n",
    "bike2.speedUp(10);\n",
    "bike2.changeCadence(40);\n",
    "bike2.speedUp(10);\n",
    "bike2.changeGear(3);\n",
    "bike2.printStates();"
   ]
  },
  {
   "cell_type": "markdown",
   "id": "efcc5695",
   "metadata": {},
   "source": [
    "## What is Inheritance?"
   ]
  },
  {
   "cell_type": "markdown",
   "id": "a4002192",
   "metadata": {},
   "source": [
    "* __inheritance__: allows classes to inherit commonly used __state and behavior from other classes__\n",
    "    - e.g. Bicycle is a superclass of MountainBike, RoadBike, and TandemBike\n",
    "    - in Java, each class can have 1 direct superclass and each superclass can have an unlimited number of subclasses\n",
    "* in the example below, the subclass MountainBike has all the same fields and methods as the super class Bicycle\n",
    "    - but MountainBike can add more code to make it unique\n",
    "    - this makes it easier for subclasses to read\n",
    "    - however, the source code of the superclass will not appear in the code of the subclass so documenting the superclass's state and behavior is important"
   ]
  },
  {
   "cell_type": "code",
   "execution_count": 10,
   "id": "35713ea4",
   "metadata": {},
   "outputs": [],
   "source": [
    "// example of creating a subclass from a superclass\n",
    "\n",
    "class MountainBike extends Bicycle {\n",
    "    // new fields and methods defining\n",
    "    // a mountain bike would go here\n",
    "}"
   ]
  },
  {
   "cell_type": "markdown",
   "id": "08c9f029",
   "metadata": {},
   "source": [
    "## What is an Interface?"
   ]
  },
  {
   "cell_type": "markdown",
   "id": "7dfaddb4",
   "metadata": {},
   "source": [
    "* __interface__: in its most comomon form, an interface is a group of related methods with empty bodies\n",
    "    - an interface allows a class to become more formal about the behavior it promises to provide\n",
    "        * think of it like a contract between a client and a developer\n",
    "        * the client expects the developer to do certain things but HOW it's done is up to the developer\n",
    "* would need to use the __implements__ keyword in the class declaration and create a new class from it"
   ]
  },
  {
   "cell_type": "code",
   "execution_count": 12,
   "id": "6d2f05d9",
   "metadata": {},
   "outputs": [],
   "source": [
    "interface Bicycle {\n",
    "\n",
    "    void changeCadence(int newValue);\n",
    "    \n",
    "    void changeGear(int newValue);\n",
    "    \n",
    "    void speedUp(int increment);\n",
    "    \n",
    "    void applyBrakes(int decrement);\n",
    "}\n",
    "\n",
    "\n",
    "// to actually compile this, we will need to add the public keyword to the\n",
    "// beginning of the implemented interface methods\n",
    "class ACMEBicycle implements Bicycle {\n",
    "    int cadence = 0;\n",
    "    int speed = 0;\n",
    "    int gear = 1;\n",
    "    \n",
    "    // the compiler will now require that methods\n",
    "    // changeCadence, changeGear, speedUp, and applyBrakes\n",
    "    // all be implemented. Compilation will fail if those\n",
    "    // methods are missing from this class\n",
    "    \n",
    "    public void changeCadence(int newValue) {\n",
    "         cadence = newValue;\n",
    "    }\n",
    "\n",
    "    public void changeGear(int newValue) {\n",
    "         gear = newValue;\n",
    "    }\n",
    "\n",
    "    public void speedUp(int increment) {\n",
    "         speed = speed + increment;   \n",
    "    }\n",
    "\n",
    "    public void applyBrakes(int decrement) {\n",
    "         speed = speed - decrement;\n",
    "    }\n",
    "\n",
    "    public void printStates() {\n",
    "         System.out.println(\"cadence:\" +\n",
    "             cadence + \" speed:\" + \n",
    "             speed + \" gear:\" + gear);\n",
    "    }\n",
    "}"
   ]
  },
  {
   "cell_type": "markdown",
   "id": "5c4aea52",
   "metadata": {},
   "source": [
    "## What is a Package?"
   ]
  },
  {
   "cell_type": "markdown",
   "id": "22d7fa2a",
   "metadata": {},
   "source": [
    "* __package__: namespace that organizes a set of related classes and interfaces\n",
    "    - think of it like folders on your computer\n",
    "* Java provides an enormous class library (a set of packages) suitable for use in your own apps\n",
    "    - this library is known as the Java Platform API (Application Programming Interface)"
   ]
  }
 ],
 "metadata": {
  "kernelspec": {
   "display_name": "Java",
   "language": "java",
   "name": "java"
  },
  "language_info": {
   "codemirror_mode": "java",
   "file_extension": ".jshell",
   "mimetype": "text/x-java-source",
   "name": "Java",
   "pygments_lexer": "java",
   "version": "21+35-2513"
  }
 },
 "nbformat": 4,
 "nbformat_minor": 5
}
