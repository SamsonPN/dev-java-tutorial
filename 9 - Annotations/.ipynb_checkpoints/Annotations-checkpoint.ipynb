{
 "cells": [
  {
   "cell_type": "markdown",
   "id": "639b5a87",
   "metadata": {},
   "source": [
    "## Annotations"
   ]
  },
  {
   "cell_type": "markdown",
   "id": "91438e8f",
   "metadata": {},
   "source": [
    "* annotations have a number of uses:\n",
    "    - information for the compiler\n",
    "        * annotations can be used by the compiler to detect errors or suppress warnings\n",
    "    - compile-time and deployment-time processing\n",
    "        * software tools can process annotation infromation to generate code, XML files, etc\n",
    "    - runtime processing\n",
    "        * some annotations are available to be examined at runtime"
   ]
  },
  {
   "cell_type": "markdown",
   "id": "af724395",
   "metadata": {},
   "source": [
    "## The Format of an Annotation"
   ]
  },
  {
   "cell_type": "markdown",
   "id": "6ad49646",
   "metadata": {},
   "source": [
    "* the at sign character (@) indicates to the compiler that what follows is an annotation\n",
    "* annotations can include _elements_\n",
    "    - they can be named/unnamed\n",
    "    - can also have values for those elements\n",
    "* the annotation type can be one of the types that are definedi n the java.lang or java.lang.annotation packages\n",
    "    - Override and SuppressWarnings are predefined Java annotations\n",
    "    - it is possible to define your own annotation type:\n",
    "        * e.g. Author and Ebook annotations"
   ]
  },
  {
   "cell_type": "code",
   "execution_count": null,
   "id": "c97b021c",
   "metadata": {},
   "outputs": [],
   "source": [
    "// annotations in simplest form\n",
    "\n",
    "@Entity"
   ]
  },
  {
   "cell_type": "code",
   "execution_count": null,
   "id": "2e56df55",
   "metadata": {},
   "outputs": [],
   "source": [
    "// if the annotation has no elements, the parentheses can be omitted\n",
    "@Overridevoid mySuperMethod() {...}"
   ]
  },
  {
   "cell_type": "code",
   "execution_count": null,
   "id": "45130425",
   "metadata": {},
   "outputs": [],
   "source": [
    "// annotation with elements\n",
    "@Author(\n",
    "    name = \"Benjamin Franklin\"\n",
    "    date = \"3/27/2003\"\n",
    ")\n",
    "class MyClass {...}"
   ]
  },
  {
   "cell_type": "code",
   "execution_count": null,
   "id": "ded8d96a",
   "metadata": {},
   "outputs": [],
   "source": [
    "@SuppressWarnings(value = \"unchecked\")\n",
    "void myMethod() {...}\n",
    "\n",
    "// if there is just one element named value, the name can be omitted\n",
    "@SuppressWarnings(\"unchecked\")\n",
    "void myMethod() {...}"
   ]
  },
  {
   "cell_type": "code",
   "execution_count": null,
   "id": "b9bddb5b",
   "metadata": {},
   "outputs": [],
   "source": [
    "// multiple annotations on same declaration\n",
    "\n",
    "@Author(name = \"Jane Doe\")\n",
    "@EBook\n",
    "class MyClass {...}"
   ]
  },
  {
   "cell_type": "code",
   "execution_count": null,
   "id": "9e92dfa0",
   "metadata": {},
   "outputs": [],
   "source": [
    "// if annotations have the same typoe, this is called a repeating annotation\n",
    "\n",
    "@Author(name = \"Jane Doe\")\n",
    "@Author(name = \"John Smith\")\n",
    "class MyClass {...}"
   ]
  },
  {
   "cell_type": "markdown",
   "id": "dca78eb5",
   "metadata": {},
   "source": [
    "## Where Annotations Can Be Used"
   ]
  },
  {
   "cell_type": "markdown",
   "id": "2a3ff09b",
   "metadata": {},
   "source": [
    "* annotations can be applied to declarations:\n",
    "    - class\n",
    "    - fields\n",
    "    - methods\n",
    "    - other program elements\n",
    "* when used on a declaration, each annotation appears on its own line, by convention\n",
    "* annotations can also be applied to the use of types as well, as of Java SE 8\n",
    "    - this is called a _type annotation_"
   ]
  },
  {
   "cell_type": "code",
   "execution_count": null,
   "id": "89345343",
   "metadata": {},
   "outputs": [],
   "source": [
    "// class instance creation expression\n",
    "new @Interned MyObject();\n",
    "\n",
    "// type cast\n",
    "myString = (@NonNull String) str;\n",
    "\n",
    "// implements clause\n",
    "class UnmodifiableList<T> implements @Readonly List<@Readonly T> { ... }\n",
    "\n",
    "// thrown exception declaration\n",
    "void monitorTemperature() throws @Critical TemperatureException { ... }"
   ]
  },
  {
   "cell_type": "markdown",
   "id": "e7d217f6",
   "metadata": {},
   "source": [
    "## Declaring an Annotation Type"
   ]
  },
  {
   "cell_type": "markdown",
   "id": "cb7b2ff3",
   "metadata": {},
   "source": [
    "* many annotations replace comments in code\n",
    "* suppose you start every body of a class with comments providing important metdata:\n",
    "    - to add this samemetadata with an annotation, you must define the annotation type\n",
    "        * looks similar to an interface definition but you use @interface instead of just interface\n",
    "        * annotation types are a form of interface\n",
    "* the body of an annotation type definition contains:\n",
    "    - annotation type element declarations which look like methods\n",
    "    - can also define optional default values for them\n",
    "* to make information in the annotation type appear in Javadoc - generated documentation, you must annotate its definition with the @Documented annotation"
   ]
  },
  {
   "cell_type": "code",
   "execution_count": null,
   "id": "1790edd5",
   "metadata": {},
   "outputs": [],
   "source": [
    "// metadata using comments\n",
    "public class Generation3List extends Generation2List {\n",
    "\n",
    "   // Author: John Doe\n",
    "   // Date: 3/17/2002\n",
    "   // Current revision: 6\n",
    "   // Last modified: 4/12/2004\n",
    "   // By: Jane Doe\n",
    "   // Reviewers: Alice, Bill, Cindy\n",
    "\n",
    "   // class code goes here\n",
    "\n",
    "}"
   ]
  },
  {
   "cell_type": "code",
   "execution_count": null,
   "id": "d8b0377f",
   "metadata": {},
   "outputs": [],
   "source": [
    "// metadata using annotations\n",
    "\n",
    "// define an annotation type with this syntax\n",
    "@interface ClassPreamble {\n",
    "    String author();\n",
    "    String date();\n",
    "    int currentRevision() default 1;\n",
    "    String lastModified() default \"N/A\";\n",
    "    String lastModifiedBy() default \"N/A\";\n",
    "    // Note use of array\n",
    "    String[] reviewers();\n",
    "}\n",
    "\n",
    "// after annotation type is defined, use the annotation of that type with values filled in\n",
    "@ClassPreamble {\n",
    "    author = \"John Doe\",\n",
    "    date = \"3/17/2002\",\n",
    "    currentRevision = 6,\n",
    "    lastModified = \"4/12/2004\",\n",
    "    lastModifiedBy = \"Jane Doe\",\n",
    "    reviewers = {\"Alice\", \"Bob\", \"Cindy\"}\n",
    "}\n",
    "\n",
    "public class Generation3List extends Generation2List {\n",
    "    // class code goes here\n",
    "}"
   ]
  },
  {
   "cell_type": "code",
   "execution_count": null,
   "id": "3e4f40c9",
   "metadata": {},
   "outputs": [],
   "source": [
    "// annotate the annotation type with @Documented if you want its information\n",
    "// to appear in Javadoc\n",
    "\n",
    "import java.lang.annotation.*;\n",
    "\n",
    "@Documented\n",
    "@interface ClassPreamble {\n",
    "    String author();\n",
    "    String date();\n",
    "    int currentRevision() default 1;\n",
    "    String lastModified() default \"N/A\";\n",
    "    String lastModifiedBy() default \"N/A\";\n",
    "    // Note use of array\n",
    "    String[] reviewers();\n",
    "}"
   ]
  },
  {
   "cell_type": "markdown",
   "id": "8b8ca15e",
   "metadata": {},
   "source": [
    "## Predefined Annotation Types"
   ]
  },
  {
   "cell_type": "markdown",
   "id": "b26d06b7",
   "metadata": {},
   "source": [
    "### Annotation Types Used by the Java Language\n",
    "\n",
    "* the predefined annotation types defined in java.lang are:\n",
    "    - @Deprecated\n",
    "    - @Override\n",
    "    - @SuppressWarnings"
   ]
  },
  {
   "cell_type": "markdown",
   "id": "1ab9e8de",
   "metadata": {},
   "source": [
    "### @Deprecated\n",
    "\n",
    "* indicates that the marked element is deprecated and should no longer be used\n",
    "* compiler generates a warning whenever a program uses a method, class, or field with the @Deprecated annotation\n",
    "* when an element is deprecated, it should also be documented using the Javadoc @deprecated tag\n",
    "    - the use of the @ sign in both Javadoc comments and in annotations are related conceptually\n",
    "    - the Javadoc tag starts with a lowercase d and the annotation starts with an uppercase D\n",
    "* note: as of Java SE 9, a forRemoval attribute has been added to the @Deprecated annotation\n",
    "    - it indicates whether the annotated element is subject to removal in a future version\n",
    "    - default value is false"
   ]
  },
  {
   "cell_type": "code",
   "execution_count": null,
   "id": "cf0cb140",
   "metadata": {},
   "outputs": [],
   "source": [
    "// Javadoc comment follows\n",
    "/**\n",
    " * @deprecated\n",
    " * explanation of why it was deprecated\n",
    " */\n",
    "@Deprecated\n",
    "static void deprecatedMethod"
   ]
  },
  {
   "cell_type": "markdown",
   "id": "f4b66779",
   "metadata": {},
   "source": [
    "### Override\n",
    "\n",
    "* informs the compiler that the element is meant to override an element declared in a superclass\n",
    "* not required to use this annotation when overriding a method but it helps to prevent errors\n",
    "    - if a method marked with @Override fails to correctly override a method in one of its superclasses, the compiler generates an error"
   ]
  },
  {
   "cell_type": "code",
   "execution_count": null,
   "id": "d7a43c4c",
   "metadata": {},
   "outputs": [],
   "source": [
    "// mark method as a superclass method\n",
    "// that has been overriden\n",
    "@Override\n",
    "int overriddenMethod() {}"
   ]
  },
  {
   "cell_type": "markdown",
   "id": "492073f5",
   "metadata": {},
   "source": [
    "### @SuppressWarnings\n",
    "\n",
    "* tells the compiler to suppress specific warnings that it would otherwise generate\n",
    "* in the following example:\n",
    "    - a deprecated method is used\n",
    "    - the compiler usually generates a warning\n",
    "    - in this case, the annotation causes the warning to be suppressed\n",
    "* every compiler warning belongs to a category. the Java Language Specification lists 2 categories:\n",
    "    1. deprecation\n",
    "    2. unchecked\n",
    "        - can occur when interfacing with legacy code written before the advent of generics"
   ]
  },
  {
   "cell_type": "code",
   "execution_count": null,
   "id": "dd7aba6c",
   "metadata": {},
   "outputs": [],
   "source": [
    "// use a deprecated method and tell\n",
    "// compiler not to generate a warning\n",
    "@SuppressWarnings(\"deprecation\")\n",
    "void useDeprecatedMethod() {\n",
    "    // deprecation warning\n",
    "    // - suppressed\n",
    "    objectOne.deprecatedMethod();\n",
    "}"
   ]
  },
  {
   "cell_type": "code",
   "execution_count": null,
   "id": "553a1506",
   "metadata": {},
   "outputs": [],
   "source": [
    "// to suppress multiple categories of warnings\n",
    "@SuppressWarnings({\"unchecked\", \"deprecation\"})"
   ]
  },
  {
   "cell_type": "markdown",
   "id": "f4ea4370",
   "metadata": {},
   "source": [
    "### @SafeVarargs\n",
    "\n",
    "* when applied to a method or constructor, asserts that the code does not perform potentially unsafe operations on its varargs parameter\n",
    "    - when this annotation type is used, unchecked warnings relating to varargs usage are suppressed\n",
    "    - remember that varargs are variable arguments, e.g. String... strings that take in any number of arguments"
   ]
  },
  {
   "cell_type": "markdown",
   "id": "388fc391",
   "metadata": {},
   "source": [
    "### @FunctionalInterface\n",
    "\n",
    "* indicates that the type declaration is intended to be a functional interface, as defined by the Java Language Specification"
   ]
  },
  {
   "cell_type": "markdown",
   "id": "dd087a0d",
   "metadata": {},
   "source": [
    "### Annotations That Apply to Other Annotations\n",
    "\n",
    "* annotations that apply to other annotations are called meta-annotations\n",
    "* there are several meta-annotation types defined in java.lang.annotation"
   ]
  },
  {
   "cell_type": "markdown",
   "id": "79f5d54e",
   "metadata": {},
   "source": [
    "### @Retention\n",
    "\n",
    "* specifies how the marked annotation is stored:\n",
    "    - RetentionPolicy.SOURCE: the marked annotation is retained only in the source level and is ignored by the compiler\n",
    "    - RetentionPolicy.CLASS: the marked annotation is retained by the compiler at compile time, but is ignored by the Java Virtual Machine (JVM)\n",
    "    - RetentionPolicy.RUNTIME: the marked annotation is retained by the JVM so it can be used by the runtime environment"
   ]
  },
  {
   "cell_type": "markdown",
   "id": "be4f1466",
   "metadata": {},
   "source": [
    "### @Documented\n",
    "\n",
    "* indicates that whenever the specified annotation is used, those elements should be documented using the Javadoc tool\n",
    "    - by default, annotations are not included in Javadoc"
   ]
  },
  {
   "cell_type": "markdown",
   "id": "92abc3ef",
   "metadata": {},
   "source": [
    "### @Target\n",
    "\n",
    "* this annotation marks another annotation to restrict what kind of Java elements the annotation can be applied to\n",
    "* the target annotation specifies one of the following element types as its value:\n",
    "    - ElementType.ANNOTATION_TYPE: can be applied to an annotation type\n",
    "    - ElementType.CONSTRUCTOR: can be applied to a constructor\n",
    "    - ElementType.FIELD: can be applied to a field or property\n",
    "    - ElementType.LOCAL_VARIABLE: can be applied to a local variable\n",
    "    - ElementType.METHOD: can be applied to a method-level annotation\n",
    "    - ElementType.MODULE: can be applied to a module declaration\n",
    "    - ElementType.PACKAGE: can be applied to a package declaration\n",
    "    - ElementType.PARAMETER: can be applied to the parameters of a method\n",
    "    - ElementType.RECORD_COMPONENT: can be applied to the component of a record\n",
    "    - ElementType.TYPE: can be applied to the declaration of a class, an abstract class, an interface, an annotation interface, an enumeration, or a record declaration\n",
    "    - ElementType.TYPE_PARAMETER: can be applied on the parameters of a type\n",
    "    - ElementType.TYPE_USE: can be applied where a type is used, for instance on the declaration of a field"
   ]
  },
  {
   "cell_type": "markdown",
   "id": "0b95c5b6",
   "metadata": {},
   "source": [
    "### @Inherited\n",
    "\n",
    "* indicates that the annotation type can be inherited from the superclass (not true by default)\n",
    "* when the user queries the annotation type and the class has no annotation for this type, the class' superclass is queried for the annotation type\n",
    "* this annotation applies only to class declarations"
   ]
  },
  {
   "cell_type": "markdown",
   "id": "bbfa3690",
   "metadata": {},
   "source": [
    "### @Repeatable\n",
    "\n",
    "* indicates that the marked annotation can be applied more than once to the same declaration or type use"
   ]
  },
  {
   "cell_type": "markdown",
   "id": "a7127a0b",
   "metadata": {},
   "source": [
    "## Type Annotations and Pluggable Type Systems"
   ]
  },
  {
   "cell_type": "markdown",
   "id": "ff3f6e11",
   "metadata": {},
   "source": [
    "* as of Java SE 8 release, annotations can also be applied to any type use, not just for declarations\n",
    "    - this means that annotations can be used anywhere you use a type\n",
    "    - e.g. class instance creation expressions (new), casts, implements clauses, and throws clauses\n",
    "    - this is called a type annotation\n",
    "* type annotations were created to support improved analysis of Java programs way of ensuring stronger type checking\n",
    "    - Java SE 8 release does not provide a type checking framework but it allows you to write or download one that is implemented as one or more pluggable modules used in conjunction with the Java compiler\n",
    "    - e.g. you want to ensure that a particular variable in your program is never assigned to null\n",
    "        * you want to avoid triggering a NullPointerException\n",
    "        * you can write a custom plug-in to check for this\n",
    "        * you would then modify your code to annotate that particular variable, indicating that it is never assigned to null\n",
    "        * when you compile the code, including the NonNull module at the command line, the compiler prints a warning if it detects a potential problem, allowing you to modify it to avoid the error\n",
    "* can use multiple type-checking modules where each module checks for a different kind of error\n",
    "    - allows you to build on top of the Java type system and add specific checks when and where you want them\n",
    "* with the use of type annotations and the presence of pluggable type checkers\n",
    "    - you can write code that is stronger and less prone to error\n",
    "* you don't have to write your own type checking modules\n",
    "    - there are 3rd parties who have already created some\n",
    "    - e.g. University of Washington's Checker Framework\n",
    "        * includes a NonNull module, regular expression module, mutex module, etc"
   ]
  },
  {
   "cell_type": "code",
   "execution_count": null,
   "id": "45817fa2",
   "metadata": {},
   "outputs": [],
   "source": [
    "// custom plug-in to indicate that a variable should never be assigned to null\n",
    "@NonNull String str;"
   ]
  },
  {
   "cell_type": "markdown",
   "id": "e1ba2e9f",
   "metadata": {},
   "source": [
    "## Repeating Annotations"
   ]
  },
  {
   "cell_type": "markdown",
   "id": "ce405dde",
   "metadata": {},
   "source": [
    "* suppose you're writing code to use a timer service that enables you to run a method at a given time or on a certain schedule\n",
    "    - you want to set a timer to run a method, doPeriodicCleanup()\n",
    "    - to set the timer to run, create an @Schedule annotation and apply it twice to the doPeriodicCleanup() method\n",
    "        * one for the last day of the month\n",
    "        * and another specifies Friday at 11pm"
   ]
  },
  {
   "cell_type": "code",
   "execution_count": null,
   "id": "c89e329c",
   "metadata": {},
   "outputs": [],
   "source": [
    "@Schedule(dayOfMonth=\"last\")\n",
    "@Schedule(dayOfWeek=\"Fri\", hour=\"23\")\n",
    "public void doPeriodicCleanup() { ... }"
   ]
  },
  {
   "cell_type": "markdown",
   "id": "eabfef46",
   "metadata": {},
   "source": [
    "* the previous example applies an annotation to a method\n",
    "* you can repeat an annotation anywhere you would use a standard annotation\n",
    "    - e.g. have a class for handling unauthorized access exceptions"
   ]
  },
  {
   "cell_type": "code",
   "execution_count": null,
   "id": "3d4a0cbe",
   "metadata": {},
   "outputs": [],
   "source": [
    "@Alert(role=\"Manager\")\n",
    "@Alert(role=\"Administrator\")\n",
    "public class UnauthorizedAccessException extends SecurityException { ... }"
   ]
  },
  {
   "cell_type": "markdown",
   "id": "fd393b67",
   "metadata": {},
   "source": [
    "* for compatibility reasons, repeating annotations are stored in a container annotation that is automatically generated by the Java compiler\n",
    "    - in order for the compiler to do this, 2 declarations are required in your code"
   ]
  },
  {
   "cell_type": "markdown",
   "id": "87225aee",
   "metadata": {},
   "source": [
    "### Step 1: Declare a Repeatable Annotation Type\n",
    "\n",
    "* the annotation type must be marked with the @Repeatable meta-annotation\n",
    "* the value of the @Repeatable meta-annotation, in parentheses, is the type of the container annotation that the Java compiler generates to store repeating annotations\n",
    "    - in this example, the containing annotation type is @Schedules so repeating @Schedule annotations is stored in an @Schedules annotation\n",
    "* applying the same annotation to a declaration without first declaring it to be repeatable results in a compile-time error"
   ]
  },
  {
   "cell_type": "code",
   "execution_count": null,
   "id": "c6e2cf74",
   "metadata": {},
   "outputs": [],
   "source": [
    "@Repeatable(Schedules.class)\n",
    "public @interface Schedule {\n",
    "    String dayOfMonth() default \"first\";\n",
    "    String dayOfWeek() default \"Mon\";\n",
    "    int hour() default 12;\n",
    "}"
   ]
  },
  {
   "cell_type": "markdown",
   "id": "e338c742",
   "metadata": {},
   "source": [
    "### Step 2: Declare the Containing Annotation Type\n",
    "\n",
    "* the containing annotation type must have a value element with an array type\n",
    "* the component type of the array type must be the repeatable annotation type"
   ]
  },
  {
   "cell_type": "code",
   "execution_count": null,
   "id": "5c6a626f",
   "metadata": {},
   "outputs": [],
   "source": [
    "public @interface Schedules {\n",
    "    Schedule[] values();\n",
    "}"
   ]
  },
  {
   "cell_type": "markdown",
   "id": "fc883845",
   "metadata": {},
   "source": [
    "### Retrieving Annotations\n",
    "\n",
    "* methods available in the Reflection API that can be used to retrieve annotations\n",
    "    - the behavior of the methods that return a single annotation, such as AnnotatedElement.getAnnotation(Class\\<T\\>), are unchanged in that they only return a single annotation if one annotation of the requested type is present\n",
    "    - if more than one annotation of the requested type is present, you can obtain them by first getting their container annotation\n",
    "    - in this way, legacy code continues to work"
   ]
  },
  {
   "cell_type": "markdown",
   "id": "ca85bed6",
   "metadata": {},
   "source": [
    "### Design Considerations\n",
    "\n",
    "* when designing an annotation type, the cardinality of annotations of that type must be considered\n",
    "    - now possible to use an annotation 0, 1, or multiple times (with the @Repeatable meta-annotation)\n",
    "    - also possible to restrict where an annotation type can be used by using the @Target meta-annotation\n",
    "        * e.g. can create a repeatable annotation type that can only be used on methods and fields\n",
    "* it is important to design your annotation type carefully to ensure that the programmer  using the annotation finds it to be as flexible and powerful as possible"
   ]
  }
 ],
 "metadata": {
  "kernelspec": {
   "display_name": "Java",
   "language": "java",
   "name": "java"
  },
  "language_info": {
   "codemirror_mode": "java",
   "file_extension": ".jshell",
   "mimetype": "text/x-java-source",
   "name": "Java",
   "pygments_lexer": "java",
   "version": "21+35-2513"
  }
 },
 "nbformat": 4,
 "nbformat_minor": 5
}
