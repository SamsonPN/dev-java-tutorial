{
 "cells": [
  {
   "cell_type": "markdown",
   "id": "e5db2726",
   "metadata": {},
   "source": [
    "## Understanding Packages"
   ]
  },
  {
   "cell_type": "markdown",
   "id": "ab3d12bf",
   "metadata": {},
   "source": [
    "* Definition: a package is a grouping of related types providing access protection and name space management\n",
    "    - note that types refer to:\n",
    "        * classes\n",
    "        * interfaces\n",
    "        * enumerations\n",
    "        * annotation types\n",
    "    - enumerations and annotation types are special kinds of classes and interfaces, respectively\n",
    "    - basically:\n",
    "        * makes types easier to find and use\n",
    "        * avoids naming conflicts\n",
    "        * controls access\n",
    "* types that are part of the Java platform are members of various packages that bundle classes by function:\n",
    "    - fundamental classes are in java.lang\n",
    "    - classes for reading and writing (input and output) are in java.io\n",
    "    - can put your types in packages too\n",
    "* suppose you write a group of classes that represent graphic objects such as circles, rectangles, etc\n",
    "    - you also write an interface, Draggable, that classes implement if they can be dragedd with the mouse\n",
    "    - you should bundle these classes and the interface in a package for several reasons:\n",
    "        * you and other programmers can easily determine that these types are related\n",
    "        * you and other programmers know where to find types that can provide graphics-related functions\n",
    "        * the names of your types will not conflict with the type names in other packages b/c the package creates a new namespace\n",
    "        * you can allow types within the package to have unrestricted access to one another yet still restrict access for types outside the package"
   ]
  },
  {
   "cell_type": "code",
   "execution_count": null,
   "id": "ccd58c7c",
   "metadata": {},
   "outputs": [],
   "source": [
    "//in the Draggable.java file\n",
    "public interface Draggable {\n",
    "    ...\n",
    "}\n",
    "\n",
    "//in the Graphic.java file\n",
    "public abstract class Graphic {\n",
    "    ...\n",
    "}\n",
    "\n",
    "//in the Circle.java file\n",
    "public class Circle extends Graphic\n",
    "    implements Draggable {\n",
    "    . . .\n",
    "}\n",
    "\n",
    "//in the Rectangle.java file\n",
    "public class Rectangle extends Graphic\n",
    "    implements Draggable {\n",
    "    . . .\n",
    "}\n",
    "\n",
    "//in the Point.java file\n",
    "public class Point extends Graphic\n",
    "    implements Draggable {\n",
    "    . . .\n",
    "}\n",
    "\n",
    "//in the Line.java file\n",
    "public class Line extends Graphic\n",
    "    implements Draggable {\n",
    "    . . .\n",
    "}"
   ]
  },
  {
   "cell_type": "markdown",
   "id": "64f806dd",
   "metadata": {},
   "source": [
    "## Creating a Package"
   ]
  },
  {
   "cell_type": "markdown",
   "id": "afbb9824",
   "metadata": {},
   "source": [
    "* to create a package:\n",
    "    - choose a name for the package (has naming conventions)\n",
    "    - put a package statement with that name at the top of every source file that contains the type (classes, interfaces, enumerations, and annotation types) that you want to include in the package\n",
    "* the package statement (e.g. package graphics;) must be the first line in the source file\n",
    "    - there can be only one package statement in each source file\n",
    "    - it applies to all types in the file\n",
    "* note: if you put multiple types in a single source file, only one can be public and it must have the same name as the source file\n",
    "    - e.g. you can define public class Circle in the file Circle.java, define public interface Draggable in the file Draggable.java, define public enum Day in the file Day.java\n",
    "    - you can include non-public types in the same file as a public type but only the public type will be accessible from outside of the package\n",
    "        * this is strongly discouraged unless the non-public types are small and closely related to the public type\n",
    "        * all the top-level, non-public types will be package private\n",
    "* if you do not use a package statement, your type ends up in an unnamed package\n",
    "    - generally speaking, an unnamed package is only for small or temporary applications or when you are just beginning the development process\n",
    "    - otherwise, classes and interfaces belong in named packages"
   ]
  },
  {
   "cell_type": "code",
   "execution_count": null,
   "id": "3da538f4",
   "metadata": {},
   "outputs": [],
   "source": [
    "// if you put the graphics interface and classes listed in the previous example \n",
    "// in a package called graphics, you would need six source files\n",
    "\n",
    "//in the Draggable.java file\n",
    "package graphics;\n",
    "public interface Draggable {\n",
    "    . . .\n",
    "}\n",
    "\n",
    "//in the Graphic.java file\n",
    "package graphics;\n",
    "public abstract class Graphic {\n",
    "    . . .\n",
    "}\n",
    "\n",
    "//in the Circle.java file\n",
    "package graphics;\n",
    "public class Circle extends Graphic\n",
    "    implements Draggable {\n",
    "    . . .\n",
    "}\n",
    "\n",
    "//in the Rectangle.java file\n",
    "package graphics;\n",
    "public class Rectangle extends Graphic\n",
    "    implements Draggable {\n",
    "    . . .\n",
    "}\n",
    "\n",
    "//in the Point.java file\n",
    "package graphics;\n",
    "public class Point extends Graphic\n",
    "    implements Draggable {\n",
    "    . . .\n",
    "}\n",
    "\n",
    "//in the Line.java file\n",
    "package graphics;\n",
    "public class Line extends Graphic\n",
    "    implements Draggable {\n",
    "    . . .\n",
    "}\n"
   ]
  },
  {
   "cell_type": "markdown",
   "id": "f4e340a3",
   "metadata": {},
   "source": [
    "## Naming a Package and Naming Conventions"
   ]
  },
  {
   "cell_type": "markdown",
   "id": "52db7af7",
   "metadata": {},
   "source": [
    "* package names are written in all lower case to avoid conflict with the names of classes or interfaces\n",
    "* companies use their reversed internet domain name to being their package names\n",
    "    - e.g. com.example.mypackage for a package named mypackage created by a programmer at example.com\n",
    "* name collisions that occur within a single company need to be handled by convention within that company\n",
    "    - perhaps by including the region or the project name after the company name\n",
    "    - e.g. com.example.region.mypackage\n",
    "* packages in the Java language itself begin with java. or javax.\n",
    "* in some cases, the internet domain name may not be a valid package name\n",
    "    - can occur if the domain name contains a hyphen or other special character, begins with a digit or other character that is illegal to use as the beginning of a Java name, or if the package name contains a reserved Java keyword such as int\n",
    "    - in this event, the suggested convention is to add an underscore:\n",
    "| Domain Name | Package Name Prefix |\n",
    "| :- | :- |\n",
    "| hyphenated-name.example.org| org.example.hyphenated_name |\n",
    "| example.int | int_.example |\n",
    "| 123name.example.com | com.example.\\_123name |"
   ]
  },
  {
   "cell_type": "markdown",
   "id": "495dbb99",
   "metadata": {},
   "source": [
    "## Using Package Members"
   ]
  },
  {
   "cell_type": "markdown",
   "id": "fe4c12b0",
   "metadata": {},
   "source": [
    "* the types that comprise a package are known as the package members\n",
    "* to use a public package member from outside its package, you must do one of the following:\n",
    "    - refer to the member by its fully qualified name\n",
    "    - import the package member\n",
    "    - import the member's entire package"
   ]
  },
  {
   "cell_type": "markdown",
   "id": "1f196908",
   "metadata": {},
   "source": [
    "### Referring to a Package Member by Its Qualified Name\n",
    "\n",
    "* for most of the examples, types have been referred by their simple names, such as Rectangle and StackOfInts\n",
    "    - you can use a package member's simjmple name if the code you are writing is in the same package as that member or if that member has been imported\n",
    "* however, if you are trying to use a member from a different package and that package has not been imported, you must use the member's fully qualified name which includes the package name\n",
    "* qualified names are all right for _infrequent use_\n",
    "    - if you must use it multiple times, you can import the member or its package and use its simple name"
   ]
  },
  {
   "cell_type": "code",
   "execution_count": null,
   "id": "aa72ef51",
   "metadata": {},
   "outputs": [],
   "source": [
    "// fully qualified name for Rectangle class from examples above\n",
    "graphics.Rectangle\n",
    "\n",
    "// can use this qualified name to create an instance of graphics.Rectangle\n",
    "graphics.Rectangle myRect = new graphics.Rectangle();"
   ]
  },
  {
   "cell_type": "markdown",
   "id": "b7002e3c",
   "metadata": {},
   "source": [
    "### Importing a Package Member\n",
    "\n",
    "* this works well if you use just a few members from the graphics package\n",
    "* but if you use many types from a package, you should import the entire package"
   ]
  },
  {
   "cell_type": "code",
   "execution_count": null,
   "id": "cafc4fde",
   "metadata": {},
   "outputs": [],
   "source": [
    "// import the Rectangle class to use its simple name\n",
    "\n",
    "import graphics.Rectangle;\n",
    "\n",
    "Rectangle myRect = new Rectangle();"
   ]
  },
  {
   "cell_type": "markdown",
   "id": "f920ef1e",
   "metadata": {},
   "source": [
    "### Importing an Entire Package\n",
    "\n",
    "* the wildcard character (\\*) in the import statement can be used only to specify all classes within a package\n",
    "    - it cannot be used to match a subset of the classes in a package\n",
    "        * it generates a compiler error\n",
    "* with the import statement, you generally import only a single package or an entire package\n",
    "* note: another less common form of import allows you to import the public nested classes of an enclosing class\n",
    "    - e.g. if the graphics.Rectangle class contained useful nested classes such as Rectangle.DoubleWide and Rectangle.Square, you could import Rectangle and its nested classes\n",
    "* for convenience, the Java compiler automatically imports 2 entire packages for each source file:\n",
    "    - the java.lang package\n",
    "    - the current package (the package for the current file)"
   ]
  },
  {
   "cell_type": "code",
   "execution_count": null,
   "id": "0cf77637",
   "metadata": {},
   "outputs": [],
   "source": [
    "// import all types contained in a particular package using the wildcard character (*)\n",
    "import graphics.*;\n",
    "\n",
    "// now can refer to any class or interface in the graphics package by its simple name\n",
    "Circle myCircle = new Circle();\n",
    "Rectangle myRectangle = new Rectangle();"
   ]
  },
  {
   "cell_type": "code",
   "execution_count": null,
   "id": "936f2983",
   "metadata": {},
   "outputs": [],
   "source": [
    "// does not work\n",
    "// you cannot use the wildcard to match a subset of classes in a package\n",
    "// it's all or nothing\n",
    "import graphics.A*;"
   ]
  },
  {
   "cell_type": "code",
   "execution_count": null,
   "id": "7c9b607a",
   "metadata": {},
   "outputs": [],
   "source": [
    "// if Rectangle had 2 public, nested classes, you can import them like so\n",
    "import graphics.Rectangle;\n",
    "\n",
    "// BE AWARE THAT THIS WILL NOT IMPORT RECTANGLE\n",
    "// THAT'S WHY WE IMPORT IT ABOVE\n",
    "import graphics.Rectangle.*;"
   ]
  },
  {
   "cell_type": "markdown",
   "id": "429041f5",
   "metadata": {},
   "source": [
    "### Apparent Hierarchies of Packages\n",
    "\n",
    "* packages appear to be hierarchical BUT THEY ARE NOT\n",
    "    - e.g. Java API includes a java.awt package, java.awt.color package, java.awt.font package and others that begin with java.awt\n",
    "        * however, these packages and other java.awt.xxxx packages are not included in the java.awt package\n",
    "        * the prefix, java.awt (Java Abstract Window Toolkit), is just used for a number of related packages to make the relationship evident but now show inclusion\n",
    "* importing java.awt.* imports all of the types in the java.awt package\n",
    "    - but it does not import java.awt.color, java.awt.font, or any other java.awt.xxxx packages"
   ]
  },
  {
   "cell_type": "code",
   "execution_count": null,
   "id": "5d13aa04",
   "metadata": {},
   "outputs": [],
   "source": [
    "// must import other related packages to java.awt separately\n",
    "import java.awt.*;\n",
    "\n",
    "// these 2 are related but not a part of the java.awt package\n",
    "// they share the same prefix to clearly show that they have a relationship to the java.awt package\n",
    "import java.awt.color.*;\n",
    "import java.awt.font.*;"
   ]
  },
  {
   "cell_type": "markdown",
   "id": "8ddc4183",
   "metadata": {},
   "source": [
    "### Name Ambiguities\n",
    "\n",
    "* if a member in one package shares its name with a member  in another package and both are imported, you must refer to each member by its qualified name\n",
    "    - e.g. the graphics package defined a class named Rectangle and the java.awt package also contains a Rectangle class\n",
    "        * if you use its simplified name, then its ambiguous which type from which package you're referring to\n",
    "        * in this case, you have to use a member's fully qualified name to indicate which Rectangle class you want"
   ]
  },
  {
   "cell_type": "code",
   "execution_count": null,
   "id": "b7602dfd",
   "metadata": {},
   "outputs": [],
   "source": [
    "import java.awt.*;\n",
    "import graphics.*;\n",
    "\n",
    "// simplfied name is ambiguous\n",
    "// since both java.awt and graphics packages contain Rectangle\n",
    "Rectangle rect = new Rectangle();\n",
    "\n",
    "// not ambiguous if you use the type's fully qualified name\n",
    "java.awt.Rectangle rect1 = new java.awt.Rectangle();\n",
    "graphics.Rectangle rect2 = new graphics.Rectangle();"
   ]
  },
  {
   "cell_type": "markdown",
   "id": "e5c4031f",
   "metadata": {},
   "source": [
    "### The Static Import Statement\n",
    "\n",
    "* there are situations where you need frequent access to static final fields (constants) and static methods from one or two classes\n",
    "* prefixing the name of these classes over and over can result in cluttered code\n",
    "* the _static import_ statement gives you a way to import the constants and static methods that you want to use without the prefix\n",
    "    - e.g. java.lang.Math defines the PI constant and many static methods\n",
    "* note: use static import very sparingly\n",
    "    - overusing static imports can result in code that is difficult to read and maintain\n",
    "    - reason being, readers of the code will not know which class defines a particular static object\n",
    "    - used properly, static import makes code more readable by removing class name reptition"
   ]
  },
  {
   "cell_type": "code",
   "execution_count": null,
   "id": "2ef16e58",
   "metadata": {},
   "outputs": [],
   "source": [
    "// without static imports\n",
    "\n",
    "double r = Math.cos(Math.PI * theta);"
   ]
  },
  {
   "cell_type": "code",
   "execution_count": null,
   "id": "369471e0",
   "metadata": {},
   "outputs": [],
   "source": [
    "// use the static import statement so that you don't have to write the prefix\n",
    "\n",
    "// individual import\n",
    "import static java.lang.Math.PI;\n",
    "\n",
    "// static members can now be used without qualification\n",
    "double r = Math.cos(PI * theta);\n",
    "\n",
    "// group import\n",
    "import static java.lang.Math.*;\n",
    "\n",
    "// static members can now be used without qualification\n",
    "double r = cos(PI * theta);"
   ]
  },
  {
   "cell_type": "code",
   "execution_count": null,
   "id": "d9b9d143",
   "metadata": {},
   "outputs": [],
   "source": [
    "// you can write your own classes with their own constants and static methods that you use\n",
    "import static myPackage.MyConstants.*;"
   ]
  },
  {
   "cell_type": "markdown",
   "id": "460ac6b3",
   "metadata": {},
   "source": [
    "## Wrapping up Packages"
   ]
  },
  {
   "cell_type": "markdown",
   "id": "65f94740",
   "metadata": {},
   "source": [
    "* to create a package for a type, put a package statement as the first statement in the source file that contains the type (class, interface, enumeration, or annotation type)\n",
    "* to use a public type that is in a different package, you have 3 choices:\n",
    "    1. use the fully qualified name of the type\n",
    "    2. import the type\n",
    "    3. import the entire package of which the type is a member\n",
    "* the path names for a package's source and class files mirror the name of the package\n",
    "* you might have to set your CLASSPATH so that the compiler and the JVM can find the .class files for your types"
   ]
  }
 ],
 "metadata": {
  "kernelspec": {
   "display_name": "Java",
   "language": "java",
   "name": "java"
  },
  "language_info": {
   "codemirror_mode": "java",
   "file_extension": ".jshell",
   "mimetype": "text/x-java-source",
   "name": "Java",
   "pygments_lexer": "java",
   "version": "21+35-2513"
  }
 },
 "nbformat": 4,
 "nbformat_minor": 5
}
