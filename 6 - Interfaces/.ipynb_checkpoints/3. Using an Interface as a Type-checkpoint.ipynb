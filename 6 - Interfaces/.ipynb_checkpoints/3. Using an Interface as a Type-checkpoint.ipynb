{
 "cells": [
  {
   "cell_type": "markdown",
   "id": "408dd8f7",
   "metadata": {},
   "source": [
    "## Using an Interface as a Type"
   ]
  },
  {
   "cell_type": "markdown",
   "id": "798c346b",
   "metadata": {},
   "source": [
    "* when you define a new interface, you are defining a new reference data type\n",
    "* able to use interface names anywhere you can use any other data type name\n",
    "* if you define a reference variable whose type is an interface, any object you assign to it must be an instance of a class that implements that interface\n",
    "* in the example below:\n",
    "    - the variables, obj1 and obj2, are of type Relatable\n",
    "    - Relatable is an interface\n",
    "        * _the Relatable interface was an example from \"2. Implementing an Interface\"_\n",
    "    - therefore, the objects must be an instance of a class that implements the Relatable interface\n",
    "    - the typecasting of the objects is b/c the Relatable interface has a method called isLargerThan"
   ]
  },
  {
   "cell_type": "code",
   "execution_count": null,
   "id": "e1ae7cec",
   "metadata": {},
   "outputs": [],
   "source": [
    "public Object findLargest(Object object1, Object object2) {\n",
    "   Relatable obj1 = (Relatable)object1;\n",
    "   Relatable obj2 = (Relatable)object2;\n",
    "   if ((obj1).isLargerThan(obj2) > 0)\n",
    "      return object1;\n",
    "   else \n",
    "      return object2;\n",
    "}"
   ]
  },
  {
   "cell_type": "markdown",
   "id": "10cce55d",
   "metadata": {},
   "source": [
    "* if you implement the Relatable interface in a wide variety of classes, the objects instantiated from any of those classes can be compared with the findLargest() method above as long as both objects are of the same class\n",
    "* you can also use other methods like the ones below as well\n",
    "* these methods work for any Relatable objects, regardless of class inheritance\n",
    "    - when they implement Relatable, they can be of both their own class (or superclass) type and a Relatable type\n",
    "    - this gives them some of the advantages of multiple inheritance where they can have behavior from both a superclass and an inheritance"
   ]
  },
  {
   "cell_type": "code",
   "execution_count": null,
   "id": "310dc144",
   "metadata": {},
   "outputs": [],
   "source": [
    "public Object findSmallest(Object object1, Object object2) {\n",
    "   Relatable obj1 = (Relatable)object1;\n",
    "   Relatable obj2 = (Relatable)object2;\n",
    "   if ((obj1).isLargerThan(obj2) < 0)\n",
    "      return object1;\n",
    "   else \n",
    "      return object2;\n",
    "}\n",
    "\n",
    "public boolean isEqual(Object object1, Object object2) {\n",
    "   Relatable obj1 = (Relatable)object1;\n",
    "   Relatable obj2 = (Relatable)object2;\n",
    "   if ( (obj1).isLargerThan(obj2) == 0)\n",
    "      return true;\n",
    "   else \n",
    "      return false;\n",
    "}\n"
   ]
  }
 ],
 "metadata": {
  "kernelspec": {
   "display_name": "Java",
   "language": "java",
   "name": "java"
  },
  "language_info": {
   "codemirror_mode": "java",
   "file_extension": ".jshell",
   "mimetype": "text/x-java-source",
   "name": "Java",
   "pygments_lexer": "java",
   "version": "21+35-2513"
  }
 },
 "nbformat": 4,
 "nbformat_minor": 5
}
