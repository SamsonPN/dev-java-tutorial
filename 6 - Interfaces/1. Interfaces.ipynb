{
 "cells": [
  {
   "cell_type": "markdown",
   "id": "4991d3c5",
   "metadata": {},
   "source": [
    "## Interfaces in Java"
   ]
  },
  {
   "cell_type": "markdown",
   "id": "d47b4fac",
   "metadata": {},
   "source": [
    "* interfaces are like a contract that explains how their software interacts\n",
    "* in Java, an _interface_ is a reference type, similar to a class, that contain:\n",
    "    - only constants\n",
    "    - method signatures\n",
    "    - default methods\n",
    "    - static methods\n",
    "    - nested types\n",
    "* method bodies only exist for default and static methods\n",
    "* interfaces cannot be instantiated\n",
    "    - can only be implemented by classes or extended by other interfaces\n",
    "    - classes that implement interfaces must provide method bodies for each of the methods declared in the interface"
   ]
  },
  {
   "cell_type": "code",
   "execution_count": null,
   "id": "1d734224",
   "metadata": {},
   "outputs": [],
   "source": [
    "// method signatures have no braces\n",
    "// terminated with a semicolon\n",
    "public interface OperateCar {\n",
    "\n",
    "   // constant declarations, if any\n",
    "\n",
    "   // method signatures\n",
    "   \n",
    "   // An enum with values RIGHT, LEFT\n",
    "   int turn(Direction direction,\n",
    "            double radius,\n",
    "            double startSpeed,\n",
    "            double endSpeed);\n",
    "   int changeLanes(Direction direction,\n",
    "                   double startSpeed,\n",
    "                   double endSpeed);\n",
    "   int signalTurn(Direction direction,\n",
    "                  boolean signalOn);\n",
    "   int getRadarFront(double distanceToCar,\n",
    "                     double speedOfCar);\n",
    "   int getRadarRear(double distanceToCar,\n",
    "                    double speedOfCar);\n",
    "         ......\n",
    "   // more method signatures\n",
    "}\n",
    "\n",
    "// a class implements an interface\n",
    "// and provides implementation for all declared methods in the interface\n",
    "public class OperateBMW760i implements OperateCar {\n",
    "\n",
    "    // the OperateCar method signatures, with implementation --\n",
    "    // for example:\n",
    "    public int signalTurn(Direction direction, boolean signalOn) {\n",
    "       // code to turn BMW's LEFT turn indicator lights on\n",
    "       // code to turn BMW's LEFT turn indicator lights off\n",
    "       // code to turn BMW's RIGHT turn indicator lights on\n",
    "       // code to turn BMW's RIGHT turn indicator lights off\n",
    "    }\n",
    "\n",
    "    // other members, as needed -- for example, helper classes not \n",
    "    // visible to clients of the interface\n",
    "}"
   ]
  },
  {
   "cell_type": "markdown",
   "id": "ab002e14",
   "metadata": {},
   "source": [
    "## Interfaces as APIs"
   ]
  },
  {
   "cell_type": "markdown",
   "id": "56294650",
   "metadata": {},
   "source": [
    "* API: Application Programming Interface\n",
    "* basically a software package containing method signatures/return types that are public to the entities that use the package\n",
    "    - the API is public but the classes implemented from the interface and how the methods are implemented are kept secret\n",
    "    - the company behind the API can choose to revise the implementation of the API methods but the interface itself would still be reliable for customers using the software package"
   ]
  },
  {
   "cell_type": "markdown",
   "id": "96e860c9",
   "metadata": {},
   "source": [
    "## Defining an Interface"
   ]
  },
  {
   "cell_type": "markdown",
   "id": "5bfd299a",
   "metadata": {},
   "source": [
    "* an interface declaration consists of:\n",
    "    - modifiers\n",
    "        * in the example below, the interface is public\n",
    "            - this indicates that any class from any package can implement this interface\n",
    "            - if you do not specify (package-private), then the interface is only accessible to classes defined in the same package as the interface\n",
    "    - the keyword _interface_\n",
    "    - interface name\n",
    "    - comma-separated list of parent interfaces (if any)\n",
    "        * an interface can extend other interfaces\n",
    "        * unlike classes, interfaces can extend any number of interfaces\n",
    "    - interface body\n",
    "        * can contain:\n",
    "            - abstract methods\n",
    "                * abstract methods don't have an implementation\n",
    "                * no braces for method body; the method signature ends with a semicolon\n",
    "            - default methods\n",
    "                * defined with the default modifier\n",
    "            - static methods\n",
    "                * defined with the static keyword\n",
    "        * __all abstract, default, and static methods in an interface are implicitly public__\n",
    "        * can also contain constant declarations\n",
    "            - __all constant values defined in an interface are implicitly public, static, and final__\n",
    "            - don't need to add these modifiers"
   ]
  },
  {
   "cell_type": "code",
   "execution_count": null,
   "id": "d5e08fde",
   "metadata": {},
   "outputs": [],
   "source": [
    "public interface GroupedInterface extends Interface1, Interface2, Interface3 {\n",
    "\n",
    "    // constant declarations\n",
    "    \n",
    "    // base of natural logarithms\n",
    "    double E = 2.718282;\n",
    " \n",
    "    // method signatures\n",
    "    void doSomething (int i, double x);\n",
    "    int doSomethingElse(String s);\n",
    "}"
   ]
  }
 ],
 "metadata": {
  "kernelspec": {
   "display_name": "Java",
   "language": "java",
   "name": "java"
  },
  "language_info": {
   "codemirror_mode": "java",
   "file_extension": ".jshell",
   "mimetype": "text/x-java-source",
   "name": "Java",
   "pygments_lexer": "java",
   "version": "21+35-2513"
  }
 },
 "nbformat": 4,
 "nbformat_minor": 5
}
