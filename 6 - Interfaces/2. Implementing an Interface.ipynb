{
 "cells": [
  {
   "cell_type": "markdown",
   "id": "3a1ec2f9",
   "metadata": {},
   "source": [
    "## Defining the Interface Relatable"
   ]
  },
  {
   "cell_type": "markdown",
   "id": "d6ac2829",
   "metadata": {},
   "source": [
    "* to declare a class that implements an interface, you include an _implements clause_ in the class declaration\n",
    "* classes can implement more than one interface\n",
    "    - the implements keyword can be followed by a comma-separated list of interfaces\n",
    "    - by convention, the implements clause follows the extends clause, if there is one"
   ]
  },
  {
   "cell_type": "code",
   "execution_count": null,
   "id": "2536f616",
   "metadata": {},
   "outputs": [],
   "source": [
    "// consider this interface that defines how to compare the size of objects\n",
    "// any class that wants to compare the size of similar objects should implement this interface\n",
    "// e.g. if you have books, you could compare the number of pages\n",
    "\n",
    "public interface Relatable {\n",
    "\n",
    "    // this (object calling isLargerThan())\n",
    "    // and other must be instances of \n",
    "    // the same class returns 1, 0, -1 \n",
    "    // if this is greater than, \n",
    "    // equal to, or less than other\n",
    "    public int isLargerThan(Relatable other);\n",
    "}"
   ]
  },
  {
   "cell_type": "markdown",
   "id": "d7cb45e9",
   "metadata": {},
   "source": [
    "## Implementing the Relatable Interface"
   ]
  },
  {
   "cell_type": "markdown",
   "id": "fa9185ad",
   "metadata": {},
   "source": [
    "* RectanglePlus implements Relatable and is now able to compare the size of any 2 RectanglePlus objects\n",
    "* note: the isLargerThan() method takes an object of type Relatable\n",
    "    - the first line of code casts other to a RectanglePlus instance\n",
    "    - type casting tells the compiler what that object that was passed in really was\n",
    "    - if we did not do this, then the method, getArea(), would fail to compile b/c the compiler recognizes the parameter is of type Relatable and not actually an instance of RectanglePlus"
   ]
  },
  {
   "cell_type": "code",
   "execution_count": null,
   "id": "e3014dc8",
   "metadata": {},
   "outputs": [],
   "source": [
    "public class RectanglePlus implements Relatable {\n",
    "    public int width = 0;\n",
    "    public int height = 0;\n",
    "    public Point origin;\n",
    "\n",
    "    // four constructors\n",
    "    public RectanglePlus() {\n",
    "        origin = new Point(0, 0);\n",
    "    }\n",
    "    public RectanglePlus(Point p) {\n",
    "        origin = p;\n",
    "    }\n",
    "    public RectanglePlus(int w, int h) {\n",
    "        origin = new Point(0, 0);\n",
    "        width = w;\n",
    "        height = h;\n",
    "    }\n",
    "    public RectanglePlus(Point p, int w, int h) {\n",
    "        origin = p;\n",
    "        width = w;\n",
    "        height = h;\n",
    "    }\n",
    "\n",
    "    // a method for moving the rectangle\n",
    "    public void move(int x, int y) {\n",
    "        origin.x = x;\n",
    "        origin.y = y;\n",
    "    }\n",
    "\n",
    "    // a method for computing\n",
    "    // the area of the rectangle\n",
    "    public int getArea() {\n",
    "        return width * height;\n",
    "    }\n",
    "    \n",
    "    // a method required to implement\n",
    "    // the Relatable interface\n",
    "    public int isLargerThan(Relatable other) {\n",
    "        RectanglePlus otherRect \n",
    "            = (RectanglePlus)other;\n",
    "        if (this.getArea() < otherRect.getArea())\n",
    "            return -1;\n",
    "        else if (this.getArea() > otherRect.getArea())\n",
    "            return 1;\n",
    "        else\n",
    "            return 0;               \n",
    "    }\n",
    "}\n"
   ]
  },
  {
   "cell_type": "markdown",
   "id": "c4e55078",
   "metadata": {},
   "source": [
    "## Evolving Interfaces"
   ]
  },
  {
   "cell_type": "markdown",
   "id": "b1069516",
   "metadata": {},
   "source": [
    "* consider the interface, DoIt, below\n",
    "* if you wanted to add a third method to it, how would you go about it?"
   ]
  },
  {
   "cell_type": "code",
   "execution_count": null,
   "id": "8a78b407",
   "metadata": {},
   "outputs": [],
   "source": [
    "public interface DoIt {\n",
    "   void doSomething(int i, double x);\n",
    "   int doSomethingElse(String s);\n",
    "}\n",
    "\n",
    "// how would you add a method to get this?\n",
    "public interface DoIt {\n",
    "\n",
    "   void doSomething(int i, double x);\n",
    "   int doSomethingElse(String s);\n",
    "   boolean didItWork(int i, double x, String s);\n",
    "   \n",
    "}"
   ]
  },
  {
   "cell_type": "markdown",
   "id": "738b27ad",
   "metadata": {},
   "source": [
    "* if you naively added a new method to DoIt, any classes that implement the old DoIt would break\n",
    "    - reason being, those classes have not implemented the extra method\n",
    "* thus, one way to you could add additional methods to an interface without breaking it is by extending the original interface\n",
    "    - by doing this, you give users of the old DoIt a chance to continue using it or to upgrade to the new interface"
   ]
  },
  {
   "cell_type": "code",
   "execution_count": null,
   "id": "71c523e9",
   "metadata": {},
   "outputs": [],
   "source": [
    "// gives users a chance to continue using old interface or upgrade to this new one\n",
    "// without breaking classes that implemented the old one\n",
    "public interface DoItPlus extends DoIt {\n",
    "    \n",
    "    boolean didItWork(int i, double x, String s);\n",
    "    \n",
    "}"
   ]
  },
  {
   "cell_type": "markdown",
   "id": "63abdaac",
   "metadata": {},
   "source": [
    "* you could also define your new methods as default methods\n",
    "* you must provide an implementation for default methods\n",
    "* you could also define new static methods to existing interfaces\n",
    "* users that implement the interface do not have to modify or recompile their classes to accommodate for the new methods"
   ]
  },
  {
   "cell_type": "code",
   "execution_count": null,
   "id": "44c25506",
   "metadata": {},
   "outputs": [],
   "source": [
    "public interface DoIt {\n",
    "\n",
    "   void doSomething(int i, double x);\n",
    "   int doSomethingElse(String s);\n",
    "   default boolean didItWork(int i, double x, String s) {\n",
    "       // Method body \n",
    "   }\n",
    "}"
   ]
  },
  {
   "cell_type": "markdown",
   "id": "16203e5f",
   "metadata": {},
   "source": [
    "## Default Methods"
   ]
  },
  {
   "cell_type": "markdown",
   "id": "3e52aec2",
   "metadata": {},
   "source": [
    "* default methods enable you to add new functionality to the interfaces of your libraries and ensure binary compatibility with code written for older versions of those interfaces\n",
    "* in the example below:\n",
    "    - we have an interface TimeClient\n",
    "    - the class SimpleTimeClient implements TimeClient\n",
    "    - we want to add new functionality to the TimeClient interface to specify a time zone\n",
    "    - if we were to just add the new abstract method, SimpleTimeClient would have to be modified to implement the method\n",
    "    - however, we can instead define the new method as default and write out its own implementation\n",
    "    - thus, you do not have to modify the SimpleTimeClient class b/c the method is already defined"
   ]
  },
  {
   "cell_type": "code",
   "execution_count": null,
   "id": "620843a3",
   "metadata": {},
   "outputs": [],
   "source": [
    "import java.time.*; \n",
    " \n",
    "public interface TimeClient {\n",
    "    void setTime(int hour, int minute, int second);\n",
    "    void setDate(int day, int month, int year);\n",
    "    void setDateAndTime(int day, int month, int year,\n",
    "                               int hour, int minute, int second);\n",
    "    LocalDateTime getLocalDateTime();\n",
    "}\n",
    "\n",
    "public class SimpleTimeClient implements TimeClient {\n",
    "    \n",
    "    private LocalDateTime dateAndTime;\n",
    "    \n",
    "    public SimpleTimeClient() {\n",
    "        dateAndTime = LocalDateTime.now();\n",
    "    }\n",
    "    \n",
    "    public void setTime(int hour, int minute, int second) {\n",
    "        LocalDate currentDate = LocalDate.from(dateAndTime);\n",
    "        LocalTime timeToSet = LocalTime.of(hour, minute, second);\n",
    "        dateAndTime = LocalDateTime.of(currentDate, timeToSet);\n",
    "    }\n",
    "    \n",
    "    public void setDate(int day, int month, int year) {\n",
    "        LocalDate dateToSet = LocalDate.of(day, month, year);\n",
    "        LocalTime currentTime = LocalTime.from(dateAndTime);\n",
    "        dateAndTime = LocalDateTime.of(dateToSet, currentTime);\n",
    "    }\n",
    "    \n",
    "    public void setDateAndTime(int day, int month, int year,\n",
    "                               int hour, int minute, int second) {\n",
    "        LocalDate dateToSet = LocalDate.of(day, month, year);\n",
    "        LocalTime timeToSet = LocalTime.of(hour, minute, second); \n",
    "        dateAndTime = LocalDateTime.of(dateToSet, timeToSet);\n",
    "    }\n",
    "    \n",
    "    public LocalDateTime getLocalDateTime() {\n",
    "        return dateAndTime;\n",
    "    }\n",
    "    \n",
    "    public String toString() {\n",
    "        return dateAndTime.toString();\n",
    "    }\n",
    "    \n",
    "    public static void main(String... args) {\n",
    "        TimeClient myTimeClient = new SimpleTimeClient();\n",
    "        System.out.println(myTimeClient.toString());\n",
    "    }\n",
    "}"
   ]
  },
  {
   "cell_type": "code",
   "execution_count": null,
   "id": "1ca5d31c",
   "metadata": {},
   "outputs": [],
   "source": [
    "public interface TimeClient {\n",
    "    void setTime(int hour, int minute, int second);\n",
    "    void setDate(int day, int month, int year);\n",
    "    void setDateAndTime(int day, int month, int year,\n",
    "        int hour, int minute, int second);\n",
    "    LocalDateTime getLocalDateTime();    \n",
    "    \n",
    "    // adding this abstract method in would require modifying SimpleTimeClient\n",
    "    // to implement this method\n",
    "    ZonedDateTime getZonedDateTime(String zoneString);\n",
    "}"
   ]
  },
  {
   "cell_type": "code",
   "execution_count": null,
   "id": "9a3189d9",
   "metadata": {},
   "outputs": [],
   "source": [
    "public interface TimeClient {\n",
    "    void setTime(int hour, int minute, int second);\n",
    "    void setDate(int day, int month, int year);\n",
    "    void setDateAndTime(int day, int month, int year,\n",
    "                               int hour, int minute, int second);\n",
    "    LocalDateTime getLocalDateTime();\n",
    "    \n",
    "    static ZoneId getZoneId (String zoneString) {\n",
    "        try {\n",
    "            return ZoneId.of(zoneString);\n",
    "        } catch (DateTimeException e) {\n",
    "            System.err.println(\"Invalid time zone: \" + zoneString +\n",
    "                \"; using default time zone instead.\");\n",
    "            return ZoneId.systemDefault();\n",
    "        }\n",
    "    }\n",
    "        \n",
    "    // instead, declare the new method as default\n",
    "    // and implement its behavior\n",
    "    // SimpleTimeClient is no longer required to be modified\n",
    "    default ZonedDateTime getZonedDateTime(String zoneString) {\n",
    "        return ZonedDateTime.of(getLocalDateTime(), getZoneId(zoneString));\n",
    "    }\n",
    "}"
   ]
  },
  {
   "cell_type": "markdown",
   "id": "3de2c91e",
   "metadata": {},
   "source": [
    "## Extending Interfaces that Contain Default Methods"
   ]
  },
  {
   "cell_type": "markdown",
   "id": "bfca3b92",
   "metadata": {},
   "source": [
    "* when you extend an interface that contains a default method, you can do the following:\n",
    "    - not mention the default method at all, which lets the extended interface inherit the default method\n",
    "    - redeclare the default method, making it abstract\n",
    "    - redefine the default method, which overrides it"
   ]
  },
  {
   "cell_type": "code",
   "execution_count": null,
   "id": "8ae85969",
   "metadata": {},
   "outputs": [],
   "source": [
    "// this interface will inherit the default method from TimeClient\n",
    "// without making any changes its implementation\n",
    "// any class that implements AnotherTimeClient will be able to use the same default methods\n",
    "// with the exact same behavior as the ones in TimeClient\n",
    "public interface AnotherTimeClient extends TimeClient { }"
   ]
  },
  {
   "cell_type": "code",
   "execution_count": null,
   "id": "bf744483",
   "metadata": {},
   "outputs": [],
   "source": [
    "// the default method has been redeclared, making it abstract again\n",
    "// any class that implements this interface will be required to implement this method\n",
    "public interface AbstractZoneTimeClient extends TimeClient {\n",
    "    public ZonedDateTime getZonedDateTime(String zoneString);\n",
    "}"
   ]
  },
  {
   "cell_type": "code",
   "execution_count": null,
   "id": "2d921e92",
   "metadata": {},
   "outputs": [],
   "source": [
    "// any class that implements this interface will be using this interface's implementation of the default method\n",
    "// rather than the old implementation inherited from TimeClient\n",
    "\n",
    "public interface HandleInvalidTimeZoneClient extends TimeClient {\n",
    "    default public ZonedDateTime getZonedDateTime(String zoneString) {\n",
    "        try {\n",
    "            return ZonedDateTime.of(getLocalDateTime(),ZoneId.of(zoneString)); \n",
    "        } catch (DateTimeException e) {\n",
    "            System.err.println(\"Invalid zone ID: \" + zoneString +\n",
    "                \"; using the default time zone instead.\");\n",
    "            return ZonedDateTime.of(getLocalDateTime(),ZoneId.systemDefault());\n",
    "        }\n",
    "    }\n",
    "}"
   ]
  },
  {
   "cell_type": "markdown",
   "id": "81535ea0",
   "metadata": {},
   "source": [
    "## Static Methods"
   ]
  },
  {
   "cell_type": "markdown",
   "id": "0e69d8df",
   "metadata": {},
   "source": [
    "* remember that a static method is a method associated with the class in which it is defined rather than with any object\n",
    "    - every instance of the class shares its static methods\n",
    "* using static methods in an interface makes it easier to organize helper methods in libraries\n",
    "    - you can keep static methods specific to an interface in the same interface rather than in a separate class\n",
    "* like static methods in classes:\n",
    "    - you specify that a method is static using the _static_ keyword"
   ]
  },
  {
   "cell_type": "code",
   "execution_count": null,
   "id": "e0222594",
   "metadata": {},
   "outputs": [],
   "source": [
    "public interface TimeClient {\n",
    "    // static method\n",
    "    static public ZoneId getZoneId (String zoneString) {\n",
    "        try {\n",
    "            return ZoneId.of(zoneString);\n",
    "        } catch (DateTimeException e) {\n",
    "            System.err.println(\"Invalid time zone: \" + zoneString +\n",
    "                \"; using default time zone instead.\");\n",
    "            return ZoneId.systemDefault();\n",
    "        }\n",
    "    }\n",
    "\n",
    "    default public ZonedDateTime getZonedDateTime(String zoneString) {\n",
    "        return ZonedDateTime.of(getLocalDateTime(), getZoneId(zoneString));\n",
    "    }    \n",
    "}"
   ]
  },
  {
   "cell_type": "code",
   "execution_count": 15,
   "id": "ea22a2dc",
   "metadata": {},
   "outputs": [
    {
     "name": "stdout",
     "output_type": "stream",
     "text": [
      "I am in the static method.\n",
      "I am in Stat3.\n"
     ]
    }
   ],
   "source": [
    "interface Stat {\n",
    "    static void staticMethod() {\n",
    "        System.out.println(\"I am in the static method.\");\n",
    "    }  \n",
    "}\n",
    "\n",
    "interface Stat2 extends Stat {}\n",
    "\n",
    "interface Stat3 extends Stat {\n",
    "    static void staticMethod() {\n",
    "        System.out.println(\"I am in Stat3.\");\n",
    "    }\n",
    "}\n",
    "\n",
    "class HelloWorld implements Stat, Stat2, Stat3 {\n",
    "    public static void main(String[] args) {\n",
    "        // call it here\n",
    "        Stat.staticMethod();\n",
    "        \n",
    "        // does not inherit the static method\n",
    "        // and will therefore not compile\n",
    "        //Stat2.staticMethod();\n",
    "        \n",
    "        // replaces the implementation of staticMethod with its own\n",
    "        Stat3.staticMethod();\n",
    "    }\n",
    "    \n",
    "    \n",
    "}\n",
    "\n",
    "String[] args = {\"\"};\n",
    "HelloWorld.main(args);"
   ]
  }
 ],
 "metadata": {
  "kernelspec": {
   "display_name": "Java",
   "language": "java",
   "name": "java"
  },
  "language_info": {
   "codemirror_mode": "java",
   "file_extension": ".jshell",
   "mimetype": "text/x-java-source",
   "name": "Java",
   "pygments_lexer": "java",
   "version": "21+35-2513"
  }
 },
 "nbformat": 4,
 "nbformat_minor": 5
}
