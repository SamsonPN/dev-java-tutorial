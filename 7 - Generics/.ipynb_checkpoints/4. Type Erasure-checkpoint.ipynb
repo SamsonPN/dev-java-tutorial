{
 "cells": [
  {
   "cell_type": "markdown",
   "id": "7c351c22",
   "metadata": {},
   "source": [
    "## Erasure of Generic Types"
   ]
  },
  {
   "cell_type": "markdown",
   "id": "18fafd25",
   "metadata": {},
   "source": [
    "* generics were introduced to the Java language to provide tighter type checks at compile time and to support generic programming\n",
    "* to implement generics, the Java compiler applies _type erasure_ to:\n",
    "    - replace all type parameters in generic types with their bounds or Object if the type parameters are unbounded\n",
    "        * the bytecode produced from this will contain only ordinary classes, interfaces, and methods\n",
    "    - insert type casts if necessary to preserve type safety\n",
    "    - generate bridge methods to preserve polymorphism in extended generic types\n",
    "* type erausure ensures:\n",
    "    - no new classes are created for parameterized types\n",
    "    - generics incur no runtime overhead\n",
    "* consider the following examples:\n",
    "    - the generic class represents a node in a singly linked list\n",
    "    - its type parameter, T, is unbounded so the Java compiler will replace it with Object\n",
    "    - in the 2nd example, the generic Node class uses a bounded type parameter\n",
    "    - the compiler will replace the bounded type parameter with the first bound class, Comparable"
   ]
  },
  {
   "cell_type": "code",
   "execution_count": null,
   "id": "22e3ae6d",
   "metadata": {},
   "outputs": [],
   "source": [
    "// singly linked list node\n",
    "public class Node<T> {\n",
    "\n",
    "    private T data;\n",
    "    private Node<T> next;\n",
    "\n",
    "    public Node(T data, Node<T> next) {\n",
    "        this.data = data;\n",
    "        this.next = next;\n",
    "    }\n",
    "\n",
    "    public T getData() { return data; }\n",
    "    // ...\n",
    "}\n",
    "\n",
    "// due to type erasure and T being unbounded\n",
    "// T will be replaced with Object\n",
    "public class Node {\n",
    "\n",
    "    private Object data;\n",
    "    private Node next;\n",
    "\n",
    "    public Node(Object data, Node next) {\n",
    "        this.data = data;\n",
    "        this.next = next;\n",
    "    }\n",
    "\n",
    "    public Object getData() { return data; }\n",
    "    // ...\n",
    "}"
   ]
  },
  {
   "cell_type": "code",
   "execution_count": null,
   "id": "f7eea386",
   "metadata": {},
   "outputs": [],
   "source": [
    "// singly linked list node\n",
    "// uses a bounded type parameter, T extends Comparable<T>\n",
    "public class Node<T extends Comparable<T>> {\n",
    "\n",
    "    private T data;\n",
    "    private Node<T> next;\n",
    "\n",
    "    public Node(T data, Node<T> next) {\n",
    "        this.data = data;\n",
    "        this.next = next;\n",
    "    }\n",
    "\n",
    "    public T getData() { return data; }\n",
    "    // ...\n",
    "}\n",
    "\n",
    "// due to type erasure and T being bounded\n",
    "// T will be replaced with the first bound class, Comparable\n",
    "public class Node {\n",
    "\n",
    "    private Comparable data;\n",
    "    private Node next;\n",
    "\n",
    "    public Node(Comparable data, Node next) {\n",
    "        this.data = data;\n",
    "        this.next = next;\n",
    "    }\n",
    "\n",
    "    public Comparable getData() { return data; }\n",
    "    // ...\n",
    "}"
   ]
  },
  {
   "cell_type": "markdown",
   "id": "18aa0622",
   "metadata": {},
   "source": [
    "## Erasure of Generic Methods"
   ]
  },
  {
   "cell_type": "markdown",
   "id": "2b5bf26d",
   "metadata": {},
   "source": [
    "* the Java compiler also erases type parameters in generic method arguments\n",
    "* in the following examples:\n",
    "    - the method count uses an unbounded type parameter, T\n",
    "    - due to type erasure, the compiler will replace T with Object since T is unbounded\n",
    "    - in the 2nd example, the method draw uses a bounded type parameter, T extends Shape\n",
    "    - due to type erausre, the compiler will replace T with the first bound class, Shape"
   ]
  },
  {
   "cell_type": "code",
   "execution_count": null,
   "id": "e5e9ad3a",
   "metadata": {},
   "outputs": [],
   "source": [
    "// Counts the number of occurrences of elem in anArray.\n",
    "public static <T> int count(T[] anArray, T elem) {\n",
    "    int cnt = 0;\n",
    "    for (T e : anArray)\n",
    "        if (e.equals(elem))\n",
    "            ++cnt;\n",
    "        return cnt;\n",
    "}\n",
    "\n",
    "// due to type erasure and T being unbounded\n",
    "// T will be replaced with Object\n",
    "public static int count(Object[] anArray, Object elem) {\n",
    "    int cnt = 0;\n",
    "    for (Object e : anArray)\n",
    "        if (e.equals(elem))\n",
    "            ++cnt;\n",
    "        return cnt;\n",
    "}"
   ]
  },
  {
   "cell_type": "code",
   "execution_count": 1,
   "id": "14b62032",
   "metadata": {},
   "outputs": [],
   "source": [
    "class Shape { /* ... */ }\n",
    "class Circle extends Shape { /* ... */ }\n",
    "class Rectangle extends Shape { /* ... */ }\n",
    "\n",
    "// draw method uses a bounded type parameter, T extends Shape\n",
    "public static <T extends Shape> void draw(T shape) { /* ... */ }\n",
    "\n",
    "// due to type erasure and T being a bounded type parameter\n",
    "// T will be replaced with the first bound class, Shape\n",
    "public static void draw(Shape shape) { /* ... */ }"
   ]
  },
  {
   "cell_type": "markdown",
   "id": "11b5189e",
   "metadata": {},
   "source": [
    "## Effects of Type Erasure and Bridge Methods"
   ]
  },
  {
   "cell_type": "markdown",
   "id": "0b03c5d0",
   "metadata": {},
   "source": [
    "* the following example shows how a compiler sometimes creates a synthetic method, which is called a bridge method, as part of the type erasure process\n",
    "* in the example below:\n",
    "    - the Java compiler, after type erasure, changes the method signature for setData in Node to be setData(Object data)\n",
    "    - this causes the method signature's of setData in Node and MyNode to not match and therefore not be overrided in MyNode\n",
    "    - the Java compiler will create a bridge method that accepts Object, setData(Object data), and typecasts Object to Integer before sending it to setData(Integer data)\n",
    "    - since we pass in \"Hello\" to setData, we cannot typecast a String to an Integer, which causes the compiler to throw a ClassCastException"
   ]
  },
  {
   "cell_type": "code",
   "execution_count": 2,
   "id": "7ecad277",
   "metadata": {},
   "outputs": [
    {
     "ename": "EvalException",
     "evalue": "class java.lang.String cannot be cast to class java.lang.Integer (java.lang.String and java.lang.Integer are in module java.base of loader 'bootstrap')",
     "output_type": "error",
     "traceback": [
      "\u001b[1m\u001b[31m---------------------------------------------------------------------------\u001b[0m",
      "\u001b[1m\u001b[31mjava.lang.ClassCastException: class java.lang.String cannot be cast to class java.lang.Integer (java.lang.String and java.lang.Integer are in module java.base of loader 'bootstrap')\u001b[0m",
      "\u001b[1m\u001b[31m\tat MyNode.setData(#18:1)\u001b[0m",
      "\u001b[1m\u001b[31m\tat .(#21:2)\u001b[0m"
     ]
    }
   ],
   "source": [
    "public class Node<T> {\n",
    "\n",
    "    public T data;\n",
    "\n",
    "    public Node(T data) { this.data = data; }\n",
    "\n",
    "    public void setData(T data) {\n",
    "        System.out.println(\"Node.setData\");\n",
    "        this.data = data;\n",
    "    }\n",
    "}\n",
    "\n",
    "public class MyNode extends Node<Integer> {\n",
    "    public MyNode(Integer data) { super(data); }\n",
    "\n",
    "    public void setData(Integer data) {\n",
    "        System.out.println(\"MyNode.setData\");\n",
    "        super.setData(data);\n",
    "    }\n",
    "}\n",
    "\n",
    "MyNode mn = new MyNode(5);\n",
    "Node n = mn;            // A raw type - compiler throws an unchecked warning\n",
    "n.setData(\"Hello\");     // Causes a ClassCastException to be thrown.\n",
    "Integer x = mn.data;    \n",
    "\n",
    "// after type erasure\n",
    "MyNode mn = new MyNode(5);\n",
    "Node n = (MyNode)mn;         // A raw type - compiler throws an unchecked warning\n",
    "n.setData(\"Hello\");          // Causes a ClassCastException to be thrown.\n",
    "Integer x = (String)mn.data; "
   ]
  },
  {
   "cell_type": "markdown",
   "id": "4567063b",
   "metadata": {},
   "source": [
    "## Bridge Methods"
   ]
  },
  {
   "cell_type": "markdown",
   "id": "fa97684c",
   "metadata": {},
   "source": [
    "* bridge method: a synthetic method that the compiler may need to create as part of the type erasure process when compiling a class or interface that extends a parameterized class or implements a parameterized interface\n",
    "    - don't really need to worry about bridge methods but they do appear in a stack trace\n",
    "* in the example below:\n",
    "    - after type erasure, the method signatures of setData(Object data) in Node and setData(Integer data) do not match\n",
    "    - therefore, the original setData from Node is not overridden\n",
    "    - in order to solve this problem and preserve the polymorphism of generic types after type erausre, the Java compiler generates a bridge method to ensure that subtyping works as expected\n",
    "    - the bridge method MyNode.setData(object) delegates to the original MyNode.setData(Integer) method\n",
    "    - that's why a ClassCastException is thrown because \"Hello\" cannot be cast to Integer"
   ]
  },
  {
   "cell_type": "code",
   "execution_count": null,
   "id": "3152a538",
   "metadata": {},
   "outputs": [],
   "source": [
    "// after type erasure\n",
    "public class Node {\n",
    "\n",
    "    public Object data;\n",
    "\n",
    "    public Node(Object data) { this.data = data; }\n",
    "\n",
    "    public void setData(Object data) {\n",
    "        System.out.println(\"Node.setData\");\n",
    "        this.data = data;\n",
    "    }\n",
    "}\n",
    "\n",
    "public class MyNode extends Node {\n",
    "\n",
    "    public MyNode(Integer data) { super(data); }\n",
    "\n",
    "    // this method signature of setData in MyNode is different than the one in Node\n",
    "    // and therefore does not override it\n",
    "    // this is a problem\n",
    "    public void setData(Integer data) {\n",
    "        System.out.println(\"MyNode.setData\");\n",
    "        super.setData(data);\n",
    "    }\n",
    "}\n",
    "\n",
    "// the Java compiler creates a bridge method that solves this issue\n",
    "class MyNode extends Node {\n",
    "\n",
    "    // Bridge method generated by the compiler\n",
    "    public void setData(Object data) {\n",
    "        setData((Integer) data);\n",
    "    }\n",
    "\n",
    "    public void setData(Integer data) {\n",
    "        System.out.println(\"MyNode.setData\");\n",
    "        super.setData(data);\n",
    "    }\n",
    "\n",
    "    // ...\n",
    "}"
   ]
  },
  {
   "cell_type": "markdown",
   "id": "c5f800c8",
   "metadata": {},
   "source": [
    "## Non-Reifiable Types"
   ]
  },
  {
   "cell_type": "markdown",
   "id": "f91bdf09",
   "metadata": {},
   "source": [
    "* reifiable type: a type whose type information is fully available at runtime\n",
    "    - primitives\n",
    "    - non-generic types\n",
    "    - raw types\n",
    "    - invocations of unbound wildcards\n",
    "* non-reifiable type: a type whose information has been removed at compile-time by type erasure\n",
    "    - invocations of generic types that are not defined as unbounded wildcards\n",
    "    - its a type that does not have all of its information available at runtime\n",
    "    - e.g. List\\<String\\> and List\\<Number\\>\n",
    "        * the JVM cannot tell the difference between these types at runtime\n",
    "    - there are certain situations where non-reifiable types cannot be used\n",
    "        * e.g. in an instanceof expression or as an element in an array"
   ]
  },
  {
   "cell_type": "markdown",
   "id": "fd759dbc",
   "metadata": {},
   "source": [
    "## Heap Pollution"
   ]
  },
  {
   "cell_type": "markdown",
   "id": "f667b929",
   "metadata": {},
   "source": [
    "* heap pollution occurs when a variable of a parameterized type refers to an object that is not of that parameterized type\n",
    "    - this occurs if the program performed some operation that gives rise to an unchecked warning at compile-time\n",
    "* an unchecked warning is generated if, either at compile-time (within the limits of the compile-time type checking rules) or at runtime, the correctness of an operation involving a parameterized type (e.g. a cast or method call) cannot be verified\n",
    "    - e.g. heap pollution occurs when mixing raw types and parameterized types\n",
    "    - or when performing unchecked casts\n",
    "* normally, when all code is compiled at the same time, the compiler issues an unchecked warning to draw attention to a potential heap pollution\n",
    "    - if you compile sections of your code separately, it would be difficult to detect a potential risk of heap pollution\n",
    "    - if you ensure that your code compiles without warnings, then no heap pollution occurs"
   ]
  },
  {
   "cell_type": "markdown",
   "id": "fd3bae3e",
   "metadata": {},
   "source": [
    "## Potential Vulnerabilities of Varargs Methods with Non-Reifiable Formal Parameters"
   ]
  },
  {
   "cell_type": "markdown",
   "id": "cc7034c4",
   "metadata": {},
   "source": [
    "* generic methods that include vararg input parameters can cause heap pollution\n",
    "* consider the following ArrayBuilder class:\n",
    "    - the HeapPollutionExample uses the ArrayBuilder class\n",
    "    - when compiled, a warning is produced by the definition of the ArrayBuilder.addToList() method:\n",
    "        * warning: [varargs] Possible heap pollution from parameterized vararg type T\n",
    "        * when the compiler encounters a varargs method, it translates the varargs formal parameter into an array\n",
    "        * however, Java does not allow the creation of arrays of parameterized types\n",
    "        * in the ArrayBuilder.addToList(), the compiler translates the varargs formal parameter T... elements to the formal parameter T[] elements, an array\n",
    "        * and due to type erasure, the compiler converts the varargs formal parameter to Object[] elements which could cause a heap pollution\n",
    "            - thus, if you passed in \"some string\", 1.0, and 5 into this method, it would be valid b/c they're Objects which would cause problems\n",
    "* for this statement: Object[] objectArray = l:\n",
    "    - it assigns the varargs formal parameter l to the Object array objectArgs\n",
    "    - this can introduce a heap pollution\n",
    "    - a value that does match the parameterized type of the varargs formal parameter l can be assigned to the variable objectArray and thus can be assigned to l\n",
    "        * however, the compiler does not generate an unchecked warning at this statement\n",
    "        * the compiler has already generated a warning when it translated the varargs formal paramter, List\\<String\\>... l, to the formal parameter List[] l\n",
    "        * this statement is valid; the variable l has the type List[] which is a subtype of Object[]\n",
    "* for this statement: objectArray[0] = Arrays.asList(42);\n",
    "    - the compiler does not issue a warning or error if you assign a List object of any type to any array component of the objectArray\n",
    "    - this assigns the first array component of the objectArray with a List object that contains one object of type Integer\n",
    "    - due type erasure, it is still valid b/c objectArray is of type Object[] and the compiler does not realize that it's supposed to be an array of List\\<String\\>\n",
    "* suppose you invoke the ArrayBuilder.faultyMethod() with the following statement:\n",
    "    - ArrayBuilder.faultyMethod(Arrays.asList(\"Hello!\"), Arrays.asList(\"World!\"));\n",
    "    - at runtime, the JVM throws a ClassCastException at the following statement:\n",
    "        * // ClassCastException thrown here\n",
    "        * String s = l[0].get(0);\n",
    "    - the object stored in the first array component of the variable l has the type List<Integer> in the example but the statement is expecting an object of type List<String>"
   ]
  },
  {
   "cell_type": "code",
   "execution_count": null,
   "id": "1406f5ea",
   "metadata": {},
   "outputs": [],
   "source": [
    "public class ArrayBuilder {\n",
    "\n",
    "  // when the compiler encounters a varargs method , it converts it into an array\n",
    "  // thus the varargs, T... elements, gets converted to T[]\n",
    "  // Java does not allow the creation of arrays of parameterized types\n",
    "  // and due to type erasure, T[] gets converted to Object[]\n",
    "  // this would cause a heap pollution\n",
    "  public static <T> void addToList (List<T> listArg, T... elements) {\n",
    "    for (T x : elements) {\n",
    "      listArg.add(x);\n",
    "    }\n",
    "  }\n",
    "\n",
    "  // the compiler will convert the varargs formal parameter List<String>... l to List[] l\n",
    "  // the compiler would generate an unchecked warning for this \n",
    "  public static void faultyMethod(List<String>... l) {\n",
    "    // since the compiler converted List<String>... l to List[] l\n",
    "    // you are allowed to assign l to Object[] b/c List[] is a subtype of Object[]\n",
    "    Object[] objectArray = l;     // Valid\n",
    "    \n",
    "    // this is also valid b/c List<Integer> is an Object\n",
    "    objectArray[0] = Arrays.asList(42);\n",
    "\n",
    "    // ClassCastException thrown here\n",
    "    // we have reassigned the first index of objectArray to be a List<Integer> object\n",
    "    // but this statement is expecting a List<String> object\n",
    "    String s = l[0].get(0);       \n",
    "  }\n",
    "\n",
    "}"
   ]
  },
  {
   "cell_type": "code",
   "execution_count": null,
   "id": "b471c792",
   "metadata": {},
   "outputs": [],
   "source": [
    "public class HeapPollutionExample {\n",
    "\n",
    "  public static void main(String[] args) {\n",
    "\n",
    "    List<String> stringListA = new ArrayList<String>();\n",
    "    List<String> stringListB = new ArrayList<String>();\n",
    "\n",
    "    ArrayBuilder.addToList(stringListA, \"Seven\", \"Eight\", \"Nine\");\n",
    "    ArrayBuilder.addToList(stringListB, \"Ten\", \"Eleven\", \"Twelve\");\n",
    "    List<List<String>> listOfStringLists =\n",
    "      new ArrayList<List<String>>();\n",
    "    ArrayBuilder.addToList(listOfStringLists,\n",
    "      stringListA, stringListB);\n",
    "    \n",
    "    // a ClassCastException would be thrown\n",
    "    // the first list with \"Hello\" would be replaced with a List<Integer> with a value of 42\n",
    "    // then when the faultyMethod tries to get a String from the list, it would fail b/c it was expecting\n",
    "    // a List<String> but got a List<Integer> instead\n",
    "    ArrayBuilder.faultyMethod(Arrays.asList(\"Hello!\"), Arrays.asList(\"World!\"));\n",
    "  }\n",
    "}\n"
   ]
  },
  {
   "cell_type": "markdown",
   "id": "66948564",
   "metadata": {},
   "source": [
    "## Prevent Warnings from Varargs Methods with Non-Reifiable Formal Parameters"
   ]
  },
  {
   "cell_type": "markdown",
   "id": "9ac9b260",
   "metadata": {},
   "source": [
    "* add the annotation below to static and non-constructor method declarations to prevent warnings associated  with varargs methods that: \n",
    "    - that have parameters of a parameterized type\n",
    "    - and you ensure that there are no thrown exceptiions like ClassCastException due to improper handling of varargs\n",
    "* @SafeVarargs annotation is a documented part of the method's contract\n",
    "    - it asserts that the implementation of the method will not improperly handle the varargs formal parameter"
   ]
  },
  {
   "cell_type": "code",
   "execution_count": null,
   "id": "7b87650c",
   "metadata": {},
   "outputs": [],
   "source": [
    "@SafeVarargs"
   ]
  },
  {
   "cell_type": "markdown",
   "id": "00aa89ca",
   "metadata": {},
   "source": [
    "* you can also suppress warnings by adding the following to the method declaration as well\n",
    "    - less desirable to do this\n",
    "    - and also does not suppress warnings generated from the method's call site"
   ]
  },
  {
   "cell_type": "code",
   "execution_count": null,
   "id": "2f495984",
   "metadata": {},
   "outputs": [],
   "source": [
    "@SuppressWarnings({\"unchecked\", \"varargs\"})"
   ]
  }
 ],
 "metadata": {
  "kernelspec": {
   "display_name": "Java",
   "language": "java",
   "name": "java"
  },
  "language_info": {
   "codemirror_mode": "java",
   "file_extension": ".jshell",
   "mimetype": "text/x-java-source",
   "name": "Java",
   "pygments_lexer": "java",
   "version": "21+35-2513"
  }
 },
 "nbformat": 4,
 "nbformat_minor": 5
}
