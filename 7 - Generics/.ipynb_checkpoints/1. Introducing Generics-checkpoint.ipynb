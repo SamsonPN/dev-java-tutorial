{
 "cells": [
  {
   "cell_type": "markdown",
   "id": "55a30dc4",
   "metadata": {},
   "source": [
    "## Why Use Generics?"
   ]
  },
  {
   "cell_type": "markdown",
   "id": "22e074ab",
   "metadata": {},
   "source": [
    "* generics enable types (classes and interfaces) to be parameters when defining classes, interfaces, and methods\n",
    "    - type parameters provide a way for you to reuse the same code with different inputs\n",
    "    - the inputs to formal parameters are values while the inputs to type parameters are types\n",
    "* code that uses generics has many benefits over non-generic code:\n",
    "    - stronger type checks at compile time\n",
    "        * Java compiler applies strong type checking to generic code and issues errors if there are any type safety violations\n",
    "    - elimination of type casting\n",
    "    - enable programmers to implement generic algorithms\n",
    "        * can implement generic algorithms that work on collections of different types, can be customized, and are type safe and easier to read"
   ]
  },
  {
   "cell_type": "code",
   "execution_count": null,
   "id": "baf32a5d",
   "metadata": {},
   "outputs": [],
   "source": [
    "// without generics, ArrayList is a collection of Objects!\n",
    "// therefore, if you were to assign list.get(0) to a variable with type String, it would throw an error\n",
    "// reason being, Object cannot be converted to type String\n",
    "List list = new ArrayList();\n",
    "list.add(\"hello\");\n",
    "String s = (String) list.get(0);\n",
    "\n",
    "// with generics\n",
    "List<String> list = new ArrayList<String>();\n",
    "list.add(\"hello\");\n",
    "String s = list.get(0); // no cast"
   ]
  },
  {
   "cell_type": "markdown",
   "id": "8d8978a5",
   "metadata": {},
   "source": [
    "## Generic Types"
   ]
  },
  {
   "cell_type": "markdown",
   "id": "36516c27",
   "metadata": {},
   "source": [
    "### A Simple Box Class\n",
    "\n",
    "* a _generic_ type is a generic class or interface that is parameterized over types\n",
    "* in the example below:\n",
    "    - the methods of the Box class accept or return an Object and you can pass in whatever you want except for primitive types\n",
    "    - no way to verify, at compile time, how the class is used\n",
    "    - if a class passes in an Integer into the box then it would expect an Integer out of it\n",
    "    - but if another part of the code uses the class and passes in a String, then we have a runtime error"
   ]
  },
  {
   "cell_type": "code",
   "execution_count": null,
   "id": "0638b338",
   "metadata": {},
   "outputs": [],
   "source": [
    "public class Box {\n",
    "    private Object object;\n",
    "\n",
    "    public void set(Object object) { this.object = object; }\n",
    "    public Object get() { return object; }\n",
    "}"
   ]
  },
  {
   "cell_type": "markdown",
   "id": "1ea1e257",
   "metadata": {},
   "source": [
    "### A Generic Version of the Box Class\n",
    "\n",
    "* the type parameters section is delimited using angle brackets (<>) that follow the class name\n",
    "* it specifies the type parameters (also called type variables)\n",
    "* we update the Box class above to use generics\n",
    "    - all occurrences of Object are replaced by T\n",
    "    - a type variable can be any non-primitive type you specify:\n",
    "        * class\n",
    "        * interface\n",
    "        * array\n",
    "    - this can also be applied to generic interfaces"
   ]
  },
  {
   "cell_type": "code",
   "execution_count": null,
   "id": "7b5fed65",
   "metadata": {},
   "outputs": [],
   "source": [
    "// generic class\n",
    "class name<T1, T2, ..., Tn> { /* ... */ }"
   ]
  },
  {
   "cell_type": "code",
   "execution_count": null,
   "id": "8b53998a",
   "metadata": {},
   "outputs": [],
   "source": [
    "/**\n",
    " * Generic version of the Box class.\n",
    " * @param <T> the type of the value being boxed\n",
    " */\n",
    "public class Box<T> {\n",
    "    // T stands for \"Type\"\n",
    "    private T t;\n",
    "\n",
    "    public void set(T t) { this.t = t; }\n",
    "    public T get() { return t; }\n",
    "}\n"
   ]
  },
  {
   "cell_type": "markdown",
   "id": "49c009e3",
   "metadata": {},
   "source": [
    "### Type Parameter Naming Conventions\n",
    "\n",
    "* type parameter names are single, uppercase letters\n",
    "    - this is done b/c it would be difficult to tell the difference between a type variable and an ordinary class or interface name without it\n",
    "* the most commonly used type parameter names are:\n",
    "    - E - Element\n",
    "        * used by the Java Collections Framework\n",
    "    - K - Key\n",
    "    - N - Number\n",
    "    - T - Type\n",
    "    - V - Value\n",
    "    - S, U, V, etc - 2nd, 3rd, 4th types"
   ]
  },
  {
   "cell_type": "markdown",
   "id": "1973ccb2",
   "metadata": {},
   "source": [
    "### Invoking and Instantiating a Generic Type\n",
    "\n",
    "* to reference the generic Box class, you must perform a generic type invocation, known as a parameterized type\n",
    "    - basically replace the T with some value like Integer\n",
    "    - you can think of it like passing an argument to a method but instead of the argument being a value, the argument is a type\n",
    "* note: when coding, one provides type arguments to create a parameterized type\n",
    "    - the T in Foo<T> is a type parameter\n",
    "    - the String in Foo<String> f is a type argument for a generic type invocation"
   ]
  },
  {
   "cell_type": "code",
   "execution_count": null,
   "id": "188f9563",
   "metadata": {},
   "outputs": [],
   "source": [
    "// generic type invocation\n",
    "Box<Integer> integerBox;\n",
    "\n",
    "// instantiate the class\n",
    "Box<Integer> integerBox = new Box<Integer>();"
   ]
  },
  {
   "cell_type": "markdown",
   "id": "ee40bbec",
   "metadata": {},
   "source": [
    "### The Diamond\n",
    "\n",
    "* the pair of angle brackets, <>, is informally called the diamond\n",
    "* you can replace the type arguments required to invoke the constructor of a generic class with an empty set of type arguments, aka the diamond, as long as the compiler can determine or infer the type arguments from the context"
   ]
  },
  {
   "cell_type": "code",
   "execution_count": null,
   "id": "f1af3eaa",
   "metadata": {},
   "outputs": [],
   "source": [
    "// don't have to invoke the constructor of Box class using new Box<Integer>\n",
    "// reason being, the compiler is able to infer from the declaration that integerBox\n",
    "// is an instance of Box that accepts Integer objects\n",
    "// therefore, we can just use the diamond\n",
    "Box<Integer> integerBox = new Box<>();"
   ]
  },
  {
   "cell_type": "markdown",
   "id": "a4bdab39",
   "metadata": {},
   "source": [
    "### Multiple Type Parameters\n",
    "\n",
    "* a generic class can have multiple type parameters\n",
    "* in the example below:\n",
    "    - the generic OrderedPair class implements the Pair interface\n",
    "    - p1 instantiates OrderedPair with K as String and V as Integer\n",
    "        * therefore, OrderedPair's constructor's parameter types are String and Integer\n",
    "        * also, due to autoboxing, it isvalid to pass a String and an int (primitive type) to the class"
   ]
  },
  {
   "cell_type": "code",
   "execution_count": 6,
   "id": "2a391896",
   "metadata": {},
   "outputs": [],
   "source": [
    "public interface Pair<K, V> {\n",
    "    public K getKey();\n",
    "    public V getValue();\n",
    "}\n",
    "\n",
    "public class OrderedPair<K, V> implements Pair<K, V> {\n",
    "    private K key;\n",
    "    private V value;\n",
    "    \n",
    "    public OrderedPair(K key, V value) {\n",
    "        this.key = key;\n",
    "        this.value = value;\n",
    "    }\n",
    "    \n",
    "    public K getKey() {\n",
    "        return key;\n",
    "    }\n",
    "    \n",
    "    public V getValue() {\n",
    "        return value;\n",
    "    }\n",
    "}\n",
    "\n",
    "// we create 2 instantiations of the OrderedPair class\n",
    "Pair<String, Integer> p1 = new OrderedPair<String, Integer>(\"Even\", 8);\n",
    "Pair<String, String> p2 = new OrderedPair<String, String>(\"hello\", \"world\");\n",
    "\n",
    "// could also do the same with the diamond notation\n",
    "OrderedPair<String, Integer> p1 = new OrderedPair<>(\"Even\", 8);\n",
    "OrderedPair<String, String> p2 = new OrderedPair<>(\"hello\", \"world\");"
   ]
  },
  {
   "cell_type": "markdown",
   "id": "41c0d969",
   "metadata": {},
   "source": [
    "### Parameterized Types\n",
    "\n",
    "* can also substitute a type parameter (that is, K or V) with a parameterized type (List\\<String\\>)"
   ]
  },
  {
   "cell_type": "code",
   "execution_count": null,
   "id": "9fa7d214",
   "metadata": {},
   "outputs": [],
   "source": [
    "// Box<Integer> is the parameterized type\n",
    "// we pass in a create and pass in a reference to the Box object to the OrderedPair's constructor\n",
    "OrderedPair<String, Box<Integer>> p = new OrderedPair<>(\"primes\", new Box<Integer>());"
   ]
  },
  {
   "cell_type": "markdown",
   "id": "329e5a50",
   "metadata": {},
   "source": [
    "## Raw Types"
   ]
  },
  {
   "cell_type": "markdown",
   "id": "3c2be426",
   "metadata": {},
   "source": [
    "* __raw type__: name of a generic class or interface without any type arguments\n",
    "    - i.e. the class/interface is generic but you don't pass any type arguments into it\n",
    "* __a non-generic class or interface type is not a raw type!!!__"
   ]
  },
  {
   "cell_type": "code",
   "execution_count": null,
   "id": "99fa754e",
   "metadata": {},
   "outputs": [],
   "source": [
    "public class Box<T> {\n",
    "    public void set(T t) { /* ... */ }\n",
    "    // ...\n",
    "}\n",
    "\n",
    "// creating a parameterized type\n",
    "// we pass in Integer as the type argument\n",
    "Box<Integer> intBox = new Box<>();\n",
    "\n",
    "// creating a raw type of Box<T>\n",
    "// we don't pass any types into Box\n",
    "Box rawBox = new Box();"
   ]
  },
  {
   "cell_type": "markdown",
   "id": "c7553946",
   "metadata": {},
   "source": [
    "* raw types show up in legacy code to simulate pre-generic behavior\n",
    "    - i.e. a Box gives you Objects\n",
    "* for backwards compatibility, you can assign a parameterized type to its raw type\n",
    "* you also get a warning if you use a raw type to invoke generic methods defined in the corresponding generic type\n",
    "    - raw types bypass generic type checks, deferring the catch of unsafe code to runtime\n",
    "    - __you should avoid using raw types__"
   ]
  },
  {
   "cell_type": "code",
   "execution_count": null,
   "id": "60e6a771",
   "metadata": {},
   "outputs": [],
   "source": [
    "// allowed\n",
    "Box<String> stringBox = new Box<>();\n",
    "Box rawBox = stringBox;"
   ]
  },
  {
   "cell_type": "code",
   "execution_count": null,
   "id": "2291bf71",
   "metadata": {},
   "outputs": [],
   "source": [
    "// not allowed\n",
    "// can't assign a raw type to a parameterized type\n",
    "\n",
    "// rawBox = raw type of Box<T>\n",
    "Box rawBox = new Box();\n",
    "\n",
    "// warning: unchecked conversion\n",
    "Box<Integer> intBox = rawBox;"
   ]
  },
  {
   "cell_type": "code",
   "execution_count": null,
   "id": "37cecb93",
   "metadata": {},
   "outputs": [],
   "source": [
    "// not allowed\n",
    "// can't invoke a generic method using a raw type\n",
    "\n",
    "Box<String> stringBox = new Box<>();\n",
    "Box rawBox = stringBox;\n",
    "\n",
    "// warning: unchecked invocation to set(T)\n",
    "rawBox.set(8);"
   ]
  },
  {
   "cell_type": "markdown",
   "id": "c4a0a9dc",
   "metadata": {},
   "source": [
    "### Unchecked Error Messages\n",
    "\n",
    "* when mixing legacy code with generic code, you may encounter warning messages similar to the following:"
   ]
  },
  {
   "cell_type": "code",
   "execution_count": null,
   "id": "77fbe9fa",
   "metadata": {},
   "outputs": [],
   "source": [
    "Note: Example.java uses unchecked or unsafe operations.\n",
    "Note: Recompile with -Xlint:unchecked for details."
   ]
  },
  {
   "cell_type": "markdown",
   "id": "a1033937",
   "metadata": {},
   "source": [
    "* this can happen when you use an older API that operates on raw types\n",
    "* the term \"unchecked\" means that the compiler does not have enough type information to perform all type checks necessary to ensure type safety\n",
    "    - the \"unchecked\" warning is disabled by default though the compiler gives a hint\n",
    "    - able to see all \"unchecked\" warnings by recompiling with -Xlint:unchecked\n",
    "    - to disable unchecked warnings, use the -Xlint:-unchecked flag"
   ]
  },
  {
   "cell_type": "code",
   "execution_count": null,
   "id": "2ac3976c",
   "metadata": {},
   "outputs": [],
   "source": [
    "public class WarningDemo {\n",
    "    public static void main(String[] args){\n",
    "        Box<Integer> bi;\n",
    "        \n",
    "        // trying to assign a raw type returned by createBox to a parameterized type\n",
    "        bi = createBox();\n",
    "    }\n",
    "\n",
    "    static Box createBox(){\n",
    "        return new Box();\n",
    "    }\n",
    "}"
   ]
  },
  {
   "cell_type": "code",
   "execution_count": null,
   "id": "17c311c4",
   "metadata": {},
   "outputs": [],
   "source": [
    "// recompiling with -Xlint:unchecked reveals the following\n",
    "\n",
    "WarningDemo.java:4: warning: [unchecked] unchecked conversion\n",
    "found   : Box\n",
    "required: Box<java.lang.Integer>\n",
    "        bi = createBox();\n",
    "                      ^\n",
    "1 warning\n"
   ]
  },
  {
   "cell_type": "markdown",
   "id": "b2160332",
   "metadata": {},
   "source": [
    "## Generic Methods"
   ]
  },
  {
   "cell_type": "markdown",
   "id": "3cd54a53",
   "metadata": {},
   "source": [
    "* __generic methods__: methods that introduce their own type parameters\n",
    "    - similar to declaring a generic type but the type parameter's scope is limited to the method where it is declared\n",
    "    - static/non-static generic methods are allowed as well as generic class constructors\n",
    "* the list of type parameters for a generic method appear before the method's return type\n",
    "    - for static generic methods, the type parameter section must appear before the method's return type"
   ]
  },
  {
   "cell_type": "code",
   "execution_count": 11,
   "id": "74aa0296",
   "metadata": {},
   "outputs": [
    {
     "name": "stdout",
     "output_type": "stream",
     "text": [
      "false\n",
      "false\n"
     ]
    }
   ],
   "source": [
    "public class Pair<K, V> {\n",
    "\n",
    "    private K key;\n",
    "    private V value;\n",
    "\n",
    "    public Pair(K key, V value) {\n",
    "        this.key = key;\n",
    "        this.value = value;\n",
    "    }\n",
    "\n",
    "    public void setKey(K key) { this.key = key; }\n",
    "    public void setValue(V value) { this.value = value; }\n",
    "    public K getKey()   { return key; }\n",
    "    public V getValue() { return value; }\n",
    "}\n",
    "\n",
    "public class Util {\n",
    "    // the list of type parameters appears before the return type, boolean\n",
    "    public static <K, V> boolean compare(Pair<K, V> p1, Pair<K, V> p2) {\n",
    "        return p1.getKey().equals(p2.getKey()) &&\n",
    "               p1.getValue().equals(p2.getValue());\n",
    "    }\n",
    "}\n",
    "\n",
    "Pair<Integer, String> p1 = new Pair<>(1, \"apple\");\n",
    "Pair<Integer, String> p2 = new Pair<>(2, \"pear\");\n",
    "\n",
    "// the type has been explicitly provided but can be left out\n",
    "boolean same = Util.<Integer, String>compare(p1, p2);\n",
    "System.out.println(same);\n",
    "\n",
    "// the compiler will infer that type that is needed\n",
    "// so you can invoke the generic method as an ordinary method\n",
    "boolean same = Util.compare(p1, p2);\n",
    "System.out.println(same);"
   ]
  },
  {
   "cell_type": "markdown",
   "id": "d429cf6e",
   "metadata": {},
   "source": [
    "## Bounded Type Parameters"
   ]
  },
  {
   "cell_type": "markdown",
   "id": "32dc53d2",
   "metadata": {},
   "source": [
    "* used to restrict the types that can be used as type arguments in a parameterized type\n",
    "    - e.g. a method that operates on numbers should restrict its type to instances of Number or its subclasses\n",
    "* bounded types can also allow you to invoke methods defined in the bounds\n",
    "    - so if your type extends an Integer, you can use any of Integer's methods\n",
    "    - e.g. you can use the method, intValue(), defined in the Integer class\n",
    "* to declare a bounded type parameter, list the type parameter's name followed by the extends keyword followed by the types you want to restrict to"
   ]
  },
  {
   "cell_type": "code",
   "execution_count": 39,
   "id": "02e31afa",
   "metadata": {},
   "outputs": [
    {
     "ename": "UnresolvedReferenceException",
     "evalue": "Attempt to use definition snippet with unresolved references in Snippet:ClassKey(Box)#25-public class Box<T> {\n\n    private T t;          \n\n    public void set(T t) {\n        this.t = t;\n    }\n\n    public T get() {\n        return t;\n    }\n    \n    // U can be of type Number and all of its subclasses like Integer, Double, etc\n    public <U extends Number> void inspect(U u){\n        System.out.println(\"T: \" + t.getClass().getName());\n        System.out.println(\"U: \" + u.getClass().getName());\n    }\n\n    public static void main(String[] args) {\n        Box<Integer> integerBox = new Box<Integer>();\n        integerBox.set(new Integer(10));\n        \n        integerBox.inspect(integerBox.get());\n        \n        // error: this is still String!\n        // must pass in a Number or its subclasses for this to work!\n        integerBox.inspect(\"some text\"); \n    }\n    \n    public static void example() {\n        System.out.println(\"Calling static method!\");\n    }\n}",
     "output_type": "error",
     "traceback": []
    }
   ],
   "source": [
    "public class Box<T> {\n",
    "\n",
    "    private T t;          \n",
    "\n",
    "    public void set(T t) {\n",
    "        this.t = t;\n",
    "    }\n",
    "\n",
    "    public T get() {\n",
    "        return t;\n",
    "    }\n",
    "    \n",
    "    // U can be of type Number and all of its subclasses like Integer, Double, etc\n",
    "    public <U extends Number> void inspect(U u){\n",
    "        System.out.println(\"T: \" + t.getClass().getName());\n",
    "        System.out.println(\"U: \" + u.getClass().getName());\n",
    "    }\n",
    "\n",
    "    public static void main(String[] args) {\n",
    "        Box<Integer> integerBox = new Box<Integer>();\n",
    "        integerBox.set(new Integer(10));\n",
    "        \n",
    "        integerBox.inspect(integerBox.get());\n",
    "        \n",
    "        // error: this is still String!\n",
    "        // must pass in a Number or its subclasses for this to work!\n",
    "        integerBox.inspect(\"some text\"); \n",
    "    }\n",
    "}"
   ]
  },
  {
   "cell_type": "code",
   "execution_count": null,
   "id": "6739a11f",
   "metadata": {},
   "outputs": [],
   "source": [
    "// since our generic method, inspect, includes a bounded type parameter\n",
    "// compilation will fail b/c inspect expects a Number or its subclasses, not a String\n",
    "Box.java:21: <U>inspect(U) in Box<java.lang.Integer> cannot\n",
    "  be applied to (java.lang.String)\n",
    "                        integerBox.inspect(\"10\");\n",
    "                                  ^\n",
    "1 error\n"
   ]
  },
  {
   "cell_type": "code",
   "execution_count": null,
   "id": "ccd4992d",
   "metadata": {},
   "outputs": [],
   "source": [
    "public class NaturalNumber<T extends Integer> {\n",
    "\n",
    "    private T n;\n",
    "\n",
    "    public NaturalNumber(T n)  { this.n = n; }\n",
    "\n",
    "    public boolean isEven() {\n",
    "        \n",
    "        // able to use the intValue() method\n",
    "        // defined by the Integer class\n",
    "        // since T extends Integer\n",
    "        \n",
    "        return n.intValue() % 2 == 0;\n",
    "    }\n",
    "\n",
    "    // ...\n",
    "}"
   ]
  },
  {
   "cell_type": "markdown",
   "id": "898f0150",
   "metadata": {},
   "source": [
    "### Multiple Bounds\n",
    "\n",
    "* a type parameter can have multiple bounds like so"
   ]
  },
  {
   "cell_type": "code",
   "execution_count": null,
   "id": "3219f9e4",
   "metadata": {},
   "outputs": [],
   "source": [
    "<T extends B1 & B2 & B3>"
   ]
  },
  {
   "cell_type": "markdown",
   "id": "0258f7cf",
   "metadata": {},
   "source": [
    "* a type variable with multiple bounds is a subtype of all the types listed in the bound\n",
    "* if one of the bounds is a class, it must be specified first"
   ]
  },
  {
   "cell_type": "code",
   "execution_count": null,
   "id": "35cbc009",
   "metadata": {},
   "outputs": [],
   "source": [
    "Class A { /* ... */ }\n",
    "interface B { /* ... */ }\n",
    "interface C { /* ... */ }\n",
    "\n",
    "class D <T extends A & B & C> { /* ... */ }"
   ]
  },
  {
   "cell_type": "code",
   "execution_count": null,
   "id": "4fff83fc",
   "metadata": {},
   "outputs": [],
   "source": [
    "// compile-time error\n",
    "// A is a class and must be specified first\n",
    "\n",
    "class D <T extends B & A & C> { /* ... */ }"
   ]
  },
  {
   "cell_type": "markdown",
   "id": "61106491",
   "metadata": {},
   "source": [
    "## Generic Methods and Bounded Type Parameters"
   ]
  },
  {
   "cell_type": "markdown",
   "id": "56c6d5f3",
   "metadata": {},
   "source": [
    "* in the example below:\n",
    "    - the method counts the number of elements in an array T[] that are greater than a specified element elem\n",
    "    - the method doesn't compile b/c the greater than operator (\\>) applies only to primitive types like short, int, double, etc\n",
    "        * you can't use it to compare objects\n",
    "        * since we're using the type parameter, T, below, the compiler assumes that Objects will be passed into it"
   ]
  },
  {
   "cell_type": "code",
   "execution_count": null,
   "id": "378a6a7d",
   "metadata": {},
   "outputs": [],
   "source": [
    "public static <T> int countGreaterThan(T[] anArray, T elem) {\n",
    "    int count = 0;\n",
    "    for (T e : anArray)\n",
    "        if (e > elem)  // compiler error\n",
    "            ++count;\n",
    "    return count;\n",
    "}"
   ]
  },
  {
   "cell_type": "markdown",
   "id": "028037d6",
   "metadata": {},
   "source": [
    "* to fix it, you use a type parameter bounded by the Comparable<T> interface"
   ]
  },
  {
   "cell_type": "code",
   "execution_count": null,
   "id": "d4a29970",
   "metadata": {},
   "outputs": [],
   "source": [
    "public interface Comparable<T> {\n",
    "    public int compareTo(T o);\n",
    "}\n",
    "\n",
    "public static <T extends Comparable<T>> int countGreaterThan(T[] anArray, T elem) {\n",
    "    int count = 0;\n",
    "    for (T e : anArray)\n",
    "        if (e.compareTo(elem) > 0)\n",
    "            ++count;\n",
    "    return count;\n",
    "}"
   ]
  },
  {
   "cell_type": "markdown",
   "id": "66b87d56",
   "metadata": {},
   "source": [
    "## Generics, Inheritance, and Subtypes"
   ]
  },
  {
   "cell_type": "markdown",
   "id": "43963f8c",
   "metadata": {},
   "source": [
    "* recall that it is possible to assign an object of one type to an object of another type provided that the types are compatible\n",
    "    - e.g. you can assign an Integer to be an Object b/c Object is one of Integer's supertypes"
   ]
  },
  {
   "cell_type": "code",
   "execution_count": null,
   "id": "6a44a2af",
   "metadata": {},
   "outputs": [],
   "source": [
    "Object someObject = new Object();\n",
    "Integer someInteger = new Integer(10);\n",
    "\n",
    "// Object is a supertype of Integer\n",
    "// so able to assign someInteger to someObject\n",
    "someObject = someInteger;"
   ]
  },
  {
   "cell_type": "markdown",
   "id": "f321736e",
   "metadata": {},
   "source": [
    "* this is called an \"is a\" relationship\n",
    "    - an Integer _is a_ kind of Object and therefore, the assignment above is allowed\n",
    "* Integer is also a kind of Number so the following code below is allowed as well"
   ]
  },
  {
   "cell_type": "code",
   "execution_count": null,
   "id": "adaf1905",
   "metadata": {},
   "outputs": [],
   "source": [
    "public void someMethod(Number n) { /* ... */ }\n",
    "\n",
    "someMethod(new Integer(10)); // OK\n",
    "someMethod(new Double(10.1)); // OK"
   ]
  },
  {
   "cell_type": "markdown",
   "id": "b18b4039",
   "metadata": {},
   "source": [
    "* this is also true with generics\n",
    "* you can perform a generic type invocation, passing Number as its type argument, and any subsequent invocation of add will be allowed if the argument is compatible with Number"
   ]
  },
  {
   "cell_type": "code",
   "execution_count": null,
   "id": "c86d4a33",
   "metadata": {},
   "outputs": [],
   "source": [
    "Box<Number> box = new Box();\n",
    "box.add(new Integer(10));  // OK\n",
    "box.add(new Double(10.1)); // OK"
   ]
  },
  {
   "cell_type": "markdown",
   "id": "58930632",
   "metadata": {},
   "source": [
    "* consider the following method below:\n",
    "    - it accepts a single argument whose type is Box\\<Number\\>\n",
    "    - are you allowed to pass in Box<Integer> or Box\\<Double\\>?\n",
    "        * NO!\n",
    "        * reason being, Box\\<Integer\\> and Box\\<Double\\> are not subtypes of Box\\<Number\\> even though Integer and Double are subtypes of Number!\n",
    "* note: given 2 concrete types, A and B (e.g. Number and Integer), MyClass\\<A\\> has no relationship to MyClass\\<B\\> regardless of whether or not A and B are related\n",
    "    - the common parent  of MyClass\\<A\\> and MyClass\\<B\\> is Object"
   ]
  },
  {
   "cell_type": "markdown",
   "id": "a2b8a3e4",
   "metadata": {},
   "source": [
    "![Generics Inheritance](https://dev.java/assets/images/generics/01_generics-inheritance.png)"
   ]
  },
  {
   "cell_type": "code",
   "execution_count": null,
   "id": "acffeb85",
   "metadata": {},
   "outputs": [],
   "source": [
    "public void boxTest(Box<Number> n) { /* ... */ }"
   ]
  },
  {
   "cell_type": "markdown",
   "id": "3f28f883",
   "metadata": {},
   "source": [
    "### Generic Classes and Subtyping\n",
    "\n",
    "* you can subtype a generic class or interface by extending or implementing it\n",
    "    - the relationship between the type parameters of one class or interface and the type parameters of another are determined by the extends and implements clauses\n",
    "* e.g.:\n",
    "    - ArrayList<A> implements List<E>\n",
    "    - List<E> extends Collection<E>\n",
    "    - therefore, ArrayList<String> is a subtype of List<String> which is a subtype of Collection<String>\n",
    "    - as long as you do not vary the type argument, the subtyping relationship is preserved between the types\n",
    "* in the example below, the following parameterizations of PayloadList are subtypes of List<String>:\n",
    "    - PayloadList<String, String>\n",
    "    - PayloadList<String, Integer>\n",
    "    - PayloadList<String, Exception>\n",
    "![PayloadList Parameterizations](https://dev.java/assets/images/generics/03_more-inheritance.png)"
   ]
  },
  {
   "cell_type": "code",
   "execution_count": null,
   "id": "b44bd4b5",
   "metadata": {},
   "outputs": [],
   "source": [
    "interface PayloadList<E,P> extends List<E> {\n",
    "  void setPayload(int index, P val);\n",
    "  ...\n",
    "}"
   ]
  }
 ],
 "metadata": {
  "kernelspec": {
   "display_name": "Java",
   "language": "java",
   "name": "java"
  },
  "language_info": {
   "codemirror_mode": "java",
   "file_extension": ".jshell",
   "mimetype": "text/x-java-source",
   "name": "Java",
   "pygments_lexer": "java",
   "version": "21+35-2513"
  }
 },
 "nbformat": 4,
 "nbformat_minor": 5
}
