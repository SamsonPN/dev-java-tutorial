{
 "cells": [
  {
   "cell_type": "markdown",
   "id": "c40956cb",
   "metadata": {},
   "source": [
    "## Type Inference and Generic Methods"
   ]
  },
  {
   "cell_type": "markdown",
   "id": "46f72d50",
   "metadata": {},
   "source": [
    "* _type inference_: the Java compiler's ability to determine the argument's type for a method invocation based on its corresponding declaration\n",
    "    - the inference algorithm also determines the type that the result is being assigned or returned\n",
    "    - it tries to find the most specific type that works with all of the arguments\n",
    "    - __note: the inference algorithm uses only invocation arguments, target types, and maybe an expected return type to infer types. it does not use results from later in the program__\n",
    "* in the example below:\n",
    "    - inference determines that the second argument passed to the pick method is of type Serializable\n",
    "    - the first argument is of type String and implements the Serializable interface\n",
    "    - the second argument also implements the Serializable interface"
   ]
  },
  {
   "cell_type": "code",
   "execution_count": null,
   "id": "2fa6f8ec",
   "metadata": {},
   "outputs": [],
   "source": [
    "static <T> T pick(T a1, T a2) { return a2; }\n",
    "Serializable s = pick(\"d\", new ArrayList<String>());"
   ]
  },
  {
   "cell_type": "markdown",
   "id": "1b947cb0",
   "metadata": {},
   "source": [
    "* generic methods also have type inference and enable you to invoke a generic method just like any ordinary method without specifying a type between angle brackets\n",
    "* in the example below:\n",
    "    - addBox() defines 1 type parameter named U\n",
    "    - we can choose to call this method by specifying the type argument in the angle brackets\n",
    "    - or go with the diamond notation and have the compiler infer the type based on the method declaration and type of the arguments"
   ]
  },
  {
   "cell_type": "code",
   "execution_count": null,
   "id": "d8376d93",
   "metadata": {},
   "outputs": [],
   "source": [
    "public class BoxDemo {\n",
    "\n",
    "  public static <U> void addBox(U u, \n",
    "      java.util.List<Box<U>> boxes) {\n",
    "    Box<U> box = new Box<>();\n",
    "    box.set(u);\n",
    "    boxes.add(box);\n",
    "  }\n",
    "\n",
    "  public static <U> void outputBoxes(java.util.List<Box<U>> boxes) {\n",
    "    int counter = 0;\n",
    "    for (Box<U> box: boxes) {\n",
    "      U boxContents = box.get();\n",
    "      System.out.println(\"Box #\" + counter + \" contains [\" +\n",
    "             boxContents.toString() + \"]\");\n",
    "      counter++;\n",
    "    }\n",
    "  }\n",
    "\n",
    "  public static void main(String[] args) {\n",
    "    java.util.ArrayList<Box<Integer>> listOfIntegerBoxes =\n",
    "      new java.util.ArrayList<>();\n",
    "    BoxDemo.<Integer>addBox(Integer.valueOf(10), listOfIntegerBoxes);\n",
    "    BoxDemo.addBox(Integer.valueOf(20), listOfIntegerBoxes);\n",
    "    BoxDemo.addBox(Integer.valueOf(30), listOfIntegerBoxes);\n",
    "    BoxDemo.outputBoxes(listOfIntegerBoxes);\n",
    "  }\n",
    "}\n",
    "\n",
    "// can specify the type parameter with a type witness\n",
    "BoxDemo.<Integer>addBox(Integer.valueOf(10), listOfIntegerBoxes);\n",
    "\n",
    "// or can omit it and the Java compiler can infer the argument type\n",
    "// based on the method's type parameters\n",
    "BoxDemo.addBox(Integer.valueOf(20), listOfIntegerBoxes);"
   ]
  },
  {
   "cell_type": "markdown",
   "id": "83874e92",
   "metadata": {},
   "source": [
    "## Type Inference and Instantiation of Generic Classes"
   ]
  },
  {
   "cell_type": "markdown",
   "id": "98cabf3b",
   "metadata": {},
   "source": [
    "* can replace type arguments required to invoke the constructor of a generic class with an empty set of type parameters (\\<\\>) as long as the compiler can infer the type arguments from the context\n",
    "    - this is called diamond notation"
   ]
  },
  {
   "cell_type": "code",
   "execution_count": null,
   "id": "f4b21768",
   "metadata": {},
   "outputs": [],
   "source": [
    "// specifying the type arguments\n",
    "Map<String, List<String>> myMap = new HashMap<String, List<String>>();\n",
    "\n",
    "// using diamond notation\n",
    "Map<String, List<String>> myMap = new HashMap<>();\n",
    "\n",
    "// caused an unchecked conversion warning\n",
    "// you must use diamond notation to take advantage of type inference\n",
    "// in this case, the HashMap() constructor refers to the HashMap raw type\n",
    "// and not the Map<String, List<String>> type\n",
    "Map<String, List<String>> myMap = new HashMap(); // unchecked conversion warning"
   ]
  },
  {
   "cell_type": "markdown",
   "id": "01f54ff8",
   "metadata": {},
   "source": [
    "## Type Inference and Generic Constructors of Generic and Non-Generic Classes"
   ]
  },
  {
   "cell_type": "markdown",
   "id": "5b0d68fa",
   "metadata": {},
   "source": [
    "* constructors can be generic, i.e. declare their own formal type parameters in both generic and non-generic classes\n",
    "* in the example below:\n",
    "    - we create an instance of the parameterized type MyClass<Integer>\n",
    "        * this specifies the type Integer for the formal type parameter X of the generic class MyClass<X>\n",
    "    - the constructor for this generic class contains a formal type parameter, T\n",
    "        * the compiler infers that the type for T is String based on the type of the argument passed in"
   ]
  },
  {
   "cell_type": "code",
   "execution_count": null,
   "id": "e2e59088",
   "metadata": {},
   "outputs": [],
   "source": [
    "class MyClass<X> {\n",
    "  <T> MyClass(T t) {\n",
    "    // ...\n",
    "  }\n",
    "}\n",
    "\n",
    "// prior to Java SE 7, the compiler is able to infer the type\n",
    "// parameters of generic constructors, similar to generic methods\n",
    "\n",
    "new MyClass<Integer>(\"\")\n",
    "\n",
    "// in Java SE 7+, compilers can also infer the type parameters\n",
    "// of the generic class being instantiated if one uses the diamond notation (<>)\n",
    "\n",
    "MyClass<Integer> myObject = new MyClass<>(\"\");"
   ]
  },
  {
   "cell_type": "markdown",
   "id": "460d756a",
   "metadata": {},
   "source": [
    "## Target Types"
   ]
  },
  {
   "cell_type": "markdown",
   "id": "6904e769",
   "metadata": {},
   "source": [
    "* the compiler takes advantage of target typing to infer the type parameters of a generic method invocation\n",
    "* __target type__: of an expression is the data type that the Java compiler expects depending on where the expression appears\n",
    "    - e.g. you call a generic method that returns an Object<T>, where T is the generic type\n",
    "        * if you assign the result of that method to a variable, like String result = genericMethod(), then the target type would be String\n",
    "    - some examples of target types:\n",
    "        * variable declarations\n",
    "        * assignments\n",
    "        * return statements\n",
    "        * array initializers\n",
    "        * method or constructor arguments\n",
    "        * lambda expression bodies\n",
    "        * conditional expressions, ?: (ternary operator)\n",
    "        * cast expressions\n",
    "* consider the method Collections.emptyList() which is declared below:"
   ]
  },
  {
   "cell_type": "code",
   "execution_count": null,
   "id": "bdb762cf",
   "metadata": {},
   "outputs": [],
   "source": [
    "static <T> List<T> emptyList();"
   ]
  },
  {
   "cell_type": "markdown",
   "id": "460f95a5",
   "metadata": {},
   "source": [
    "* in the example below, the statement is expecting an instance of List\\<String\\>\n",
    "    - this is the target type\n",
    "* because emptyList() returns a value of type List<T>, the compiler can infer that the type argument, T, is a String\n",
    "    - you could also just a type witness and specify the value of T for the emptyList() method"
   ]
  },
  {
   "cell_type": "code",
   "execution_count": null,
   "id": "6e6e52bb",
   "metadata": {},
   "outputs": [],
   "source": [
    "List<String> listOne = Collections.emptyList();\n",
    "\n",
    "// using a type witness\n",
    "// this is not necessary since the compiler can infer\n",
    "// that T in <T> is a String\n",
    "List<String> listOne = Collections.<String>emptyList();"
   ]
  },
  {
   "cell_type": "markdown",
   "id": "c0f1acca",
   "metadata": {},
   "source": [
    "* however, using a type witness would be necessary in the example below:\n",
    "    - the compiler requires a value for the type argument, T, so it starts with Object\n",
    "    - in doing so, Collections,emptyList() returns a value of List<Object>\n",
    "        * this is incompatible with processStringList()"
   ]
  },
  {
   "cell_type": "code",
   "execution_count": null,
   "id": "8721bfeb",
   "metadata": {},
   "outputs": [],
   "source": [
    "void processStringList(List<String> stringList) {\n",
    "    // process stringList\n",
    "}\n",
    "\n",
    "// this does not compile\n",
    "// generates an error message:\n",
    "// List<Object> cannot be converted to List<String>\n",
    "processStringList(Collections.emptyList());\n",
    "\n",
    "// in Java SE 7, you must specify the value of the type argument\n",
    "// b/c it cannot infer the type here\n",
    "processStringList(Collections.<String>emptyList());"
   ]
  },
  {
   "cell_type": "markdown",
   "id": "58de7ec0",
   "metadata": {},
   "source": [
    "* in Java SE 8, the notion of what is a target type is expanded to include _method arguments_ such as the argument to the method processStringList()\n",
    "    - since processStringList() requires an argument of type List<String>\n",
    "    - the method Collections.emptyList() returns a value of List<T> and using the expanded definition of target type, we can say that the target type is List<String>\n",
    "    - therefore, type argument T has a value of String"
   ]
  },
  {
   "cell_type": "code",
   "execution_count": null,
   "id": "671113ac",
   "metadata": {},
   "outputs": [],
   "source": [
    "// in Java SE 8, this compiles\n",
    "// the target type takes into account the type of the method arguments\n",
    "// processStringList takes in List<String> types\n",
    "// .emptyList() returns a List<T> type\n",
    "// therefore, the compiler infers that T is of type String\n",
    "\n",
    "processStringList(Collections.emptyList());"
   ]
  },
  {
   "cell_type": "markdown",
   "id": "5ad0d978",
   "metadata": {},
   "source": [
    "## Target Typing in Lambda Expressions"
   ]
  },
  {
   "cell_type": "markdown",
   "id": "22cdd8ff",
   "metadata": {},
   "source": [
    "* suppose you have the following methods, how would you determine the type of the lambda expression in these cases?\n",
    "    - the lambda expression in both methods is the same\n",
    "* when the Java runtime invokes the method printPersons():\n",
    "    - it expects a data type of CheckPerson\n",
    "    - therefore, the lambda expression is of this type\n",
    "* when the Java runtime invokes the method printPersonsWithPredicate():\n",
    "    - it is expecting a data type of Predicate<Person>\n",
    "    - so the lambda expression is of this type\n",
    "* _the data type that these methods expect is called the target type_\n",
    "    - the Java compiler uses the target type to determine the lambda expressions' type\n",
    "    - the target type is based on the context or situation in which the lambda expression was found\n",
    "    - __therefore, you can only use lambda expressions in situations in which the Java compiler can determine a target type__\n",
    "        * variable declarations\n",
    "        * assignments\n",
    "        * return statements\n",
    "        * array initializers\n",
    "        * method or constructor arguments\n",
    "        * lambda expression bodies\n",
    "        * conditional expressions, ?: (ternary operator)\n",
    "        * cast expressions"
   ]
  },
  {
   "cell_type": "code",
   "execution_count": null,
   "id": "7bc6d646",
   "metadata": {},
   "outputs": [],
   "source": [
    "public static void printPersons(List<Person> roster, CheckPerson tester)\n",
    "\n",
    "public void printPersonsWithPredicate(List<Person> roster, Predicate<Person> tester) \n",
    "\n",
    "printPersons(\n",
    "        people, \n",
    "        p -> p.getGender() == Person.Sex.MALE\n",
    "            && p.getAge() >= 18\n",
    "            && p.getAge() <= 25);)\n",
    "\n",
    "printPersonsWithPredicate(\n",
    "        people,\n",
    "        p -> p.getGender() == Person.Sex.MALE\n",
    "             && p.getAge() >= 18\n",
    "             && p.getAge() <= 25);)"
   ]
  },
  {
   "cell_type": "markdown",
   "id": "310e694b",
   "metadata": {},
   "source": [
    "## Target Types and Method Arguments"
   ]
  },
  {
   "cell_type": "markdown",
   "id": "31ae011b",
   "metadata": {},
   "source": [
    "* for method arguments, the Java compiler determines the target type with two other language features:\n",
    "    1. overload resolution\n",
    "    2. type argument inference\n",
    "* consider the following:\n",
    "    - Runnable.run() does not return a value\n",
    "    - Callable<V>.call() does\n",
    "    - we have 2 overloaded methods, invoke() that take in arguments of type Runnable and Callable<T>\n",
    "    - if we have a statement, String s = invoke(() -> \"done\"), which of the 2 overloaded methods would be called?\n",
    "        * the compiler sees that invoke should return a value of type String\n",
    "        * the only method that would return anything is the one that takes in type Callable<T>\n",
    "        * therefore, the lambda expression, () -> \"done\", is of type Callable<T>"
   ]
  },
  {
   "cell_type": "code",
   "execution_count": null,
   "id": "5e31e5f3",
   "metadata": {},
   "outputs": [],
   "source": [
    "public interface Runnable {\n",
    "    void run();\n",
    "}\n",
    "\n",
    "public interface Callable<V> {\n",
    "    V call();\n",
    "}\n",
    "\n",
    "// we have an overloaded method, invoke, as follows\n",
    "// same method name but different signatures\n",
    "void invoke(Runnable r) {\n",
    "    r.run();\n",
    "}\n",
    "\n",
    "<T> T invoke(Callable<T> c) {\n",
    "    return c.call();\n",
    "}\n",
    "\n",
    "// which invoke method will be invoked?\n",
    "// in this case, the second one\n",
    "// reason being, invoke is supposed to return something\n",
    "// Runnable.r() does not return anything but Callable<T> does\n",
    "// therefore, the type of the lambda expression, () -> \"done\" is Callable<T>\n",
    "\n",
    "String s = invoke(() -> \"done\");"
   ]
  }
 ],
 "metadata": {
  "kernelspec": {
   "display_name": "Java",
   "language": "java",
   "name": "java"
  },
  "language_info": {
   "codemirror_mode": "java",
   "file_extension": ".jshell",
   "mimetype": "text/x-java-source",
   "name": "Java",
   "pygments_lexer": "java",
   "version": "21+35-2513"
  }
 },
 "nbformat": 4,
 "nbformat_minor": 5
}
