{
 "cells": [
  {
   "cell_type": "markdown",
   "id": "63a13bac",
   "metadata": {},
   "source": [
    "## Cannot Instantiate Generic Types with Primitive Types"
   ]
  },
  {
   "cell_type": "markdown",
   "id": "d3040ba3",
   "metadata": {},
   "source": [
    "* when creating a Pair object, you cannot substitute a primitive type for the type parameter of K or V\n",
    "* can substitute non-primitive types"
   ]
  },
  {
   "cell_type": "code",
   "execution_count": 1,
   "id": "fcaaae16",
   "metadata": {},
   "outputs": [
    {
     "ename": "CompilationException",
     "evalue": "",
     "output_type": "error",
     "traceback": [
      "\u001b[1m\u001b[30m|   \u001b[1m\u001b[30mPair<\u001b[0m\u001b[1m\u001b[30m\u001b[41mint\u001b[0m\u001b[1m\u001b[30m, char> p = new Pair<>(8, 'a');\u001b[0m",
      "\u001b[1m\u001b[31munexpected type\u001b[0m",
      "\u001b[1m\u001b[31m  required: reference\u001b[0m",
      "\u001b[1m\u001b[31m  found:    int\u001b[0m",
      "",
      "\u001b[1m\u001b[30m|   \u001b[1m\u001b[30mPair<int, \u001b[0m\u001b[1m\u001b[30m\u001b[41mchar\u001b[0m\u001b[1m\u001b[30m> p = new Pair<>(8, 'a');\u001b[0m",
      "\u001b[1m\u001b[31munexpected type\u001b[0m",
      "\u001b[1m\u001b[31m  required: reference\u001b[0m",
      "\u001b[1m\u001b[31m  found:    char\u001b[0m",
      ""
     ]
    }
   ],
   "source": [
    "class Pair<K, V> {\n",
    "\n",
    "    private K key;\n",
    "    private V value;\n",
    "\n",
    "    public Pair(K key, V value) {\n",
    "        this.key = key;\n",
    "        this.value = value;\n",
    "    }\n",
    "\n",
    "    // ...\n",
    "}\n",
    "\n",
    "// compile-time error\n",
    "// cannot use primitive types as type arguments for type parameters\n",
    "Pair<int, char> p = new Pair<>(8, 'a'); \n",
    "\n",
    "// can only use non-primitive types\n",
    "Pair<Integer, Character> p = new Pair<>(8, 'a');\n",
    "\n",
    "// the Java compiler will autobox these primitives for you\n",
    "// so an int will be wrapped around an Integer\n",
    "// and a char will be wrapped around a Character\n",
    "// this code represents what the compiler does\n",
    "Pair<Integer, Character> p = new Pair<>(Integer.valueOf(8), new Character('a'));"
   ]
  },
  {
   "cell_type": "markdown",
   "id": "96237975",
   "metadata": {},
   "source": [
    "## Cannot Create Instances of Type Parameters"
   ]
  },
  {
   "cell_type": "code",
   "execution_count": null,
   "id": "c3cc6191",
   "metadata": {},
   "outputs": [],
   "source": [
    "// cannot create instances of type parameters\n",
    "public static <E> void append(List<E> list) {\n",
    "    E elem = new E();  // compile-time error\n",
    "    list.add(elem);\n",
    "}\n",
    "\n",
    "// can create an object of a type parameter through reflection\n",
    "public static <E> void append(List<E> list, Class<E> cls) throws Exception {\n",
    "    E elem = cls.newInstance();   // OK\n",
    "    list.add(elem);\n",
    "}\n",
    "\n",
    "// can invoke the append() method above like this\n",
    "// the Java compiler infers that String is the target type\n",
    "// and will assign E as type String\n",
    "// that's why you are able to pass in String.class into append\n",
    "List<String> ls = new ArrayList<>();\n",
    "append(ls, String.class);"
   ]
  },
  {
   "cell_type": "markdown",
   "id": "7fbc1cdb",
   "metadata": {},
   "source": [
    "## Cannot Declare Static Fields Whose Types are Type Parameters"
   ]
  },
  {
   "cell_type": "markdown",
   "id": "d4f6dfc2",
   "metadata": {},
   "source": [
    "* a class's static field is a class-level variable shared by all non-static objects of the class\n",
    "* in the example below:\n",
    "    - the static field os is shared by 3 instances of MobileDevice, each with a different value for the type parameter, T\n",
    "    - since the static field is a class-level variable shared by them all, then what is the value of T?\n",
    "        * T cannot be a SmartPhone, a Pager, or a Tablet\n",
    "        * therefore, you cannot create static fields of type parameters"
   ]
  },
  {
   "cell_type": "code",
   "execution_count": null,
   "id": "81a922d0",
   "metadata": {},
   "outputs": [],
   "source": [
    "public class MobileDevice<T> {\n",
    "    private static T os;\n",
    "\n",
    "    // ...\n",
    "}\n",
    "\n",
    "// not allowed\n",
    "// the static field is shared across all these instances\n",
    "// and os cannot be all three types at the same time\n",
    "MobileDevice<Smartphone> phone = new MobileDevice<>();\n",
    "MobileDevice<Pager> pager = new MobileDevice<>();\n",
    "MobileDevice<TabletPC> pc = new MobileDevice<>();"
   ]
  },
  {
   "cell_type": "markdown",
   "id": "9dabd662",
   "metadata": {},
   "source": [
    "## Cannot Use Casts or instanceof with Parameterized Types"
   ]
  },
  {
   "cell_type": "markdown",
   "id": "5a63c4ce",
   "metadata": {},
   "source": [
    "* due to type erasure, you cannot verify which parameterized type for a generic type is being used at runtime\n",
    "* in the example below:\n",
    "    - runtime doesn't keep track of type parameters so cannot tell the difference between an ArrayList\\<Integer\\> and an ArrayList\\<String\\>\n",
    "    - after type erasure, List\\<E\\> list is converted to E[] list which is then converted to Object[] list\n",
    "    - the compiler cannot tell if that is an instanceof ArrayList<Integer>"
   ]
  },
  {
   "cell_type": "code",
   "execution_count": null,
   "id": "9ee834d3",
   "metadata": {},
   "outputs": [],
   "source": [
    "public static <E> void rtti(List<E> list) {\n",
    "    if (list instanceof ArrayList<Integer>) {  // compile-time error\n",
    "        // ...\n",
    "    }\n",
    "}\n",
    "\n",
    "// set of parameterized types passed to the rtti() method\n",
    "S = { ArrayList<Integer>, ArrayList<String> LinkedList<Character>, ... }\n"
   ]
  },
  {
   "cell_type": "code",
   "execution_count": null,
   "id": "230f0261",
   "metadata": {},
   "outputs": [],
   "source": [
    "// use of an unbounded wildcard to verify that the list is an ArrayList\n",
    "// List<?> list is reifiable\n",
    "// after type erasure, this gets converted to List<Object> which can be compared to ArrayList<Object>\n",
    "// List<Object> is not an instanceof ArrayList<Object>\n",
    "// but ArrayList<Object> is an instanceof List<Object>\n",
    "\n",
    "public static void rtti(List<?> list) {\n",
    "    if (list instanceof ArrayList<?>) {  // OK; instanceof requires a reifiable type\n",
    "        // ...\n",
    "    }\n",
    "}\n"
   ]
  },
  {
   "cell_type": "code",
   "execution_count": 3,
   "id": "68567287",
   "metadata": {},
   "outputs": [
    {
     "name": "stdout",
     "output_type": "stream",
     "text": [
      "Hello, World!\n",
      "This compiles!\n"
     ]
    }
   ],
   "source": [
    "// ArrayList<?> is an instanceof List<?>\n",
    "import java.util.*;\n",
    "\n",
    "class HelloWorld {\n",
    "    public static void main(String[] args) {\n",
    "        System.out.println(\"Hello, World!\");\n",
    "        ArrayList<Integer> list = new ArrayList<>();\n",
    "        list.add(1);\n",
    "        HelloWorld.rtti(list);\n",
    "    }\n",
    "    \n",
    "    public static void rtti(ArrayList<?> list) {\n",
    "        if (list instanceof List<?>) {  // OK; instanceof requires a reifiable type\n",
    "            // ...\n",
    "            System.out.println(\"This compiles!\");\n",
    "        }\n",
    "    }\n",
    "}\n",
    "\n",
    "String[] args = {\"\"};\n",
    "HelloWorld.main(args);"
   ]
  },
  {
   "cell_type": "code",
   "execution_count": null,
   "id": "f5d7fc8e",
   "metadata": {},
   "outputs": [],
   "source": [
    "// cannot cast to a parameterized type unless it is parameterized by unbounded wildcards\n",
    "\n",
    "List<Integer> li = new ArrayList<>();\n",
    "List<Number>  ln = (List<Number>) li;  // compile-time error\n",
    "\n",
    "// however, if the compiler knows that a type parameter is always valid, it will allow the cast\n",
    "List<String> l1 = ...;\n",
    "ArrayList<String> l2 = (ArrayList<String>)l1;  // OK"
   ]
  },
  {
   "cell_type": "markdown",
   "id": "47533965",
   "metadata": {},
   "source": [
    "## Cannot Create Arrays of Parameterized Types"
   ]
  },
  {
   "cell_type": "markdown",
   "id": "f84ca527",
   "metadata": {},
   "source": [
    "* due to type erasure:\n",
    "    - new List\\<String\\>[2], which would have created a list of List<String> objects, would be converted to List[] without the typing\n",
    "    - this essentially means that stringLists would be assigned a list of objects\n",
    "    - thus, if you add in an ArrayList<String> and ArrayList<Integer> this would not throw any exceptions because they're Objects and are allowed in a list of objects"
   ]
  },
  {
   "cell_type": "code",
   "execution_count": null,
   "id": "236a8a2a",
   "metadata": {},
   "outputs": [],
   "source": [
    "List<Integer>[] arrayOfLists = new List<Integer>[2];  // compile-time error\n",
    "\n",
    "// throws an exception\n",
    "Object[] strings = new String[2];\n",
    "strings[0] = \"hi\";   // OK\n",
    "strings[1] = 100;    // An ArrayStoreException is thrown.\n",
    "\n",
    "// if the first statement was allowed\n",
    "// then subsequent statements would not throw the exception\n",
    "// due to type erasure\n",
    "Object[] stringLists = new List<String>[2];  // compiler error, but pretend it's allowed\n",
    "stringLists[0] = new ArrayList<String>();   // OK\n",
    "stringLists[1] = new ArrayList<Integer>();  // An ArrayStoreException should be thrown,\n",
    "                                            // but the runtime can't detect it."
   ]
  },
  {
   "cell_type": "markdown",
   "id": "1bdafb9b",
   "metadata": {},
   "source": [
    "## Cannot Create, Catch, or Throw Objects of Parameterized Types"
   ]
  },
  {
   "cell_type": "markdown",
   "id": "8d0a1eeb",
   "metadata": {},
   "source": [
    "* a generic class cannot extend the Throwable class directly or indirectly\n",
    "* methods cannot catch an instance of a type parameter\n",
    "* but you can use a type parameter in a throws clause"
   ]
  },
  {
   "cell_type": "code",
   "execution_count": null,
   "id": "b9b18258",
   "metadata": {},
   "outputs": [],
   "source": [
    "// Extends Throwable indirectly\n",
    "class MathException<T> extends Exception { /* ... */ }    // compile-time error\n",
    "\n",
    "// Extends Throwable directly\n",
    "class QueueFullException<T> extends Throwable { /* ... */ // compile-time error"
   ]
  },
  {
   "cell_type": "code",
   "execution_count": null,
   "id": "a2f9abb4",
   "metadata": {},
   "outputs": [],
   "source": [
    "public static <T extends Exception, J> void execute(List<J> jobs) {\n",
    "    try {\n",
    "        for (J job : jobs)\n",
    "            // ...\n",
    "    // cannot catch an instance of a type parameter\n",
    "    } catch (T e) {   // compile-time error\n",
    "        // ...\n",
    "    }\n",
    "}"
   ]
  },
  {
   "cell_type": "code",
   "execution_count": null,
   "id": "2cc87187",
   "metadata": {},
   "outputs": [],
   "source": [
    "class Parser<T extends Exception> {\n",
    "    public void parse(File file) throws T {     // OK\n",
    "        // ...\n",
    "    }\n",
    "}"
   ]
  },
  {
   "cell_type": "markdown",
   "id": "819d2982",
   "metadata": {},
   "source": [
    "## Cannot Overload a Method Where the Formal Parameter Types of Each Overload Erase to the Same Raw Type"
   ]
  },
  {
   "cell_type": "markdown",
   "id": "35ba9c16",
   "metadata": {},
   "source": [
    "* a class cannot have 2 overloaded methods that will have the same signature after type erasure\n",
    "* overloads would all share the same classfile representation and will generate a compile-time error\n",
    "* in the example below:\n",
    "    - after type erasure, they would both have the same method signature\n",
    "        * print(Set\\<String\\> strSet) -> print(Set strSet)\n",
    "        * print(Set\\<Integer\\> intSet) -> print(Set intSet)"
   ]
  },
  {
   "cell_type": "code",
   "execution_count": null,
   "id": "02c10d19",
   "metadata": {},
   "outputs": [],
   "source": [
    "public class Example {\n",
    "    public void print(Set<String> strSet) { }\n",
    "    public void print(Set<Integer> intSet) { }\n",
    "}"
   ]
  }
 ],
 "metadata": {
  "kernelspec": {
   "display_name": "Java",
   "language": "java",
   "name": "java"
  },
  "language_info": {
   "codemirror_mode": "java",
   "file_extension": ".jshell",
   "mimetype": "text/x-java-source",
   "name": "Java",
   "pygments_lexer": "java",
   "version": "21+35-2513"
  }
 },
 "nbformat": 4,
 "nbformat_minor": 5
}
