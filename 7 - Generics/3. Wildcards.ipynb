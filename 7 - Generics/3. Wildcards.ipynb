{
 "cells": [
  {
   "cell_type": "markdown",
   "id": "f164129b",
   "metadata": {},
   "source": [
    "## Upper Bounded Wildcards"
   ]
  },
  {
   "cell_type": "markdown",
   "id": "390bd965",
   "metadata": {},
   "source": [
    "* use upper bounded wildcards to relax restrictions on a variable\n",
    "    - e.g. writing a method that works on List<Integer>, List<Double>, List<Number>\n",
    "* to declare an upper-bounded wildcard, use the __wildcard character (?)__ followed by the _extends_ keyword"
   ]
  },
  {
   "cell_type": "code",
   "execution_count": null,
   "id": "ec3b2d7f",
   "metadata": {},
   "outputs": [],
   "source": [
    "// method that takes in a List of Number and its subtypes like Integer, Double, Float, etc\n",
    "\n",
    "public static void someMethod(List<? extends Number> list);"
   ]
  },
  {
   "cell_type": "markdown",
   "id": "7fb7f2ac",
   "metadata": {},
   "source": [
    "* another example:\n",
    "    - the upper bounded wildcard, <? extends Foo>, where Foo is any type, matches Foo and any subtype of Foo\n",
    "    - the process method can access the list elements as type Foo\n",
    "    - in the for-loop, the elem variable iterates over each element in list\n",
    "    - any method defined in the Foo class can now be used on elem since elem accesses the list elements as type Foo"
   ]
  },
  {
   "cell_type": "code",
   "execution_count": null,
   "id": "332e8a1d",
   "metadata": {},
   "outputs": [],
   "source": [
    "public static void process(List<? extends Foo> list) { /* --- */ }\n",
    "\n",
    "public static void process(List<? extends Foo> list) {\n",
    "    for (Foo elem : list) {\n",
    "        // ...\n",
    "    }\n",
    "}"
   ]
  },
  {
   "cell_type": "markdown",
   "id": "eb545499",
   "metadata": {},
   "source": [
    "* another example:\n",
    "    - the sumOfList() method returns the sum of the numbers in a list\n",
    "    - able to take in a list of Number or any of its subtypes"
   ]
  },
  {
   "cell_type": "code",
   "execution_count": 17,
   "id": "3bd8b1db",
   "metadata": {},
   "outputs": [
    {
     "name": "stdout",
     "output_type": "stream",
     "text": [
      "sum = 6.0\n",
      "sum = 7.0\n"
     ]
    }
   ],
   "source": [
    "public static double sumOfList(List<? extends Number> list) {\n",
    "    double s = 0.0;\n",
    "    for (Number n : list) {\n",
    "        s += n.doubleValue();\n",
    "    }\n",
    "    return s;\n",
    "}\n",
    "\n",
    "// using list of Integer objects\n",
    "List<Integer> li = Arrays.asList(1, 2, 3);\n",
    "System.out.println(\"sum = \" + sumOfList(li));\n",
    "\n",
    "// list of doubles\n",
    "List<Double> ld = Arrays.asList(1.2, 2.3, 3.5);\n",
    "System.out.println(\"sum = \" + sumOfList(ld));"
   ]
  },
  {
   "cell_type": "markdown",
   "id": "68aa96ca",
   "metadata": {},
   "source": [
    "## Unbounded Wildcards"
   ]
  },
  {
   "cell_type": "markdown",
   "id": "527a78d9",
   "metadata": {},
   "source": [
    "* the unbounded wildcard type is specified using the wildcard character (?) without the extends keyword\n",
    "    - e.g. List<?>\n",
    "    - this is called a list of _unknown type_\n",
    "* 2 scenarios where an unbounded wild card or unknown type is useful:\n",
    "    1. if you are writing a method that can be implemented using functionality provided in the Object class\n",
    "    2. when the code is using methods in the generic class that do not depend on the type parameter\n",
    "        - e.g. List.size() and List.clear()\n",
    "        - e.g. using Class\\<?\\> instead of Class\\<T\\> if the methods in Class<T> do not depend on T\n",
    "* in the example below:\n",
    "    - goal of printList() is to print a list of any type but it fails -- it only prints a list of Object instances\n",
    "    - it cannot print List<Integer>, List<String>, etc b/c they are NOT subtypes of List<Object>\n",
    "    - in order to do this, we grite a generic printList() method using the unbounded wildcard, List<?>\n",
    "* List<Object> and List<?> ARE NOT THE SAME!!!\n",
    "    - able to insert an Object or any subtype of Object into a List<Object>\n",
    "    - but you can only insert null into a List<?>"
   ]
  },
  {
   "cell_type": "code",
   "execution_count": 20,
   "id": "3d036ffd",
   "metadata": {},
   "outputs": [
    {
     "name": "stdout",
     "output_type": "stream",
     "text": [
      "1 \n",
      "2 \n",
      "3 \n",
      "\n"
     ]
    },
    {
     "ename": "CompilationException",
     "evalue": "",
     "output_type": "error",
     "traceback": [
      "\u001b[1m\u001b[30m|   \u001b[1m\u001b[30mprintList(\u001b[0m\u001b[1m\u001b[30m\u001b[41mlist\u001b[0m\u001b[1m\u001b[30m);\u001b[0m",
      "\u001b[1m\u001b[31mincompatible types: java.util.List<java.lang.Integer> cannot be converted to java.util.List<java.lang.Object>\u001b[0m",
      ""
     ]
    }
   ],
   "source": [
    "public static void printList(List<Object> list) {\n",
    "    for (Object elem: list) {\n",
    "        System.out.println(elem + \" \");\n",
    "    }\n",
    "    System.out.println();\n",
    "}\n",
    "\n",
    "List<Object> list = Arrays.asList(1, 2, 3);\n",
    "printList(list);\n",
    "\n",
    "// cannot work b/c List<Integer> IS NOT a subtype of Object\n",
    "List<Integer> list = Arrays.asList(1, 2, 3);\n",
    "printList(list);"
   ]
  },
  {
   "cell_type": "code",
   "execution_count": 24,
   "id": "7cdc70af",
   "metadata": {},
   "outputs": [
    {
     "name": "stdout",
     "output_type": "stream",
     "text": [
      "1 \n",
      "2 \n",
      "3 \n",
      "\n",
      "4 \n",
      "5 \n",
      "6 \n",
      "\n",
      "1 \n",
      "2 \n",
      "3 \n",
      "\n",
      "one \n",
      "two \n",
      "three \n",
      "\n"
     ]
    }
   ],
   "source": [
    "// for any concrete type A, List<A> is a subtype of List<?>\n",
    "public static void printList(List<?> list) {\n",
    "    for (Object elem : list) {\n",
    "        System.out.println(elem + \" \");\n",
    "    }\n",
    "    System.out.println();\n",
    "}\n",
    "\n",
    "List<Object> list = Arrays.asList(1, 2, 3);\n",
    "printList(list);\n",
    "\n",
    "// can work \n",
    "List<Integer> list = Arrays.asList(4, 5, 6);\n",
    "printList(list);\n",
    "\n",
    "List<Integer> li = Arrays.asList(1, 2, 3);\n",
    "List<String>  ls = Arrays.asList(\"one\", \"two\", \"three\");\n",
    "printList(li);\n",
    "printList(ls);"
   ]
  },
  {
   "cell_type": "markdown",
   "id": "1454bb77",
   "metadata": {},
   "source": [
    "## Lower Bounded Wildcards"
   ]
  },
  {
   "cell_type": "markdown",
   "id": "9bacf11e",
   "metadata": {},
   "source": [
    "* a lower bounded wildcard restricts the unknown type to be a specific type or a super type of that type\n",
    "* a lower bounded wildcard is expressed using the wildcard character (?) followed by the _super_ keyword\n",
    "    - e.g. <? super A>\n",
    "* __you can specify an upper bounded for a wildcard or you can specify a lower bound, but you cannot specify both!__\n",
    "* for example:\n",
    "    - you want to write a method that works on lists of Integers and the supertypes of Integer such as Integer, Number, and Object\n",
    "    - you would specify this using List<? super Integer>\n",
    "    - List<Integer> is more restrictive thant List<? super Integer> b/c the former matches a list of type Integer only whereas the latter matches Integer and its supertypes"
   ]
  },
  {
   "cell_type": "code",
   "execution_count": null,
   "id": "a573ab94",
   "metadata": {},
   "outputs": [],
   "source": [
    "// can take in List<Integer, List<Number>, List<Object>\n",
    "// basically Integer and any supertype of Integer\n",
    "public static void addNumbers(List<? super Integer> list) {\n",
    "    for (int i = 1; i <= 10; i++) {\n",
    "        list.add(i);\n",
    "    }\n",
    "}"
   ]
  },
  {
   "cell_type": "markdown",
   "id": "d624a356",
   "metadata": {},
   "source": [
    "## Wildcards and Subtyping"
   ]
  },
  {
   "cell_type": "markdown",
   "id": "64d80a49",
   "metadata": {},
   "source": [
    "* able to use wildcards to create a relationship between generic classes or interfaces\n",
    "* in the example below:\n",
    "    - we have 2 regular (non-generic) classes\n",
    "        * it would be reasonable to instantiate B\n",
    "        * assign it to a variable of type A and it would work\n",
    "        * this shows that inheritance of regular classes follows this rule of subtyping:\n",
    "            - class B is a subtype of class A if B extends A\n",
    "    - that rule of subtyping DOES NOT apply to generic types"
   ]
  },
  {
   "cell_type": "code",
   "execution_count": 33,
   "id": "b542b80c",
   "metadata": {},
   "outputs": [
    {
     "ename": "CompilationException",
     "evalue": "",
     "output_type": "error",
     "traceback": [
      "\u001b[1m\u001b[30m|   \u001b[1m\u001b[30mList<A> la = \u001b[0m\u001b[1m\u001b[30m\u001b[41mlb\u001b[0m\u001b[1m\u001b[30m;\u001b[0m",
      "\u001b[1m\u001b[31mincompatible types: java.util.List<B> cannot be converted to java.util.List<A>\u001b[0m",
      ""
     ]
    }
   ],
   "source": [
    "class A { /* ... */ }\n",
    "class B extends A { /* ... */ }\n",
    "\n",
    "// this compiles\n",
    "B b = new B();\n",
    "A a = b;\n",
    "\n",
    "// this does not\n",
    "List<B> lb = new ArrayList<>();\n",
    "List<A> la = lb;"
   ]
  },
  {
   "cell_type": "markdown",
   "id": "1cfad97b",
   "metadata": {},
   "source": [
    "* given that Integer is a subtype of Number, what is the relationship between List<Integer> and List<Number>?\n",
    "    - Integer is a subtype of Number\n",
    "    - _List<Integer> IS NOT a subtype of List<Number> and these two types are not related\n",
    "        * the common parent of List<Number> and List<Integer> is List<?>\n",
    "        * to create a relationship so that the code can access Number's methods through List<Integer>'s elements, we can use an upper bounded wildcard\n",
    "![Common parent parameterized lists](https://dev.java/assets/images/generics/04_super-types.png)"
   ]
  },
  {
   "cell_type": "code",
   "execution_count": null,
   "id": "c7a71324",
   "metadata": {},
   "outputs": [],
   "source": [
    "List<? extends Integer> intList = new ArrayList<>();\n",
    "\n",
    "// will compile\n",
    "// List<? extends Integer> is a subtype of List<? extends Number>\n",
    "List<? extends Number> numList = intList;"
   ]
  },
  {
   "cell_type": "markdown",
   "id": "cd5eaba8",
   "metadata": {},
   "source": [
    "* b/c Integer is a subtype of Number, and numList is a list of Number objects, a relationship now exists between intList (a list of Integer objects) and numList\n",
    "* list classes declared with both upper and lower bounded wildcards:\n",
    "![Hierarchy of several generic list declarations](https://dev.java/assets/images/generics/05_lists-declarations.png)"
   ]
  },
  {
   "cell_type": "markdown",
   "id": "29ffec7c",
   "metadata": {},
   "source": [
    "## Wildcard Capture and Helper Methods"
   ]
  },
  {
   "cell_type": "markdown",
   "id": "ff835ca3",
   "metadata": {},
   "source": [
    "* wildcard capture: when the compiler infers the type of a wild card\n",
    "    - e.g. a list may be defined as List<?> but when evaluating the expression, the compiler infers a particular type from the code\n",
    "* don't really have to worry about wildcard capture, except when there's an error message that contains the phrase \"capture of\"\n",
    "* in the example below:\n",
    "    - WildcardError produces a capture error when compiled\n",
    "    - the compiler process that the parameter, i, is of type Object\n",
    "    - when the method, foo, is called, the compiler is not able to confirm the type of object being inserted into the list"
   ]
  },
  {
   "cell_type": "code",
   "execution_count": null,
   "id": "c8286a5b",
   "metadata": {},
   "outputs": [],
   "source": [
    "import java.util.List;\n",
    "\n",
    "public class WildcardError {\n",
    "\n",
    "    void foo(List<?> i) {\n",
    "        i.set(0, i.get(0));\n",
    "    }\n",
    "}"
   ]
  },
  {
   "cell_type": "markdown",
   "id": "71bb9b5f",
   "metadata": {},
   "source": [
    "* able to fix this by writing a private helper method which captures the wildcard\n",
    "    - using the helper method, the compiler uses inference to determine that T is the capture variable in the invocation"
   ]
  },
  {
   "cell_type": "code",
   "execution_count": null,
   "id": "442257aa",
   "metadata": {},
   "outputs": [],
   "source": [
    "public class WildcardFixed {\n",
    "\n",
    "    void foo(List<?> i) {\n",
    "        fooHelper(i);\n",
    "    }\n",
    "\n",
    "\n",
    "    // Helper method created so that the wildcard can be captured\n",
    "    // through type inference.\n",
    "    private <T> void fooHelper(List<T> l) {\n",
    "        l.set(0, l.get(0));\n",
    "    }\n",
    "\n",
    "}"
   ]
  },
  {
   "cell_type": "markdown",
   "id": "ab12a7a4",
   "metadata": {},
   "source": [
    "* consider a more complex example\n",
    "    - the code is attempting an unsafe operation\n",
    "    - List<Integer> and List<Double> both fulfill the criteria of List<? extends Number>\n",
    "    - but it is not correct to take an item from a list of Integer values and attempt to place them into a list of Double values\n",
    "    - there is no helper method to work around this problem though"
   ]
  },
  {
   "cell_type": "code",
   "execution_count": null,
   "id": "2b77c953",
   "metadata": {},
   "outputs": [],
   "source": [
    "import java.util.List;\n",
    "\n",
    "// CAP#1 and CAP#2 are both capture variables\n",
    "public class WildcardErrorBad {\n",
    "\n",
    "    void swapFirst(List<? extends Number> l1, List<? extends Number> l2) {\n",
    "      Number temp = l1.get(0);\n",
    "      l1.set(0, l2.get(0)); // expected a CAP#1 extends Number,\n",
    "                            // got a CAP#2 extends Number;\n",
    "                            // same bound, but different types\n",
    "      l2.set(0, temp);        // expected a CAP#1 extends Number,\n",
    "                            // got a Number\n",
    "    }\n",
    "}\n",
    "\n",
    "List<Integer> li = Arrays.asList(1, 2, 3);\n",
    "List<Double>  ld = Arrays.asList(10.10, 20.20, 30.30);\n",
    "swapFirst(li, ld);"
   ]
  },
  {
   "cell_type": "markdown",
   "id": "2f9de08c",
   "metadata": {},
   "source": [
    "## Guidelines for Wildcard Use"
   ]
  },
  {
   "cell_type": "markdown",
   "id": "afcc82d2",
   "metadata": {},
   "source": [
    "* for these guidelines, it is helpful to think of variables as providing one of two functions:\n",
    "    1. an \"In\" variable\n",
    "        - an \"in\" variable serves up data to the code\n",
    "        - imagine a copy method with 2 arguments: copy(src, dest)\n",
    "            * src = provides data to be copied\n",
    "    2. an \"Out\" variable\n",
    "        - an \"out\" variable holds data for use elsewhere\n",
    "        - in the copy example, copy(src, dest), the dest argument accepts data so it is the \"out\" parameter\n",
    "    3. keep in mind, there are some variables used for both \"in\" and \"out\" purposes\n",
    "* can use the \"in\" and \"out\" principle when deciding whether to use a wildcard and what type of wildcard is appropriate:\n",
    "    - \"in\" variable only: define with an upper bounded wildcard using the extends keyword\n",
    "    - \"out\" variable only: define with a lower bounded wildcard using the super keyword\n",
    "    - \"in\" variable accessible by Object class methods: use an unbounded wildcard\n",
    "    - \"in\" and \"out\" variable: do not use a wildcard\n",
    "* these guidelines do not apply to a method's return type\n",
    "    - avoid using a wildcard as a return type b/c the programmer has to deal with wildcards\n",
    "* a list defined by List<? extends ...> can be informally thought of as read-only\n",
    "* consider the following 2 classes:\n",
    "    - b/c List<EvenNumber> is a subtype of List<? extends NaturalNumber>, you can assign le to ln\n",
    "    - but you cannot use ln to add a natural number to a list of even numbers\n",
    "    - but the following operations on the list are possible:\n",
    "        * can add null\n",
    "        * can invoke clear()\n",
    "        * can get the iterator and invoke remove()\n",
    "        * can capture the wildcard and write elements that you have read from the list\n",
    "    - the list defined by List<? extends NaturalNumber> is not read-only in the strictest sense but you might think of it that way b/c you cannot store a new element or change an existing element in the list"
   ]
  },
  {
   "cell_type": "code",
   "execution_count": null,
   "id": "ede76c20",
   "metadata": {},
   "outputs": [],
   "source": [
    "class NaturalNumber {\n",
    "\n",
    "    private int i;\n",
    "\n",
    "    public NaturalNumber(int i) { this.i = i; }\n",
    "    // ...\n",
    "}\n",
    "\n",
    "class EvenNumber extends NaturalNumber {\n",
    "\n",
    "    public EvenNumber(int i) { super(i); }\n",
    "    // ...\n",
    "}\n",
    "\n",
    "// EvenNumber is a subtype of List<? extends NaturalNumber>\n",
    "// the upper bounded wildcard, <? extends NaturalNumber> can accept NaturalNumber and its subtypes, which is EvenNumber\n",
    "List<EvenNumber> le = new ArrayList<>();\n",
    "List<? extends NaturalNumber> ln = le;\n",
    "\n",
    "// compile-time error\n",
    "// you cannot add a natural number to a list of even numbers\n",
    "ln.add(new NaturalNumber(35)); "
   ]
  }
 ],
 "metadata": {
  "kernelspec": {
   "display_name": "Java",
   "language": "java",
   "name": "java"
  },
  "language_info": {
   "codemirror_mode": "java",
   "file_extension": ".jshell",
   "mimetype": "text/x-java-source",
   "name": "Java",
   "pygments_lexer": "java",
   "version": "21+35-2513"
  }
 },
 "nbformat": 4,
 "nbformat_minor": 5
}
