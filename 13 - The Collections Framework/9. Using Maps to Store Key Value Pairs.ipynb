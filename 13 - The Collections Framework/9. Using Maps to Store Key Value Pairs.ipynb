{
 "cells": [
  {
   "cell_type": "markdown",
   "id": "03a0f113",
   "metadata": {},
   "source": [
    "## Introducing the Map Hierarchy"
   ]
  },
  {
   "cell_type": "markdown",
   "id": "c2444b24",
   "metadata": {},
   "source": [
    "* notions you have to keep in mind:\n",
    "    - a hashmap can store key-value pairs\n",
    "    - a key acts as a symbol for a given value\n",
    "    - a key is a simple object, a value can be as complex as needed\n",
    "    - a key is unique in a hashmpa, a value does not have to be unique\n",
    "    - every value stored in a hashmap has to be bound to a key, a key-value pair in a map forms an _entry_ of that map\n",
    "    - a key can be used to retrieve its bound value\n",
    "* the Collections Framework gives you a Map interface that implements this concept along with 2 extensions:\n",
    "    1. SortedMap\n",
    "    2. Navigable Map\n",
    "* the Map hierarchy is pretty similar to the Set hierarchy since there is a SortedSet and a NavigableSet:\n",
    "    - a SortedMap has the same semantics as a SortedSet\n",
    "        * a SortedMap is a map that keeps its key-value pairs sorted by their keys\n",
    "    - for the NavigableMap: the methods added by this are similar to the ones added by NavigableSet to SortedSet\n",
    "* the JDK gives you several implementations of the Map interface:\n",
    "    - HashMap: the most widely used one\n",
    "    - LinkedHashMap: a HashMap with an internal structure to keep the key-value pairs ordered\n",
    "        * iterating over the keys or the key-value pairs will follow the order in which you added your key-value pairs\n",
    "    - IdentityHashMap: a specialized Map that should only be used in very precise cases\n",
    "        * not meant to be generally used in application\n",
    "        * instead of using equals() and hashCode() to compare key objects, this implementation only compares the references to these keys using an equality operator (==)\n",
    "* there is a concept called a Multimap where a single key can be associated to more than one value\n",
    "    - it's currently not directly supported in the Collections Framework\n",
    "    - but you can create maps withvalues that are lists of values which can create multimap-like structures\n",
    "![The Map Interface Hierarchy](https://dev.java/assets/images/collections-framework/03_map-hierarchy.png)"
   ]
  },
  {
   "cell_type": "markdown",
   "id": "5911220a",
   "metadata": {},
   "source": [
    "## Using the Convenience Factory Methods for Collections to Create Maps"
   ]
  },
  {
   "cell_type": "markdown",
   "id": "0d4fe3fa",
   "metadata": {},
   "source": [
    "* similar to the List and Set interfaces, the Map interface also has methods that allow you to create immutable maps and immutable entries\n",
    "* Map.of(): able to create immutable maps\n",
    "    - you can only use this pattern if you have <10 key-value pairs\n",
    "* Map.entry(): creates immutable entries\n",
    "* Map.ofEntries(): creates an immutable map by getting a list of entries created from Map.entry()\n",
    "* there are restrictions on these maps and entires created by these factory methods, as for the sets:\n",
    "    - the map and entries you get are immutable objects\n",
    "    - null entries, null keys, and null values are not allowed\n",
    "    - trying to create a map with duplicate keys in this way does not make sense, so as a warning you will get an IllegalArgumentException at map creation"
   ]
  },
  {
   "cell_type": "code",
   "execution_count": 1,
   "id": "de864a5d",
   "metadata": {},
   "outputs": [
    {
     "name": "stdout",
     "output_type": "stream",
     "text": [
      "{2=two, 1=one, 3=three}\r\n"
     ]
    }
   ],
   "source": [
    "// only works for <10 entries\n",
    "Map<Integer, String> map = \n",
    "    Map.of(\n",
    "        1, \"one\",\n",
    "        2, \"two\",\n",
    "        3, \"three\"\n",
    "    );\n",
    "System.out.println(map);"
   ]
  },
  {
   "cell_type": "code",
   "execution_count": 8,
   "id": "bd2fa98e",
   "metadata": {},
   "outputs": [
    {
     "name": "stdout",
     "output_type": "stream",
     "text": [
      "{2=two, 1=one, 3=three}\r\n"
     ]
    }
   ],
   "source": [
    "// able to use this pattern to create an immutable map with 10+ entries\n",
    "Map.Entry<Integer, String> e1 = Map.entry(1, \"one\");\n",
    "Map.Entry<Integer, String> e2 = Map.entry(2, \"two\");\n",
    "Map.Entry<Integer, String> e3 = Map.entry(3, \"three\");\n",
    "\n",
    "Map<Integer, String> map2 = Map.ofEntries(e1, e2, e3);\n",
    "System.out.println(map2);"
   ]
  },
  {
   "cell_type": "code",
   "execution_count": 7,
   "id": "2fd77d69",
   "metadata": {},
   "outputs": [
    {
     "name": "stdout",
     "output_type": "stream",
     "text": [
      "{2=two, 1=one, 3=three}\r\n"
     ]
    }
   ],
   "source": [
    "// using a static import to improve readability\n",
    "\n",
    "import static java.util.Map.*;\n",
    "Map<Integer, String> map3 = \n",
    "    Map.ofEntries(\n",
    "        entry(1, \"one\"),\n",
    "        entry(2, \"two\"),\n",
    "        entry(3, \"three\")\n",
    "    );\n",
    "System.out.println(map3);"
   ]
  },
  {
   "cell_type": "markdown",
   "id": "190dea52",
   "metadata": {},
   "source": [
    "## Storing Key/Value Pairs in a Map"
   ]
  },
  {
   "cell_type": "markdown",
   "id": "73ce8bca",
   "metadata": {},
   "source": [
    "* the relationship between a key and its bound valuefollows these 2 simple rules:\n",
    "    1. a key can be bound to only one value\n",
    "    2. a value can be bound to several keys\n",
    "* this leads to several consequences for the content of the map\n",
    "    - the set of all keys cannot have any duplicates so it has the structure of a Set\n",
    "    - the set of all the key/value pairs cannot have duplicates either, so it also has the structure of a Set\n",
    "    - the set of all values may have duplicates so it has the structure of a plain collection\n",
    "* then, you can define the following operations on a map:\n",
    "    - putting a key/value pair in the map\n",
    "        * may fail if the key is already defined in the map\n",
    "    - getting a value from a key\n",
    "    - removing a key from a map, along with its value\n",
    "* can also define the classic, set-like operations\n",
    "    - checking if the map is empty or not\n",
    "    - getting the number of key-value pairs contained in the map\n",
    "    - putting all the content of another map in this map\n",
    "    - clearing the content of a map"
   ]
  },
  {
   "cell_type": "markdown",
   "id": "42df5e1d",
   "metadata": {},
   "source": [
    "## Exploring the Map Interface"
   ]
  },
  {
   "cell_type": "markdown",
   "id": "023bf794",
   "metadata": {},
   "source": [
    "* should be very careful when choosing the type of keys for your maps\n",
    "    - __choosing a mutable key is not prohibited but is dangerous and discouraged__\n",
    "        * if a key has been added to a map, mutating it can lead to its hash code and its identity being changed\n",
    "        * can make your key-value pair unrecoverable or give you a different result than expected\n",
    "* the Map defines a member interface: Map.Entry to model a key-value pair. this interface defines 3 methods to access the key and the values:\n",
    "    1. getKey(): reads the key\n",
    "    2. getValue(): reads the value bound to that key\n",
    "    3. setValue(value): updates the value boound to that key\n",
    "* the Map.Entry objects from a given map are _views_ on the content of the map\n",
    "    - this means that any changes to the map entry object will be reflected in the map and vice-versa\n",
    "    - this is the reason why you cannot change the key in this object, it could corrupt your map"
   ]
  }
 ],
 "metadata": {
  "kernelspec": {
   "display_name": "Java",
   "language": "java",
   "name": "java"
  },
  "language_info": {
   "codemirror_mode": "java",
   "file_extension": ".jshell",
   "mimetype": "text/x-java-source",
   "name": "Java",
   "pygments_lexer": "java",
   "version": "21+35-2513"
  }
 },
 "nbformat": 4,
 "nbformat_minor": 5
}
