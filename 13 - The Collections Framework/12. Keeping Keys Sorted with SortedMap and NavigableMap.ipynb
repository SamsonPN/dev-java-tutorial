{
 "cells": [
  {
   "cell_type": "markdown",
   "id": "5fcd32bb",
   "metadata": {},
   "source": [
    "## Methods Added by SortedMap"
   ]
  },
  {
   "cell_type": "markdown",
   "id": "6e225fa4",
   "metadata": {},
   "source": [
    "* SortedMap and NavigableMap are extensions of the Map interface\n",
    "    - NavigableMap is an extension of SortedMap\n",
    "    - the TreeMap implements both SortedMap and NavigableMap\n",
    "        * the TreeMap class is a red-black tree\n",
    "* SortedMap and NavigableMap keep their key/value pairs sorted\n",
    "    - to do so:\n",
    "        * the class of the keys have to implement the Comparable interface\n",
    "        * or you pass in a Comparator for the keys when creating the TreeMap in which it would take precedence even if the keys are Comparable\n",
    "* if you choose to use a TreeMap as your implementation of SortedMap or NavigableMap:\n",
    "    - you can safely cast the set returned by keySet() or entrySet() to SortedSet or NavigableSet()\n",
    "        * NavigableMap also has a method called navigableKeySet() which is a convenience method that returns an instance of NavigableSet that you can use instead of using the keySet() method and manually casting it to NavigableSet\n",
    "* the SortedMap interface adds the following methods to Map:\n",
    "    - firstKey(): returns the lowest key of the map\n",
    "    - lastKey(): returns the greatest key of the map\n",
    "    - headMap(toKey): returns a SortedMap whose keys are < toKey\n",
    "        * creates a SortedMap from \\[head, toKey\\)\n",
    "    - tailMap(fromKey): returns a SortedMap whose keys are >= fromKey\n",
    "        * creates a SortedMap from \\[fromKey, tail\\]\n",
    "    - subMap(fromKey, toKey): returns a SortedMap whose keys are: fromKey <= key < toKey\n",
    "        * basically a slice from \\[fromKey, toKey\\)\n",
    "* these maps are instances of Sortedmap and are views back by the map\n",
    "    - since they're views, any changes made to these maps are reflected in the original map and vice versa\n",
    "    - you can insert/remove keys from these maps but you cannot insert a key outside the boundaries of the map you built\n",
    "        * e.g. if you have a SortedMap made from subMap with keys from \\[2, 5\\], then you cannot insert key = 1 or key = 6\n",
    "        * __THE BOUNDARIES ARE DEFINED BY WHAT YOU PUT INTO THE ARGUMENTS FOR THE METHODS YOU CHOOSE__\n",
    "            - headMap(toKey): cannot put insert anything >= toKey\n",
    "            - tailMap(fromKey): cannot insert anything < fromKey\n",
    "            - subMap(fromKey, toKey): cannot insert anything < fromKey and > toKey"
   ]
  },
  {
   "cell_type": "code",
   "execution_count": 7,
   "id": "ee71509e",
   "metadata": {},
   "outputs": [
    {
     "name": "stdout",
     "output_type": "stream",
     "text": [
      "{-1=negativeOne, 1=one, 2=two}\r\n"
     ]
    }
   ],
   "source": [
    "// headMap\n",
    "SortedMap<Integer, String> map = new TreeMap<>();\n",
    "map.put(1, \"one\");\n",
    "map.put(2, \"two\");\n",
    "map.put(3, \"three\");\n",
    "map.put(5, \"five\");\n",
    "map.put(6, \"six\");\n",
    "\n",
    "SortedMap<Integer, String> headMap = map.headMap(3);\n",
    "\n",
    "// this will succeed\n",
    "headMap.put(-1, \"negativeOne\");\n",
    "\n",
    "System.out.println(headMap);"
   ]
  },
  {
   "cell_type": "code",
   "execution_count": 8,
   "id": "a415b5e4",
   "metadata": {},
   "outputs": [
    {
     "ename": "EvalException",
     "evalue": "key out of range",
     "output_type": "error",
     "traceback": [
      "\u001b[1m\u001b[31m---------------------------------------------------------------------------\u001b[0m",
      "\u001b[1m\u001b[31mjava.lang.IllegalArgumentException: key out of range\u001b[0m",
      "\u001b[1m\u001b[31m\tat java.base/java.util.TreeMap$NavigableSubMap.put(TreeMap.java:1830)\u001b[0m",
      "\u001b[1m\u001b[31m\tat .(#52:2)\u001b[0m"
     ]
    }
   ],
   "source": [
    "// this will throw an IllegalArgumentException\n",
    "headMap.put(4, \"four\");"
   ]
  },
  {
   "cell_type": "code",
   "execution_count": 11,
   "id": "4770132d",
   "metadata": {},
   "outputs": [
    {
     "name": "stdout",
     "output_type": "stream",
     "text": [
      "{3=three, 5=five, 6=six, 7=seven}\r\n"
     ]
    }
   ],
   "source": [
    "// tailMap\n",
    "SortedMap<Integer, String> map = new TreeMap<>();\n",
    "map.put(1, \"one\");\n",
    "map.put(3, \"three\");\n",
    "map.put(5, \"five\");\n",
    "map.put(6, \"six\");\n",
    "\n",
    "SortedMap<Integer, String> tailMap = map.tailMap(3);\n",
    "\n",
    "// this will succeed\n",
    "tailMap.put(7, \"seven\");\n",
    "\n",
    "System.out.println(tailMap);"
   ]
  },
  {
   "cell_type": "code",
   "execution_count": 12,
   "id": "8c0e666d",
   "metadata": {},
   "outputs": [
    {
     "ename": "EvalException",
     "evalue": "key out of range",
     "output_type": "error",
     "traceback": [
      "\u001b[1m\u001b[31m---------------------------------------------------------------------------\u001b[0m",
      "\u001b[1m\u001b[31mjava.lang.IllegalArgumentException: key out of range\u001b[0m",
      "\u001b[1m\u001b[31m\tat java.base/java.util.TreeMap$NavigableSubMap.put(TreeMap.java:1830)\u001b[0m",
      "\u001b[1m\u001b[31m\tat .(#72:2)\u001b[0m"
     ]
    }
   ],
   "source": [
    "// this will throw an IllegalArgumentException\n",
    "tailMap.put(2, \"two\");"
   ]
  },
  {
   "cell_type": "code",
   "execution_count": 13,
   "id": "6e5a8121",
   "metadata": {},
   "outputs": [
    {
     "ename": "EvalException",
     "evalue": "key out of range",
     "output_type": "error",
     "traceback": [
      "\u001b[1m\u001b[31m---------------------------------------------------------------------------\u001b[0m",
      "\u001b[1m\u001b[31mjava.lang.IllegalArgumentException: key out of range\u001b[0m",
      "\u001b[1m\u001b[31m\tat java.base/java.util.TreeMap$NavigableSubMap.put(TreeMap.java:1830)\u001b[0m",
      "\u001b[1m\u001b[31m\tat .(#78:1)\u001b[0m"
     ]
    }
   ],
   "source": [
    "// subMap\n",
    "SortedMap<Integer, String> map = new TreeMap<>();\n",
    "map.put(1, \"one\");\n",
    "map.put(2, \"two\");\n",
    "map.put(5, \"five\");\n",
    "map.put(6, \"six\");\n",
    "\n",
    "SortedMap<Integer, String> subMap = map.subMap(1, 6);\n",
    "\n",
    "// this is ok\n",
    "subMap.put(3, \"three\");\n",
    "\n",
    "// this is not ok\n",
    "subMap.put(0, \"zero\");"
   ]
  },
  {
   "cell_type": "code",
   "execution_count": 5,
   "id": "9ef2939e",
   "metadata": {},
   "outputs": [
    {
     "ename": "EvalException",
     "evalue": "key out of range",
     "output_type": "error",
     "traceback": [
      "\u001b[1m\u001b[31m---------------------------------------------------------------------------\u001b[0m",
      "\u001b[1m\u001b[31mjava.lang.IllegalArgumentException: key out of range\u001b[0m",
      "\u001b[1m\u001b[31m\tat java.base/java.util.TreeMap$NavigableSubMap.put(TreeMap.java:1830)\u001b[0m",
      "\u001b[1m\u001b[31m\tat .(#38:2)\u001b[0m"
     ]
    }
   ],
   "source": [
    "// this is also not ok\n",
    "subMap.put(7, \"seven\");"
   ]
  },
  {
   "cell_type": "markdown",
   "id": "6c739f1e",
   "metadata": {},
   "source": [
    "## Methods Added by NavigableMap"
   ]
  },
  {
   "cell_type": "markdown",
   "id": "98ea8c7b",
   "metadata": {},
   "source": [
    "### Accessing to Specific Keys or Entries\n",
    "\n",
    "* the NavigableMap adds more methods to SortedMap:\n",
    "    - firstKey(): returns lowest key from the map\n",
    "    - firstEntry(): returns the lowest entry from the map\n",
    "    - lastKey(): returns the greatest key from the map\n",
    "    - lastEntry(): returns the greatest entry from the map\n",
    "    - ceilingKey(key): returns the lowest key that's >= argument key\n",
    "    - ceilingEntry(key): returns the lowest entry whose key is >= argument key\n",
    "    - higherKey(key): returns the lowest key that's > argument key\n",
    "        * THIS IS STRICTLY GREATER THAN, NO EQUALS\n",
    "    - higherEntry(key): returns the lowest entry whose key > argument key\n",
    "        * THIS IS STRICTLY GREATER THAN, NO EQUALS\n",
    "    - floorKey(key): returns the greatest key that's <= argument key\n",
    "    - floorEntry(key): returns the greatest entry whose key <= argument key\n",
    "    - lowerKey(key): returns the greatest key that's < argument key\n",
    "        * THIS IS STRICTLY LESS THAN, NO EQUALS\n",
    "    - lowerEntry(key): returns the greatest entry whose key is < argument key\n",
    "        * THIS IS STRICTLY LESS THAN, NO EQUALS"
   ]
  },
  {
   "cell_type": "markdown",
   "id": "6a4464a8",
   "metadata": {},
   "source": [
    "### Accessing your Map with Queue-Like Features\n",
    "\n",
    "* pollFirstEntry(): returns and removes the lowest entry\n",
    "* pollLastEntry(): returns and removes the greatest entry"
   ]
  },
  {
   "cell_type": "markdown",
   "id": "cba87e46",
   "metadata": {},
   "source": [
    "### Traversing your Map in the Reverse Order\n",
    "\n",
    "* navigableKeySet(): convenience method that returns a NavigableSet so that you don't have to cast the result of keySet()\n",
    "* descendingKeySet(): returns a NavigableSet backed by the map, on which you can interate in the descending order\n",
    "* descendingMap(): returns a NavigableMap with the same semantic\n",
    "* both views support element removal but you cannot add anything through them"
   ]
  },
  {
   "cell_type": "code",
   "execution_count": 16,
   "id": "e9864595",
   "metadata": {},
   "outputs": [
    {
     "name": "stdout",
     "output_type": "stream",
     "text": [
      "1 2 3 4 5 \n",
      "5 4 3 2 1 "
     ]
    }
   ],
   "source": [
    "NavigableMap<Integer, String> map = new TreeMap<>();\n",
    "map.put(1, \"one\");\n",
    "map.put(2, \"two\");\n",
    "map.put(3, \"three\");\n",
    "map.put(4, \"four\");\n",
    "map.put(5, \"five\");\n",
    "\n",
    "map.keySet().forEach(key -> System.out.print(key + \" \"));\n",
    "System.out.println();\n",
    "\n",
    "NavigableSet<Integer> descendingKeys = map.descendingKeySet();\n",
    "descendingKeys.forEach(key -> System.out.print(key + \" \"));"
   ]
  },
  {
   "cell_type": "markdown",
   "id": "9b043650",
   "metadata": {},
   "source": [
    "### Getting Submap Views\n",
    "\n",
    "* subMap(fromKey, fromInclusive, toKey, toInclusive): returns a submap where you can decide to include the boundaries\n",
    "    - fromInclusive and toInclusive take in booleans\n",
    "* headMap(toKey, inclusive): headMap but with options to include the toKey\n",
    "    - inclusive takes in a boolean\n",
    "* tailMap(fromKey, inclusive): tail map but with options to include the fromKey\n",
    "    - inclusive takes in a boolean"
   ]
  }
 ],
 "metadata": {
  "kernelspec": {
   "display_name": "Java",
   "language": "java",
   "name": "java"
  },
  "language_info": {
   "codemirror_mode": "java",
   "file_extension": ".jshell",
   "mimetype": "text/x-java-source",
   "name": "Java",
   "pygments_lexer": "java",
   "version": "21+35-2513"
  }
 },
 "nbformat": 4,
 "nbformat_minor": 5
}
