{
 "cells": [
  {
   "cell_type": "markdown",
   "id": "c58f4a46",
   "metadata": {},
   "source": [
    "## Consuming the Content of a Map"
   ]
  },
  {
   "cell_type": "markdown",
   "id": "79755440",
   "metadata": {},
   "source": [
    "* the Map interface has a forEach() method that takes a BiConsumer as an argument instead of a regular Consumer\n",
    "    - remember that Consumers are functional interfaces that take in an argument and doesn't return anything\n",
    "    - a BiConsumer takes in 2 arguments and doesn't return anything"
   ]
  },
  {
   "cell_type": "code",
   "execution_count": 3,
   "id": "358718b6",
   "metadata": {},
   "outputs": [
    {
     "name": "stdout",
     "output_type": "stream",
     "text": [
      "1 :: one\n",
      "2 :: two\n",
      "3 :: three\n"
     ]
    }
   ],
   "source": [
    "Map<Integer, String> map = new HashMap<>();\n",
    "map.put(1, \"one\");\n",
    "map.put(2, \"two\");\n",
    "map.put(3, \"three\");\n",
    "\n",
    "map.forEach((key, value) -> System.out.println(key + \" :: \" + value));"
   ]
  },
  {
   "cell_type": "markdown",
   "id": "85e0491d",
   "metadata": {},
   "source": [
    "## Replacing Values"
   ]
  },
  {
   "cell_type": "markdown",
   "id": "99cb6e1d",
   "metadata": {},
   "source": [
    "* replace(key, value): replaces existing value with the new one, blindly\n",
    "    - equivalent to the put-if-present operation\n",
    "    - also returns the value that was removed from the map\n",
    "* replace(key, existingValue, newValue): overload of replace(key, value) that will only execute the replace operation if the map contains a key/value pair matching the key: existingValue\n",
    "    - returns a boolean, true, if the existingValue was replaced\n",
    "* replaceAll(BiFunction): replaces all values of the map using the BiFunction\n",
    "    - the BiFunction takes in the key and value as arguments and returns a new value which would replace the existing value\n",
    "    - this method iterates internally over all key/value pairs\n",
    "    - remember that a BiFunction is a functional interface that takes in 2 arguments and returns something"
   ]
  },
  {
   "cell_type": "code",
   "execution_count": 5,
   "id": "6272a7db",
   "metadata": {},
   "outputs": [
    {
     "name": "stdout",
     "output_type": "stream",
     "text": [
      "1 :: ONE\n",
      "2 :: TWO\n",
      "3 :: THREE\n"
     ]
    }
   ],
   "source": [
    "Map<Integer, String> map = new HashMap<>();\n",
    "\n",
    "map.put(1, \"one\");\n",
    "map.put(2, \"two\");\n",
    "map.put(3, \"three\");\n",
    "\n",
    "map.replaceAll((key, value) -> value.toUpperCase());\n",
    "map.forEach((key, value) -> System.out.println(key + \" :: \" + value));"
   ]
  },
  {
   "cell_type": "markdown",
   "id": "715b157b",
   "metadata": {},
   "source": [
    "## Computing Values"
   ]
  },
  {
   "cell_type": "markdown",
   "id": "94598ef7",
   "metadata": {},
   "source": [
    "* the Map interface gives you a third way to add key-value pairs to a map or modify its existing values\n",
    "* these methods take the following arguments:\n",
    "    - the key on which the computation is made\n",
    "    - the value bound to that key, in the case of compute() and computeIfPresent()\n",
    "    - a BiFunction that acts as a remapping function, or a mapping function in the case of computeIfAbsent()\n",
    "1. compute(key, mappingFunction): uses the old value bound to the argument key, passes it into the mappingFunction, and binds a newValue to the key in the map\n",
    "    - if the mappingFunction returns null, then the key is removed\n",
    "    - the mapping function is a BiFunction that takes in a key and its corresponding value to return a new value\n",
    "        * _this remapping function can be called with a null value_\n",
    "2. computeIfPresent(key, mappingFunction): similar to compute but actually checks if there is a non-null value bound to the key\n",
    "    - unlike compute(), computeIfPresent()'s mappingFunction cannot be called with a null value\n",
    "        * this makes sense since we check if there is a value bound to the key in the first place\n",
    "3. computeIfAbsent(key, mappingFunction): generates a new value with the mappingFunction and binds it to the key if there isn't already a value bound to the argument key\n",
    "    - unlike compute and computeIfPresent, the the mappingFunction for computeIfAbsent() is a Function, not a BiFunction\n",
    "        * it only takes in 1 argument, key, and returns a new value that can be bound to the key\n",
    "    - the mappingFunction is called if the key is not present in the map or if it is bound to a null value\n",
    "* in summary for all methods:\n",
    "    - if your mappingFunction returns a null value: the key is removed from the map and no mapping is created for that key\n",
    "    - no key/value pair with a null value can be put in the map using one of these 3 methods\n",
    "    - also, the value returned from these methods is the new value bound to that key in the map or null if the remapping function returned null\n",
    "        * _the difference between these 3 methods and put() is that put() returns the previous value bound to the key while these 3 methods return the new value generated from the remapping function_\n",
    "* use case for the computeIfAbsent() method: creating a map with lists as values\n",
    "    - e.g. you have a list of strings: [one, two, three, four, five, six, seven]\n",
    "        * you want to create a map where the keys = length of the words of the list, values = list of words that have the length = key\n",
    "        * e.g. 3 :: [one, two, six], 4 :: [four, five], 5 ::[three, seven]\n",
    "        * in the examples below, you go through each word in the list, initialize a hashmap with the key/value pair: wordLength: listOfWordsWithThatWordLength\n",
    "        * this can be done in several ways but the most performant and elegant way is using computeIfAbsent()\n",
    "            - reason being, its mapping function is in charge of creating the list so it only creates the list ON DEMAND\n",
    "            - also, computeIfAbsent() returns the new value, which is the list, which you can chain the add method to add the word to it immediately\n",
    "                * e.g. if you encounter \"one\"\n",
    "                * you initialize the HashMap with 3 : []\n",
    "                * then you can immediately chain it to add \"one\" to the empty list returned by computeIfAbsent()\n",
    "    - _in cases where the object you add to the map has to be created on demand, using computeIfAbsent() should be preferred over putIfAbsent()_"
   ]
  },
  {
   "cell_type": "code",
   "execution_count": null,
   "id": "d88a62f3",
   "metadata": {},
   "outputs": [],
   "source": [
    "// the following show the basic steps performed by the implementations of \n",
    "// compute(), computeIfPresent(), and computeIfAbsent()\n",
    "\n",
    "// compute()\n",
    " V oldValue = map.get(key);\n",
    " V newValue = remappingFunction.apply(key, oldValue);\n",
    " if (newValue != null) {\n",
    "     map.put(key, newValue);\n",
    " } else if (oldValue != null || map.containsKey(key)) {\n",
    "     map.remove(key);\n",
    " }\n",
    " return newValue;\n",
    " \n",
    "// computeIfPresent()\n",
    "  if (map.get(key) != null) {\n",
    "     V oldValue = map.get(key);\n",
    "     V newValue = remappingFunction.apply(key, oldValue);\n",
    "     if (newValue != null)\n",
    "         map.put(key, newValue);\n",
    "     else\n",
    "         map.remove(key);\n",
    " }\n",
    "\n",
    "// computeIfAbsent()\n",
    " if (map.get(key) == null) {\n",
    "     V newValue = mappingFunction.apply(key);\n",
    "     if (newValue != null)\n",
    "         map.put(key, newValue);\n",
    " }"
   ]
  },
  {
   "cell_type": "code",
   "execution_count": 6,
   "id": "e78c5f36",
   "metadata": {},
   "outputs": [
    {
     "name": "stdout",
     "output_type": "stream",
     "text": [
      "3 :: [one, two, six]\n",
      "4 :: [four, five]\n",
      "5 :: [three, seven]\n"
     ]
    }
   ],
   "source": [
    "// without the compute() method\n",
    "\n",
    "List<String> strings = List.of(\"one\", \"two\", \"three\", \"four\", \"five\", \"six\", \"seven\");\n",
    "Map<Integer, List<String>> map = new HashMap<>();\n",
    "\n",
    "for (String word: strings) {\n",
    "    int length = word.length();\n",
    "    \n",
    "    // initializes the map if it doesn't already have that key/value pair\n",
    "    // so puts 3 : [] in the map when it encounters \"one\"\n",
    "    if (!map.containsKey(length)) {\n",
    "        map.put(length, new ArrayList<>());\n",
    "    }\n",
    "    \n",
    "    // adds the word to the list\n",
    "    map.get(length).add(word);\n",
    "}\n",
    "\n",
    "map.forEach((key, value) -> System.out.println(key + \" :: \" + value));"
   ]
  },
  {
   "cell_type": "code",
   "execution_count": 13,
   "id": "f9962843",
   "metadata": {},
   "outputs": [
    {
     "name": "stdout",
     "output_type": "stream",
     "text": [
      "3 :: [one, two, six]\n",
      "4 :: [four, five]\n",
      "5 :: [three, seven]\n"
     ]
    }
   ],
   "source": [
    "// simplify the for-loop with the putIfAbsent\n",
    "\n",
    "List<String> strings = List.of(\"one\", \"two\", \"three\", \"four\", \"five\", \"six\", \"seven\");\n",
    "Map<Integer, List<String>> map = new HashMap<>();\n",
    "\n",
    "for (String word: strings) {\n",
    "    int length = word.length();\n",
    "    \n",
    "    // not as performant as computeIfAbsent\n",
    "    // b/c putIfAbsent requires a value as an argument\n",
    "    // thus, everytime putIfAbsent is called, an empty List created here\n",
    "    // whereas computeIfAbsent will only create the empty list as needed\n",
    "    // since list creation is done inside the mapping function\n",
    "    // and the mapping function will only be called if the key is not in the map\n",
    "    // or has no values associated with it\n",
    "    map.putIfAbsent(length, new ArrayList<>());\n",
    "    map.get(length).add(word);\n",
    "}\n",
    "\n",
    "map.forEach((key, value) -> System.out.println(key + \" :: \" + value));"
   ]
  },
  {
   "cell_type": "code",
   "execution_count": 12,
   "id": "1e528406",
   "metadata": {},
   "outputs": [
    {
     "name": "stdout",
     "output_type": "stream",
     "text": [
      "3 :: [one, two, six]\n",
      "4 :: [four, five]\n",
      "5 :: [three, seven]\n"
     ]
    }
   ],
   "source": [
    "// using computeIfAbsent(), combines the steps of initializing the map\n",
    "// and adding the word into the list\n",
    "\n",
    "List<String> strings = List.of(\"one\", \"two\", \"three\", \"four\", \"five\", \"six\", \"seven\");\n",
    "Map<Integer, List<String>> map = new HashMap<>();\n",
    "\n",
    "for (String word: strings) {\n",
    "    int length = word.length();\n",
    "    \n",
    "    // more performant than putIfAbsent b/c an empty list is only created ON DEMAND\n",
    "    // it is not created everytime computeIfAbsent is called since list creation\n",
    "    // is done inside the mapping function\n",
    "    // and the mapping function is only called if the key is not in the map\n",
    "    // or the key has a null value bound to it\n",
    "    map.computeIfAbsent(length, (key) -> new ArrayList<>()).add(word);\n",
    "}\n",
    "\n",
    "map.forEach((key, value) -> System.out.println(key + \" :: \" + value));"
   ]
  },
  {
   "cell_type": "markdown",
   "id": "75d21087",
   "metadata": {},
   "source": [
    "## Merging Values"
   ]
  },
  {
   "cell_type": "markdown",
   "id": "64d76760",
   "metadata": {},
   "source": [
    "* computeIfAbsent() works well if your map has values that are an aggregation of other values (like a list) and is __mutable__\n",
    "    - e.g. the previous examples had a list of strings as values and a list is mutable\n",
    "    - but what if your value is a String and you wanted to concatenate new strings into that existing string?\n",
    "        * you cannot do so with computeIfAbsent() b/c String is not a mutable container even though it is an aggregation of other strings\n",
    "        * in these cases, you can use the merge() method\n",
    "* merge(key, value, remappingFunction):\n",
    "    - the merge does 3 things:\n",
    "        1. checks if the argument key has an oldValue associated with it\n",
    "        2. if it doesn't have a value, will bind the argument value to it as the key\n",
    "        3. if it does have a value, it will pass in the oldValue with the newValue into the remappingFunction and will bind the key with the result of the mapping function\n",
    "            - if the mapping function returns null, the key will be removed from the map\n",
    "* in the example below:\n",
    "    - if the length key is not in the map, merge() will just initialize the map with the key and the value passed into it\n",
    "        * e.g. it encounters \"one\" and will add 3 : \"one\" to the map\n",
    "    - if the length key is in the map:\n",
    "        * it will grab the existing value bound to the key with map.get(key)\n",
    "        * it will pass that oldValue along with the newValue passed into it into the remapping function\n",
    "        * the remapping function will return a new value created using the existingValue and newValue passed into it and assign it to the key\n",
    "     - e.g. 3: \"one\" is already in the map\n",
    "         * then merge encounters \"two\" next\n",
    "         * \"two\".length() = 3, and since 3 is already in the map, it will grab the value \"one\" from it\n",
    "         * it will then pass in \"one\" and \"two\" into the mapping function which would combine them to get a new value: \"one, two\"\n",
    "         * this value will now be assigned to 3 like so, 3: \"one, two\"\n",
    " * in both patterns, computeIfAbsent() and merge() has the option to use a closure but doen't. why is that?\n",
    "     - it is better, performance-wise, to use lambdas that don't use closures\n",
    "     - in the example below:\n",
    "         * the lambda could've easily just used the word variable from the for-loop instead of just taking it in as newWord in the lambdas\n"
   ]
  },
  {
   "cell_type": "code",
   "execution_count": null,
   "id": "5649ae7c",
   "metadata": {},
   "outputs": [],
   "source": [
    "// basic steps performed by the implementation of merge()\n",
    "\n",
    " V oldValue = map.get(key);\n",
    " V newValue = (oldValue == null) ? \n",
    "                  value :\n",
    "                  remappingFunction.apply(oldValue, value);\n",
    " if (newValue == null)\n",
    "     map.remove(key);\n",
    " else\n",
    "     map.put(key, newValue);"
   ]
  },
  {
   "cell_type": "code",
   "execution_count": 17,
   "id": "01a0937d",
   "metadata": {},
   "outputs": [
    {
     "name": "stdout",
     "output_type": "stream",
     "text": [
      "3 :: one, two, six\n",
      "4 :: four, five\n",
      "5 :: three, seven\n"
     ]
    }
   ],
   "source": [
    "List<String> strings = List.of(\"one\", \"two\", \"three\", \"four\", \"five\", \"six\", \"seven\");\n",
    "Map<Integer, String> map = new HashMap<>();\n",
    "for (String word: strings) {\n",
    "    int length = word.length();\n",
    "    map.merge(length, word,\n",
    "              (existingValue, newWord) -> existingValue + \", \" + newWord);\n",
    "}\n",
    "\n",
    "map.forEach((key, value) -> System.out.println(key + \" :: \" + value));"
   ]
  },
  {
   "cell_type": "code",
   "execution_count": 21,
   "id": "aaf2885c",
   "metadata": {},
   "outputs": [
    {
     "name": "stdout",
     "output_type": "stream",
     "text": [
      "Are word and newWord the same?: true\n",
      "Are word and newWord the same?: true\n",
      "Are word and newWord the same?: true\n",
      "Are word and newWord the same?: true\n",
      "3 :: one, two, six\n",
      "4 :: four, five\n",
      "5 :: three, seven\n"
     ]
    }
   ],
   "source": [
    "// the lambda function could easily just use a closure to access the word variable\n",
    "// but instead it chooses not to to increase performance\n",
    "// it just takes in a second argument, newWord, which is actually just a new name\n",
    "// for word from the for-loop\n",
    "\n",
    "List<String> strings = List.of(\"one\", \"two\", \"three\", \"four\", \"five\", \"six\", \"seven\");\n",
    "Map<Integer, String> map = new HashMap<>();\n",
    "for (String word: strings) {\n",
    "    int length = word.length();\n",
    "    map.merge(length, word,\n",
    "              (existingValue, newWord) -> {\n",
    "                  System.out.println(\"Are word and newWord the same?: \" + (word.equals(newWord)));\n",
    "                  return existingValue + \", \" + newWord;\n",
    "                });\n",
    "}\n",
    "\n",
    "map.forEach((key, value) -> System.out.println(key + \" :: \" + value));"
   ]
  }
 ],
 "metadata": {
  "kernelspec": {
   "display_name": "Java",
   "language": "java",
   "name": "java"
  },
  "language_info": {
   "codemirror_mode": "java",
   "file_extension": ".jshell",
   "mimetype": "text/x-java-source",
   "name": "Java",
   "pygments_lexer": "java",
   "version": "21+35-2513"
  }
 },
 "nbformat": 4,
 "nbformat_minor": 5
}
