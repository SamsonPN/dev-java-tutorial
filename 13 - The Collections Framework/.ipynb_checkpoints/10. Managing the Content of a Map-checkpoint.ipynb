{
 "cells": [
  {
   "cell_type": "markdown",
   "id": "9c27163a",
   "metadata": {},
   "source": [
    "## Adding a Key Value Pair to a Map"
   ]
  },
  {
   "cell_type": "markdown",
   "id": "f0b06b53",
   "metadata": {},
   "source": [
    "* put(key, value): used to add a key-value pair to a map\n",
    "    - if the key is already present, then the old value will be replaced with the new one\n",
    "    - if key is already present, put returns the existing value\n",
    "        * if it's a new key, it will just return null\n",
    "* putIfAbsent(key, value): also adds a key/value pair to the map only if the key is not already present and not associated to a null value\n",
    "    - i.e. will replace a null value with the new value provided\n",
    "    - useful for getting rid of null values in a map\n",
    "* in the example below:\n",
    "    - the code will fail with a NullPointerException b/c you cannot unbox a null Integer to an int value\n",
    "    - map.values() is actually a Collection\\<Integer\\>\n",
    "        * values() returns a Collection and Integer is the type of the values in the map\n",
    "    - iterating on this collection produces instances of Integer and since we declared the variable value as int in the for-loop, the compiler will try to unbox the Integer returned by map.values()\n",
    "        * this results in it failing and throwing a NullPointerException\n",
    "    - to fix this, we can use the putIfAbsent() method to replace all null values with a default value, -1"
   ]
  },
  {
   "cell_type": "code",
   "execution_count": 1,
   "id": "e527da9c",
   "metadata": {},
   "outputs": [
    {
     "ename": "EvalException",
     "evalue": "Cannot invoke \"java.lang.Integer.intValue()\" because the return value of \"java.util.Iterator.next()\" is null",
     "output_type": "error",
     "traceback": [
      "\u001b[1m\u001b[31m---------------------------------------------------------------------------\u001b[0m",
      "\u001b[1m\u001b[31mjava.lang.NullPointerException: Cannot invoke \"java.lang.Integer.intValue()\" because the return value of \"java.util.Iterator.next()\" is null\u001b[0m",
      "\u001b[1m\u001b[31m\tat .(#18:1)\u001b[0m"
     ]
    }
   ],
   "source": [
    "Map<String, Integer> map = new HashMap<>();\n",
    "map.put(\"one\", 1);\n",
    "map.put(\"two\", null);\n",
    "map.put(\"three\", 3);\n",
    "map.put(\"four\", null);\n",
    "map.put(\"five\", 5);\n",
    "\n",
    "// cannot unbox null Integer to an int value\n",
    "for (int value: map.values()) {\n",
    "    System.out.println(\"value = \" + value);\n",
    "}"
   ]
  },
  {
   "cell_type": "code",
   "execution_count": 3,
   "id": "6c041d3d",
   "metadata": {},
   "outputs": [
    {
     "name": "stdout",
     "output_type": "stream",
     "text": [
      "value = -1\n",
      "value = 1\n",
      "value = -1\n",
      "value = 3\n",
      "value = 5\n"
     ]
    }
   ],
   "source": [
    "Map<String, Integer> map = new HashMap<>();\n",
    "map.put(\"one\", 1);\n",
    "map.put(\"two\", null);\n",
    "map.put(\"three\", 3);\n",
    "map.put(\"four\", null);\n",
    "map.put(\"five\", 5);\n",
    "\n",
    "// the putIfAbsent() method will replace all null values in the map\n",
    "// to be a default value -1\n",
    "for (String key: map.keySet()) {\n",
    "    map.putIfAbsent(key, -1);\n",
    "}\n",
    "\n",
    "// will no longer throw a NullPointerException since all null values\n",
    "// have been replaced with -1\n",
    "for (int value: map.values()) {\n",
    "    System.out.println(\"value = \" + value);\n",
    "}"
   ]
  },
  {
   "cell_type": "markdown",
   "id": "44d18752",
   "metadata": {},
   "source": [
    "## Getting a Value From a Key"
   ]
  },
  {
   "cell_type": "markdown",
   "id": "be06eb40",
   "metadata": {},
   "source": [
    "* get(key): returns a value bound to a given key\n",
    "* getOrDefault(): can also return a value bound to a key but if the key is not in the map, the default value is returned instead"
   ]
  },
  {
   "cell_type": "code",
   "execution_count": 6,
   "id": "e4121bee",
   "metadata": {},
   "outputs": [
    {
     "name": "stdout",
     "output_type": "stream",
     "text": [
      "values = [UNDEFINED, one, two, three, UNDEFINED]\r\n"
     ]
    }
   ],
   "source": [
    "Map<Integer, String> map = new HashMap<>();\n",
    "\n",
    "map.put(1, \"one\");\n",
    "map.put(2, \"two\");\n",
    "map.put(3, \"three\");\n",
    "\n",
    "List<String> values = new ArrayList<>();\n",
    "for (int i = 0; i < 5; i++) {\n",
    "    values.add(map.getOrDefault(i, \"UNDEFINED\"));\n",
    "}\n",
    "\n",
    "System.out.println(\"values = \" + values);"
   ]
  },
  {
   "cell_type": "code",
   "execution_count": null,
   "id": "51bdabe8",
   "metadata": {},
   "outputs": [],
   "source": [
    "// same result but done with a Stream\n",
    "\n",
    "List<String> values = \n",
    "    IntStream.range(0, 5)\n",
    "        .mapToObj(key -> map.getOrDefault(key, \"UNDEFINED\"))\n",
    "        .collect(Collectors.toList());\n",
    "System.out.println(\"values = \" + values);"
   ]
  },
  {
   "cell_type": "markdown",
   "id": "6d6964d7",
   "metadata": {},
   "source": [
    "## Removing a Key from a Map"
   ]
  },
  {
   "cell_type": "markdown",
   "id": "5af889aa",
   "metadata": {},
   "source": [
    "* remove(key): removes a key/value pair\n",
    "    - also returns the value that was bound to that key so it may return null\n",
    "* can be risky to remove a key/value pair blindly from a map if you don't know the value that is bound to that key\n",
    "    - Java SE 8 added an overload that takes a value as a second argument\n",
    "* remove(key, value): overloaded version of remove(key) that returns a boolean true if the key/value pair was removed from the map\n",
    "    - the key/value pair will only be removed if the argument key and value match with a pair in the map\n",
    "    - e.g. remove(\"three\", 3) will be true if map contains \"three\": 3 and false if it contains \"three\": 4"
   ]
  },
  {
   "cell_type": "markdown",
   "id": "09369bd2",
   "metadata": {},
   "source": [
    "## Checking for the Presence of a Key or a Value"
   ]
  },
  {
   "cell_type": "markdown",
   "id": "0f950ccf",
   "metadata": {},
   "source": [
    "* containsKey(key): returns a boolean if the map contains the key\n",
    "* containsValue(value): returns a boolean if the map contains the value"
   ]
  },
  {
   "cell_type": "markdown",
   "id": "68724744",
   "metadata": {},
   "source": [
    "## Checking for the Content of a Map"
   ]
  },
  {
   "cell_type": "markdown",
   "id": "6e36f65d",
   "metadata": {},
   "source": [
    "* isEmpty(): returns true if a map is empty\n",
    "* size(): returns the number of key/value pairs in the map\n",
    "* clear(): removes all contents of the map\n",
    "* putAll(otherMap): adds all entries from otherMap into the current map\n",
    "    - if there are duplicate keys, then otherMap's values will replace the current map's values"
   ]
  },
  {
   "cell_type": "markdown",
   "id": "0d57bf04",
   "metadata": {},
   "source": [
    "## Getting a View on the Keys, the Values or the Entries of a Map"
   ]
  },
  {
   "cell_type": "markdown",
   "id": "a621ae05",
   "metadata": {},
   "source": [
    "* keySet(): returns an instance of Set containing the keys defined in the map\n",
    "    - remember that keys in a map are unique so it makes sense to return a Set\n",
    "* entrySet(): returns an instance of Set<Map.Entry> containing the key/value pairs contained in the map\n",
    "    - same can be said of entries\n",
    "    - you can only have unique entries since you must have unique keys so a Set makes sense\n",
    "* values(): returns an instance of Collection containing the values present in the map\n",
    "    - even though values are bounded by keys, there can be duplicate values in your map\n",
    "    - therefore, it makes sense to house them in a Collection\n",
    "* __these sets are _views_ backed by the current map so any changes made to the map is reflected in those views and vice versa__"
   ]
  },
  {
   "cell_type": "code",
   "execution_count": 10,
   "id": "2c66019e",
   "metadata": {},
   "outputs": [
    {
     "name": "stdout",
     "output_type": "stream",
     "text": [
      "keys = [1, 2, 3, 4, 5, 6]\n",
      "values = [one, two, three, four, five, six]\n",
      "entries = [1=one, 2=two, 3=three, 4=four, 5=five, 6=six]\n"
     ]
    }
   ],
   "source": [
    "Map<Integer, String> map = new HashMap<>();\n",
    "\n",
    "map.put(1, \"one\");\n",
    "map.put(2, \"two\");\n",
    "map.put(3, \"three\");\n",
    "map.put(4, \"four\");\n",
    "map.put(5, \"five\");\n",
    "map.put(6, \"six\");\n",
    "\n",
    "Set<Integer> keys = map.keySet();\n",
    "System.out.println(\"keys = \" + keys);\n",
    "\n",
    "Collection<String> values = map.values();\n",
    "System.out.println(\"values = \" + values);\n",
    "\n",
    "Set<Map.Entry<Integer, String>> entries = map.entrySet();\n",
    "System.out.println(\"entries = \" + entries);"
   ]
  },
  {
   "cell_type": "markdown",
   "id": "2cd8a554",
   "metadata": {},
   "source": [
    "### Removing a Key From the Set of Keys\n",
    "\n",
    "* modifying one of these sets will also be reflected in the map\n",
    "* removing a key from the set returned by keySet() removes the corresponding key/value pair from the map"
   ]
  },
  {
   "cell_type": "code",
   "execution_count": 11,
   "id": "329ac897",
   "metadata": {},
   "outputs": [
    {
     "name": "stdout",
     "output_type": "stream",
     "text": [
      "1=one\n",
      "2=two\n",
      "4=four\n",
      "5=five\n",
      "6=six\n"
     ]
    }
   ],
   "source": [
    "keys.remove(3);\n",
    "entries.forEach(System.out::println);"
   ]
  },
  {
   "cell_type": "markdown",
   "id": "996e6513",
   "metadata": {},
   "source": [
    "### Removing a Value From the Collection of Values\n",
    "\n",
    "* removing values from a collection is a bit more complicated since values are non-unique\n",
    "* in this case, if there are duplicate values, the first occurrence of a key/value pair with the matching value will be removed\n",
    "* in the example below:\n",
    "    - the first key/value pair with a value of 3 is 3: \"three\"\n",
    "    - thus, this is the one that is removed\n",
    "* keep in mind, depending on the implementation, you cannot tell in advance what key/value pair will be found first\n",
    "    - if it's a HashMap(), you cannot tell in advance\n",
    "    - if it's a SortedMap, you can tell since the keys are sorted by their natural order or by some other comparator passed into it when it was initialized"
   ]
  },
  {
   "cell_type": "code",
   "execution_count": 13,
   "id": "cbc58378",
   "metadata": {},
   "outputs": [
    {
     "name": "stdout",
     "output_type": "stream",
     "text": [
      "map = {1=one, 2=two, 4=four}\r\n"
     ]
    }
   ],
   "source": [
    "Map<Integer, String> map = \n",
    "    Map.ofEntries(\n",
    "        Map.entry(1, \"one\"),\n",
    "        Map.entry(2, \"two\"),\n",
    "        Map.entry(3, \"three\"),\n",
    "        Map.entry(4, \"four\")\n",
    "    );\n",
    "map = new HashMap<>(map);\n",
    "map.values().remove(\"three\");\n",
    "System.out.println(\"map = \" + map);"
   ]
  },
  {
   "cell_type": "markdown",
   "id": "38af1af0",
   "metadata": {},
   "source": [
    "*  you also don't have access to all operations on these map sets\n",
    "    - e.g. you cannot add an element to the set of keys or to the collection of values\n",
    "        * you'll get an UnsupportedOperationException\n",
    "* also, if you need to iterate over the key/value pairs of a map, the best way to do that is to iterate over the set of key/value pairs directly\n",
    "    - it is more efficient than iterating over the key set and retrieving the values from the map separately"
   ]
  },
  {
   "cell_type": "code",
   "execution_count": 14,
   "id": "b8556787",
   "metadata": {},
   "outputs": [
    {
     "name": "stdout",
     "output_type": "stream",
     "text": [
      "entry = 1=one\n",
      "entry = 2=two\n",
      "entry = 4=four\n"
     ]
    }
   ],
   "source": [
    "// efficient way of getting the key/value pairs from a map\n",
    "for (Map.Entry<Integer, String> entry : map.entrySet()) {\n",
    "    System.out.println(\"entry = \" + entry);\n",
    "}"
   ]
  }
 ],
 "metadata": {
  "kernelspec": {
   "display_name": "Java",
   "language": "java",
   "name": "java"
  },
  "language_info": {
   "codemirror_mode": "java",
   "file_extension": ".jshell",
   "mimetype": "text/x-java-source",
   "name": "Java",
   "pygments_lexer": "java",
   "version": "21+35-2513"
  }
 },
 "nbformat": 4,
 "nbformat_minor": 5
}
