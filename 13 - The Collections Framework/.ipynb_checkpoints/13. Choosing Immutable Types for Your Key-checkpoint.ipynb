{
 "cells": [
  {
   "cell_type": "markdown",
   "id": "7a9a6ee4",
   "metadata": {},
   "source": [
    "## Avoiding the Use of Mutable Keys"
   ]
  },
  {
   "cell_type": "markdown",
   "id": "7581153c",
   "metadata": {},
   "source": [
    "* __using mutable keys is an antipattern and you should avoid doing it__\n",
    "    - reason being, you could make the contents of your map unreachable\n",
    "* "
   ]
  },
  {
   "cell_type": "code",
   "execution_count": 5,
   "id": "05c673ba",
   "metadata": {},
   "outputs": [
    {
     "name": "stdout",
     "output_type": "stream",
     "text": [
      "map.get(one) = one\n",
      "map.get(two) = two\n",
      "map.get(one) = null\n",
      "map.get(two) = null\n"
     ]
    }
   ],
   "source": [
    "// ANTIPATTERN\n",
    "// DO NOT DO THIS\n",
    "// THIS EXAMPLE IS JUST TO SHOW WHY IT IS AN ANTIPATTERN\n",
    "\n",
    "class Key {\n",
    "    private String key;\n",
    "    \n",
    "    public Key(String key) {\n",
    "        this.key = key;\n",
    "    }\n",
    "    \n",
    "    public String getKey() {\n",
    "        return key;\n",
    "    }\n",
    "    \n",
    "    public void setKey(String key) {\n",
    "        this.key = key;\n",
    "    }\n",
    "    \n",
    "    @Override\n",
    "    public String toString() {\n",
    "        return key;\n",
    "    }\n",
    "    \n",
    "    @Override\n",
    "    public boolean equals(Object o) {\n",
    "        if (this == o) return true;\n",
    "        if (o == null || getClass() != o.getClass()) return false;\n",
    "        Key key = (Key) o;\n",
    "        return Objects.equals(key, key.key);\n",
    "    }\n",
    "    \n",
    "    @Override public int hashCode() {\n",
    "        return key.hashCode();\n",
    "    }\n",
    "}\n",
    "\n",
    "Key one = new Key(\"1\");\n",
    "Key two = new Key(\"2\");\n",
    "\n",
    "Map<Key, String> map = new HashMap<>();\n",
    "map.put(one, \"one\");\n",
    "map.put(two, \"two\");\n",
    "\n",
    "System.out.println(\"map.get(one) = \" + map.get(one));\n",
    "System.out.println(\"map.get(two) = \" + map.get(two));\n",
    "\n",
    "\n",
    "// after mutating the keys\n",
    "// you'll get null\n",
    "one.setKey(\"5\");\n",
    "two.setKey(\"1\");\n",
    "System.out.println(\"map.get(one) = \" + map.get(one));\n",
    "System.out.println(\"map.get(two) = \" + map.get(two));"
   ]
  },
  {
   "cell_type": "markdown",
   "id": "1ad7f139",
   "metadata": {},
   "source": [
    "## Diving in the Structure of HashSet"
   ]
  },
  {
   "cell_type": "markdown",
   "id": "cc472e2c",
   "metadata": {},
   "source": [
    "* the HashSet class is built on an internal HashMap\n",
    "    - the HashSet stores your objects in a HashMap internally and the objects are the keys of this HashMap\n",
    "    - the value it has is just a placeholder object with no significance\n",
    "* in the example below:\n",
    "    - because you mutated the key one, you were actually able to another one to the HashSet\n",
    "        * so basically, you were able to add a duplicate object to the Set which should not be possible!!!"
   ]
  },
  {
   "cell_type": "code",
   "execution_count": null,
   "id": "0cba3621",
   "metadata": {},
   "outputs": [],
   "source": [
    "// what add(element) looks like internally for HashSet\n",
    "\n",
    "private transient HashMap<E,Object> map;\n",
    "private static final Object PRESENT = new Object();\n",
    "\n",
    "public boolean add(E e) {\n",
    "    return map.put(e, PRESENT) == null;\n",
    "}"
   ]
  },
  {
   "cell_type": "code",
   "execution_count": 9,
   "id": "a586687a",
   "metadata": {},
   "outputs": [
    {
     "name": "stdout",
     "output_type": "stream",
     "text": [
      "set = [1, 2]\n",
      "set.contains(one) = false\n",
      "addedOne = true\n",
      "set = [3, 2, 3]\n"
     ]
    }
   ],
   "source": [
    "// previous example but with HashSet\n",
    "\n",
    "Key one = new Key(\"1\");\n",
    "Key two = new Key(\"2\");\n",
    "\n",
    "Set<Key> set = new HashSet<>();\n",
    "set.add(one);\n",
    "set.add(two);\n",
    "\n",
    "System.out.println(\"set = \" + set);\n",
    "\n",
    "one.setKey(\"3\");\n",
    "System.out.println(\"set.contains(one) = \" + set.contains(one));\n",
    "boolean addedOne = set.add(one);\n",
    "System.out.println(\"addedOne = \" + addedOne);\n",
    "System.out.println(\"set = \" + set);"
   ]
  },
  {
   "cell_type": "code",
   "execution_count": 8,
   "id": "3453e19b",
   "metadata": {},
   "outputs": [
    {
     "name": "stdout",
     "output_type": "stream",
     "text": [
      "key0 = 3\n",
      "key2 = 3\n",
      "key0 == key2 ? true\n"
     ]
    }
   ],
   "source": [
    "// you essentially added a duplicate key to the set\n",
    "// the last print showed that they're the same\n",
    "\n",
    "List<Key> list = new ArrayList<>(set);\n",
    "Key key0 = list.get(0);\n",
    "Key key2 = list.get(2);\n",
    "\n",
    "System.out.println(\"key0 = \" + key0);\n",
    "System.out.println(\"key2 = \" + key2);\n",
    "System.out.println(\"key0 == key2 ? \" + (key0 == key2));"
   ]
  }
 ],
 "metadata": {
  "kernelspec": {
   "display_name": "Java",
   "language": "java",
   "name": "java"
  },
  "language_info": {
   "codemirror_mode": "java",
   "file_extension": ".jshell",
   "mimetype": "text/x-java-source",
   "name": "Java",
   "pygments_lexer": "java",
   "version": "21+35-2513"
  }
 },
 "nbformat": 4,
 "nbformat_minor": 5
}
