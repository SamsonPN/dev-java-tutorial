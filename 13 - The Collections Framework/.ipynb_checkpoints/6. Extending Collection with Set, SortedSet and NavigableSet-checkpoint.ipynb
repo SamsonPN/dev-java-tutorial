{
 "cells": [
  {
   "cell_type": "markdown",
   "id": "1d7f4c2a",
   "metadata": {},
   "source": [
    "## Exploring the Set Interface"
   ]
  },
  {
   "cell_type": "markdown",
   "id": "6ba886af",
   "metadata": {},
   "source": [
    "* the Set interface does not introduce any new methods to the Collection interface\n",
    "    - what it brings to the Collection Interface is that it doesn't allow duplicates in a collection\n",
    "    - in addition, you also do not keep track of the order of elements or their indices like in a List\n",
    "        * if you loop over a Set, the order of the Set would not be guaranteed to be the same as the order in which you added each element\n",
    "        * there are some implementations of Set that do maintain add order though\n",
    "* the HashSet is the only plain implementation of the Set interface\n",
    "    - the HashSet, internally, wraps an instance of a HashMap that acts as a delegate for HashSet"
   ]
  },
  {
   "cell_type": "code",
   "execution_count": 5,
   "id": "7a8a71c2",
   "metadata": {},
   "outputs": [
    {
     "name": "stdout",
     "output_type": "stream",
     "text": [
      "six\n",
      "four\n",
      "one\n",
      "two\n",
      "three\n",
      "five\n"
     ]
    }
   ],
   "source": [
    "List<String> strings = List.of(\"one\", \"two\", \"three\", \"four\", \"five\", \"six\");\n",
    "Set<String> set = new HashSet<>();\n",
    "set.addAll(strings);\n",
    "\n",
    "// the order in which each value is printed\n",
    "// is not the same as the order in which each element was added\n",
    "set.forEach(System.out::println);"
   ]
  },
  {
   "cell_type": "markdown",
   "id": "33efc67e",
   "metadata": {},
   "source": [
    "## Extending Set with SortedSet"
   ]
  },
  {
   "cell_type": "markdown",
   "id": "2bdc1dcb",
   "metadata": {},
   "source": [
    "* SortedSet interface:\n",
    "    - extension of the Set interface\n",
    "    - the SortedSet keeps its elements sorted according to a certain comparison logic\n",
    "    - the TreeSet is the only implementation of the SortedSet\n",
    "* TreeSet:\n",
    "    - you can either provide a comparator to this or implement the Comparable interface for the elements you put in the TreeSet\n",
    "    - if you do both, the comparator takes precedence\n",
    "* the SortedSet interface adds new methods to Set:\n",
    "    - first() and last(): returns the lowest and largest elements of the set\n",
    "    - headSet(toElement) and tailSet(fromElement):\n",
    "        * headSet: returns all elements lesser than toElement, _excluding the toElement_, as a subset\n",
    "        * tailSet: returns all elements greater than fromElement, _including the fromElement_, as a subset\n",
    "    - subSet(fromElement, toElement): gives you a subset of the element between fromElement and toElement\n",
    "* __toElement and fromElement do not have to be elements from the main set__\n",
    "    - if they are, toElement is excluded\n",
    "    - fromElement is included\n",
    "* the subsets these methods return are _views_ on the main set, NOT COPIES\n",
    "    - __any changes you make to the subsets returned by these methods will be reflected in the actual set and vice versa__\n",
    "    - you can remove or add elements to the main set through these subsets\n",
    "        * but the subsets do rememeber their limits\n",
    "        * e.g. if you have a headSet and try to add an item to it greater than the toElement passed into it, then you will get an IllegalArgumentException"
   ]
  },
  {
   "cell_type": "code",
   "execution_count": 21,
   "id": "39c593b5",
   "metadata": {},
   "outputs": [
    {
     "name": "stdout",
     "output_type": "stream",
     "text": [
      "sub set = [b, c]\r\n"
     ]
    }
   ],
   "source": [
    "SortedSet<String> strings = new TreeSet<>(Set.of(\"a\", \"b\", \"c\", \"d\", \"e\", \"f\"));\n",
    "SortedSet<String> subSet = strings.subSet(\"aa\", \"d\");\n",
    "System.out.println(\"sub set = \" + subSet);"
   ]
  },
  {
   "cell_type": "code",
   "execution_count": 19,
   "id": "62dddd6a",
   "metadata": {},
   "outputs": [
    {
     "name": "stdout",
     "output_type": "stream",
     "text": [
      "[-3, -2, -1, 1, 2, 4, 99]\n",
      "The first is: -3 and the last is: 99\n",
      "The headSet to 4 is: [-3, -2, -1, 1, 2]\n",
      "The headSet to 5 is: [-3, -2, -1, 1, 2, 4]\n",
      "The tailSet from 4 is: [4, 99]\n",
      "The tailSet from 5 is: [99]\n"
     ]
    }
   ],
   "source": [
    "// the Integer wrapper class implements the Comparable<Integer> interface\n",
    "SortedSet<Integer> integers = new TreeSet<>(Set.of(1, -1, 2, -2, 4, 99, -3));\n",
    "\n",
    "// first and last\n",
    "System.out.println(integers);\n",
    "System.out.println(\"The first is: \" + integers.first() + \" and the last is: \" + integers.last());\n",
    "\n",
    "// headSet and tailSet\n",
    "// this prints all values lower than the value 4\n",
    "// since 4 is present in the Set, 4 is not included\n",
    "System.out.println(\"The headSet to 4 is: \" + integers.headSet(4));\n",
    "\n",
    "// since 5 is not present in the Set, 4 is included\n",
    "System.out.println(\"The headSet to 5 is: \" + integers.headSet(5));\n",
    "\n",
    "// this prints all values greater than the value 4\n",
    "// since 4 is in the Set, it is included\n",
    "System.out.println(\"The tailSet from 4 is: \" + integers.tailSet(4));\n",
    "\n",
    "// since 5 is not in the Set, it is not included\n",
    "System.out.println(\"The tailSet from 5 is: \" + integers.tailSet(5));"
   ]
  },
  {
   "cell_type": "code",
   "execution_count": 27,
   "id": "fd0cdef5",
   "metadata": {},
   "outputs": [
    {
     "name": "stdout",
     "output_type": "stream",
     "text": [
      "[-1, 0, 5]\n",
      "[-1, 0, 3, 5]\n"
     ]
    },
    {
     "ename": "EvalException",
     "evalue": "key out of range",
     "output_type": "error",
     "traceback": [
      "\u001b[1m\u001b[31m---------------------------------------------------------------------------\u001b[0m",
      "\u001b[1m\u001b[31mjava.lang.IllegalArgumentException: key out of range\u001b[0m",
      "\u001b[1m\u001b[31m\tat java.base/java.util.TreeMap$NavigableSubMap.put(TreeMap.java:1830)\u001b[0m",
      "\u001b[1m\u001b[31m\tat java.base/java.util.TreeSet.add(TreeSet.java:259)\u001b[0m",
      "\u001b[1m\u001b[31m\tat .(#91:1)\u001b[0m"
     ]
    }
   ],
   "source": [
    "SortedSet<Integer> integers = new TreeSet<>(Set.of(-1, 0, 5, 6));\n",
    "SortedSet<Integer> subset = integers.subSet(-2, 6);\n",
    "System.out.println(subset);\n",
    "\n",
    "// added the number 3 to the subset\n",
    "// which was reflected in the actual integers set\n",
    "subset.add(3);\n",
    "System.out.println(subset);\n",
    "\n",
    "// if you try to add something beyond the subset limit,\n",
    "// then the compiler will throw an IllegalArgumentException\n",
    "subset.add(7);"
   ]
  },
  {
   "cell_type": "markdown",
   "id": "5f6c3fb5",
   "metadata": {},
   "source": [
    "## Extending SortedSet with NavigableSet"
   ]
  },
  {
   "cell_type": "markdown",
   "id": "3f20af56",
   "metadata": {},
   "source": [
    "* TreeSet is also retrofitted to implement the NavigableSet\n",
    "* some methods are overloaded by NavigableSet:\n",
    "    - headSet(), tailSet(), and subSet(): can take an extra boolean argument to determine if you want to include/exclude the fromElement and toElement in the subset\n",
    "* other methods were added:\n",
    "    - ceiling(element): return the lowest element >= argument element\n",
    "        * i.e. something immediately above the argument element, including itself\n",
    "    - floor(element): return the greatest element <= argument element\n",
    "        * i.e. something immediately below the element, including itself\n",
    "    - lower(element): return the greatest element < argument element\n",
    "        * i.e. something immediately below the argument element, excluding itself\n",
    "    - higher(element): return the lowest element > argument element\n",
    "        * i.e. something immediately above the argument element, excluding itself\n",
    "    - pollFirst() and pollLast(): return and removes the lowest or the greatest element of the set\n",
    "* NavigableSet also allows you to iterate over its elements in descending order\n",
    "    - descendingIterator(): returns an Iterator object that traverses the set in the descending order\n",
    "    - descendingSet(): returns another NavigableSet that is a view of this set (meaning any changes to this set are reflected in the main set) and is sorted in the reversed order"
   ]
  },
  {
   "cell_type": "code",
   "execution_count": 34,
   "id": "bf6ae378",
   "metadata": {},
   "outputs": [
    {
     "name": "stdout",
     "output_type": "stream",
     "text": [
      "The headSet including 4: [-3, -2, -1, 1, 2, 4]\n",
      "The tailSet excluding 4: [99]\n",
      "The subSet excluding fromElement and including toElement: [1, 2, 4]\n"
     ]
    }
   ],
   "source": [
    "NavigableSet<Integer> integers = new TreeSet<>(Set.of(1, -1, 2, -2, 4, 99, -3));\n",
    "\n",
    "// overloaded methods\n",
    "System.out.println(\"The headSet including 4: \" + integers.headSet(4, true));\n",
    "System.out.println(\"The tailSet excluding 4: \" + integers.tailSet(4, false));\n",
    "System.out.println(\"The subSet excluding fromElement and including toElement: \" + integers.subSet(-1, false, 4, true));"
   ]
  },
  {
   "cell_type": "code",
   "execution_count": 43,
   "id": "891bb6d5",
   "metadata": {},
   "outputs": [
    {
     "name": "stdout",
     "output_type": "stream",
     "text": [
      "Ceiling not in Set: 4\n",
      "Floor not in Set: 2\n",
      "Ceiling in Set: 4\n",
      "Floor in Set: 4\n",
      "Lower: 2\n",
      "Higher: 99\n"
     ]
    }
   ],
   "source": [
    "NavigableSet<Integer> integers = new TreeSet<>(Set.of(1, -1, 2, -2, 4, 99, -3));\n",
    "\n",
    "// calling ceiling and floor on a value that does not exist in the Set\n",
    "System.out.println(\"Ceiling not in Set: \" + integers.ceiling(3));\n",
    "System.out.println(\"Floor not in Set: \" + integers.floor(3));\n",
    "\n",
    "// if the element is included in the Set\n",
    "// then that value is the answer\n",
    "System.out.println(\"Ceiling in Set: \" + integers.ceiling(4));\n",
    "System.out.println(\"Floor in Set: \" + integers.floor(4));\n",
    "\n",
    "// they're the same as floor and ceiling respectively\n",
    "// but they disregard if the element is in the Set\n",
    "System.out.println(\"Lower: \" + integers.lower(4));\n",
    "System.out.println(\"Higher: \" + integers.higher(4));"
   ]
  },
  {
   "cell_type": "code",
   "execution_count": 57,
   "id": "82c02f46",
   "metadata": {},
   "outputs": [
    {
     "name": "stdout",
     "output_type": "stream",
     "text": [
      "sorted strings = [a, b, c, d, e, f]\n",
      "\n",
      "Using a for loop: \n",
      "\n",
      "f\n",
      "e\n",
      "d\n",
      "c\n",
      "b\n",
      "a\n",
      "\n",
      "Using a while loop: \n",
      "\n",
      "f\n",
      "e\n",
      "d\n",
      "c\n",
      "b\n",
      "a\n",
      "\n",
      "reversed strings using descendingSet() = [f, e, d, c, b, a]\n"
     ]
    }
   ],
   "source": [
    "NavigableSet<String> sortedStrings = new TreeSet<>(Set.of(\"a\", \"b\", \"c\", \"d\", \"e\", \"f\"));\n",
    "System.out.println(\"sorted strings = \" + sortedStrings);\n",
    "\n",
    "// using descendingIterator\n",
    "System.out.println(\"\\nUsing a for loop: \\n\");\n",
    "for (Iterator<String> iterator = sortedStrings.descendingIterator(); iterator.hasNext();) {\n",
    "    String element = iterator.next();\n",
    "    System.out.println(element);\n",
    "}\n",
    "\n",
    "System.out.println(\"\\nUsing a while loop: \\n\");\n",
    "Iterator<String> iterator = sortedStrings.descendingIterator();\n",
    "while (iterator.hasNext()) {\n",
    "    String element = iterator.next();\n",
    "    System.out.println(element);\n",
    "}\n",
    "\n",
    "// using descendingSet()\n",
    "NavigableSet<String> reversedStrings = sortedStrings.descendingSet();\n",
    "System.out.println(\"\\nreversed strings using descendingSet() = \" + reversedStrings);"
   ]
  }
 ],
 "metadata": {
  "kernelspec": {
   "display_name": "Java",
   "language": "java",
   "name": "java"
  },
  "language_info": {
   "codemirror_mode": "java",
   "file_extension": ".jshell",
   "mimetype": "text/x-java-source",
   "name": "Java",
   "pygments_lexer": "java",
   "version": "21+35-2513"
  }
 },
 "nbformat": 4,
 "nbformat_minor": 5
}
