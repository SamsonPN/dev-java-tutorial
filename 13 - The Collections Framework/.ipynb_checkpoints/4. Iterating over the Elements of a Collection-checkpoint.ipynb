{
 "cells": [
  {
   "cell_type": "markdown",
   "id": "0f620de1",
   "metadata": {},
   "source": [
    "## Using the for-each Pattern"
   ]
  },
  {
   "cell_type": "markdown",
   "id": "5083f0c4",
   "metadata": {},
   "source": [
    "* this is used if you only need to read the elements of the collection\n",
    "* you would want to use the Iterator pattern for other operations like removing an element while you iterate over a collection"
   ]
  },
  {
   "cell_type": "code",
   "execution_count": 2,
   "id": "61c0314d",
   "metadata": {},
   "outputs": [
    {
     "name": "stdout",
     "output_type": "stream",
     "text": [
      "one\n",
      "two\n",
      "three\n"
     ]
    }
   ],
   "source": [
    "Collection<String> strings = List.of(\"one\", \"two\", \"three\");\n",
    "\n",
    "for (String element: strings) {\n",
    "    System.out.println(element);\n",
    "}"
   ]
  },
  {
   "cell_type": "markdown",
   "id": "1410dbc1",
   "metadata": {},
   "source": [
    "## Using an Iterator on a Collection"
   ]
  },
  {
   "cell_type": "markdown",
   "id": "6e1a233c",
   "metadata": {},
   "source": [
    "* iterating over a collection of elements requires the use of the iterator object\n",
    "    - this iterator object is returned from the iterator() method from any implementation of the Collections interface\n",
    "* iterating over elements in a collection using the Iterator pattern is a two-step process:\n",
    "    1. need to check if there are any elements remaining in the collection before proceeding using the hasNext() method\n",
    "    2. you can then advance to that next element using the next() method\n",
    "        - if you call this method when there are no more elements left, you will get a NoSuchElementException\n",
    "        - calling hasNext() to check for a next element will ensure that you won't get this exception\n",
    "* remove(): removes the current element from the collection\n",
    "    - there are cases where this method is not supported and will throw an UnsupportedOperationException, e.g. calling remove() on an immutable collection cannot work\n",
    "    - the implementation of the Iterator you get from ArrayList, LinkedList, and HashSet all support the remove operation"
   ]
  },
  {
   "cell_type": "code",
   "execution_count": 7,
   "id": "cfe65820",
   "metadata": {},
   "outputs": [
    {
     "name": "stdout",
     "output_type": "stream",
     "text": [
      "one\n",
      "two\n"
     ]
    }
   ],
   "source": [
    "Collection<String> strings = List.of(\"one\", \"two\", \"three\", \"four\");\n",
    "\n",
    "// you grab the Iterator object using the iterator() method on any collection\n",
    "// and in this for loop, we check if the collection has a next item before proceeding\n",
    "for (Iterator<String> iterator = strings.iterator(); iterator.hasNext();) {\n",
    "    String element = iterator.next();\n",
    "    if (element.length() == 3) {\n",
    "        System.out.println(element);\n",
    "    }\n",
    "}"
   ]
  },
  {
   "cell_type": "markdown",
   "id": "dad051e4",
   "metadata": {},
   "source": [
    "## Updating a Collection While Iterating Over It"
   ]
  },
  {
   "cell_type": "markdown",
   "id": "5784e238",
   "metadata": {},
   "source": [
    "* if you modify the contents of a collection while iterating over it, you might get a ConcurrentModificationException\n",
    "    - this exception is also used in concurrent programming but you might see this without touching multithreaded programming\n",
    "* in the example below:\n",
    "    - you're trying to remove an element from the ArrayList while still iterating over it\n",
    "    - if you want to remove an element based on some criteria, it is better to use the removeIf() method with a Predicate as an argument"
   ]
  },
  {
   "cell_type": "code",
   "execution_count": 11,
   "id": "5f8e9c61",
   "metadata": {},
   "outputs": [],
   "source": [
    "// this would throw a ConcurrentModificationException\n",
    "\n",
    "Collection<String> strings = new ArrayList<>();\n",
    "strings.add(\"one\");\n",
    "strings.add(\"two\");\n",
    "\n",
    "Iterator<String> iterator = strings.iterator();\n",
    "while (iterator.hasNext()) {\n",
    "    String element = iterator.next();\n",
    "    strings.remove(element);\n",
    "}"
   ]
  },
  {
   "cell_type": "markdown",
   "id": "c01a2de8",
   "metadata": {},
   "source": [
    "## Implementing the Iterable Interface"
   ]
  },
  {
   "cell_type": "markdown",
   "id": "79fd36a1",
   "metadata": {},
   "source": [
    "* suppose you need to create a Range class that models a range of integers between 2 limits\n",
    "    - you just need to iterate from the first integer to the last integer"
   ]
  },
  {
   "cell_type": "code",
   "execution_count": 17,
   "id": "4fc608e9",
   "metadata": {},
   "outputs": [
    {
     "name": "stdout",
     "output_type": "stream",
     "text": [
      "i = 0\n",
      "i = 1\n",
      "i = 2\n",
      "i = 3\n",
      "i = 4\n"
     ]
    }
   ],
   "source": [
    "// able to implement the Iterable interface with a record\n",
    "\n",
    "record Range(int start, int end) implements Iterable<Integer> {\n",
    "\n",
    "    @Override\n",
    "    public Iterator<Integer> iterator() {\n",
    "        return new Iterator<>() {\n",
    "            private int index = start;\n",
    "            \n",
    "            @Override\n",
    "            public boolean hasNext() {\n",
    "                return index < end;\n",
    "            }\n",
    "\n",
    "            @Override\n",
    "            public Integer next() {\n",
    "                if (index > end) {\n",
    "                    throw new NoSuchElementException(\"\" + index);\n",
    "                }\n",
    "                int currentIndex = index;\n",
    "                index++;\n",
    "                return currentIndex;\n",
    "            }\n",
    "        };\n",
    "    }\n",
    "}\n",
    "\n",
    "for (int i : new Range(0, 5)) {\n",
    "    System.out.println(\"i = \" + i);\n",
    "}"
   ]
  },
  {
   "cell_type": "code",
   "execution_count": 20,
   "id": "776be0f4",
   "metadata": {},
   "outputs": [
    {
     "name": "stdout",
     "output_type": "stream",
     "text": [
      "i = 0\n",
      "i = 1\n",
      "i = 2\n",
      "i = 3\n",
      "i = 4\n"
     ]
    }
   ],
   "source": [
    "// same as the record but with a plain class\n",
    "\n",
    "class Range implements Iterable<Integer> {\n",
    "\n",
    "    private final int start;\n",
    "    private final int end;\n",
    "    \n",
    "    public Range(int start, int end) {\n",
    "        this.start = start;\n",
    "        this.end = end;\n",
    "    }\n",
    "    \n",
    "    @Override\n",
    "    public Iterator<Integer> iterator() {\n",
    "        return new Iterator<>() {\n",
    "            private int index = start;\n",
    "            \n",
    "            @Override\n",
    "            public boolean hasNext() {\n",
    "                return index < end;\n",
    "            }\n",
    "\n",
    "            @Override\n",
    "            public Integer next() {\n",
    "                if (index > end) {\n",
    "                    throw new NoSuchElementException(\"\" + index);\n",
    "                }\n",
    "                int currentIndex = index;\n",
    "                index++;\n",
    "                return currentIndex;\n",
    "            }\n",
    "        };\n",
    "    }\n",
    "}\n",
    "\n",
    "for (int i : new Range(0, 5)) {\n",
    "    System.out.println(\"i = \" + i);\n",
    "}"
   ]
  }
 ],
 "metadata": {
  "kernelspec": {
   "display_name": "Java",
   "language": "java",
   "name": "java"
  },
  "language_info": {
   "codemirror_mode": "java",
   "file_extension": ".jshell",
   "mimetype": "text/x-java-source",
   "name": "Java",
   "pygments_lexer": "java",
   "version": "21+35-2513"
  }
 },
 "nbformat": 4,
 "nbformat_minor": 5
}
