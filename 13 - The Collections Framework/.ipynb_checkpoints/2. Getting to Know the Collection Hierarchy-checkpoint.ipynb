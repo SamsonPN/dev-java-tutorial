{
 "cells": [
  {
   "cell_type": "markdown",
   "id": "db74c8c6",
   "metadata": {},
   "source": [
    "## Avoiding Getting Lost in the Collection Hierarchy"
   ]
  },
  {
   "cell_type": "markdown",
   "id": "55822a8a",
   "metadata": {},
   "source": [
    "* Collection interface hierarchy\n",
    "    - some of them have been omitted\n",
    "![The Collection Interface Hierarchy](https://dev.java/assets/images/collections-framework/01_interfaces-hierarchy.png)"
   ]
  },
  {
   "cell_type": "markdown",
   "id": "2228f108",
   "metadata": {},
   "source": [
    "## The Iterable Interface"
   ]
  },
  {
   "cell_type": "markdown",
   "id": "7ceb2500",
   "metadata": {},
   "source": [
    "* the iterable interface is a super interface of the Collection interface and thus of all the interfaces of the Collections hierarchy\n",
    "* an object that implements the Iterable interface is an object that you can iterate over\n",
    "    - you can use the for each pattern to iterate over any Iterable object"
   ]
  },
  {
   "cell_type": "code",
   "execution_count": null,
   "id": "5d9a348a",
   "metadata": {},
   "outputs": [],
   "source": [
    "// able to use this for loop for any instance of Iterable\n",
    "Collection<String> collection = ...; \n",
    "\n",
    "for (String element: collection) {\n",
    "    // do something with element\n",
    "}"
   ]
  },
  {
   "cell_type": "markdown",
   "id": "5edb5222",
   "metadata": {},
   "source": [
    "## Storing Elements in a Container with the Collection Interface"
   ]
  },
  {
   "cell_type": "markdown",
   "id": "044d9b3c",
   "metadata": {},
   "source": [
    "* all other interfaces are about storing elements in containers\n",
    "* what you can do with a Collection, in general terms:\n",
    "    - add or remove elements\n",
    "    - test for the presence of a given element\n",
    "    - ask for the number of elements contained, or if this collection is empty\n",
    "    - clear this content\n",
    "* since a Collection is also a set of elements, you can also do set operations defined on the Collection interface\n",
    "    - testing for the inclusion of a set in another set\n",
    "    - union\n",
    "    - intersection\n",
    "    - complement\n",
    "* the Collection interface also models different ways of accessing its elements:\n",
    "    - you can iterate over the elments of a collection through the user of an iterator\n",
    "    - you can create a stream on these elements that can be parallel"
   ]
  },
  {
   "cell_type": "markdown",
   "id": "6dc27f73",
   "metadata": {},
   "source": [
    "## Extending Collection with List"
   ]
  },
  {
   "cell_type": "markdown",
   "id": "37670136",
   "metadata": {},
   "source": [
    "* difference between List of elements and Collection of elements:\n",
    "    - __a list remembers in what order its elements have been added__\n",
    "* first consequence of this:\n",
    "    - if you iterate over the elements of a list, the first element is the first one that's been added, etc\n",
    "    - the order of the elements you iterate over will always be the same\n",
    "    - __order is not guaranteed in a plain Collection or a Set__\n",
    "        * there are some implementations of Set provided by the Collections Framework that happen to always iterate over the elements in the same order\n",
    "        * this is an accidental effect and your code should not rely on this behavior\n",
    "* second consequence of this:\n",
    "    - the elements of a list have an index\n",
    "        * it doesn't make sense to query a collection for its first element\n",
    "        * but it does make sense for a list b/c it keeps track of that stuff\n",
    "* the List interface adds new operations to the Collection interface and since elements of a list have an index you can do this stuff with them:\n",
    "    - get an element at a specific index or delete it\n",
    "    - insert an element or replace an element at a specific position\n",
    "    - get a range of elements between two indexes"
   ]
  },
  {
   "cell_type": "markdown",
   "id": "e743b8c1",
   "metadata": {},
   "source": [
    "## Extending Collection with Set"
   ]
  },
  {
   "cell_type": "markdown",
   "id": "e3909f0c",
   "metadata": {},
   "source": [
    "* difference between Set of elements and Collection of elements:\n",
    "    - __you cannot have duplicates in a Set__\n",
    "    - in a collection:\n",
    "        * you can have several instances of the same class that are equal in a Collection\n",
    "        * or even the same instance more than once\n",
    "    - this is not allowed in a Set\n",
    "* one of the consequences of this behavior:\n",
    "    - __adding an element to a Set may fail__\n",
    "* no new operations in the Set interface due to this behavior"
   ]
  },
  {
   "cell_type": "markdown",
   "id": "bd0b7fbe",
   "metadata": {},
   "source": [
    "## Sorting the element of a Set with SortedSet and NavigableSet"
   ]
  },
  {
   "cell_type": "markdown",
   "id": "01bbe19e",
   "metadata": {},
   "source": [
    "* the Set interface has 2 extensions:\n",
    "    1. SortedSet\n",
    "    2. NavigableSet\n",
    "* SortedSet\n",
    "    - maintains elements sorted in ascending order\n",
    "    - to sort them, SortedSet needs to compare your elements\n",
    "    - there are 2 standard mechanisms for that:\n",
    "        1. elements may implement the Comparable interface and provide a compareTo() method\n",
    "        2. you give a comparator to the SortedSet so that it can compare them\n",
    "    - even if your elements are Comparable, you can still provide a comparator if you need to sort elements in a way that is different than how compareTo() does it\n",
    "    - difference between sorting and ordering?\n",
    "        * a List keeps its elements in the order they have been added\n",
    "        * a SortedSet keeps them sorted\n",
    "            - sorting elements means that the first element you get while traversing a set will be the lowest one in the sense of a given comparison logic\n",
    "        * ordering elements means that the order in which you added them in a list is kept throughout the life of this list\n",
    "            - so the first element you get while traversing a list is the first that has been added to it\n",
    "    - here is what you can do with a SortedSet:\n",
    "        * get the lowest element and the largest element of the set\n",
    "        * can extract a headSet and a tailSEt of all the elements lesser than or greater than a given element\n",
    "    - iterating over the elements of a SortedSet will be made from the lowest element to the greatest element\n",
    "* NavigableSet:\n",
    "    - does not change behavior of a SortedSet\n",
    "    - adds some useful operations on SortedSet like the ability to iterate over the elements in the descending order"
   ]
  }
 ],
 "metadata": {
  "kernelspec": {
   "display_name": "Java",
   "language": "java",
   "name": "java"
  },
  "language_info": {
   "codemirror_mode": "java",
   "file_extension": ".jshell",
   "mimetype": "text/x-java-source",
   "name": "Java",
   "pygments_lexer": "java",
   "version": "21+35-2513"
  }
 },
 "nbformat": 4,
 "nbformat_minor": 5
}
