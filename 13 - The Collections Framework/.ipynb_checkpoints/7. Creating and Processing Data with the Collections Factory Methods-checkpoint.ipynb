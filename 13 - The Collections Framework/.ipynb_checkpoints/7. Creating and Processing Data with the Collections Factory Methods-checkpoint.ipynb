{
 "cells": [
  {
   "cell_type": "markdown",
   "id": "39facfc0",
   "metadata": {},
   "source": [
    "## Creating Immutable Collections"
   ]
  },
  {
   "cell_type": "markdown",
   "id": "cfe899e0",
   "metadata": {},
   "source": [
    "* Java SE 9 added a set of factory methods to the List and SEt interfaces to create immutable lists and sets:\n",
    "    - List.of(): creates an immutable list of elements passed into it\n",
    "    - Set.of(): creates an immutable set of elements passed into it\n",
    "* several points about this:\n",
    "    - the implementation you get in return may vary with the number of elements you put in the list or set\n",
    "        * none of them are ArrayList or HashSet so your code should not rely on that\n",
    "    - both the list and set you get are immutable structures\n",
    "        * can't add or modify elements in them but if the objects of these structures are mutable, you can still mutate them\n",
    "    - they don't accept null values\n",
    "        * an exception will be thrown if you try\n",
    "    - the Set interface does not allow duplicates\n",
    "        * therefore, trying to do so with duplicate values will throw an exception\n",
    "    - all the implementations you get are Serializable\n",
    "* the of() methods are referred to as _convenience factory methods for collections_"
   ]
  },
  {
   "cell_type": "code",
   "execution_count": 9,
   "id": "4411793a",
   "metadata": {},
   "outputs": [
    {
     "name": "stdout",
     "output_type": "stream",
     "text": [
      "stringList: [one, two, three]\n",
      "stringSet: [two, one, three]\n"
     ]
    }
   ],
   "source": [
    "List<String> stringList = List.of(\"one\", \"two\", \"three\");\n",
    "Set<String> stringSet = Set.of(\"one\", \"two\", \"three\");\n",
    "\n",
    "System.out.println(\"stringList: \" + stringList);\n",
    "System.out.println(\"stringSet: \" + stringSet);"
   ]
  },
  {
   "cell_type": "code",
   "execution_count": 11,
   "id": "0968fd07",
   "metadata": {},
   "outputs": [
    {
     "ename": "EvalException",
     "evalue": "null",
     "output_type": "error",
     "traceback": [
      "\u001b[1m\u001b[31m---------------------------------------------------------------------------\u001b[0m",
      "\u001b[1m\u001b[31mjava.lang.NullPointerException: null\u001b[0m",
      "\u001b[1m\u001b[31m\tat java.base/java.util.Objects.requireNonNull(Objects.java:233)\u001b[0m",
      "\u001b[1m\u001b[31m\tat java.base/java.util.ImmutableCollections$List12.<init>(ImmutableCollections.java:571)\u001b[0m",
      "\u001b[1m\u001b[31m\tat java.base/java.util.List.of(List.java:954)\u001b[0m",
      "\u001b[1m\u001b[31m\tat .(#12:2)\u001b[0m"
     ]
    }
   ],
   "source": [
    "// does not accept null values\n",
    "List<String> stringList = List.of(\"one\", null);"
   ]
  },
  {
   "cell_type": "code",
   "execution_count": 8,
   "id": "3b54e970",
   "metadata": {},
   "outputs": [
    {
     "ename": "EvalException",
     "evalue": "duplicate element: three",
     "output_type": "error",
     "traceback": [
      "\u001b[1m\u001b[31m---------------------------------------------------------------------------\u001b[0m",
      "\u001b[1m\u001b[31mjava.lang.IllegalArgumentException: duplicate element: three\u001b[0m",
      "\u001b[1m\u001b[31m\tat java.base/java.util.ImmutableCollections$SetN.<init>(ImmutableCollections.java:925)\u001b[0m",
      "\u001b[1m\u001b[31m\tat java.base/java.util.Set.of(Set.java:524)\u001b[0m",
      "\u001b[1m\u001b[31m\tat .(#13:2)\u001b[0m"
     ]
    }
   ],
   "source": [
    "// exception thrown if you try to make a set with a duplicate\n",
    "Set<String> stringSet = Set.of(\"one\", \"two\", \"three\", \"three\");"
   ]
  },
  {
   "cell_type": "code",
   "execution_count": 6,
   "id": "5dace7bc",
   "metadata": {},
   "outputs": [
    {
     "ename": "EvalException",
     "evalue": "null",
     "output_type": "error",
     "traceback": [
      "\u001b[1m\u001b[31m---------------------------------------------------------------------------\u001b[0m",
      "\u001b[1m\u001b[31mjava.lang.UnsupportedOperationException: null\u001b[0m",
      "\u001b[1m\u001b[31m\tat java.base/java.util.ImmutableCollections.uoe(ImmutableCollections.java:142)\u001b[0m",
      "\u001b[1m\u001b[31m\tat java.base/java.util.ImmutableCollections$AbstractImmutableList.set(ImmutableCollections.java:262)\u001b[0m",
      "\u001b[1m\u001b[31m\tat .(#21:1)\u001b[0m"
     ]
    }
   ],
   "source": [
    "// cannot modify the list\n",
    "List<String> stringList = List.of(\"one\", \"two\", \"three\");\n",
    "System.out.println(stringList.set(0, \"three\"));"
   ]
  },
  {
   "cell_type": "code",
   "execution_count": 7,
   "id": "3fb5b3fe",
   "metadata": {},
   "outputs": [
    {
     "ename": "EvalException",
     "evalue": "null",
     "output_type": "error",
     "traceback": [
      "\u001b[1m\u001b[31m---------------------------------------------------------------------------\u001b[0m",
      "\u001b[1m\u001b[31mjava.lang.UnsupportedOperationException: null\u001b[0m",
      "\u001b[1m\u001b[31m\tat java.base/java.util.ImmutableCollections.uoe(ImmutableCollections.java:142)\u001b[0m",
      "\u001b[1m\u001b[31m\tat java.base/java.util.ImmutableCollections$AbstractImmutableCollection.add(ImmutableCollections.java:147)\u001b[0m",
      "\u001b[1m\u001b[31m\tat .(#22:1)\u001b[0m"
     ]
    }
   ],
   "source": [
    "// cannot add to the list\n",
    "List<String> stringList = List.of(\"one\", \"two\", \"three\");\n",
    "stringList.add(\"four\");"
   ]
  },
  {
   "cell_type": "code",
   "execution_count": 19,
   "id": "593f101a",
   "metadata": {},
   "outputs": [
    {
     "name": "stdout",
     "output_type": "stream",
     "text": [
      "Rebecca\n",
      "Samson\n",
      "\n",
      "After modifying the first index's User object: \n",
      "Oliver\n",
      "Samson\n"
     ]
    }
   ],
   "source": [
    "// the collection is immutable and you can't add/remove from the collection\n",
    "// or change the elements in them\n",
    "\n",
    "// but if the element itself is mutable, like with these User objects\n",
    "// then you can modify the element itself\n",
    "class User {\n",
    "    private String name;\n",
    "    public User(String name) {\n",
    "        this.name = name;\n",
    "    }\n",
    "    \n",
    "    public String getName() {\n",
    "        return this.name;\n",
    "    }\n",
    "    \n",
    "    public void setName(String newName) {\n",
    "        this.name = newName;\n",
    "    }\n",
    "}\n",
    "\n",
    "// original list\n",
    "List<User> userList = List.of(new User(\"Rebecca\"), new User(\"Samson\"));\n",
    "userList.forEach((User user) -> System.out.println(user.getName()));\n",
    "\n",
    "// able to modify the User object itself\n",
    "System.out.println(\"\\nAfter modifying the first index's User object: \");\n",
    "userList.get(0).setName(\"Oliver\");\n",
    "userList.forEach((User user) -> System.out.println(user.getName()));"
   ]
  },
  {
   "cell_type": "markdown",
   "id": "e2ad0c76",
   "metadata": {},
   "source": [
    "## Getting an Immutable Copy of a Collection"
   ]
  },
  {
   "cell_type": "markdown",
   "id": "0af14786",
   "metadata": {},
   "source": [
    "* Java SE 10 added the ability to create immutable copies of collections\n",
    "    - List.copyOf()\n",
    "    - Set.copyOf()\n",
    "* the collection you copy from should not be null\n",
    "    - and they do not accept null values\n",
    "    - if you try to copy a collection with null values, you will get a NullPointerException\n",
    "* for Sets, if the collection has duplicates, only one of the elements is kept\n",
    "* what the copyOf() method returns is an __immutable copy__ of the collection passed as an argument\n",
    "    - modifying the original collection does not change the copy and vice versa"
   ]
  },
  {
   "cell_type": "code",
   "execution_count": null,
   "id": "623c78ee",
   "metadata": {},
   "outputs": [],
   "source": [
    "Collection<String> strings = Arrays.asList(\"one\", \"two\", \"three\");\n",
    "\n",
    "List<String> list = List.copyOf(strings);\n",
    "Set<String> set = Set.copyOf(strings);"
   ]
  },
  {
   "cell_type": "markdown",
   "id": "89e645c8",
   "metadata": {},
   "source": [
    "## Wrapping an Array in a List"
   ]
  },
  {
   "cell_type": "markdown",
   "id": "55143386",
   "metadata": {},
   "source": [
    "* Arrays.asList(): takes a vararg as an argument and returns a List of the elements you passed, preserving their order\n",
    "    - not part of the _convenience factory methods for collections (the of() methods)_\n",
    "* the List is a wrapper on an array and behaves in the same way\n",
    "    - cannot change the size of the array once it is set\n",
    "    - therefore, you cannot add or remove elements from them\n",
    "    - but you can replace an existing element with another one, even null\n",
    "* therefore, the functionality of the List you get by calling Arrays.asList() is:\n",
    "    - if you try to add or remove an element, you will get an UnsupportedOperationException, whether you do that directly or through the iterator\n",
    "        * adding/removing an element changes its size and arrays cannot change sizes\n",
    "    - replacing existing elements is OK\n",
    "        * you're not changing the size of the array so this is allowed\n",
    "* this List is __not immutable__ but there are restrictions on how you can change it"
   ]
  },
  {
   "cell_type": "markdown",
   "id": "72297d6a",
   "metadata": {},
   "source": [
    "## Using the Collections Factory Class to Process a Collection"
   ]
  },
  {
   "cell_type": "markdown",
   "id": "2e5a5ccd",
   "metadata": {},
   "source": [
    "### Extracting the Minimum or the Maximum from a Collection\n",
    "\n",
    "* the Collections class provides you 2 methods to do so:\n",
    "    - min()\n",
    "    - max()\n",
    "* they both take a collection as an argument and have overloads that also take a comparator as a further argument\n",
    "    - if there is no comparator, then the elements of the collection must implement Comparable\n",
    "        * if they don't, a ClassCastException is thrown\n",
    "    - if a comparator is provided, then it will be used to get the min or the max, whether the elements of the collection are comparable or not\n",
    "* getting the min/max from an empty collection will thrown a NoSuchMethodException"
   ]
  },
  {
   "cell_type": "code",
   "execution_count": 21,
   "id": "160e7f50",
   "metadata": {},
   "outputs": [
    {
     "name": "stdout",
     "output_type": "stream",
     "text": [
      "0\n",
      "6\n"
     ]
    }
   ],
   "source": [
    "List<Integer> integerList = Arrays.asList(0, 1, 2, 3, 4, 5, 6);\n",
    "\n",
    "System.out.println(Collections.min(integerList));\n",
    "System.out.println(Collections.max(integerList));"
   ]
  },
  {
   "cell_type": "markdown",
   "id": "2b9b2480",
   "metadata": {},
   "source": [
    "### Finding a Sublist in a List\n",
    "\n",
    "* indexOfSublist(List<?> source, List<?> target): returns the index of the first occurrence of the first element of the target list in the source list, or -1 if it does not exist\n",
    "* lastIndexOfSublist(List<?> source, List<?> target): returns the index of the last occurrence of the first element of the target list in the source list, or -1 if it does not exist"
   ]
  },
  {
   "cell_type": "markdown",
   "id": "4bd84d0e",
   "metadata": {},
   "source": [
    "### Changing the Order of the Elements of a List\n",
    "\n",
    "* sort(): sorts the list in place\n",
    "    - may take a comparator as an argument\n",
    "    - if no comparator is provided, then the elements of the list must be comparable\n",
    "    - __starting with Java SE 8, you should favor the sort() method from the List interface__\n",
    "* shuffle(): randomly shuffles the elements of the provided list\n",
    "    - can provide your instance of Random if you need a random shuffling that you can repeat\n",
    "* rotate(): rotates the elements of the list\n",
    "    - can combine subList() and rotate()\n",
    "* reverse(): reverse the order of the elements of the list\n",
    "* swap(): swaps 2 elements from the list\n",
    "    - can take a list as an argument as well as a plain array"
   ]
  },
  {
   "cell_type": "code",
   "execution_count": 27,
   "id": "a746920a",
   "metadata": {},
   "outputs": [
    {
     "name": "stdout",
     "output_type": "stream",
     "text": [
      "[0, 1, 2, 3, 4]\n",
      "[0, 2, 3, 1, 4]\n",
      "[0, 1, 2, 3, 4]\n"
     ]
    }
   ],
   "source": [
    "List<String> strings = Arrays.asList(\"0\", \"1\", \"2\", \"3\", \"4\");\n",
    "System.out.println(strings);\n",
    "int fromIndex = 1;\n",
    "int toIndex = 4;\n",
    "\n",
    "// rotate back by 1 index\n",
    "Collections.rotate(strings.subList(fromIndex, toIndex), -1);\n",
    "System.out.println(strings);\n",
    "\n",
    "// rotate forward by 1 index to return it back to normal\n",
    "Collections.rotate(strings.subList(fromIndex, toIndex), 1);\n",
    "System.out.println(strings);"
   ]
  },
  {
   "cell_type": "markdown",
   "id": "e3fe5292",
   "metadata": {},
   "source": [
    "### Wrapping a Collection in an Immutable Collection\n",
    "\n",
    "* the collection is not duplicated, an immutable collection literally wraps around the original collection\n",
    "    - if you try to modify that immutable collection, it will raise exceptions\n",
    "        * however, you can modify the original collection and the immutable collection will reflect those changes\n",
    "        * if you plan on creating an immutable collection this way, you should defensively copy the original collection first to avoid accidentally modifying your immutable collection\n",
    "* the methods follow a naming convention:\n",
    "    - unmodifiable followed by Collections, List, Set, etc..."
   ]
  },
  {
   "cell_type": "code",
   "execution_count": 30,
   "id": "25306761",
   "metadata": {},
   "outputs": [
    {
     "ename": "EvalException",
     "evalue": "null",
     "output_type": "error",
     "traceback": [
      "\u001b[1m\u001b[31m---------------------------------------------------------------------------\u001b[0m",
      "\u001b[1m\u001b[31mjava.lang.UnsupportedOperationException: null\u001b[0m",
      "\u001b[1m\u001b[31m\tat java.base/java.util.Collections$UnmodifiableList.set(Collections.java:1503)\u001b[0m",
      "\u001b[1m\u001b[31m\tat .(#77:1)\u001b[0m"
     ]
    }
   ],
   "source": [
    "// can modify the collection\n",
    "List<String> strings = Arrays.asList(\"0\", \"1\", \"2\", \"3\", \"4\");\n",
    "strings.set(1, \"one\");\n",
    "\n",
    "// cannot modify the immutable collection\n",
    "List<String> immutableStrings = Collections.unmodifiableList(strings);\n",
    "immutableStrings.set(1, \"1\");"
   ]
  },
  {
   "cell_type": "code",
   "execution_count": 33,
   "id": "192feafe",
   "metadata": {},
   "outputs": [
    {
     "name": "stdout",
     "output_type": "stream",
     "text": [
      "[0, 1, 2, 3, 4]\n",
      "[0, 1, 2, 3, 4, 5]\n"
     ]
    }
   ],
   "source": [
    "List<String> strings = new ArrayList<>(Arrays.asList(\"0\", \"1\", \"2\", \"3\", \"4\"));\n",
    "List<String> immutableStrings = Collections.unmodifiableList(strings);\n",
    "\n",
    "System.out.println(immutableStrings);\n",
    "\n",
    "// modifying the original collection\n",
    "strings.add(\"5\");\n",
    "System.out.println(immutableStrings);"
   ]
  },
  {
   "cell_type": "markdown",
   "id": "e70920c3",
   "metadata": {},
   "source": [
    "### Wrapping a Collection in a Synchronized Collection\n",
    "\n",
    "* the methods to create Synchronized wrappers for your collections following the same naming conventions:\n",
    "    - synchronized followed by Collection, List, Set, etc...\n",
    "* there are some precautions you need to follow:\n",
    "    - all the accesses to your collection should be made through the wrapper you get\n",
    "    - traversing your collection with an iterator or a stream should be synchronized by the calling code on the list itself\n",
    "* not following these rules will expose your code to race conditions\n",
    "* __synchronizing collections using the Collections factory methods may not be your best choice. the Java Util Concurrent Framework has better solutions to offer__"
   ]
  }
 ],
 "metadata": {
  "kernelspec": {
   "display_name": "Java",
   "language": "java",
   "name": "java"
  },
  "language_info": {
   "codemirror_mode": "java",
   "file_extension": ".jshell",
   "mimetype": "text/x-java-source",
   "name": "Java",
   "pygments_lexer": "java",
   "version": "21+35-2513"
  }
 },
 "nbformat": 4,
 "nbformat_minor": 5
}
