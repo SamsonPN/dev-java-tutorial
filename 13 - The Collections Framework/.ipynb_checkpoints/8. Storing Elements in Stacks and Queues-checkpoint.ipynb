{
 "cells": [
  {
   "cell_type": "markdown",
   "id": "26d5ad06",
   "metadata": {},
   "source": [
    "## Finding Your Way in the Queue Hierarchy"
   ]
  },
  {
   "cell_type": "markdown",
   "id": "39b3e4c9",
   "metadata": {},
   "source": [
    "* the Queue interface is an extension of the Collection interface:\n",
    "![The Queue Interface Hierarchy](https://dev.java/assets/images/collections-framework/02_queue-hierarchy.png)"
   ]
  },
  {
   "cell_type": "markdown",
   "id": "7e617226",
   "metadata": {},
   "source": [
    "## Pushing, Popping and Peeking"
   ]
  },
  {
   "cell_type": "markdown",
   "id": "e612a0b3",
   "metadata": {},
   "source": [
    "* stacks (Last In, First Out) and Queues (First In, First Out): give you 3 main operations:\n",
    "    1. push(element): adds an element to the queue, or the stack\n",
    "    2. pop(): removes an element from the stack, that is, the youngest element added\n",
    "    3. poll(): removes an element from the queue, that is, the oldest element added\n",
    "    4. peek(): allows you to see the element you will get with a pop() or a poll(), but without removing it from the queue of the stack"
   ]
  },
  {
   "cell_type": "markdown",
   "id": "cbc984c9",
   "metadata": {},
   "source": [
    "## Modeling Queues and Stacks"
   ]
  },
  {
   "cell_type": "markdown",
   "id": "1ea96f69",
   "metadata": {},
   "source": [
    "* the Collections Framework gives you 2 interfaces to model queues and stacks:\n",
    "    1. the Queue interface models a queue\n",
    "    2. the Deque interface models a double ended queue\n",
    "        * can push, pop, poll, and peek elements on both the tail and the head of a Deque, making it both a queue and a stack\n",
    "* stacks and queues widely used in concurrent programming\n",
    "    - extended by more interfaces useful in concurrent programming\n",
    "        * BlockingQueue, BlockingDeque, TransferQueue, etc\n",
    "* both the Queue and the Deque interfaces have added behavior to these 3 main operations to deal with 2 corner cases:\n",
    "    1. a queue may be full and not be able to accept more elements\n",
    "    2. a queue may be empty and cannot return anything from a pop, poll, or a peek"
   ]
  },
  {
   "cell_type": "markdown",
   "id": "bd485d13",
   "metadata": {},
   "source": [
    "## Modeling FIFO Queues with Queue"
   ]
  },
  {
   "cell_type": "markdown",
   "id": "3dae1fd3",
   "metadata": {},
   "source": [
    "* the Queue interface gives you 2 ways of dealing with these corner cases\n",
    "    1. by throwing an exception\n",
    "    2. by returning a boolean\n",
    "| Operation | Method | Behavior when the queue is full or empty |\n",
    "| :- | :- | :- |\n",
    "| push | add(element) | throws an IllegalStateException |\n",
    "| | offer(element) | returns false |\n",
    "| poll | remove() | throws a NoSuchElementException |\n",
    "| | poll() | returns false |\n",
    "| peek | element() | throws a NoSuchElementException |\n",
    "| | peek() | returns null |"
   ]
  },
  {
   "cell_type": "markdown",
   "id": "0ccfb925",
   "metadata": {},
   "source": [
    "## Modeling LIFO Stacks and FIFO Queues with Deque"
   ]
  },
  {
   "cell_type": "markdown",
   "id": "bf4a5cde",
   "metadata": {},
   "source": [
    "* the methods defined in Queue are still available in Deque but Deque brought a new naming convention\n",
    "    - the methods have been duplicated in Deque following this new naming convention\n",
    "* Deque also defines methods you would expect in any queue or stack class:\n",
    "    - push(element): adds the given element to the head of the double ended queue\n",
    "    - pop(): removes and returns the element at the head of the double ended queue\n",
    "    - poll(): does the same at the tail of the double ended queue\n",
    "    - peek(): shows you the element at the tail of the double ended queue\n",
    "    \n",
    "| FIFO Operation | Method | Behavior when the queue is full or empty |\n",
    "| :- | :- | :- |\n",
    "| push | addLast(element) | throws an IllegalStateException |\n",
    "| | offerLast(element) | returns false |\n",
    "| poll | removeFirst() | throws a NoSuchElementException |\n",
    "| | pollFirst() | returns null |\n",
    "| peek | getFirst() | throws a NoSuchElementException |\n",
    "| | peekFirst() | returns null |\n",
    "\n",
    "| LIFO Operation | Method | Behavior when the queue is full or empty |\n",
    "| :- | :- | :- |\n",
    "| push | addFirst(element) | throws an IllegalStateException |\n",
    "| | offerFirst(element) | returns false |\n",
    "| poll | removeFirst() | throws a NoSuchElementException |\n",
    "| | pollFirst() | returns null |\n",
    "| peek | getFirst() | throws a NoSuchElementException |\n",
    "| | peekFirst() | returns null |"
   ]
  },
  {
   "cell_type": "markdown",
   "id": "5dac0e6d",
   "metadata": {},
   "source": [
    "## Implementing Queue and Deque"
   ]
  },
  {
   "cell_type": "markdown",
   "id": "6e520943",
   "metadata": {},
   "source": [
    "* the Collections Framework gives you 3 implementations of Queue and Deque, outside the concurrent programming space:\n",
    "    1. ArrayDeque: implements both\n",
    "        * implementation backed by an array\n",
    "        * capacity is dynamic\n",
    "            - will always accept new elements\n",
    "    2. LinkedList: implements both\n",
    "        * implementation backed by a linked list, making access to its first and last element very efficient\n",
    "        * will always accept new elements\n",
    "    3. PriorityQueue: only implements Queue\n",
    "        * backed by an array that keeps its elements sorted by their natural order or by an order specified by a Comparator\n",
    "        * head of this queue is always the least element of the queue with respect to the specified ordering\n",
    "        * capacity is dynamic so will also always accept new elements"
   ]
  },
  {
   "cell_type": "markdown",
   "id": "dc05fe6e",
   "metadata": {},
   "source": [
    "## Staying Away from the Stack Class"
   ]
  },
  {
   "cell_type": "markdown",
   "id": "8a0ce723",
   "metadata": {},
   "source": [
    "* the Stack Class is an extension of the Vector class\n",
    "    - before the Collections Framework, Vectors were your best choice to work with a list\n",
    "    - __Vector is not deprecated but is discouraged therefore making the usage of the Stack class discouraged as a result__\n",
    "* Vector class is thread safe and so is Stack\n",
    "    - if you don't need thread safety, you can safely replace them with Deque and ArrayDeque\n",
    "    - if you do need a thread-safe stack, then try out the implementations of the BlockingQueue interface"
   ]
  }
 ],
 "metadata": {
  "kernelspec": {
   "display_name": "Java",
   "language": "java",
   "name": "java"
  },
  "language_info": {
   "codemirror_mode": "java",
   "file_extension": ".jshell",
   "mimetype": "text/x-java-source",
   "name": "Java",
   "pygments_lexer": "java",
   "version": "21+35-2513"
  }
 },
 "nbformat": 4,
 "nbformat_minor": 5
}
