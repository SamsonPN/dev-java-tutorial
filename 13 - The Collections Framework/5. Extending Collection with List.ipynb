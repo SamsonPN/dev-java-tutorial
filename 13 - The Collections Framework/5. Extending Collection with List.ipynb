{
 "cells": [
  {
   "cell_type": "markdown",
   "id": "f5fdab8a",
   "metadata": {},
   "source": [
    "## Exploring the List Interface"
   ]
  },
  {
   "cell_type": "markdown",
   "id": "ccddca5c",
   "metadata": {},
   "source": [
    "* the List interface brings 2 new functionalities to plain collections:\n",
    "    1. keeps track of the order in which an element is added and maintains that order\n",
    "    2. each element in a list has an index"
   ]
  },
  {
   "cell_type": "markdown",
   "id": "5be7eae3",
   "metadata": {},
   "source": [
    "## Choosing your Implementation of the List Interface"
   ]
  },
  {
   "cell_type": "markdown",
   "id": "9c87d763",
   "metadata": {},
   "source": [
    "* the List interface has 2 implementations:\n",
    "    1. ArrayList\n",
    "        - built on an internal array\n",
    "        - this is the best choice to use for most use cases\n",
    "        - iterating over an ArrayList is much faster than a LinkedList\n",
    "        - when you want to iterate over the elements of a list or access them randomly by their index, then the ArrayList is the best\n",
    "    2. LinkedList\n",
    "        - built on a doubly-linked list\n",
    "        - a LinkedList is faster than an ArrayList when accessing its first and last elements\n",
    "            * this is the main use case for using a LinkedList\n",
    "            * if your application needs to use a LIFO stack or a FIFO queue, then the LinkedList is the best choice"
   ]
  },
  {
   "cell_type": "markdown",
   "id": "5d32c33c",
   "metadata": {},
   "source": [
    "## Accessing the Elements Using an Index"
   ]
  },
  {
   "cell_type": "markdown",
   "id": "c69f42a0",
   "metadata": {},
   "source": [
    "### Accessing a Single Object\n",
    "\n",
    "* add(index, element): inserts the element at the index and adjusts the index if there are remaining elements in the List\n",
    "* get(index): returns the object at the given index\n",
    "* set(index, element): replaces the element at the given index with the new element\n",
    "* remove(index): removes the element at the given index and adjusts the index of the remaining elements in the List\n",
    "* all these methods will only work for _valid indexes_\n",
    "    - if an invalid index is passed into these methods, an IndexOutOfBoundsException will be thrown"
   ]
  },
  {
   "cell_type": "code",
   "execution_count": 14,
   "id": "99fe30f9",
   "metadata": {},
   "outputs": [
    {
     "name": "stdout",
     "output_type": "stream",
     "text": [
      "Get Index 2 value: 2\n",
      "Index 3 value: 3\n",
      "New Index 3 value: 4\n",
      "[0, 1, 2, 4, 5]\n",
      "New Index 3 value after add: 3\n",
      "[0, 1, 2, 3, 4, 5]\n",
      "Index 5 value: 5\n",
      "New Index 5 value after set: 6\n"
     ]
    }
   ],
   "source": [
    "ArrayList<Integer> list = new ArrayList<>();\n",
    "list.add(0);\n",
    "list.add(1);\n",
    "list.add(2);\n",
    "list.add(3);\n",
    "list.add(4);\n",
    "list.add(5);\n",
    "\n",
    "// get\n",
    "System.out.println(\"Get Index 2 value: \" + list.get(2));\n",
    "\n",
    "// remove\n",
    "System.out.println(\"Index 3 value: \" + list.get(3));\n",
    "list.remove(3);\n",
    "System.out.println(\"New Index 3 value: \" + list.get(3));\n",
    "System.out.println(list);\n",
    "\n",
    "// add\n",
    "list.add(3, 3);\n",
    "System.out.println(\"New Index 3 value after add: \" + list.get(3));\n",
    "System.out.println(list);\n",
    "\n",
    "// set\n",
    "System.out.println(\"Index 5 value: \" + list.get(5));\n",
    "list.set(5, 6);\n",
    "System.out.println(\"New Index 5 value after set: \" + list.get(5));"
   ]
  },
  {
   "cell_type": "markdown",
   "id": "02675adc",
   "metadata": {},
   "source": [
    "### Finding the Index of an Object\n",
    "\n",
    "* indexOf(element): returns index of the first occurrence of the element in the collection or -1 if the element is not found\n",
    "* lastIndexOf(element): returns the index of the last occurrence of the element in the collection or -1 if the element is not found"
   ]
  },
  {
   "cell_type": "code",
   "execution_count": 16,
   "id": "58b1fd7f",
   "metadata": {},
   "outputs": [
    {
     "name": "stdout",
     "output_type": "stream",
     "text": [
      "4\n",
      "6\n"
     ]
    }
   ],
   "source": [
    "ArrayList<Integer> list = new ArrayList<>();\n",
    "list.add(0);\n",
    "list.add(1);\n",
    "list.add(2);\n",
    "list.add(3);\n",
    "list.add(5); // index 4\n",
    "list.add(4);\n",
    "list.add(5); // index 6\n",
    "\n",
    "System.out.println(list.indexOf(5));\n",
    "System.out.println(list.lastIndexOf(5));"
   ]
  },
  {
   "cell_type": "markdown",
   "id": "985248b2",
   "metadata": {},
   "source": [
    "### Getting a SubList\n",
    "\n",
    "* subList(start, end): returns a list consisting of the elements between indices [start, end - 1]\n",
    "    - if the indices are invalid, an IndexOutOfBoundsException will be thrown\n",
    "    - the returned list a view of the main list and thus __any modification operation on the sublist is reflected on the main list and vice-versa__"
   ]
  },
  {
   "cell_type": "code",
   "execution_count": 17,
   "id": "74608cc5",
   "metadata": {},
   "outputs": [
    {
     "name": "stdout",
     "output_type": "stream",
     "text": [
      "[0, 1, 2, 3, 4, 5]\n",
      "[0, 1, 5]\n"
     ]
    }
   ],
   "source": [
    "// clearing a portion of the list using by clearing its sublist\n",
    "\n",
    "List<String> strings = new ArrayList<>(List.of(\"0\", \"1\", \"2\", \"3\", \"4\", \"5\"));\n",
    "System.out.println(strings);\n",
    "strings.subList(2, 5).clear();\n",
    "System.out.println(strings);"
   ]
  },
  {
   "cell_type": "markdown",
   "id": "0bdfa42d",
   "metadata": {},
   "source": [
    "### Inserting a Collection\n",
    "\n",
    "* addAll(int index, Collection collection): inserts a collection at a given index"
   ]
  },
  {
   "cell_type": "code",
   "execution_count": 18,
   "id": "04f60699",
   "metadata": {},
   "outputs": [
    {
     "name": "stdout",
     "output_type": "stream",
     "text": [
      "[0, 1, 5]\n",
      "[0, 1, 2, 3, 4, 5]\n"
     ]
    }
   ],
   "source": [
    "List<String> strings = new ArrayList<>(List.of(\"0\", \"1\", \"5\"));\n",
    "List<String> toBeAdded = new ArrayList<>(List.of(\"2\", \"3\", \"4\"));\n",
    "\n",
    "System.out.println(strings);\n",
    "strings.addAll(2, toBeAdded);\n",
    "System.out.println(strings);"
   ]
  },
  {
   "cell_type": "markdown",
   "id": "429a22c1",
   "metadata": {},
   "source": [
    "## Sorting the Elements of a List"
   ]
  },
  {
   "cell_type": "markdown",
   "id": "1988e9fe",
   "metadata": {},
   "source": [
    "* Collections.sort(): for Java SE 7 and earlier, you pass in your list into this method to sort the list\n",
    "* sort(): for Java SE 8 and up, you can just call the sort method directly on your list and pass a comparator as an argument\n",
    "    - this sort method can take in pretty much any argument, even a null comparator\n",
    "    - if you call it with a null comparator, it will assume that the elements of the List implement Comparable\n",
    "        * if they don't, the compiler will throw a ClassCastException\n",
    "        * if you pass in Comparator.naturalOrder() as an argument, you can achieve the same thing as the null comparator"
   ]
  },
  {
   "cell_type": "code",
   "execution_count": 21,
   "id": "04ac83cd",
   "metadata": {},
   "outputs": [
    {
     "name": "stdout",
     "output_type": "stream",
     "text": [
      "[-1, 0, 0, 3, 4, 5, 7, 22]\r\n"
     ]
    }
   ],
   "source": [
    "List<Integer> strings = new ArrayList<>(List.of(0, 5, 4, 3, 7, 22, -1, 0));\n",
    "\n",
    "Collections.sort(strings);\n",
    "System.out.println(strings);"
   ]
  },
  {
   "cell_type": "code",
   "execution_count": 24,
   "id": "a1cc71b0",
   "metadata": {},
   "outputs": [
    {
     "name": "stdout",
     "output_type": "stream",
     "text": [
      "[-1, 0, 0, 3, 4, 5, 7, 22]\r\n"
     ]
    }
   ],
   "source": [
    "List<Integer> strings = new ArrayList<>(List.of(0, 5, 4, 3, 7, 22, -1, 0));\n",
    "\n",
    "strings.sort(Comparator.naturalOrder());\n",
    "System.out.println(strings);"
   ]
  },
  {
   "cell_type": "markdown",
   "id": "8d99c01e",
   "metadata": {},
   "source": [
    "## Iterating over the Elements of a List"
   ]
  },
  {
   "cell_type": "markdown",
   "id": "fd86e3dc",
   "metadata": {},
   "source": [
    "* the List interface has its own iterator called the ListIterator\n",
    "    - you can get the ListIterator object via the listIterator() method\n",
    "    - you can also pass in an integer into the listIterator() method to have it start at that index\n",
    "    - the ListIterator is an extension of the regular Iterator\n",
    "* the ListIterator adds new methods to the Iterator\n",
    "    - hasPrevious() and previous(): to iterate in the descending order rather than ascending order\n",
    "    - nextIndex() and previousIndex(): gets the index of the element that will be returned by the next() call or the previous() call\n",
    "    - set(element): updates the last element returned by next() or previous()\n",
    "        * if neither of these methods have been called on this iterator, then an IllegalStateException is raised"
   ]
  },
  {
   "cell_type": "code",
   "execution_count": 2,
   "id": "f1440bd9",
   "metadata": {},
   "outputs": [
    {
     "name": "stdout",
     "output_type": "stream",
     "text": [
      "numbers = [one, two, three]\n",
      "numbers = [one, 2, three]\n",
      "numbers = [one, 2, three]\n"
     ]
    }
   ],
   "source": [
    "// set\n",
    "\n",
    "List<String> numbers = Arrays.asList(\"one\", \"two\", \"three\");\n",
    "\n",
    "for (ListIterator<String> iterator = numbers.listIterator(); iterator.hasNext();) {\n",
    "    String nextElement = iterator.next();\n",
    "    if (Objects.equals(nextElement, \"two\")) {\n",
    "        iterator.set(\"2\");\n",
    "    }\n",
    "    System.out.println(\"numbers = \" + numbers);\n",
    "}"
   ]
  }
 ],
 "metadata": {
  "kernelspec": {
   "display_name": "Java",
   "language": "java",
   "name": "java"
  },
  "language_info": {
   "codemirror_mode": "java",
   "file_extension": ".jshell",
   "mimetype": "text/x-java-source",
   "name": "Java",
   "pygments_lexer": "java",
   "version": "21+35-2513"
  }
 },
 "nbformat": 4,
 "nbformat_minor": 5
}
