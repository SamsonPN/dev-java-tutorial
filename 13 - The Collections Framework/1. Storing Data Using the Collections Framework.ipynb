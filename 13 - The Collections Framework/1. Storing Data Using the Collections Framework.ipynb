{
 "cells": [
  {
   "cell_type": "markdown",
   "id": "2ad51cc3",
   "metadata": {},
   "source": [
    "## Introducing the Collections Framework"
   ]
  },
  {
   "cell_type": "markdown",
   "id": "184675fc",
   "metadata": {},
   "source": [
    "* the Collections Framework is a set of interfaces that models different ways of storing data in different types of containers\n",
    "* the Framework provides at least one implementation for each interface"
   ]
  },
  {
   "cell_type": "markdown",
   "id": "a56005ee",
   "metadata": {},
   "source": [
    "## Find Your Way in the Collections Framework"
   ]
  },
  {
   "cell_type": "markdown",
   "id": "edfd9ebe",
   "metadata": {},
   "source": [
    "* there are 2 main categories in the Collections Framework:\n",
    "    1. collections\n",
    "    2. maps\n",
    "* collections: storing objects and iterating over them\n",
    "    - the Collection interface is the root interface of this category\n",
    "    - this interface extends the Iterable interface but is not part of the Collections Framework\n",
    "    - also contains interfaces that model queues and stacks\n",
    "        * they're not made to be iterated over but you can do it since they're part of the Collection hierarchy\n",
    "* maps: stores an object along with a key which represents that object similar to how a primary key represents an object in a database\n",
    "    - the Map interface is the root interface of this category\n",
    "    - basically key/value pairs\n",
    "* there is no direct relationship between the interfaces of the Collection hierarchy and the Map hierarchy\n",
    "* iterator: an object that can iterate over a collection of objects\n",
    "    - part of the Collections Framework"
   ]
  },
  {
   "cell_type": "markdown",
   "id": "d2aadb8a",
   "metadata": {},
   "source": [
    "## Avoiding Using Old Interfaces and Implementations"
   ]
  },
  {
   "cell_type": "markdown",
   "id": "66f81c6b",
   "metadata": {},
   "source": [
    "* there are a couple of classes and interfaces in the JDK before the Collections Framework that are preserved for backwards compatibility that you should not use in your application anymore:\n",
    "    - Vector and Stack\n",
    "        * vector now implements the List interface\n",
    "            - if you use a vector in a non-concurrent enviornment, you can replace it with ArrayList\n",
    "        * stack extends Vector and should be replaced by ArrayDeque in non-concurrent environments\n",
    "    - Vector uses the Enumeration interface to model its iterator\n",
    "        * this interface should not be used anymore: the preferred interface is now the Iterator interface\n",
    "    - HashTable\n",
    "        * this class now implements the Map interface\n",
    "        * if you are using instances of HashTable in a non-concurrent environment, you can replace it with HashMap\n",
    "        * in a concurrent environment, ConcurrentHashMap can be used as a replacement"
   ]
  },
  {
   "cell_type": "markdown",
   "id": "490ac6e4",
   "metadata": {},
   "source": [
    "## Why Choose a Collection Over an Array?"
   ]
  },
  {
   "cell_type": "markdown",
   "id": "5330bb8f",
   "metadata": {},
   "source": [
    "* what can a collection do for you that an array cannot?\n",
    "    - a collection tracks the number of elements it contains\n",
    "    - the capacity of a collection is not limited: you can add (almost) any amount of elements in a collection\n",
    "    - a collection can control what elements you may store in it\n",
    "        * e.g. can prevent null elements to be added\n",
    "    - a collection can be queried for the presence of a given element\n",
    "    - a collection provides operations like intersecting or merging with another collection"
   ]
  }
 ],
 "metadata": {
  "kernelspec": {
   "display_name": "Java",
   "language": "java",
   "name": "java"
  },
  "language_info": {
   "codemirror_mode": "java",
   "file_extension": ".jshell",
   "mimetype": "text/x-java-source",
   "name": "Java",
   "pygments_lexer": "java",
   "version": "21+35-2513"
  }
 },
 "nbformat": 4,
 "nbformat_minor": 5
}
