{
 "cells": [
  {
   "cell_type": "markdown",
   "id": "63911e11",
   "metadata": {},
   "source": [
    "## Methods That Handle Individual Elements"
   ]
  },
  {
   "cell_type": "markdown",
   "id": "8319b944",
   "metadata": {},
   "source": [
    "* add(element): adds an element in the collection\n",
    "    - returns a boolean if the operation fails\n",
    "    - can't fail for a List but can fail for a Set b/c you can't have duplicates in Sets\n",
    "* remove(element): removes the given element from the collection\n",
    "    - returns a boolean if the operation fails\n",
    "    - a remove() may fail if the element is not in the collection\n",
    "* contains(element): checks for the presence of an element in a collection\n",
    "    - able to check the presence of any type of element\n",
    "    - e.g. you can check for a User object in a collection of string"
   ]
  },
  {
   "cell_type": "code",
   "execution_count": 1,
   "id": "1309f89f",
   "metadata": {},
   "outputs": [
    {
     "name": "stdout",
     "output_type": "stream",
     "text": [
      "strings = [one, two]\n",
      "strings = [two]\n"
     ]
    }
   ],
   "source": [
    "Collection<String> strings = new ArrayList<>();\n",
    "strings.add(\"one\");\n",
    "strings.add(\"two\");\n",
    "System.out.println(\"strings = \" + strings);\n",
    "strings.remove(\"one\");\n",
    "System.out.println(\"strings = \" + strings);"
   ]
  },
  {
   "cell_type": "code",
   "execution_count": 3,
   "id": "fb325ae9",
   "metadata": {},
   "outputs": [
    {
     "name": "stdout",
     "output_type": "stream",
     "text": [
      "one is here\n",
      "three is not here\n",
      "Rebecca is not here\n"
     ]
    }
   ],
   "source": [
    "Collection<String> strings = new ArrayList<>();\n",
    "strings.add(\"one\");\n",
    "strings.add(\"two\");\n",
    "if (strings.contains(\"one\")) {\n",
    "    System.out.println(\"one is here\");\n",
    "}\n",
    "if (!strings.contains(\"three\")) {\n",
    "    System.out.println(\"three is not here\");\n",
    "}\n",
    "\n",
    "class User {\n",
    "    private String name;\n",
    "    public User(String name) {\n",
    "        this.name = name;\n",
    "    }\n",
    "}\n",
    "\n",
    "User rebecca = new User(\"Rebecca\");\n",
    "if (!strings.contains(rebecca)) {\n",
    "    System.out.println(\"Rebecca is not here\");\n",
    "}"
   ]
  },
  {
   "cell_type": "markdown",
   "id": "f6721979",
   "metadata": {},
   "source": [
    "## Methods That Handle Other Collections"
   ]
  },
  {
   "cell_type": "markdown",
   "id": "abe57030",
   "metadata": {},
   "source": [
    "* containsAll(collection): defines the inclusion\n",
    "    - takes in another collection as an argument and returns true if all elements of the argument are inside the current collection\n",
    "    - the collection argument does not need to be the same type as the current collection\n",
    "        * e.g. it is legal to ask if a collection of String (Collection\\<String\\>) is contained in a collection of User (Collection\\<User\\>\n",
    "* addAll(collection): defines the union\n",
    "    - adds all elements of the argument collection to the current collection\n",
    "    - similar to the add() method, this may fail\n",
    "    - also returns a boolean true if the current collection had any element from the argument collection added to it\n",
    "        * _keep in mind, just b/c this method returns true does not mean that all of the elements of the argument were added to the current collection. it just means that at least one element was added_\n",
    "* removeAll(collection): defines the complement\n",
    "    - removes all elements of the argument collection from the current collection\n",
    "    - similar to contains() or remove(), the other collection can be defined on any type; it does not have to be compatible with this one collection\n",
    "* retainAll(collection): defines the intersection\n",
    "    - retains only the elements in the current collection that are also in the argument collection\n",
    "    - also returns a boolean if the operation succeeded\n",
    "    - as is the case with contains() or remove(), the other collection can be defined on any type"
   ]
  },
  {
   "cell_type": "code",
   "execution_count": 16,
   "id": "39d92ada",
   "metadata": {},
   "outputs": [
    {
     "name": "stdout",
     "output_type": "stream",
     "text": [
      "Is first contained in strings? true\n",
      "Is second contained in strings? false\n"
     ]
    }
   ],
   "source": [
    "// containsAll()\n",
    "Collection<String> strings = new ArrayList<>();\n",
    "strings.add(\"one\");\n",
    "strings.add(\"two\");\n",
    "strings.add(\"three\");\n",
    "\n",
    "Collection<String> first = new ArrayList<>();\n",
    "first.add(\"one\");\n",
    "first.add(\"two\");\n",
    "\n",
    "Collection<String> second = new ArrayList<>();\n",
    "second.add(\"one\");\n",
    "second.add(\"four\");\n",
    "\n",
    "System.out.println(\"Is first contained in strings? \" + strings.containsAll(first));\n",
    "System.out.println(\"Is second contained in strings? \" + strings.containsAll(second));"
   ]
  },
  {
   "cell_type": "code",
   "execution_count": 17,
   "id": "c7f9092e",
   "metadata": {},
   "outputs": [
    {
     "name": "stdout",
     "output_type": "stream",
     "text": [
      "Has strings changed? true\n",
      "strings = [one, two, three, one, four]\n"
     ]
    }
   ],
   "source": [
    "// addAll()\n",
    "// running this code will produce a different result if you change the implementation of Collection\n",
    "// meaning that if you try to replicate this with a HashSEt instead of an ArrayList,\n",
    "// you might get a different result\n",
    "Collection<String> strings = new ArrayList<>();\n",
    "strings.add(\"one\");\n",
    "strings.add(\"two\");\n",
    "strings.add(\"three\");\n",
    "\n",
    "Collection<String> first = new ArrayList<>();\n",
    "first.add(\"one\");\n",
    "first.add(\"four\");\n",
    "\n",
    "boolean hasChanged = strings.addAll(first);\n",
    "\n",
    "System.out.println(\"Has strings changed? \" + hasChanged);\n",
    "System.out.println(\"strings = \" + strings);"
   ]
  },
  {
   "cell_type": "code",
   "execution_count": 18,
   "id": "609f21ad",
   "metadata": {},
   "outputs": [
    {
     "name": "stdout",
     "output_type": "stream",
     "text": [
      "strings = [two, three]\r\n"
     ]
    }
   ],
   "source": [
    "// removeAll()\n",
    "Collection<String> strings = new ArrayList<>();\n",
    "strings.add(\"one\");\n",
    "strings.add(\"two\");\n",
    "strings.add(\"three\");\n",
    "\n",
    "Collection<String> toBeRemoved = new ArrayList<>();\n",
    "toBeRemoved.add(\"one\");\n",
    "toBeRemoved.add(\"four\");\n",
    "\n",
    "boolean hasChanged = strings.removeAll(toBeRemoved);\n",
    "System.out.println(\"strings = \" + strings);"
   ]
  },
  {
   "cell_type": "code",
   "execution_count": 19,
   "id": "03a2aa45",
   "metadata": {},
   "outputs": [
    {
     "name": "stdout",
     "output_type": "stream",
     "text": [
      "Has strings changed? true\n",
      "strings = [one]\n"
     ]
    }
   ],
   "source": [
    "// retainAll()\n",
    "Collection<String> strings = new ArrayList<>();\n",
    "strings.add(\"one\");\n",
    "strings.add(\"two\");\n",
    "strings.add(\"three\");\n",
    "\n",
    "Collection<String> toBeRetained = new ArrayList<>();\n",
    "toBeRetained.add(\"one\");\n",
    "toBeRetained.add(\"four\");\n",
    "\n",
    "boolean hasChanged = strings.retainAll(toBeRetained);\n",
    "System.out.println(\"Has strings changed? \" + hasChanged);\n",
    "System.out.println(\"strings = \" + strings);"
   ]
  },
  {
   "cell_type": "markdown",
   "id": "0480dc58",
   "metadata": {},
   "source": [
    "## Methods That Handle The Collection Itself"
   ]
  },
  {
   "cell_type": "markdown",
   "id": "201be661",
   "metadata": {},
   "source": [
    "* size(): returns the number of elements in a collection, as an int\n",
    "* isEmpty(): returns a boolean indicating if a given collection is empty\n",
    "* clear(): deletes the content of a collection"
   ]
  },
  {
   "cell_type": "code",
   "execution_count": 20,
   "id": "a852e595",
   "metadata": {},
   "outputs": [
    {
     "name": "stdout",
     "output_type": "stream",
     "text": [
      "Indeed strings is not empty!\n",
      "The number of elements in strings is 2\n"
     ]
    }
   ],
   "source": [
    "Collection<String> strings = new ArrayList<>();\n",
    "strings.add(\"one\");\n",
    "strings.add(\"two\");\n",
    "if (!strings.isEmpty()) {\n",
    "    System.out.println(\"Indeed strings is not empty!\");\n",
    "}\n",
    "System.out.println(\"The number of elements in strings is \" + strings.size());"
   ]
  },
  {
   "cell_type": "code",
   "execution_count": 22,
   "id": "1dbbbbb4",
   "metadata": {},
   "outputs": [
    {
     "name": "stdout",
     "output_type": "stream",
     "text": [
      "The number of elements in strings is 2\n",
      "After clearing it, this number is now 0\n"
     ]
    }
   ],
   "source": [
    "Collection<String> strings = new ArrayList<>();\n",
    "strings.add(\"one\");\n",
    "strings.add(\"two\");\n",
    "System.out.println(\"The number of elements in strings is \" + strings.size());\n",
    "strings.clear();\n",
    "System.out.println(\"After clearing it, this number is now \" + strings.size());"
   ]
  },
  {
   "cell_type": "markdown",
   "id": "a00d6799",
   "metadata": {},
   "source": [
    "## Getting an Array of the Elements of a Collection"
   ]
  },
  {
   "cell_type": "markdown",
   "id": "2db269a0",
   "metadata": {},
   "source": [
    "* the Collection interface gives you 3 patterns to get the elements of a collection in an array in the form of 3 overloads of a toArray method\n",
    "    1. toArray(): returns elements in an array of plain objects\n",
    "        - will convert Collection\\<String\\> to Object[]\n",
    "        - you could always cast it to String[] but there is no guarantee that this cast would not fail at runtime\n",
    "        - if you need type safety, then the other 2 overloads will do the trick\n",
    "    2. toArray(T[] tab): returns an array of T: T[]\n",
    "        - you basically pass in an array as an argument\n",
    "        - if the passed in array is big enough to hold all the elements, then the elements of the collection will be copied over into the new array\n",
    "            * it will override whatever is in the array, i.e. whatever element is at array[0] will be overrided by the first element in the collection\n",
    "            * then if there is more room in the array than needed to copy over the collection, then the first element in the array directly after the last item in the collection will be set to null\n",
    "                - _this is done so that you know where the end of the copied over collection is and the beginning of the rest of the array, assuming that you know that the collection has no null values_\n",
    "            * if the argument array is too small, then a new array of the exact size of the collection is created to hold the collection's elements\n",
    "    3. toArray(IntFunction<T[]> generator): returns the same type but with a different syntax\n",
    "        - you can write this with a method reference for improved readability compared to the 2nd overload"
   ]
  },
  {
   "cell_type": "code",
   "execution_count": null,
   "id": "48356bca",
   "metadata": {},
   "outputs": [],
   "source": [
    "// toArray(T[] tab)\n",
    "\n",
    "// suppose this is a collection of 15 elements\n",
    "Collection<String> strings = ...;\n",
    "\n",
    "//pass an empty array\n",
    "String[] tabString1 = strings.toArray(new String[] {});\n",
    "\n",
    "// or an array of the right size\n",
    "String[] tabString2 = strings.toArray(new String[15]);"
   ]
  },
  {
   "cell_type": "code",
   "execution_count": 23,
   "id": "08d8a51d",
   "metadata": {},
   "outputs": [
    {
     "name": "stdout",
     "output_type": "stream",
     "text": [
      "largerTab = [three, three, three, I, was, here]\n",
      "result = [one, two, null, I, was, here]\n",
      "Same arrays? true\n"
     ]
    }
   ],
   "source": [
    "// situation where the array is has room to spare to copy over the collection\n",
    "// after every item in the collection is copied over\n",
    "// the element directly after the last item in the collection is set to null\n",
    "// this marks the end of the collection and the rest of the array\n",
    "\n",
    "Collection<String> strings = List.of(\"one\", \"two\");\n",
    "\n",
    "String[] largerTab = {\"three\", \"three\", \"three\", \"I\", \"was\", \"here\"};\n",
    "System.out.println(\"largerTab = \" + Arrays.toString(largerTab));\n",
    "\n",
    "// copies over every item in the collection Strings into largerTab\n",
    "String[] result = strings.toArray(largerTab);\n",
    "System.out.println(\"result = \" + Arrays.toString(result));\n",
    "\n",
    "// result is the same array as largerTab but with different content\n",
    "System.out.println(\"Same arrays? \" + (result == largerTab));"
   ]
  },
  {
   "cell_type": "code",
   "execution_count": 25,
   "id": "bfc3312c",
   "metadata": {},
   "outputs": [
    {
     "name": "stdout",
     "output_type": "stream",
     "text": [
      "zeroLengthTab = []\n",
      "result = [one, two]\n"
     ]
    }
   ],
   "source": [
    "// situation where the array is too small to copy over the full collection\n",
    "// in this case\n",
    "// a new array that is the exact same size as the collection is created to contain the elements of the collection\n",
    "\n",
    "Collection<String> strings = List.of(\"one\", \"two\");\n",
    "\n",
    "String[] zeroLengthTab = {};\n",
    "String[] result = strings.toArray(zeroLengthTab);\n",
    "\n",
    "System.out.println(\"zeroLengthTab = \" + Arrays.toString(zeroLengthTab));\n",
    "System.out.println(\"result = \" + Arrays.toString(result));"
   ]
  },
  {
   "cell_type": "code",
   "execution_count": null,
   "id": "13fa1cd9",
   "metadata": {},
   "outputs": [],
   "source": [
    "// toArray(IntFunction<T[]> generator)\n",
    "// a zero-length array of the right type is created with this method reference\n",
    "\n",
    "Collection<String> strings = ...;\n",
    "\n",
    "String[] tabString3 = strings.toArray(String[]::new);"
   ]
  },
  {
   "cell_type": "markdown",
   "id": "2e48e6f2",
   "metadata": {},
   "source": [
    "## Filtering out Elements of a Collection with a Predicate"
   ]
  },
  {
   "cell_type": "markdown",
   "id": "57fabebd",
   "metadata": {},
   "source": [
    "* removeIf(Predicate): removes elements from a collection based on the results of a predicate"
   ]
  },
  {
   "cell_type": "code",
   "execution_count": 27,
   "id": "0b3ff13d",
   "metadata": {},
   "outputs": [
    {
     "name": "stdout",
     "output_type": "stream",
     "text": [
      "strings = [null, , one, two, , three, null]\n",
      "filtered strings = [one, two, three]\n"
     ]
    }
   ],
   "source": [
    "import java.util.function.Predicate;\n",
    "\n",
    "Predicate<String> isNull = Objects::isNull;\n",
    "Predicate<String> isEmpty = String::isEmpty;\n",
    "Predicate<String> isNullOrEmpty = isNull.or(isEmpty);\n",
    "\n",
    "Collection<String> strings = new ArrayList<>();\n",
    "strings.add(null);\n",
    "strings.add(\"\");\n",
    "strings.add(\"one\");\n",
    "strings.add(\"two\");\n",
    "strings.add(\"\");\n",
    "strings.add(\"three\");\n",
    "strings.add(null);\n",
    "\n",
    "System.out.println(\"strings = \" + strings);\n",
    "strings.removeIf(isNullOrEmpty);\n",
    "System.out.println(\"filtered strings = \" + strings);"
   ]
  },
  {
   "cell_type": "markdown",
   "id": "e3502942",
   "metadata": {},
   "source": [
    "## Choosing an Implementation for the Collection Interface"
   ]
  },
  {
   "cell_type": "markdown",
   "id": "557f9f71",
   "metadata": {},
   "source": [
    "* in all these examples, we used ArrayList as the implementation of the Collection interface\n",
    "    - the Collections Framework does not actually provide a direct implementation of the Collection interface\n",
    "    - ArrayList implements List, and b/c List extends Collection, it also implements Collection\n",
    "* if you decide to use the Collection interface to model the collections in your application, then choosing ArrayList as your default implementation is the best choice most of the time"
   ]
  }
 ],
 "metadata": {
  "kernelspec": {
   "display_name": "Java",
   "language": "java",
   "name": "java"
  },
  "language_info": {
   "codemirror_mode": "java",
   "file_extension": ".jshell",
   "mimetype": "text/x-java-source",
   "name": "Java",
   "pygments_lexer": "java",
   "version": "21+35-2513"
  }
 },
 "nbformat": 4,
 "nbformat_minor": 5
}
